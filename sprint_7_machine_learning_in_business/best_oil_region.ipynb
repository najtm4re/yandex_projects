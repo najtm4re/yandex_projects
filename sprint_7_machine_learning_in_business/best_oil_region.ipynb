{
 "cells": [
  {
   "attachments": {},
   "cell_type": "markdown",
   "id": "0f3f5dd7-e845-417a-9807-c5f1309f0952",
   "metadata": {},
   "source": [
    "# Прогнозирование прибыльности добычи нефти в регионах\n",
    "\n",
    "**Описание исследования**  \n",
    "\n",
    "Добывающей компании «ГлавРосГосНефть» необходимо решить, где бурить новую скважину. Компания предоставила пробы нефти в трёх регионах. Характеристики для каждой скважины в регионе уже известны. Необходимо построить модель для определения региона, где добыча принесёт наибольшую прибыль. Проанализировать возможную прибыль и риски техникой Bootstrap.\n",
    "\n",
    "**Цель исследования**\n",
    "- Предсказать объем запасов в новых скважинах\n",
    "- Опеределить регион с максимальной суммарной прибылью отобранных скважин\n",
    "\n",
    "**Ход исследования**\n",
    "- Обзор данных\n",
    "- Предобработка данных\n",
    "- Разбиение на тренировочную и валидационную выборки\n",
    "- Обучение моделей\n",
    "- Расчет прибыли и оценка рисков\n",
    "- Общий вывод"
   ]
  },
  {
   "attachments": {},
   "cell_type": "markdown",
   "id": "581e88b7-3fd8-4dcf-b919-7919b82185df",
   "metadata": {},
   "source": [
    "## Импорт необходимых библиотек"
   ]
  },
  {
   "cell_type": "code",
   "execution_count": 13,
   "id": "0429dfc9-be49-47dd-803c-33a323d2dfd6",
   "metadata": {},
   "outputs": [],
   "source": [
    "import pandas as pd\n",
    "import numpy as np\n",
    "import matplotlib.pyplot as plt\n",
    "import re\n",
    "import six\n",
    "\n",
    "\n",
    "from sklearn.linear_model import LinearRegression\n",
    "from catboost import CatBoostRegressor\n",
    "\n",
    "\n",
    "from sklearn.model_selection import train_test_split, RandomizedSearchCV\n",
    "from sklearn.metrics import mean_squared_error, make_scorer\n",
    "from scipy.stats import uniform, randint\n",
    "\n",
    "from numpy.random import RandomState\n",
    "from scipy import stats as st"
   ]
  },
  {
   "attachments": {},
   "cell_type": "markdown",
   "id": "e201a37a-d0b4-444e-b17e-b50c55b368f4",
   "metadata": {},
   "source": [
    "## Загрузка данных"
   ]
  },
  {
   "attachments": {},
   "cell_type": "markdown",
   "id": "a530a254-335c-47cb-a96e-6da67a91bb60",
   "metadata": {},
   "source": [
    "Поскольку числительные в названиях переменных - не хорошо, наши три региона будут называться alpha, bravo и charlie"
   ]
  },
  {
   "cell_type": "code",
   "execution_count": 14,
   "id": "d35451f0-929b-4ed5-bb0d-4d5c2c5a5f5d",
   "metadata": {},
   "outputs": [],
   "source": [
    "# Регион 1\n",
    "\n",
    "try:\n",
    "    df_alpha = pd.read_csv(\n",
    "        r\"C:\\workspace\\yandex_cources\\full_history\\sprint_7_machine_learning_in_business\\data\\geo_data_0.csv\"\n",
    "    )\n",
    "except:\n",
    "    df_alpha = pd.read_csv(\"/datasets/geo_data_0.csv\")"
   ]
  },
  {
   "cell_type": "code",
   "execution_count": 15,
   "id": "cf339ffc-6ab4-4239-8ca2-cc4ee412f17b",
   "metadata": {},
   "outputs": [],
   "source": [
    "# Регион 2\n",
    "\n",
    "try:\n",
    "    df_bravo = pd.read_csv(\n",
    "        r\"C:\\workspace\\yandex_cources\\full_history\\sprint_7_machine_learning_in_business\\data\\geo_data_1.csv\"\n",
    "    )\n",
    "except:\n",
    "    df_bravo = pd.read_csv(\"/datasets/geo_data_1.csv\")"
   ]
  },
  {
   "cell_type": "code",
   "execution_count": 16,
   "id": "56819824-6370-4a2c-bac0-acd268f6e834",
   "metadata": {},
   "outputs": [],
   "source": [
    "# Регион 3\n",
    "\n",
    "try:\n",
    "    df_charlie = pd.read_csv(\n",
    "        r\"C:\\workspace\\yandex_cources\\full_history\\sprint_7_machine_learning_in_business\\data\\geo_data_2.csv\"\n",
    "    )\n",
    "except:\n",
    "    df_charlie = pd.read_csv(\"/datasets/geo_data_2.csv\")"
   ]
  },
  {
   "attachments": {},
   "cell_type": "markdown",
   "id": "7b4cb8ba-147d-4b78-a128-14c750afb768",
   "metadata": {},
   "source": [
    "## Обзор данных"
   ]
  },
  {
   "cell_type": "code",
   "execution_count": 17,
   "id": "03399b99-603f-477f-a738-c859cabce210",
   "metadata": {},
   "outputs": [],
   "source": [
    "df_list = [df_alpha, df_bravo, df_charlie]"
   ]
  },
  {
   "attachments": {},
   "cell_type": "markdown",
   "id": "1c369a2d-0159-4c10-a246-ada1c0ff472b",
   "metadata": {},
   "source": [
    "**Посмотрим размеры датасетов**"
   ]
  },
  {
   "cell_type": "code",
   "execution_count": 18,
   "id": "23d816ce-e3b4-4176-96f7-10877845c941",
   "metadata": {},
   "outputs": [
    {
     "data": {
      "text/plain": [
       "(100000, 5)"
      ]
     },
     "metadata": {},
     "output_type": "display_data"
    },
    {
     "data": {
      "text/plain": [
       "(100000, 5)"
      ]
     },
     "metadata": {},
     "output_type": "display_data"
    },
    {
     "data": {
      "text/plain": [
       "(100000, 5)"
      ]
     },
     "metadata": {},
     "output_type": "display_data"
    }
   ],
   "source": [
    "for df in df_list:\n",
    "    display(df.shape)"
   ]
  },
  {
   "attachments": {},
   "cell_type": "markdown",
   "id": "34fca78b-0d0b-424c-ae0a-9bfaf4f45547",
   "metadata": {},
   "source": [
    "**Выведем общую информацию**"
   ]
  },
  {
   "cell_type": "code",
   "execution_count": 19,
   "id": "83dce768-610d-4ced-ad21-da8cea2120be",
   "metadata": {},
   "outputs": [
    {
     "name": "stdout",
     "output_type": "stream",
     "text": [
      "<class 'pandas.core.frame.DataFrame'>\n",
      "RangeIndex: 100000 entries, 0 to 99999\n",
      "Data columns (total 5 columns):\n",
      " #   Column   Non-Null Count   Dtype  \n",
      "---  ------   --------------   -----  \n",
      " 0   id       100000 non-null  object \n",
      " 1   f0       100000 non-null  float64\n",
      " 2   f1       100000 non-null  float64\n",
      " 3   f2       100000 non-null  float64\n",
      " 4   product  100000 non-null  float64\n",
      "dtypes: float64(4), object(1)\n",
      "memory usage: 3.8+ MB\n",
      "<class 'pandas.core.frame.DataFrame'>\n",
      "RangeIndex: 100000 entries, 0 to 99999\n",
      "Data columns (total 5 columns):\n",
      " #   Column   Non-Null Count   Dtype  \n",
      "---  ------   --------------   -----  \n",
      " 0   id       100000 non-null  object \n",
      " 1   f0       100000 non-null  float64\n",
      " 2   f1       100000 non-null  float64\n",
      " 3   f2       100000 non-null  float64\n",
      " 4   product  100000 non-null  float64\n",
      "dtypes: float64(4), object(1)\n",
      "memory usage: 3.8+ MB\n",
      "<class 'pandas.core.frame.DataFrame'>\n",
      "RangeIndex: 100000 entries, 0 to 99999\n",
      "Data columns (total 5 columns):\n",
      " #   Column   Non-Null Count   Dtype  \n",
      "---  ------   --------------   -----  \n",
      " 0   id       100000 non-null  object \n",
      " 1   f0       100000 non-null  float64\n",
      " 2   f1       100000 non-null  float64\n",
      " 3   f2       100000 non-null  float64\n",
      " 4   product  100000 non-null  float64\n",
      "dtypes: float64(4), object(1)\n",
      "memory usage: 3.8+ MB\n"
     ]
    }
   ],
   "source": [
    "for df in df_list:\n",
    "    df.info()"
   ]
  },
  {
   "attachments": {},
   "cell_type": "markdown",
   "id": "9ec37d06-08b9-4924-9b0d-2dd8c3f985c7",
   "metadata": {},
   "source": [
    "С типами данных все хорошо, пропусков в датасетах нет. "
   ]
  },
  {
   "attachments": {},
   "cell_type": "markdown",
   "id": "212b0b18-743e-4d72-950a-b6d3baeb8077",
   "metadata": {},
   "source": [
    "**Посмотрим как выглядят данные**"
   ]
  },
  {
   "cell_type": "code",
   "execution_count": 20,
   "id": "9bd95b9e-cdfc-46fc-abbb-b2a3d4dd7f93",
   "metadata": {},
   "outputs": [
    {
     "data": {
      "text/html": [
       "<div>\n",
       "<style scoped>\n",
       "    .dataframe tbody tr th:only-of-type {\n",
       "        vertical-align: middle;\n",
       "    }\n",
       "\n",
       "    .dataframe tbody tr th {\n",
       "        vertical-align: top;\n",
       "    }\n",
       "\n",
       "    .dataframe thead th {\n",
       "        text-align: right;\n",
       "    }\n",
       "</style>\n",
       "<table border=\"1\" class=\"dataframe\">\n",
       "  <thead>\n",
       "    <tr style=\"text-align: right;\">\n",
       "      <th></th>\n",
       "      <th>id</th>\n",
       "      <th>f0</th>\n",
       "      <th>f1</th>\n",
       "      <th>f2</th>\n",
       "      <th>product</th>\n",
       "    </tr>\n",
       "  </thead>\n",
       "  <tbody>\n",
       "    <tr>\n",
       "      <th>76095</th>\n",
       "      <td>6bita</td>\n",
       "      <td>-1.006913</td>\n",
       "      <td>0.234769</td>\n",
       "      <td>-1.488237</td>\n",
       "      <td>97.758309</td>\n",
       "    </tr>\n",
       "    <tr>\n",
       "      <th>88276</th>\n",
       "      <td>zXziG</td>\n",
       "      <td>-1.038679</td>\n",
       "      <td>0.011715</td>\n",
       "      <td>1.171847</td>\n",
       "      <td>7.745288</td>\n",
       "    </tr>\n",
       "    <tr>\n",
       "      <th>86234</th>\n",
       "      <td>rF04X</td>\n",
       "      <td>-0.817806</td>\n",
       "      <td>0.680403</td>\n",
       "      <td>-1.321952</td>\n",
       "      <td>99.168484</td>\n",
       "    </tr>\n",
       "  </tbody>\n",
       "</table>\n",
       "</div>"
      ],
      "text/plain": [
       "          id        f0        f1        f2    product\n",
       "76095  6bita -1.006913  0.234769 -1.488237  97.758309\n",
       "88276  zXziG -1.038679  0.011715  1.171847   7.745288\n",
       "86234  rF04X -0.817806  0.680403 -1.321952  99.168484"
      ]
     },
     "metadata": {},
     "output_type": "display_data"
    },
    {
     "data": {
      "text/html": [
       "<div>\n",
       "<style scoped>\n",
       "    .dataframe tbody tr th:only-of-type {\n",
       "        vertical-align: middle;\n",
       "    }\n",
       "\n",
       "    .dataframe tbody tr th {\n",
       "        vertical-align: top;\n",
       "    }\n",
       "\n",
       "    .dataframe thead th {\n",
       "        text-align: right;\n",
       "    }\n",
       "</style>\n",
       "<table border=\"1\" class=\"dataframe\">\n",
       "  <thead>\n",
       "    <tr style=\"text-align: right;\">\n",
       "      <th></th>\n",
       "      <th>id</th>\n",
       "      <th>f0</th>\n",
       "      <th>f1</th>\n",
       "      <th>f2</th>\n",
       "      <th>product</th>\n",
       "    </tr>\n",
       "  </thead>\n",
       "  <tbody>\n",
       "    <tr>\n",
       "      <th>1714</th>\n",
       "      <td>C4E9S</td>\n",
       "      <td>0.238725</td>\n",
       "      <td>-0.552280</td>\n",
       "      <td>-0.000071</td>\n",
       "      <td>3.179103</td>\n",
       "    </tr>\n",
       "    <tr>\n",
       "      <th>29767</th>\n",
       "      <td>tDZyI</td>\n",
       "      <td>9.290374</td>\n",
       "      <td>-7.334780</td>\n",
       "      <td>3.997688</td>\n",
       "      <td>107.813044</td>\n",
       "    </tr>\n",
       "    <tr>\n",
       "      <th>40368</th>\n",
       "      <td>c0mBf</td>\n",
       "      <td>-3.376110</td>\n",
       "      <td>-8.685217</td>\n",
       "      <td>5.008846</td>\n",
       "      <td>137.945408</td>\n",
       "    </tr>\n",
       "  </tbody>\n",
       "</table>\n",
       "</div>"
      ],
      "text/plain": [
       "          id        f0        f1        f2     product\n",
       "1714   C4E9S  0.238725 -0.552280 -0.000071    3.179103\n",
       "29767  tDZyI  9.290374 -7.334780  3.997688  107.813044\n",
       "40368  c0mBf -3.376110 -8.685217  5.008846  137.945408"
      ]
     },
     "metadata": {},
     "output_type": "display_data"
    },
    {
     "data": {
      "text/html": [
       "<div>\n",
       "<style scoped>\n",
       "    .dataframe tbody tr th:only-of-type {\n",
       "        vertical-align: middle;\n",
       "    }\n",
       "\n",
       "    .dataframe tbody tr th {\n",
       "        vertical-align: top;\n",
       "    }\n",
       "\n",
       "    .dataframe thead th {\n",
       "        text-align: right;\n",
       "    }\n",
       "</style>\n",
       "<table border=\"1\" class=\"dataframe\">\n",
       "  <thead>\n",
       "    <tr style=\"text-align: right;\">\n",
       "      <th></th>\n",
       "      <th>id</th>\n",
       "      <th>f0</th>\n",
       "      <th>f1</th>\n",
       "      <th>f2</th>\n",
       "      <th>product</th>\n",
       "    </tr>\n",
       "  </thead>\n",
       "  <tbody>\n",
       "    <tr>\n",
       "      <th>51592</th>\n",
       "      <td>aqoEl</td>\n",
       "      <td>1.414615</td>\n",
       "      <td>2.039827</td>\n",
       "      <td>4.702283</td>\n",
       "      <td>109.296930</td>\n",
       "    </tr>\n",
       "    <tr>\n",
       "      <th>77507</th>\n",
       "      <td>8T1Hv</td>\n",
       "      <td>0.315943</td>\n",
       "      <td>0.770514</td>\n",
       "      <td>4.644412</td>\n",
       "      <td>118.052017</td>\n",
       "    </tr>\n",
       "    <tr>\n",
       "      <th>50876</th>\n",
       "      <td>uDicB</td>\n",
       "      <td>1.926474</td>\n",
       "      <td>-0.010265</td>\n",
       "      <td>7.955366</td>\n",
       "      <td>120.854788</td>\n",
       "    </tr>\n",
       "  </tbody>\n",
       "</table>\n",
       "</div>"
      ],
      "text/plain": [
       "          id        f0        f1        f2     product\n",
       "51592  aqoEl  1.414615  2.039827  4.702283  109.296930\n",
       "77507  8T1Hv  0.315943  0.770514  4.644412  118.052017\n",
       "50876  uDicB  1.926474 -0.010265  7.955366  120.854788"
      ]
     },
     "metadata": {},
     "output_type": "display_data"
    }
   ],
   "source": [
    "for df in df_list:\n",
    "    display(df.sample(3))"
   ]
  },
  {
   "attachments": {},
   "cell_type": "markdown",
   "id": "ed911a6a-ce55-4e13-9413-ea518b57aae4",
   "metadata": {},
   "source": [
    "**Проверим на явные и неявные дубликаты**"
   ]
  },
  {
   "attachments": {},
   "cell_type": "markdown",
   "id": "5b89be97-71a1-4e30-a49b-1a6376da50cb",
   "metadata": {},
   "source": [
    "В датасетах с id объектов удобно проверять наличие неявных дубликатов: если дублей в столбце id нет, то и в целом их быть не должно"
   ]
  },
  {
   "cell_type": "code",
   "execution_count": 21,
   "id": "f593f357-9533-4ef8-950e-4915aa02a5c5",
   "metadata": {},
   "outputs": [
    {
     "data": {
      "text/plain": [
       "20"
      ]
     },
     "metadata": {},
     "output_type": "display_data"
    },
    {
     "data": {
      "text/plain": [
       "8"
      ]
     },
     "metadata": {},
     "output_type": "display_data"
    },
    {
     "data": {
      "text/plain": [
       "8"
      ]
     },
     "metadata": {},
     "output_type": "display_data"
    }
   ],
   "source": [
    "for df in df_list:\n",
    "    display(df[\"id\"].duplicated(keep=False).sum())"
   ]
  },
  {
   "cell_type": "code",
   "execution_count": 22,
   "id": "9b2be83e-008e-422d-9b82-96e44d17c89e",
   "metadata": {},
   "outputs": [
    {
     "data": {
      "text/html": [
       "<div>\n",
       "<style scoped>\n",
       "    .dataframe tbody tr th:only-of-type {\n",
       "        vertical-align: middle;\n",
       "    }\n",
       "\n",
       "    .dataframe tbody tr th {\n",
       "        vertical-align: top;\n",
       "    }\n",
       "\n",
       "    .dataframe thead th {\n",
       "        text-align: right;\n",
       "    }\n",
       "</style>\n",
       "<table border=\"1\" class=\"dataframe\">\n",
       "  <thead>\n",
       "    <tr style=\"text-align: right;\">\n",
       "      <th></th>\n",
       "      <th>id</th>\n",
       "      <th>f0</th>\n",
       "      <th>f1</th>\n",
       "      <th>f2</th>\n",
       "      <th>product</th>\n",
       "    </tr>\n",
       "  </thead>\n",
       "  <tbody>\n",
       "    <tr>\n",
       "      <th>931</th>\n",
       "      <td>HZww2</td>\n",
       "      <td>0.755284</td>\n",
       "      <td>0.368511</td>\n",
       "      <td>1.863211</td>\n",
       "      <td>30.681774</td>\n",
       "    </tr>\n",
       "    <tr>\n",
       "      <th>1364</th>\n",
       "      <td>bxg6G</td>\n",
       "      <td>0.411645</td>\n",
       "      <td>0.856830</td>\n",
       "      <td>-3.653440</td>\n",
       "      <td>73.604260</td>\n",
       "    </tr>\n",
       "    <tr>\n",
       "      <th>1949</th>\n",
       "      <td>QcMuo</td>\n",
       "      <td>0.506563</td>\n",
       "      <td>-0.323775</td>\n",
       "      <td>-2.215583</td>\n",
       "      <td>75.496502</td>\n",
       "    </tr>\n",
       "    <tr>\n",
       "      <th>3389</th>\n",
       "      <td>A5aEY</td>\n",
       "      <td>-0.039949</td>\n",
       "      <td>0.156872</td>\n",
       "      <td>0.209861</td>\n",
       "      <td>89.249364</td>\n",
       "    </tr>\n",
       "    <tr>\n",
       "      <th>7530</th>\n",
       "      <td>HZww2</td>\n",
       "      <td>1.061194</td>\n",
       "      <td>-0.373969</td>\n",
       "      <td>10.430210</td>\n",
       "      <td>158.828695</td>\n",
       "    </tr>\n",
       "    <tr>\n",
       "      <th>16633</th>\n",
       "      <td>fiKDv</td>\n",
       "      <td>0.157341</td>\n",
       "      <td>1.028359</td>\n",
       "      <td>5.585586</td>\n",
       "      <td>95.817889</td>\n",
       "    </tr>\n",
       "    <tr>\n",
       "      <th>21426</th>\n",
       "      <td>Tdehs</td>\n",
       "      <td>0.829407</td>\n",
       "      <td>0.298807</td>\n",
       "      <td>-0.049563</td>\n",
       "      <td>96.035308</td>\n",
       "    </tr>\n",
       "    <tr>\n",
       "      <th>41724</th>\n",
       "      <td>bxg6G</td>\n",
       "      <td>-0.823752</td>\n",
       "      <td>0.546319</td>\n",
       "      <td>3.630479</td>\n",
       "      <td>93.007798</td>\n",
       "    </tr>\n",
       "    <tr>\n",
       "      <th>42529</th>\n",
       "      <td>AGS9W</td>\n",
       "      <td>1.454747</td>\n",
       "      <td>-0.479651</td>\n",
       "      <td>0.683380</td>\n",
       "      <td>126.370504</td>\n",
       "    </tr>\n",
       "    <tr>\n",
       "      <th>51970</th>\n",
       "      <td>A5aEY</td>\n",
       "      <td>-0.180335</td>\n",
       "      <td>0.935548</td>\n",
       "      <td>-2.094773</td>\n",
       "      <td>33.020205</td>\n",
       "    </tr>\n",
       "    <tr>\n",
       "      <th>60140</th>\n",
       "      <td>TtcGQ</td>\n",
       "      <td>0.569276</td>\n",
       "      <td>-0.104876</td>\n",
       "      <td>6.440215</td>\n",
       "      <td>85.350186</td>\n",
       "    </tr>\n",
       "    <tr>\n",
       "      <th>63593</th>\n",
       "      <td>QcMuo</td>\n",
       "      <td>0.635635</td>\n",
       "      <td>-0.473422</td>\n",
       "      <td>0.862670</td>\n",
       "      <td>64.578675</td>\n",
       "    </tr>\n",
       "    <tr>\n",
       "      <th>64022</th>\n",
       "      <td>74z30</td>\n",
       "      <td>0.741456</td>\n",
       "      <td>0.459229</td>\n",
       "      <td>5.153109</td>\n",
       "      <td>140.771492</td>\n",
       "    </tr>\n",
       "    <tr>\n",
       "      <th>66136</th>\n",
       "      <td>74z30</td>\n",
       "      <td>1.084962</td>\n",
       "      <td>-0.312358</td>\n",
       "      <td>6.990771</td>\n",
       "      <td>127.643327</td>\n",
       "    </tr>\n",
       "    <tr>\n",
       "      <th>69163</th>\n",
       "      <td>AGS9W</td>\n",
       "      <td>-0.933795</td>\n",
       "      <td>0.116194</td>\n",
       "      <td>-3.655896</td>\n",
       "      <td>19.230453</td>\n",
       "    </tr>\n",
       "    <tr>\n",
       "      <th>75715</th>\n",
       "      <td>Tdehs</td>\n",
       "      <td>0.112079</td>\n",
       "      <td>0.430296</td>\n",
       "      <td>3.218993</td>\n",
       "      <td>60.964018</td>\n",
       "    </tr>\n",
       "    <tr>\n",
       "      <th>89582</th>\n",
       "      <td>bsk9y</td>\n",
       "      <td>0.398908</td>\n",
       "      <td>-0.400253</td>\n",
       "      <td>10.122376</td>\n",
       "      <td>163.433078</td>\n",
       "    </tr>\n",
       "    <tr>\n",
       "      <th>90815</th>\n",
       "      <td>fiKDv</td>\n",
       "      <td>0.049883</td>\n",
       "      <td>0.841313</td>\n",
       "      <td>6.394613</td>\n",
       "      <td>137.346586</td>\n",
       "    </tr>\n",
       "    <tr>\n",
       "      <th>92341</th>\n",
       "      <td>TtcGQ</td>\n",
       "      <td>0.110711</td>\n",
       "      <td>1.022689</td>\n",
       "      <td>0.911381</td>\n",
       "      <td>101.318008</td>\n",
       "    </tr>\n",
       "    <tr>\n",
       "      <th>97785</th>\n",
       "      <td>bsk9y</td>\n",
       "      <td>0.378429</td>\n",
       "      <td>0.005837</td>\n",
       "      <td>0.160827</td>\n",
       "      <td>160.637302</td>\n",
       "    </tr>\n",
       "  </tbody>\n",
       "</table>\n",
       "</div>"
      ],
      "text/plain": [
       "          id        f0        f1         f2     product\n",
       "931    HZww2  0.755284  0.368511   1.863211   30.681774\n",
       "1364   bxg6G  0.411645  0.856830  -3.653440   73.604260\n",
       "1949   QcMuo  0.506563 -0.323775  -2.215583   75.496502\n",
       "3389   A5aEY -0.039949  0.156872   0.209861   89.249364\n",
       "7530   HZww2  1.061194 -0.373969  10.430210  158.828695\n",
       "16633  fiKDv  0.157341  1.028359   5.585586   95.817889\n",
       "21426  Tdehs  0.829407  0.298807  -0.049563   96.035308\n",
       "41724  bxg6G -0.823752  0.546319   3.630479   93.007798\n",
       "42529  AGS9W  1.454747 -0.479651   0.683380  126.370504\n",
       "51970  A5aEY -0.180335  0.935548  -2.094773   33.020205\n",
       "60140  TtcGQ  0.569276 -0.104876   6.440215   85.350186\n",
       "63593  QcMuo  0.635635 -0.473422   0.862670   64.578675\n",
       "64022  74z30  0.741456  0.459229   5.153109  140.771492\n",
       "66136  74z30  1.084962 -0.312358   6.990771  127.643327\n",
       "69163  AGS9W -0.933795  0.116194  -3.655896   19.230453\n",
       "75715  Tdehs  0.112079  0.430296   3.218993   60.964018\n",
       "89582  bsk9y  0.398908 -0.400253  10.122376  163.433078\n",
       "90815  fiKDv  0.049883  0.841313   6.394613  137.346586\n",
       "92341  TtcGQ  0.110711  1.022689   0.911381  101.318008\n",
       "97785  bsk9y  0.378429  0.005837   0.160827  160.637302"
      ]
     },
     "metadata": {},
     "output_type": "display_data"
    },
    {
     "data": {
      "text/html": [
       "<div>\n",
       "<style scoped>\n",
       "    .dataframe tbody tr th:only-of-type {\n",
       "        vertical-align: middle;\n",
       "    }\n",
       "\n",
       "    .dataframe tbody tr th {\n",
       "        vertical-align: top;\n",
       "    }\n",
       "\n",
       "    .dataframe thead th {\n",
       "        text-align: right;\n",
       "    }\n",
       "</style>\n",
       "<table border=\"1\" class=\"dataframe\">\n",
       "  <thead>\n",
       "    <tr style=\"text-align: right;\">\n",
       "      <th></th>\n",
       "      <th>id</th>\n",
       "      <th>f0</th>\n",
       "      <th>f1</th>\n",
       "      <th>f2</th>\n",
       "      <th>product</th>\n",
       "    </tr>\n",
       "  </thead>\n",
       "  <tbody>\n",
       "    <tr>\n",
       "      <th>1305</th>\n",
       "      <td>LHZR0</td>\n",
       "      <td>11.170835</td>\n",
       "      <td>-1.945066</td>\n",
       "      <td>3.002872</td>\n",
       "      <td>80.859783</td>\n",
       "    </tr>\n",
       "    <tr>\n",
       "      <th>2721</th>\n",
       "      <td>bfPNe</td>\n",
       "      <td>-9.494442</td>\n",
       "      <td>-5.463692</td>\n",
       "      <td>4.006042</td>\n",
       "      <td>110.992147</td>\n",
       "    </tr>\n",
       "    <tr>\n",
       "      <th>5849</th>\n",
       "      <td>5ltQ6</td>\n",
       "      <td>-3.435401</td>\n",
       "      <td>-12.296043</td>\n",
       "      <td>1.999796</td>\n",
       "      <td>57.085625</td>\n",
       "    </tr>\n",
       "    <tr>\n",
       "      <th>41906</th>\n",
       "      <td>LHZR0</td>\n",
       "      <td>-8.989672</td>\n",
       "      <td>-4.286607</td>\n",
       "      <td>2.009139</td>\n",
       "      <td>57.085625</td>\n",
       "    </tr>\n",
       "    <tr>\n",
       "      <th>47591</th>\n",
       "      <td>wt4Uk</td>\n",
       "      <td>-9.091098</td>\n",
       "      <td>-8.109279</td>\n",
       "      <td>-0.002314</td>\n",
       "      <td>3.179103</td>\n",
       "    </tr>\n",
       "    <tr>\n",
       "      <th>82178</th>\n",
       "      <td>bfPNe</td>\n",
       "      <td>-6.202799</td>\n",
       "      <td>-4.820045</td>\n",
       "      <td>2.995107</td>\n",
       "      <td>84.038886</td>\n",
       "    </tr>\n",
       "    <tr>\n",
       "      <th>82873</th>\n",
       "      <td>wt4Uk</td>\n",
       "      <td>10.259972</td>\n",
       "      <td>-9.376355</td>\n",
       "      <td>4.994297</td>\n",
       "      <td>134.766305</td>\n",
       "    </tr>\n",
       "    <tr>\n",
       "      <th>84461</th>\n",
       "      <td>5ltQ6</td>\n",
       "      <td>18.213839</td>\n",
       "      <td>2.191999</td>\n",
       "      <td>3.993869</td>\n",
       "      <td>107.813044</td>\n",
       "    </tr>\n",
       "  </tbody>\n",
       "</table>\n",
       "</div>"
      ],
      "text/plain": [
       "          id         f0         f1        f2     product\n",
       "1305   LHZR0  11.170835  -1.945066  3.002872   80.859783\n",
       "2721   bfPNe  -9.494442  -5.463692  4.006042  110.992147\n",
       "5849   5ltQ6  -3.435401 -12.296043  1.999796   57.085625\n",
       "41906  LHZR0  -8.989672  -4.286607  2.009139   57.085625\n",
       "47591  wt4Uk  -9.091098  -8.109279 -0.002314    3.179103\n",
       "82178  bfPNe  -6.202799  -4.820045  2.995107   84.038886\n",
       "82873  wt4Uk  10.259972  -9.376355  4.994297  134.766305\n",
       "84461  5ltQ6  18.213839   2.191999  3.993869  107.813044"
      ]
     },
     "metadata": {},
     "output_type": "display_data"
    },
    {
     "data": {
      "text/html": [
       "<div>\n",
       "<style scoped>\n",
       "    .dataframe tbody tr th:only-of-type {\n",
       "        vertical-align: middle;\n",
       "    }\n",
       "\n",
       "    .dataframe tbody tr th {\n",
       "        vertical-align: top;\n",
       "    }\n",
       "\n",
       "    .dataframe thead th {\n",
       "        text-align: right;\n",
       "    }\n",
       "</style>\n",
       "<table border=\"1\" class=\"dataframe\">\n",
       "  <thead>\n",
       "    <tr style=\"text-align: right;\">\n",
       "      <th></th>\n",
       "      <th>id</th>\n",
       "      <th>f0</th>\n",
       "      <th>f1</th>\n",
       "      <th>f2</th>\n",
       "      <th>product</th>\n",
       "    </tr>\n",
       "  </thead>\n",
       "  <tbody>\n",
       "    <tr>\n",
       "      <th>11449</th>\n",
       "      <td>VF7Jo</td>\n",
       "      <td>2.122656</td>\n",
       "      <td>-0.858275</td>\n",
       "      <td>5.746001</td>\n",
       "      <td>181.716817</td>\n",
       "    </tr>\n",
       "    <tr>\n",
       "      <th>28039</th>\n",
       "      <td>xCHr8</td>\n",
       "      <td>1.633027</td>\n",
       "      <td>0.368135</td>\n",
       "      <td>-2.378367</td>\n",
       "      <td>6.120525</td>\n",
       "    </tr>\n",
       "    <tr>\n",
       "      <th>43233</th>\n",
       "      <td>xCHr8</td>\n",
       "      <td>-0.847066</td>\n",
       "      <td>2.101796</td>\n",
       "      <td>5.597130</td>\n",
       "      <td>184.388641</td>\n",
       "    </tr>\n",
       "    <tr>\n",
       "      <th>44378</th>\n",
       "      <td>Vcm5J</td>\n",
       "      <td>-1.229484</td>\n",
       "      <td>-2.439204</td>\n",
       "      <td>1.222909</td>\n",
       "      <td>137.968290</td>\n",
       "    </tr>\n",
       "    <tr>\n",
       "      <th>45404</th>\n",
       "      <td>KUPhW</td>\n",
       "      <td>0.231846</td>\n",
       "      <td>-1.698941</td>\n",
       "      <td>4.990775</td>\n",
       "      <td>11.716299</td>\n",
       "    </tr>\n",
       "    <tr>\n",
       "      <th>49564</th>\n",
       "      <td>VF7Jo</td>\n",
       "      <td>-0.883115</td>\n",
       "      <td>0.560537</td>\n",
       "      <td>0.723601</td>\n",
       "      <td>136.233420</td>\n",
       "    </tr>\n",
       "    <tr>\n",
       "      <th>55967</th>\n",
       "      <td>KUPhW</td>\n",
       "      <td>1.211150</td>\n",
       "      <td>3.176408</td>\n",
       "      <td>5.543540</td>\n",
       "      <td>132.831802</td>\n",
       "    </tr>\n",
       "    <tr>\n",
       "      <th>95090</th>\n",
       "      <td>Vcm5J</td>\n",
       "      <td>2.587702</td>\n",
       "      <td>1.986875</td>\n",
       "      <td>2.482245</td>\n",
       "      <td>92.327572</td>\n",
       "    </tr>\n",
       "  </tbody>\n",
       "</table>\n",
       "</div>"
      ],
      "text/plain": [
       "          id        f0        f1        f2     product\n",
       "11449  VF7Jo  2.122656 -0.858275  5.746001  181.716817\n",
       "28039  xCHr8  1.633027  0.368135 -2.378367    6.120525\n",
       "43233  xCHr8 -0.847066  2.101796  5.597130  184.388641\n",
       "44378  Vcm5J -1.229484 -2.439204  1.222909  137.968290\n",
       "45404  KUPhW  0.231846 -1.698941  4.990775   11.716299\n",
       "49564  VF7Jo -0.883115  0.560537  0.723601  136.233420\n",
       "55967  KUPhW  1.211150  3.176408  5.543540  132.831802\n",
       "95090  Vcm5J  2.587702  1.986875  2.482245   92.327572"
      ]
     },
     "metadata": {},
     "output_type": "display_data"
    }
   ],
   "source": [
    "for df in df_list:\n",
    "    display(df[df[\"id\"].duplicated(keep=False) == True])"
   ]
  },
  {
   "attachments": {},
   "cell_type": "markdown",
   "id": "8d161e6b-ddc9-4a98-9e32-ad96cc7235fd",
   "metadata": {},
   "source": [
    "Фиксируется явное присутствие неявных дубликатов. id объектов совпадает, однако, все остальные данные различаются. У разных скважин не может быть одного id. К сожалению, что стоит за признаками мы не знаем, поэтому понять причину дублирования id затруднительно. Можно выдвинуть предположение, что в ПО бурильного оборудования, собирающего данные по скважинам, имеется баг, в результате которого в редких случаях две скважины получают один и тот же id. В любом случае, в обучении моделей id никак применяться не будет, и поскольку в каждом из датасетов таких дублей немного, их можно оставить. Хотя если бы задача состояла не только в выборе оптимального региона, но и оптимальных скважин в нем - следовало бы удалить все скважины с дублированными id. "
   ]
  },
  {
   "attachments": {},
   "cell_type": "markdown",
   "id": "bb682d04",
   "metadata": {},
   "source": [
    "**Корреляция признаков и целевого показателя**"
   ]
  },
  {
   "cell_type": "code",
   "execution_count": 23,
   "id": "12bf34d2",
   "metadata": {},
   "outputs": [
    {
     "data": {
      "text/html": [
       "<div>\n",
       "<style scoped>\n",
       "    .dataframe tbody tr th:only-of-type {\n",
       "        vertical-align: middle;\n",
       "    }\n",
       "\n",
       "    .dataframe tbody tr th {\n",
       "        vertical-align: top;\n",
       "    }\n",
       "\n",
       "    .dataframe thead th {\n",
       "        text-align: right;\n",
       "    }\n",
       "</style>\n",
       "<table border=\"1\" class=\"dataframe\">\n",
       "  <thead>\n",
       "    <tr style=\"text-align: right;\">\n",
       "      <th></th>\n",
       "      <th>f0</th>\n",
       "      <th>f1</th>\n",
       "      <th>f2</th>\n",
       "      <th>product</th>\n",
       "    </tr>\n",
       "  </thead>\n",
       "  <tbody>\n",
       "    <tr>\n",
       "      <th>f0</th>\n",
       "      <td>1.000000</td>\n",
       "      <td>-0.440723</td>\n",
       "      <td>-0.003153</td>\n",
       "      <td>0.143536</td>\n",
       "    </tr>\n",
       "    <tr>\n",
       "      <th>f1</th>\n",
       "      <td>-0.440723</td>\n",
       "      <td>1.000000</td>\n",
       "      <td>0.001724</td>\n",
       "      <td>-0.192356</td>\n",
       "    </tr>\n",
       "    <tr>\n",
       "      <th>f2</th>\n",
       "      <td>-0.003153</td>\n",
       "      <td>0.001724</td>\n",
       "      <td>1.000000</td>\n",
       "      <td>0.483663</td>\n",
       "    </tr>\n",
       "    <tr>\n",
       "      <th>product</th>\n",
       "      <td>0.143536</td>\n",
       "      <td>-0.192356</td>\n",
       "      <td>0.483663</td>\n",
       "      <td>1.000000</td>\n",
       "    </tr>\n",
       "  </tbody>\n",
       "</table>\n",
       "</div>"
      ],
      "text/plain": [
       "               f0        f1        f2   product\n",
       "f0       1.000000 -0.440723 -0.003153  0.143536\n",
       "f1      -0.440723  1.000000  0.001724 -0.192356\n",
       "f2      -0.003153  0.001724  1.000000  0.483663\n",
       "product  0.143536 -0.192356  0.483663  1.000000"
      ]
     },
     "metadata": {},
     "output_type": "display_data"
    },
    {
     "data": {
      "text/html": [
       "<div>\n",
       "<style scoped>\n",
       "    .dataframe tbody tr th:only-of-type {\n",
       "        vertical-align: middle;\n",
       "    }\n",
       "\n",
       "    .dataframe tbody tr th {\n",
       "        vertical-align: top;\n",
       "    }\n",
       "\n",
       "    .dataframe thead th {\n",
       "        text-align: right;\n",
       "    }\n",
       "</style>\n",
       "<table border=\"1\" class=\"dataframe\">\n",
       "  <thead>\n",
       "    <tr style=\"text-align: right;\">\n",
       "      <th></th>\n",
       "      <th>f0</th>\n",
       "      <th>f1</th>\n",
       "      <th>f2</th>\n",
       "      <th>product</th>\n",
       "    </tr>\n",
       "  </thead>\n",
       "  <tbody>\n",
       "    <tr>\n",
       "      <th>f0</th>\n",
       "      <td>1.000000</td>\n",
       "      <td>0.182287</td>\n",
       "      <td>-0.001777</td>\n",
       "      <td>-0.030491</td>\n",
       "    </tr>\n",
       "    <tr>\n",
       "      <th>f1</th>\n",
       "      <td>0.182287</td>\n",
       "      <td>1.000000</td>\n",
       "      <td>-0.002595</td>\n",
       "      <td>-0.010155</td>\n",
       "    </tr>\n",
       "    <tr>\n",
       "      <th>f2</th>\n",
       "      <td>-0.001777</td>\n",
       "      <td>-0.002595</td>\n",
       "      <td>1.000000</td>\n",
       "      <td>0.999397</td>\n",
       "    </tr>\n",
       "    <tr>\n",
       "      <th>product</th>\n",
       "      <td>-0.030491</td>\n",
       "      <td>-0.010155</td>\n",
       "      <td>0.999397</td>\n",
       "      <td>1.000000</td>\n",
       "    </tr>\n",
       "  </tbody>\n",
       "</table>\n",
       "</div>"
      ],
      "text/plain": [
       "               f0        f1        f2   product\n",
       "f0       1.000000  0.182287 -0.001777 -0.030491\n",
       "f1       0.182287  1.000000 -0.002595 -0.010155\n",
       "f2      -0.001777 -0.002595  1.000000  0.999397\n",
       "product -0.030491 -0.010155  0.999397  1.000000"
      ]
     },
     "metadata": {},
     "output_type": "display_data"
    },
    {
     "data": {
      "text/html": [
       "<div>\n",
       "<style scoped>\n",
       "    .dataframe tbody tr th:only-of-type {\n",
       "        vertical-align: middle;\n",
       "    }\n",
       "\n",
       "    .dataframe tbody tr th {\n",
       "        vertical-align: top;\n",
       "    }\n",
       "\n",
       "    .dataframe thead th {\n",
       "        text-align: right;\n",
       "    }\n",
       "</style>\n",
       "<table border=\"1\" class=\"dataframe\">\n",
       "  <thead>\n",
       "    <tr style=\"text-align: right;\">\n",
       "      <th></th>\n",
       "      <th>f0</th>\n",
       "      <th>f1</th>\n",
       "      <th>f2</th>\n",
       "      <th>product</th>\n",
       "    </tr>\n",
       "  </thead>\n",
       "  <tbody>\n",
       "    <tr>\n",
       "      <th>f0</th>\n",
       "      <td>1.000000</td>\n",
       "      <td>0.000528</td>\n",
       "      <td>-0.000448</td>\n",
       "      <td>-0.001987</td>\n",
       "    </tr>\n",
       "    <tr>\n",
       "      <th>f1</th>\n",
       "      <td>0.000528</td>\n",
       "      <td>1.000000</td>\n",
       "      <td>0.000779</td>\n",
       "      <td>-0.001012</td>\n",
       "    </tr>\n",
       "    <tr>\n",
       "      <th>f2</th>\n",
       "      <td>-0.000448</td>\n",
       "      <td>0.000779</td>\n",
       "      <td>1.000000</td>\n",
       "      <td>0.445871</td>\n",
       "    </tr>\n",
       "    <tr>\n",
       "      <th>product</th>\n",
       "      <td>-0.001987</td>\n",
       "      <td>-0.001012</td>\n",
       "      <td>0.445871</td>\n",
       "      <td>1.000000</td>\n",
       "    </tr>\n",
       "  </tbody>\n",
       "</table>\n",
       "</div>"
      ],
      "text/plain": [
       "               f0        f1        f2   product\n",
       "f0       1.000000  0.000528 -0.000448 -0.001987\n",
       "f1       0.000528  1.000000  0.000779 -0.001012\n",
       "f2      -0.000448  0.000779  1.000000  0.445871\n",
       "product -0.001987 -0.001012  0.445871  1.000000"
      ]
     },
     "metadata": {},
     "output_type": "display_data"
    }
   ],
   "source": [
    "for df in df_list:\n",
    "    display(df.corr(numeric_only=True))"
   ]
  },
  {
   "attachments": {},
   "cell_type": "markdown",
   "id": "3a331311",
   "metadata": {},
   "source": [
    "Очень сильная корреляция между `f2` и `product` в регионе bravo."
   ]
  },
  {
   "attachments": {},
   "cell_type": "markdown",
   "id": "19ada79c-8c02-4bae-8c4a-92c00f8870ea",
   "metadata": {},
   "source": [
    "**Гистограммы**"
   ]
  },
  {
   "cell_type": "code",
   "execution_count": 24,
   "id": "2d0cadc4-6a4c-45ef-ad4c-a18bb7d70115",
   "metadata": {},
   "outputs": [],
   "source": [
    "num_col = [\"f0\", \"f1\", \"f2\", \"product\"]"
   ]
  },
  {
   "cell_type": "code",
   "execution_count": 25,
   "id": "737b19cc-2a8c-4d3f-87fb-f17f69c7698f",
   "metadata": {},
   "outputs": [
    {
     "data": {
      "image/png": "[encoded data removed]",
      "text/plain": [
       "<Figure size 1500x450 with 4 Axes>"
      ]
     },
     "metadata": {},
     "output_type": "display_data"
    },
    {
     "data": {
      "image/png": "[encoded data removed]",
      "text/plain": [
       "<Figure size 1500x450 with 4 Axes>"
      ]
     },
     "metadata": {},
     "output_type": "display_data"
    },
    {
     "data": {
      "image/png": "[encoded data removed]",
      "text/plain": [
       "<Figure size 1500x450 with 4 Axes>"
      ]
     },
     "metadata": {},
     "output_type": "display_data"
    }
   ],
   "source": [
    "for i, df in enumerate(df_list):\n",
    "    df[num_col].hist(\n",
    "        bins=50, figsize=(15, 4.5), edgecolor=\"black\", color=\"lightgrey\", grid=False\n",
    "    )"
   ]
  },
  {
   "attachments": {},
   "cell_type": "markdown",
   "id": "336baec2-4bde-4a83-b94a-b8483bcd3497",
   "metadata": {},
   "source": [
    "Довольно занятно, что в регионе bravo значения столбцов `f2` и `product` дают дискретные линии в диапазонах некоторых значений. В регионах alpha(`f1`, `f2`) и bravo (`f0`) указанные параметры имеют весьма странные бимодальные (в случае региона alpha скорее даже три- или квадмодальные) распределения. Данные синтетические, поэтому особого смысла искать корни таких распределений нет. "
   ]
  },
  {
   "attachments": {},
   "cell_type": "markdown",
   "id": "ce4436f6-1d1d-43af-9bf0-182671cd6e9e",
   "metadata": {},
   "source": [
    "**На всякий случай взглянем на боксплоты колонки `product`**"
   ]
  },
  {
   "cell_type": "code",
   "execution_count": 26,
   "id": "d8853128-c773-4982-bcb5-ed2663b6c216",
   "metadata": {},
   "outputs": [
    {
     "name": "stdout",
     "output_type": "stream",
     "text": [
      "Нижняя граница в регионе alpha равна -51.60236680760907\n",
      "Верхняя граница в регионе alpha равна 236.66396243896986\n",
      "Нижняя граница в регионе bravo равна -94.33641361038892\n",
      "Верхняя граница в регионе bravo равна 229.10271876808736\n",
      "Нижняя граница в регионе charlie равна -47.26643772727831\n",
      "Верхняя граница в регионе charlie равна 237.31190538130107\n"
     ]
    },
    {
     "data": {
      "image/png": "[encoded data removed]",
      "text/plain": [
       "<Figure size 700x300 with 1 Axes>"
      ]
     },
     "metadata": {},
     "output_type": "display_data"
    },
    {
     "data": {
      "image/png": "[encoded data removed]",
      "text/plain": [
       "<Figure size 700x300 with 1 Axes>"
      ]
     },
     "metadata": {},
     "output_type": "display_data"
    },
    {
     "data": {
      "image/png": "[encoded data removed]",
      "text/plain": [
       "<Figure size 700x300 with 1 Axes>"
      ]
     },
     "metadata": {},
     "output_type": "display_data"
    }
   ],
   "source": [
    "rg_names = [\"alpha\", \"bravo\", \"charlie\"]\n",
    "for i, df in enumerate(df_list):\n",
    "    plt.figure(figsize=(7, 3))\n",
    "    plt.boxplot(\n",
    "        x=df[\"product\"],\n",
    "        notch=True,\n",
    "        vert=False,\n",
    "        patch_artist=True,\n",
    "    )\n",
    "    plt.title(f\"{rg_names[i]} boxplot\")\n",
    "    Q1 = df[\"product\"].quantile(0.25)\n",
    "    Q3 = df[\"product\"].quantile(0.75)\n",
    "    IQR = Q3 - Q1\n",
    "    left_border = Q1 - 1.5 * IQR\n",
    "    right_border = Q3 + 1.5 * IQR\n",
    "    print(f\"Нижняя граница в регионе {rg_names[i]} равна {left_border}\")\n",
    "    print(f\"Верхняя граница в регионе {rg_names[i]} равна {right_border}\")"
   ]
  },
  {
   "attachments": {},
   "cell_type": "markdown",
   "id": "a88f2b57-9baf-4cc5-9dc8-eced874c1c6e",
   "metadata": {},
   "source": []
  },
  {
   "attachments": {},
   "cell_type": "markdown",
   "id": "7e05abd9-9070-4105-9aa4-d6b050d0165c",
   "metadata": {},
   "source": [
    "## Предобработка данных"
   ]
  },
  {
   "attachments": {},
   "cell_type": "markdown",
   "id": "cb217235-ab3b-4ee6-a91d-1c7502e66b1e",
   "metadata": {},
   "source": [
    "Единственное, что необходимо сделать с текущими датафреймами, это убрать колонку `id`. "
   ]
  },
  {
   "cell_type": "code",
   "execution_count": 27,
   "id": "ab7ee504-be61-4f53-84de-4f98d8a29896",
   "metadata": {},
   "outputs": [
    {
     "data": {
      "text/plain": [
       "((100000, 4), (100000, 4), (100000, 4))"
      ]
     },
     "execution_count": 27,
     "metadata": {},
     "output_type": "execute_result"
    }
   ],
   "source": [
    "df_alpha.drop(columns=\"id\", inplace=True)\n",
    "df_bravo.drop(columns=\"id\", inplace=True)\n",
    "df_charlie.drop(columns=\"id\", inplace=True)\n",
    "df_alpha.shape, df_bravo.shape, df_charlie.shape"
   ]
  },
  {
   "attachments": {},
   "cell_type": "markdown",
   "id": "de14ad69-0722-4d85-b77a-804dc5975969",
   "metadata": {},
   "source": [
    "## Разбиение на выборки"
   ]
  },
  {
   "cell_type": "code",
   "execution_count": 28,
   "id": "35564005-d075-4ffd-9f46-335a7cfd2ea4",
   "metadata": {},
   "outputs": [],
   "source": [
    "X_alpha = df_alpha.drop(columns=\"product\")\n",
    "X_bravo = df_bravo.drop(columns=\"product\")\n",
    "X_charlie = df_charlie.drop(columns=\"product\")\n",
    "\n",
    "y_alpha = df_alpha[\"product\"]\n",
    "y_bravo = df_bravo[\"product\"]\n",
    "y_charlie = df_charlie[\"product\"]"
   ]
  },
  {
   "cell_type": "code",
   "execution_count": 29,
   "id": "c419d015-3d51-46ae-b326-ac1699eba4dc",
   "metadata": {},
   "outputs": [],
   "source": [
    "chosen_rs = 31121600"
   ]
  },
  {
   "cell_type": "code",
   "execution_count": 30,
   "id": "a0e51331-dc69-4354-87aa-3b84d11366fc",
   "metadata": {},
   "outputs": [
    {
     "data": {
      "text/plain": [
       "((75000, 3), (75000,), (25000, 3), (25000,))"
      ]
     },
     "execution_count": 30,
     "metadata": {},
     "output_type": "execute_result"
    }
   ],
   "source": [
    "X_alpha_train, X_alpha_valid, y_alpha_train, y_alpha_valid = train_test_split(\n",
    "    X_alpha, y_alpha, test_size=0.25, random_state=chosen_rs\n",
    ")\n",
    "X_alpha_train.shape, y_alpha_train.shape, X_alpha_valid.shape, y_alpha_valid.shape"
   ]
  },
  {
   "cell_type": "code",
   "execution_count": 31,
   "id": "0ced9f12-6802-4c9e-b37d-721ac2acfb88",
   "metadata": {},
   "outputs": [
    {
     "data": {
      "text/plain": [
       "((75000, 3), (75000,), (25000, 3), (25000,))"
      ]
     },
     "execution_count": 31,
     "metadata": {},
     "output_type": "execute_result"
    }
   ],
   "source": [
    "X_bravo_train, X_bravo_valid, y_bravo_train, y_bravo_valid = train_test_split(\n",
    "    X_bravo, y_bravo, test_size=0.25, random_state=chosen_rs\n",
    ")\n",
    "X_bravo_train.shape, y_bravo_train.shape, X_bravo_valid.shape, y_bravo_valid.shape"
   ]
  },
  {
   "cell_type": "code",
   "execution_count": 32,
   "id": "dd22159c-155a-41cb-b0b2-aca32718e762",
   "metadata": {},
   "outputs": [
    {
     "data": {
      "text/plain": [
       "((75000, 3), (75000,), (25000, 3), (25000,))"
      ]
     },
     "execution_count": 32,
     "metadata": {},
     "output_type": "execute_result"
    }
   ],
   "source": [
    "X_charlie_train, X_charlie_valid, y_charlie_train, y_charlie_valid = train_test_split(\n",
    "    X_charlie, y_charlie, test_size=0.25, random_state=chosen_rs\n",
    ")\n",
    "X_charlie_train.shape, y_charlie_train.shape, X_charlie_valid.shape, y_charlie_valid.shape"
   ]
  },
  {
   "attachments": {},
   "cell_type": "markdown",
   "id": "ebf49d5d-fc57-4bc0-8ccb-1be3aebeefb0",
   "metadata": {},
   "source": [
    "## Обучение моделей"
   ]
  },
  {
   "cell_type": "code",
   "execution_count": 33,
   "id": "eba9b488-5db0-4696-87aa-fc5ccc440f02",
   "metadata": {},
   "outputs": [],
   "source": [
    "data_list_alpha = [X_alpha_train, y_alpha_train, X_alpha_valid, y_alpha_valid]\n",
    "data_list_bravo = [X_bravo_train, y_bravo_train, X_bravo_valid, y_bravo_valid]\n",
    "data_list_charlie = [X_charlie_train, y_charlie_train, X_charlie_valid, y_charlie_valid]"
   ]
  },
  {
   "cell_type": "code",
   "execution_count": 34,
   "id": "e5fe3424-fdb9-41fd-8b7a-f450fc0e8397",
   "metadata": {},
   "outputs": [],
   "source": [
    "data_list = [data_list_alpha, data_list_bravo, data_list_charlie]"
   ]
  },
  {
   "cell_type": "code",
   "execution_count": 35,
   "id": "e7fd36b8-35fd-4ab6-b176-92aa629d23cf",
   "metadata": {},
   "outputs": [],
   "source": [
    "def rmse_score(predictions, targets):\n",
    "    return np.sqrt(((predictions - targets) ** 2).mean())"
   ]
  },
  {
   "cell_type": "code",
   "execution_count": 36,
   "id": "aac00ef7-24fb-4f16-8a32-72550acb9915",
   "metadata": {},
   "outputs": [],
   "source": [
    "rg_list = [\"alpha\", \"bravo\", \"charlie\"]"
   ]
  },
  {
   "cell_type": "code",
   "execution_count": 37,
   "id": "68aa2383-3ea2-43fd-898a-740258590311",
   "metadata": {},
   "outputs": [
    {
     "name": "stdout",
     "output_type": "stream",
     "text": [
      "===============================================================================\n",
      "\n",
      "Среднее значение объемов запасов в скважине региона alpha: 92.405\n",
      "\n",
      "RMSE = 37.334\n",
      "\n",
      "===============================================================================\n",
      "===============================================================================\n",
      "\n",
      "Среднее значение объемов запасов в скважине региона bravo: 68.953\n",
      "\n",
      "RMSE = 1.888\n",
      "\n",
      "===============================================================================\n",
      "===============================================================================\n",
      "\n",
      "Среднее значение объемов запасов в скважине региона charlie: 95.075\n",
      "\n",
      "RMSE = 37.664\n",
      "\n",
      "===============================================================================\n"
     ]
    }
   ],
   "source": [
    "cat_preds = []\n",
    "cat_reg_params = {\n",
    "    \"iterations\": randint(2, 15),\n",
    "    \"depth\": randint(2, 15),\n",
    "    \"learning_rate\": [1],\n",
    "    \"loss_function\": [\"RMSE\"],\n",
    "    \"verbose\": [False],\n",
    "}\n",
    "for i, data in enumerate(data_list):\n",
    "    rs = RandomizedSearchCV(\n",
    "        CatBoostRegressor(),\n",
    "        cat_reg_params,\n",
    "        cv=5,\n",
    "        # error_score='raise',\n",
    "        scoring=make_scorer(mean_squared_error, greater_is_better=False),\n",
    "    )\n",
    "    rs.fit(data[0], data[1])\n",
    "    cat_model = rs.best_estimator_\n",
    "    predictions = cat_model.predict(data[2])\n",
    "    cat_preds.append(predictions)\n",
    "    rmse = rmse_score(predictions, data[3])\n",
    "    print(\"=\" * 79)\n",
    "    print(\n",
    "        f\"\\nСреднее значение объемов запасов в скважине региона {rg_list[i]}: {predictions.mean():.3f}\"\n",
    "    )\n",
    "    print(f\"\\nRMSE = {rmse:.3f}\\n\")\n",
    "    print(\"=\" * 79)"
   ]
  },
  {
   "cell_type": "code",
   "execution_count": 38,
   "id": "35108607-9dc5-4a6a-bf2f-34b0c3358ef7",
   "metadata": {},
   "outputs": [
    {
     "name": "stdout",
     "output_type": "stream",
     "text": [
      "===============================================================================\n",
      "\n",
      "Среднее значение объемов запасов в скважине региона alpha: 92.404\n",
      "\n",
      "RMSE = 37.787\n",
      "\n",
      "===============================================================================\n",
      "===============================================================================\n",
      "\n",
      "Среднее значение объемов запасов в скважине региона bravo: 68.948\n",
      "\n",
      "RMSE = 0.888\n",
      "\n",
      "===============================================================================\n",
      "===============================================================================\n",
      "\n",
      "Среднее значение объемов запасов в скважине региона charlie: 95.049\n",
      "\n",
      "RMSE = 40.069\n",
      "\n",
      "===============================================================================\n"
     ]
    }
   ],
   "source": [
    "lr_preds = []\n",
    "lr_param_grid = {}\n",
    "for i, data in enumerate(data_list):\n",
    "    rs = RandomizedSearchCV(\n",
    "        LinearRegression(),\n",
    "        lr_param_grid,\n",
    "        n_iter=1,\n",
    "        cv=5,\n",
    "        scoring=make_scorer(mean_squared_error, greater_is_better=False),\n",
    "    )\n",
    "    rs.fit(data[0], data[1])\n",
    "    lr_model = rs.best_estimator_\n",
    "    predictions = lr_model.predict(data[2])\n",
    "    lr_preds.append(predictions)\n",
    "    rmse = rmse_score(predictions, data[3])\n",
    "    print(\"=\" * 79)\n",
    "    print(\n",
    "        f\"\\nСреднее значение объемов запасов в скважине региона {rg_list[i]}: {predictions.mean():.3f}\"\n",
    "    )\n",
    "    print(f\"\\nRMSE = {rmse:.3f}\\n\")\n",
    "    print(\"=\" * 79)"
   ]
  },
  {
   "attachments": {},
   "cell_type": "markdown",
   "id": "d276e4e4-5abb-48b1-9a06-b8983ffc24ff",
   "metadata": {},
   "source": [
    "**Вывод:** в случае регионов alpha и charlie показатель RMSE крайне ощутим, при этом в регионе bravo он кратно меньше. Скорее всего это связано с дискретностью значений в столбцах `f2` и `product` в случае региона bravo, которая помогает модели в предсказании. "
   ]
  },
  {
   "cell_type": "code",
   "execution_count": 39,
   "id": "61ff76e9-8955-402d-ad15-2b8094f0782f",
   "metadata": {},
   "outputs": [
    {
     "data": {
      "image/png": "[encoded data removed]",
      "text/plain": [
       "<Figure size 300x300 with 1 Axes>"
      ]
     },
     "metadata": {},
     "output_type": "display_data"
    },
    {
     "data": {
      "image/png": "[encoded data removed]",
      "text/plain": [
       "<Figure size 300x300 with 1 Axes>"
      ]
     },
     "metadata": {},
     "output_type": "display_data"
    },
    {
     "data": {
      "image/png": "[encoded data removed]",
      "text/plain": [
       "<Figure size 300x300 with 1 Axes>"
      ]
     },
     "metadata": {},
     "output_type": "display_data"
    }
   ],
   "source": [
    "for data in data_list:\n",
    "    md = CatBoostRegressor(iterations=10, depth=10, verbose=False)\n",
    "    md.fit(data[0], data[1])\n",
    "    cat_importances = md.feature_importances_\n",
    "    pd.Series(cat_importances).plot(kind=\"bar\", figsize=(3, 3))\n",
    "    plt.show()"
   ]
  },
  {
   "attachments": {},
   "cell_type": "markdown",
   "id": "847ba241-cfd9-4ff5-b546-23062fa2da50",
   "metadata": {},
   "source": [
    "**Вывод 2:** действительно, в случае региона bravo признаки f0 и f1 вообще не используются."
   ]
  },
  {
   "attachments": {},
   "cell_type": "markdown",
   "id": "31a211ee-46b5-424c-a129-3327910d0403",
   "metadata": {},
   "source": [
    "## Подготовка к расчету прибыли"
   ]
  },
  {
   "cell_type": "code",
   "execution_count": 40,
   "id": "3a4f26c9-2549-4bca-8378-4e028f8bba9d",
   "metadata": {},
   "outputs": [],
   "source": [
    "BUDGET = 10**10"
   ]
  },
  {
   "cell_type": "code",
   "execution_count": 41,
   "id": "4d2df91b-5b4f-4005-bf37-e067c8efb4db",
   "metadata": {},
   "outputs": [],
   "source": [
    "PRICE_PER_UNIT = 450_000"
   ]
  },
  {
   "cell_type": "code",
   "execution_count": 42,
   "id": "3ab318a4-dc9e-4268-a8be-6509e4aabc60",
   "metadata": {},
   "outputs": [
    {
     "data": {
      "text/plain": [
       "(22223.0, 111.115)"
      ]
     },
     "execution_count": 42,
     "metadata": {},
     "output_type": "execute_result"
    }
   ],
   "source": [
    "sufficient_volume_per_rg = np.ceil(BUDGET / PRICE_PER_UNIT)\n",
    "sufficient_volume_per_well = np.ceil(BUDGET / PRICE_PER_UNIT) / 200\n",
    "sufficient_volume_per_rg, sufficient_volume_per_well"
   ]
  },
  {
   "attachments": {},
   "cell_type": "markdown",
   "id": "c66ebea9-0072-43fc-84d9-715c59780fd2",
   "metadata": {},
   "source": [
    "По условию задания, при разведке региона роется 500 скважин. Выберем из предсказанных списков по 500 скважин в каждом регионе. "
   ]
  },
  {
   "cell_type": "code",
   "execution_count": 43,
   "id": "a8359102-15c6-48a7-bd73-625653795759",
   "metadata": {},
   "outputs": [],
   "source": [
    "wells_volume_alpha = pd.Series(lr_preds[0], index=y_alpha_valid.index).sample(\n",
    "    frac=0.02, replace=True, random_state=chosen_rs\n",
    ")\n",
    "wells_volume_bravo = pd.Series(lr_preds[1], index=y_bravo_valid.index).sample(\n",
    "    frac=0.02, replace=True, random_state=chosen_rs\n",
    ")\n",
    "wells_volume_charlie = pd.Series(lr_preds[2], index=y_charlie_valid.index).sample(\n",
    "    frac=0.02, replace=True, random_state=chosen_rs\n",
    ")"
   ]
  },
  {
   "cell_type": "code",
   "execution_count": 44,
   "id": "1962d0e1-fbae-4977-bbfc-d27f57c0e5a5",
   "metadata": {},
   "outputs": [],
   "source": [
    "wells_volumes = [wells_volume_alpha, wells_volume_bravo, wells_volume_charlie]"
   ]
  },
  {
   "attachments": {},
   "cell_type": "markdown",
   "id": "88d82691-2d62-4b8b-8719-71136b643414",
   "metadata": {},
   "source": [
    "Посмотрим на средний объем скважин в регионах"
   ]
  },
  {
   "cell_type": "code",
   "execution_count": 45,
   "id": "11a77615-c4ca-4386-8f97-cea234206029",
   "metadata": {},
   "outputs": [
    {
     "data": {
      "text/plain": [
       "(94.11407407696913, 66.77793733752065, 96.00645311979457)"
      ]
     },
     "execution_count": 45,
     "metadata": {},
     "output_type": "execute_result"
    }
   ],
   "source": [
    "wells_volume_alpha.mean(), wells_volume_bravo.mean(), wells_volume_charlie.mean()"
   ]
  },
  {
   "attachments": {},
   "cell_type": "markdown",
   "id": "0729b225-fc86-4126-9ce0-4962cc557d59",
   "metadata": {},
   "source": [
    "**Вывод** средние значения по региону меньше объема, необходимого для безубыточной добычи"
   ]
  },
  {
   "attachments": {},
   "cell_type": "markdown",
   "id": "0b1ef779-bc20-4d46-8967-a06db11fb0ca",
   "metadata": {},
   "source": [
    "## Расчет прибыли"
   ]
  },
  {
   "cell_type": "code",
   "execution_count": 46,
   "id": "1bff21c3-92ec-4404-a7df-792b8a64a082",
   "metadata": {},
   "outputs": [],
   "source": [
    "def best_two_fifths(volumes_list, target):\n",
    "    temp = volumes_list.sort_values(ascending=False)\n",
    "    temp_best = temp.iloc[range(0, 200)]\n",
    "    return target[temp_best.index]"
   ]
  },
  {
   "cell_type": "code",
   "execution_count": 47,
   "id": "d4f27423",
   "metadata": {},
   "outputs": [],
   "source": [
    "targets = [y_alpha_valid, y_bravo_valid, y_charlie_valid]"
   ]
  },
  {
   "cell_type": "code",
   "execution_count": 48,
   "id": "7b342516-859c-407a-8e57-34fea4da674c",
   "metadata": {},
   "outputs": [
    {
     "name": "stdout",
     "output_type": "stream",
     "text": [
      "Регион alpha потенциально может принести 0.436 млрд рублей прибыли при общих запасах 23190.726 тыс. баррелей.\n",
      "Регион bravo потенциально может принести 0.107 млрд рублей прибыли при общих запасах 22459.392 тыс. баррелей.\n",
      "Регион charlie потенциально может принести 0.497 млрд рублей прибыли при общих запасах 23327.130 тыс. баррелей.\n"
     ]
    }
   ],
   "source": [
    "rg_revenue_list = []\n",
    "for i, rg_volumes in enumerate(wells_volumes):\n",
    "    best = best_two_fifths(rg_volumes, targets[i])\n",
    "    overall_rg_volume = best.sum()\n",
    "    rg_revenue = (overall_rg_volume * PRICE_PER_UNIT - BUDGET) / 10**9\n",
    "    rg_revenue_list.append(rg_revenue)\n",
    "    print(\n",
    "        f\"Регион {rg_list[i]} потенциально может принести {rg_revenue:.3f} млрд рублей прибыли при общих запасах {overall_rg_volume:.3f} тыс. баррелей.\"\n",
    "    )"
   ]
  },
  {
   "attachments": {},
   "cell_type": "markdown",
   "id": "da6da32a-9ad1-4d33-b72c-eaad3170f9d2",
   "metadata": {},
   "source": [
    "**Вывод**: потенциальные показатели прибыли во всех трех регионах выше порогового значения. "
   ]
  },
  {
   "attachments": {},
   "cell_type": "markdown",
   "id": "17ec00cc-9916-49cb-a7fb-f868dbc8b3ef",
   "metadata": {},
   "source": [
    "## Расчет рисков "
   ]
  },
  {
   "cell_type": "code",
   "execution_count": 49,
   "id": "fc3d200a-19af-4648-ab87-2ff515c6784e",
   "metadata": {},
   "outputs": [
    {
     "name": "stdout",
     "output_type": "stream",
     "text": [
      "Средняя выручка региона alpha: 0.61 млрд рублей.\n",
      "95% доверительный интервал: (0.5867374205661469, 0.6275867325196045)\n",
      "Вероятность убытков: 3.0 %\n",
      "\n",
      "Средняя выручка региона bravo: 0.66 млрд рублей.\n",
      "95% доверительный интервал: (0.6404000636093228, 0.6737155351358057)\n",
      "Вероятность убытков: 0.3 %\n",
      "\n",
      "Средняя выручка региона charlie: 0.58 млрд рублей.\n",
      "95% доверительный интервал: (0.555664663833999, 0.5949753350330294)\n",
      "Вероятность убытков: 3.3 %\n",
      "\n"
     ]
    },
    {
     "data": {
      "text/plain": [
       "Text(0, 0.5, 'Число выборок bootstrap, шт')"
      ]
     },
     "execution_count": 49,
     "metadata": {},
     "output_type": "execute_result"
    },
    {
     "data": {
      "image/png": "[encoded data removed]",
      "text/plain": [
       "<Figure size 640x480 with 1 Axes>"
      ]
     },
     "metadata": {},
     "output_type": "display_data"
    }
   ],
   "source": [
    "state = RandomState(chosen_rs)\n",
    "targets = [y_alpha_valid, y_bravo_valid, y_charlie_valid]\n",
    "rg_mean_revenue = []\n",
    "for i, target in enumerate(targets):\n",
    "    revenue_values = []\n",
    "    target = target\n",
    "    preds = pd.Series(lr_preds[i], index=y_alpha_valid.index)\n",
    "    for j in range(1000):\n",
    "        target_subsample = target.sample(frac=0.02, replace=True, random_state=state)\n",
    "        preds_subsample = preds[target_subsample.index]\n",
    "        res = (\n",
    "            (best_two_fifths(preds_subsample, target_subsample).sum()) * PRICE_PER_UNIT\n",
    "            - BUDGET\n",
    "        ) / 10**9\n",
    "        revenue_values.append(res)\n",
    "\n",
    "    revenue_values = pd.Series(revenue_values)\n",
    "    plt.hist(revenue_values, bins=30, alpha=0.5)\n",
    "\n",
    "    mean = revenue_values.mean()\n",
    "    rg_mean_revenue.append(mean)\n",
    "\n",
    "    confidence_interval = st.t.interval(\n",
    "        0.95,\n",
    "        df=len(revenue_values) - 1,\n",
    "        loc=revenue_values.mean(),\n",
    "        scale=revenue_values.sem(),\n",
    "    )\n",
    "\n",
    "    loss_probs = revenue_values[revenue_values < 0].count() / revenue_values.count()\n",
    "\n",
    "    # T-test для отсеивания регионов, в которых вероятность убытков выше 2.5%\n",
    "    # H0 - доход с региона не превысит 10 млрд, H1 - доход с региона превысит 10 млрд\n",
    "\n",
    "    # alpha_stat = .05\n",
    "    # revenue_threshold = 10\n",
    "\n",
    "    # pvalue = st.ttest_1samp(revenue_values, revenue_threshold).pvalue / 2\n",
    "    # print(pvalue)\n",
    "\n",
    "    # if pvalue < alpha_stat:\n",
    "    print(f\"Средняя выручка региона {rg_list[i]}: {mean:.2f} млрд рублей.\")\n",
    "    print(f\"95% доверительный интервал: {confidence_interval}\")\n",
    "    # print(f'Вероятность убытков меньше 2.5%\\n')\n",
    "    print(f\"Вероятность убытков: {loss_probs*100:.1f} %\\n\")\n",
    "    # else:\n",
    "    # print(f'В регионе {rg_list[i]} вероятность убытков выше 2.5%')\n",
    "\n",
    "plt.title(\"Распределение доходов в регионах с использованием техники bootstrap\")\n",
    "plt.legend([\"alpha\", \"bravo\", \"charlie\"])\n",
    "plt.xlabel(\"Доход, млрд рублей\")\n",
    "plt.ylabel(\"Число выборок bootstrap, шт\")"
   ]
  },
  {
   "attachments": {},
   "cell_type": "markdown",
   "id": "65884cab-b359-4b6d-bc76-534d5642c9a1",
   "metadata": {},
   "source": [
    "**Вывод:**  лишь один регоин - bravo - прошел проверку на риск убытков, поэтому к разработке предлагается именно он."
   ]
  },
  {
   "attachments": {},
   "cell_type": "markdown",
   "id": "52074bbf-dc52-4e44-b882-be666fa38edd",
   "metadata": {},
   "source": [
    "## Общий вывод"
   ]
  },
  {
   "attachments": {},
   "cell_type": "markdown",
   "id": "90f007ca-27b9-4153-8516-39a85c9d244f",
   "metadata": {},
   "source": [
    "В ходе проведенного исследования были построены модели прогнозирования объемов сырья в нефтяных скважинах. На основе спрогнозированных данных по трем регионам были расчитаны показатели потенциальной выручки в каждом регионе, расчитана вероятность убытков. На основе проведенных расчетов из трех регионов - alpha, bravo и charlie - предложено выбрать регион bravo, поскольку в оставшихся регионах шанс убытков превышает 2.5%."
   ]
  },
  {
   "cell_type": "code",
   "execution_count": null,
   "id": "3811270d-4f8b-42d8-86b3-55e019301217",
   "metadata": {},
   "outputs": [],
   "source": []
  }
 ],
 "metadata": {
  "ExecuteTimeLog": [
   {
    "duration": 2400,
    "start_time": "2023-01-27T01:01:10.479Z"
   },
   {
    "duration": 1454,
    "start_time": "2023-01-27T01:01:12.881Z"
   },
   {
    "duration": 554,
    "start_time": "2023-01-27T01:01:14.337Z"
   },
   {
    "duration": 232,
    "start_time": "2023-01-27T01:01:14.894Z"
   },
   {
    "duration": 240,
    "start_time": "2023-01-27T01:01:15.128Z"
   },
   {
    "duration": 3,
    "start_time": "2023-01-27T01:01:15.370Z"
   },
   {
    "duration": 12,
    "start_time": "2023-01-27T01:01:15.374Z"
   },
   {
    "duration": 36,
    "start_time": "2023-01-27T01:01:15.388Z"
   },
   {
    "duration": 44,
    "start_time": "2023-01-27T01:01:15.426Z"
   },
   {
    "duration": 61,
    "start_time": "2023-01-27T01:01:15.472Z"
   },
   {
    "duration": 78,
    "start_time": "2023-01-27T01:01:15.554Z"
   },
   {
    "duration": 20,
    "start_time": "2023-01-27T01:01:15.634Z"
   },
   {
    "duration": 1958,
    "start_time": "2023-01-27T01:01:15.655Z"
   },
   {
    "duration": 323,
    "start_time": "2023-01-27T01:01:17.615Z"
   },
   {
    "duration": 28,
    "start_time": "2023-01-27T01:01:17.940Z"
   },
   {
    "duration": 11,
    "start_time": "2023-01-27T01:01:17.970Z"
   },
   {
    "duration": 5,
    "start_time": "2023-01-27T01:01:17.983Z"
   },
   {
    "duration": 17,
    "start_time": "2023-01-27T01:01:17.989Z"
   },
   {
    "duration": 15,
    "start_time": "2023-01-27T01:01:18.007Z"
   },
   {
    "duration": 43,
    "start_time": "2023-01-27T01:01:18.023Z"
   },
   {
    "duration": 3,
    "start_time": "2023-01-27T01:01:18.067Z"
   },
   {
    "duration": 20,
    "start_time": "2023-01-27T01:01:18.071Z"
   },
   {
    "duration": 16,
    "start_time": "2023-01-27T01:01:18.092Z"
   },
   {
    "duration": 29,
    "start_time": "2023-01-27T01:01:18.110Z"
   },
   {
    "duration": 179771,
    "start_time": "2023-01-27T01:01:18.141Z"
   },
   {
    "duration": 2041,
    "start_time": "2023-01-27T01:04:17.913Z"
   },
   {
    "duration": 2976,
    "start_time": "2023-01-27T01:04:19.956Z"
   },
   {
    "duration": 2,
    "start_time": "2023-01-27T01:04:22.936Z"
   },
   {
    "duration": 35,
    "start_time": "2023-01-27T01:04:22.939Z"
   },
   {
    "duration": 24,
    "start_time": "2023-01-27T01:04:22.976Z"
   },
   {
    "duration": 32,
    "start_time": "2023-01-27T01:04:23.001Z"
   },
   {
    "duration": 29,
    "start_time": "2023-01-27T01:04:23.034Z"
   },
   {
    "duration": 37,
    "start_time": "2023-01-27T01:04:23.064Z"
   },
   {
    "duration": 36,
    "start_time": "2023-01-27T01:04:23.103Z"
   },
   {
    "duration": 27,
    "start_time": "2023-01-27T01:04:23.140Z"
   },
   {
    "duration": 2498,
    "start_time": "2023-01-27T01:04:23.169Z"
   },
   {
    "duration": 6,
    "start_time": "2023-01-27T01:56:00.312Z"
   },
   {
    "duration": 5,
    "start_time": "2023-01-27T01:56:12.205Z"
   },
   {
    "duration": 12,
    "start_time": "2023-01-27T11:28:50.911Z"
   },
   {
    "duration": 3,
    "start_time": "2023-01-27T11:29:23.869Z"
   },
   {
    "duration": 2854,
    "start_time": "2023-01-27T11:34:12.370Z"
   },
   {
    "duration": 1757,
    "start_time": "2023-01-27T11:34:15.227Z"
   },
   {
    "duration": 634,
    "start_time": "2023-01-27T11:34:16.986Z"
   },
   {
    "duration": 291,
    "start_time": "2023-01-27T11:34:17.622Z"
   },
   {
    "duration": 275,
    "start_time": "2023-01-27T11:34:17.917Z"
   },
   {
    "duration": 3,
    "start_time": "2023-01-27T11:34:18.193Z"
   },
   {
    "duration": 30,
    "start_time": "2023-01-27T11:34:18.198Z"
   },
   {
    "duration": 58,
    "start_time": "2023-01-27T11:34:18.229Z"
   },
   {
    "duration": 35,
    "start_time": "2023-01-27T11:34:18.289Z"
   },
   {
    "duration": 104,
    "start_time": "2023-01-27T11:34:18.326Z"
   },
   {
    "duration": 118,
    "start_time": "2023-01-27T11:34:18.432Z"
   },
   {
    "duration": 2,
    "start_time": "2023-01-27T11:34:18.552Z"
   },
   {
    "duration": 2352,
    "start_time": "2023-01-27T11:34:18.556Z"
   },
   {
    "duration": 381,
    "start_time": "2023-01-27T11:34:20.911Z"
   },
   {
    "duration": 27,
    "start_time": "2023-01-27T11:34:21.295Z"
   },
   {
    "duration": 128,
    "start_time": "2023-01-27T11:34:21.324Z"
   },
   {
    "duration": 53,
    "start_time": "2023-01-27T11:34:21.454Z"
   },
   {
    "duration": 105,
    "start_time": "2023-01-27T11:34:21.510Z"
   },
   {
    "duration": 57,
    "start_time": "2023-01-27T11:34:21.617Z"
   },
   {
    "duration": 46,
    "start_time": "2023-01-27T11:34:21.675Z"
   },
   {
    "duration": 33,
    "start_time": "2023-01-27T11:34:21.723Z"
   },
   {
    "duration": 74,
    "start_time": "2023-01-27T11:34:21.758Z"
   },
   {
    "duration": 20,
    "start_time": "2023-01-27T11:34:21.834Z"
   },
   {
    "duration": 55,
    "start_time": "2023-01-27T11:34:21.857Z"
   },
   {
    "duration": 163914,
    "start_time": "2023-01-27T11:34:21.914Z"
   },
   {
    "duration": 2056,
    "start_time": "2023-01-27T11:37:05.830Z"
   },
   {
    "duration": 2876,
    "start_time": "2023-01-27T11:37:07.894Z"
   },
   {
    "duration": 3,
    "start_time": "2023-01-27T11:37:10.772Z"
   },
   {
    "duration": 6,
    "start_time": "2023-01-27T11:37:10.785Z"
   },
   {
    "duration": 11,
    "start_time": "2023-01-27T11:37:10.793Z"
   },
   {
    "duration": 11,
    "start_time": "2023-01-27T11:37:10.807Z"
   },
   {
    "duration": 6,
    "start_time": "2023-01-27T11:37:10.820Z"
   },
   {
    "duration": 12,
    "start_time": "2023-01-27T11:37:10.828Z"
   },
   {
    "duration": 14,
    "start_time": "2023-01-27T11:37:10.842Z"
   },
   {
    "duration": 17,
    "start_time": "2023-01-27T11:37:10.858Z"
   },
   {
    "duration": 2820,
    "start_time": "2023-01-27T11:37:10.885Z"
   },
   {
    "duration": 9,
    "start_time": "2023-01-27T11:37:43.709Z"
   },
   {
    "duration": 9,
    "start_time": "2023-01-27T11:38:06.525Z"
   },
   {
    "duration": 10,
    "start_time": "2023-01-27T11:38:35.873Z"
   },
   {
    "duration": 2694,
    "start_time": "2023-01-27T11:38:55.775Z"
   },
   {
    "duration": 2773,
    "start_time": "2023-01-27T11:41:13.425Z"
   },
   {
    "duration": 16,
    "start_time": "2023-01-27T11:41:55.958Z"
   },
   {
    "duration": 23,
    "start_time": "2023-01-27T11:42:30.259Z"
   },
   {
    "duration": 42,
    "start_time": "2023-01-27T11:42:41.661Z"
   },
   {
    "duration": 3611,
    "start_time": "2023-01-27T20:29:31.960Z"
   },
   {
    "duration": 1374,
    "start_time": "2023-01-27T20:29:35.573Z"
   },
   {
    "duration": 626,
    "start_time": "2023-01-27T20:29:36.949Z"
   },
   {
    "duration": 219,
    "start_time": "2023-01-27T20:29:37.577Z"
   },
   {
    "duration": 228,
    "start_time": "2023-01-27T20:29:37.797Z"
   },
   {
    "duration": 2,
    "start_time": "2023-01-27T20:29:38.027Z"
   },
   {
    "duration": 28,
    "start_time": "2023-01-27T20:29:38.030Z"
   },
   {
    "duration": 35,
    "start_time": "2023-01-27T20:29:38.059Z"
   },
   {
    "duration": 25,
    "start_time": "2023-01-27T20:29:38.096Z"
   },
   {
    "duration": 61,
    "start_time": "2023-01-27T20:29:38.124Z"
   },
   {
    "duration": 87,
    "start_time": "2023-01-27T20:29:38.186Z"
   },
   {
    "duration": 35,
    "start_time": "2023-01-27T20:29:38.275Z"
   },
   {
    "duration": 2,
    "start_time": "2023-01-27T20:29:38.312Z"
   },
   {
    "duration": 1799,
    "start_time": "2023-01-27T20:29:38.316Z"
   },
   {
    "duration": 299,
    "start_time": "2023-01-27T20:29:40.117Z"
   },
   {
    "duration": 16,
    "start_time": "2023-01-27T20:29:40.417Z"
   },
   {
    "duration": 25,
    "start_time": "2023-01-27T20:29:40.443Z"
   },
   {
    "duration": 22,
    "start_time": "2023-01-27T20:29:40.470Z"
   },
   {
    "duration": 20,
    "start_time": "2023-01-27T20:29:40.494Z"
   },
   {
    "duration": 15,
    "start_time": "2023-01-27T20:29:40.516Z"
   },
   {
    "duration": 16,
    "start_time": "2023-01-27T20:29:40.533Z"
   },
   {
    "duration": 8,
    "start_time": "2023-01-27T20:29:40.551Z"
   },
   {
    "duration": 5,
    "start_time": "2023-01-27T20:29:40.560Z"
   },
   {
    "duration": 9,
    "start_time": "2023-01-27T20:29:40.566Z"
   },
   {
    "duration": 11,
    "start_time": "2023-01-27T20:29:40.577Z"
   },
   {
    "duration": 119585,
    "start_time": "2023-01-27T20:29:40.589Z"
   },
   {
    "duration": 1285,
    "start_time": "2023-01-27T20:31:40.176Z"
   },
   {
    "duration": 3236,
    "start_time": "2023-01-27T20:31:41.464Z"
   },
   {
    "duration": 3,
    "start_time": "2023-01-27T20:31:44.701Z"
   },
   {
    "duration": 8,
    "start_time": "2023-01-27T20:31:44.705Z"
   },
   {
    "duration": 8,
    "start_time": "2023-01-27T20:31:44.714Z"
   },
   {
    "duration": 9,
    "start_time": "2023-01-27T20:31:44.723Z"
   },
   {
    "duration": 10,
    "start_time": "2023-01-27T20:31:44.742Z"
   },
   {
    "duration": 11,
    "start_time": "2023-01-27T20:31:44.753Z"
   },
   {
    "duration": 5,
    "start_time": "2023-01-27T20:31:44.766Z"
   },
   {
    "duration": 8,
    "start_time": "2023-01-27T20:31:44.772Z"
   },
   {
    "duration": 2305,
    "start_time": "2023-01-27T20:31:44.781Z"
   },
   {
    "duration": 106,
    "start_time": "2023-01-27T20:38:38.079Z"
   },
   {
    "duration": 14,
    "start_time": "2023-01-27T20:38:58.988Z"
   },
   {
    "duration": 84,
    "start_time": "2023-01-27T20:40:27.966Z"
   },
   {
    "duration": 100,
    "start_time": "2023-01-27T20:41:53.148Z"
   },
   {
    "duration": 81,
    "start_time": "2023-01-27T20:42:29.248Z"
   },
   {
    "duration": 14,
    "start_time": "2023-01-27T20:43:56.765Z"
   },
   {
    "duration": 2294,
    "start_time": "2023-01-27T20:44:33.976Z"
   },
   {
    "duration": 58,
    "start_time": "2023-01-28T00:04:00.844Z"
   },
   {
    "duration": 2820,
    "start_time": "2023-01-28T00:04:09.890Z"
   },
   {
    "duration": 1637,
    "start_time": "2023-01-28T00:04:12.713Z"
   },
   {
    "duration": 673,
    "start_time": "2023-01-28T00:04:14.351Z"
   },
   {
    "duration": 286,
    "start_time": "2023-01-28T00:04:15.026Z"
   },
   {
    "duration": 287,
    "start_time": "2023-01-28T00:04:15.315Z"
   },
   {
    "duration": 3,
    "start_time": "2023-01-28T00:04:15.604Z"
   },
   {
    "duration": 81,
    "start_time": "2023-01-28T00:04:15.609Z"
   },
   {
    "duration": 53,
    "start_time": "2023-01-28T00:04:15.692Z"
   },
   {
    "duration": 58,
    "start_time": "2023-01-28T00:04:15.746Z"
   },
   {
    "duration": 93,
    "start_time": "2023-01-28T00:04:15.805Z"
   },
   {
    "duration": 100,
    "start_time": "2023-01-28T00:04:15.900Z"
   },
   {
    "duration": 71,
    "start_time": "2023-01-28T00:04:16.002Z"
   },
   {
    "duration": 8,
    "start_time": "2023-01-28T00:04:16.077Z"
   },
   {
    "duration": 2165,
    "start_time": "2023-01-28T00:04:16.090Z"
   },
   {
    "duration": 324,
    "start_time": "2023-01-28T00:04:18.258Z"
   },
   {
    "duration": 21,
    "start_time": "2023-01-28T00:04:18.584Z"
   },
   {
    "duration": 14,
    "start_time": "2023-01-28T00:04:18.607Z"
   },
   {
    "duration": 12,
    "start_time": "2023-01-28T00:04:18.622Z"
   },
   {
    "duration": 31,
    "start_time": "2023-01-28T00:04:18.635Z"
   },
   {
    "duration": 56,
    "start_time": "2023-01-28T00:04:18.669Z"
   },
   {
    "duration": 20,
    "start_time": "2023-01-28T00:04:18.727Z"
   },
   {
    "duration": 27,
    "start_time": "2023-01-28T00:04:18.748Z"
   },
   {
    "duration": 18,
    "start_time": "2023-01-28T00:04:18.777Z"
   },
   {
    "duration": 25,
    "start_time": "2023-01-28T00:04:18.797Z"
   },
   {
    "duration": 59,
    "start_time": "2023-01-28T00:04:18.824Z"
   },
   {
    "duration": 168148,
    "start_time": "2023-01-28T00:04:18.884Z"
   },
   {
    "duration": 1542,
    "start_time": "2023-01-28T00:07:07.034Z"
   },
   {
    "duration": 3450,
    "start_time": "2023-01-28T00:07:08.586Z"
   },
   {
    "duration": 2,
    "start_time": "2023-01-28T00:07:12.038Z"
   },
   {
    "duration": 61,
    "start_time": "2023-01-28T00:07:12.042Z"
   },
   {
    "duration": 86,
    "start_time": "2023-01-28T00:07:12.105Z"
   },
   {
    "duration": 34,
    "start_time": "2023-01-28T00:07:12.192Z"
   },
   {
    "duration": 16,
    "start_time": "2023-01-28T00:07:12.228Z"
   },
   {
    "duration": 60,
    "start_time": "2023-01-28T00:07:12.246Z"
   },
   {
    "duration": 29,
    "start_time": "2023-01-28T00:07:12.307Z"
   },
   {
    "duration": 38,
    "start_time": "2023-01-28T00:07:12.338Z"
   },
   {
    "duration": 34,
    "start_time": "2023-01-28T00:07:12.380Z"
   },
   {
    "duration": 2740,
    "start_time": "2023-01-28T00:07:12.417Z"
   },
   {
    "duration": 6,
    "start_time": "2023-01-28T00:08:18.596Z"
   },
   {
    "duration": 119,
    "start_time": "2023-01-28T00:08:28.185Z"
   },
   {
    "duration": 6,
    "start_time": "2023-01-28T00:08:41.378Z"
   },
   {
    "duration": 10,
    "start_time": "2023-01-28T00:09:40.048Z"
   },
   {
    "duration": 6,
    "start_time": "2023-01-28T00:09:46.113Z"
   },
   {
    "duration": 5,
    "start_time": "2023-01-28T00:10:34.342Z"
   },
   {
    "duration": 5,
    "start_time": "2023-01-28T00:10:34.789Z"
   },
   {
    "duration": 3,
    "start_time": "2023-01-28T00:13:29.630Z"
   },
   {
    "duration": 3,
    "start_time": "2023-01-28T00:13:35.628Z"
   },
   {
    "duration": 18,
    "start_time": "2023-01-28T00:13:36.777Z"
   },
   {
    "duration": 2,
    "start_time": "2023-01-28T00:14:29.181Z"
   },
   {
    "duration": 20,
    "start_time": "2023-01-28T00:14:31.583Z"
   },
   {
    "duration": 3,
    "start_time": "2023-01-28T00:14:41.024Z"
   },
   {
    "duration": 3,
    "start_time": "2023-01-28T00:14:42.994Z"
   },
   {
    "duration": 23,
    "start_time": "2023-01-28T00:14:43.502Z"
   },
   {
    "duration": 6,
    "start_time": "2023-01-28T00:15:10.687Z"
   },
   {
    "duration": 3,
    "start_time": "2023-01-28T00:15:13.119Z"
   },
   {
    "duration": 4,
    "start_time": "2023-01-28T00:15:13.739Z"
   },
   {
    "duration": 3,
    "start_time": "2023-01-28T00:15:15.537Z"
   },
   {
    "duration": 9,
    "start_time": "2023-01-28T00:15:17.806Z"
   },
   {
    "duration": 15,
    "start_time": "2023-01-28T00:17:15.569Z"
   },
   {
    "duration": 3756,
    "start_time": "2023-01-28T00:18:17.537Z"
   },
   {
    "duration": 3822,
    "start_time": "2023-01-28T00:19:09.922Z"
   },
   {
    "duration": 2,
    "start_time": "2023-01-28T00:28:06.526Z"
   },
   {
    "duration": 7,
    "start_time": "2023-01-28T00:28:09.067Z"
   },
   {
    "duration": 2326,
    "start_time": "2023-01-28T00:28:14.235Z"
   },
   {
    "duration": 1433,
    "start_time": "2023-01-28T00:28:16.565Z"
   },
   {
    "duration": 185,
    "start_time": "2023-01-28T00:28:18.000Z"
   },
   {
    "duration": 185,
    "start_time": "2023-01-28T00:28:18.187Z"
   },
   {
    "duration": 205,
    "start_time": "2023-01-28T00:28:18.374Z"
   },
   {
    "duration": 7,
    "start_time": "2023-01-28T00:28:18.582Z"
   },
   {
    "duration": 67,
    "start_time": "2023-01-28T00:28:18.591Z"
   },
   {
    "duration": 118,
    "start_time": "2023-01-28T00:28:18.660Z"
   },
   {
    "duration": 100,
    "start_time": "2023-01-28T00:28:18.779Z"
   },
   {
    "duration": 111,
    "start_time": "2023-01-28T00:28:18.882Z"
   },
   {
    "duration": 90,
    "start_time": "2023-01-28T00:28:18.995Z"
   },
   {
    "duration": 38,
    "start_time": "2023-01-28T00:28:19.087Z"
   },
   {
    "duration": 60,
    "start_time": "2023-01-28T00:28:19.127Z"
   },
   {
    "duration": 2229,
    "start_time": "2023-01-28T00:28:19.189Z"
   },
   {
    "duration": 338,
    "start_time": "2023-01-28T00:28:21.420Z"
   },
   {
    "duration": 22,
    "start_time": "2023-01-28T00:28:21.760Z"
   },
   {
    "duration": 24,
    "start_time": "2023-01-28T00:28:21.784Z"
   },
   {
    "duration": 32,
    "start_time": "2023-01-28T00:28:21.810Z"
   },
   {
    "duration": 65,
    "start_time": "2023-01-28T00:28:21.844Z"
   },
   {
    "duration": 17,
    "start_time": "2023-01-28T00:28:21.910Z"
   },
   {
    "duration": 41,
    "start_time": "2023-01-28T00:28:21.929Z"
   },
   {
    "duration": 25,
    "start_time": "2023-01-28T00:28:21.974Z"
   },
   {
    "duration": 49,
    "start_time": "2023-01-28T00:28:22.001Z"
   },
   {
    "duration": 65,
    "start_time": "2023-01-28T00:28:22.052Z"
   },
   {
    "duration": 20,
    "start_time": "2023-01-28T00:28:22.119Z"
   },
   {
    "duration": 156881,
    "start_time": "2023-01-28T00:28:22.141Z"
   },
   {
    "duration": 1838,
    "start_time": "2023-01-28T00:30:59.023Z"
   },
   {
    "duration": 3029,
    "start_time": "2023-01-28T00:31:00.870Z"
   },
   {
    "duration": 3,
    "start_time": "2023-01-28T00:31:03.901Z"
   },
   {
    "duration": 7,
    "start_time": "2023-01-28T00:31:03.905Z"
   },
   {
    "duration": 6,
    "start_time": "2023-01-28T00:31:03.913Z"
   },
   {
    "duration": 6,
    "start_time": "2023-01-28T00:31:03.921Z"
   },
   {
    "duration": 4,
    "start_time": "2023-01-28T00:31:03.928Z"
   },
   {
    "duration": 29,
    "start_time": "2023-01-28T00:31:03.933Z"
   },
   {
    "duration": 16,
    "start_time": "2023-01-28T00:31:03.969Z"
   },
   {
    "duration": 46,
    "start_time": "2023-01-28T00:31:03.987Z"
   },
   {
    "duration": 69,
    "start_time": "2023-01-28T00:31:04.034Z"
   },
   {
    "duration": 4017,
    "start_time": "2023-01-28T00:31:04.105Z"
   },
   {
    "duration": 2877,
    "start_time": "2023-01-28T16:03:22.011Z"
   },
   {
    "duration": 1810,
    "start_time": "2023-01-28T16:03:24.892Z"
   },
   {
    "duration": 673,
    "start_time": "2023-01-28T16:03:26.704Z"
   },
   {
    "duration": 267,
    "start_time": "2023-01-28T16:03:27.380Z"
   },
   {
    "duration": 310,
    "start_time": "2023-01-28T16:03:27.654Z"
   },
   {
    "duration": 2,
    "start_time": "2023-01-28T16:03:27.966Z"
   },
   {
    "duration": 29,
    "start_time": "2023-01-28T16:03:27.970Z"
   },
   {
    "duration": 83,
    "start_time": "2023-01-28T16:03:28.001Z"
   },
   {
    "duration": 70,
    "start_time": "2023-01-28T16:03:28.086Z"
   },
   {
    "duration": 114,
    "start_time": "2023-01-28T16:03:28.160Z"
   },
   {
    "duration": 135,
    "start_time": "2023-01-28T16:03:28.276Z"
   },
   {
    "duration": 70,
    "start_time": "2023-01-28T16:03:28.414Z"
   },
   {
    "duration": 2,
    "start_time": "2023-01-28T16:03:28.486Z"
   },
   {
    "duration": 2320,
    "start_time": "2023-01-28T16:03:28.490Z"
   },
   {
    "duration": 434,
    "start_time": "2023-01-28T16:03:30.811Z"
   },
   {
    "duration": 30,
    "start_time": "2023-01-28T16:03:31.247Z"
   },
   {
    "duration": 64,
    "start_time": "2023-01-28T16:03:31.279Z"
   },
   {
    "duration": 42,
    "start_time": "2023-01-28T16:03:31.345Z"
   },
   {
    "duration": 46,
    "start_time": "2023-01-28T16:03:31.389Z"
   },
   {
    "duration": 36,
    "start_time": "2023-01-28T16:03:31.436Z"
   },
   {
    "duration": 31,
    "start_time": "2023-01-28T16:03:31.474Z"
   },
   {
    "duration": 10,
    "start_time": "2023-01-28T16:03:31.507Z"
   },
   {
    "duration": 47,
    "start_time": "2023-01-28T16:03:31.519Z"
   },
   {
    "duration": 52,
    "start_time": "2023-01-28T16:03:31.568Z"
   },
   {
    "duration": 25,
    "start_time": "2023-01-28T16:03:31.623Z"
   },
   {
    "duration": 121129,
    "start_time": "2023-01-28T16:03:31.649Z"
   },
   {
    "duration": 1665,
    "start_time": "2023-01-28T16:05:32.779Z"
   },
   {
    "duration": 2887,
    "start_time": "2023-01-28T16:05:34.448Z"
   },
   {
    "duration": 2,
    "start_time": "2023-01-28T16:05:37.340Z"
   },
   {
    "duration": 28,
    "start_time": "2023-01-28T16:05:37.345Z"
   },
   {
    "duration": 10,
    "start_time": "2023-01-28T16:05:37.375Z"
   },
   {
    "duration": 7,
    "start_time": "2023-01-28T16:05:37.387Z"
   },
   {
    "duration": 4,
    "start_time": "2023-01-28T16:05:37.396Z"
   },
   {
    "duration": 9,
    "start_time": "2023-01-28T16:05:37.401Z"
   },
   {
    "duration": 6,
    "start_time": "2023-01-28T16:05:37.412Z"
   },
   {
    "duration": 7,
    "start_time": "2023-01-28T16:05:37.420Z"
   },
   {
    "duration": 30,
    "start_time": "2023-01-28T16:05:37.429Z"
   },
   {
    "duration": 4353,
    "start_time": "2023-01-28T16:05:37.466Z"
   },
   {
    "duration": 20,
    "start_time": "2023-01-28T18:09:45.471Z"
   },
   {
    "duration": 184,
    "start_time": "2023-01-28T18:09:45.494Z"
   },
   {
    "duration": 0,
    "start_time": "2023-01-28T18:09:45.680Z"
   },
   {
    "duration": 0,
    "start_time": "2023-01-28T18:09:45.684Z"
   },
   {
    "duration": 3796,
    "start_time": "2023-01-28T18:10:02.897Z"
   },
   {
    "duration": 2655,
    "start_time": "2023-01-28T18:10:06.697Z"
   },
   {
    "duration": 1875,
    "start_time": "2023-01-28T18:10:09.368Z"
   },
   {
    "duration": 710,
    "start_time": "2023-01-28T18:10:11.245Z"
   },
   {
    "duration": 681,
    "start_time": "2023-01-28T18:10:11.965Z"
   },
   {
    "duration": 6,
    "start_time": "2023-01-28T18:10:12.657Z"
   },
   {
    "duration": 66,
    "start_time": "2023-01-28T18:10:12.677Z"
   },
   {
    "duration": 102,
    "start_time": "2023-01-28T18:10:12.747Z"
   },
   {
    "duration": 57,
    "start_time": "2023-01-28T18:10:12.850Z"
   },
   {
    "duration": 171,
    "start_time": "2023-01-28T18:10:12.910Z"
   },
   {
    "duration": 113,
    "start_time": "2023-01-28T18:10:13.086Z"
   },
   {
    "duration": 76,
    "start_time": "2023-01-28T18:10:13.209Z"
   },
   {
    "duration": 23,
    "start_time": "2023-01-28T18:10:13.291Z"
   },
   {
    "duration": 2677,
    "start_time": "2023-01-28T18:10:13.320Z"
   },
   {
    "duration": 603,
    "start_time": "2023-01-28T18:10:16.002Z"
   },
   {
    "duration": 36,
    "start_time": "2023-01-28T18:10:16.607Z"
   },
   {
    "duration": 139,
    "start_time": "2023-01-28T18:10:16.646Z"
   },
   {
    "duration": 13,
    "start_time": "2023-01-28T18:10:16.789Z"
   },
   {
    "duration": 99,
    "start_time": "2023-01-28T18:10:16.804Z"
   },
   {
    "duration": 110,
    "start_time": "2023-01-28T18:10:16.905Z"
   },
   {
    "duration": 66,
    "start_time": "2023-01-28T18:10:17.035Z"
   },
   {
    "duration": 65,
    "start_time": "2023-01-28T18:10:17.107Z"
   },
   {
    "duration": 51,
    "start_time": "2023-01-28T18:10:17.184Z"
   },
   {
    "duration": 147,
    "start_time": "2023-01-28T18:10:17.244Z"
   },
   {
    "duration": 8,
    "start_time": "2023-01-28T18:10:17.407Z"
   },
   {
    "duration": 341188,
    "start_time": "2023-01-28T18:10:17.416Z"
   },
   {
    "duration": 1920,
    "start_time": "2023-01-28T18:15:58.606Z"
   },
   {
    "duration": 5450,
    "start_time": "2023-01-28T18:16:00.540Z"
   },
   {
    "duration": 3,
    "start_time": "2023-01-28T18:16:05.992Z"
   },
   {
    "duration": 5,
    "start_time": "2023-01-28T18:16:05.997Z"
   },
   {
    "duration": 88,
    "start_time": "2023-01-28T18:16:06.003Z"
   },
   {
    "duration": 8,
    "start_time": "2023-01-28T18:16:06.093Z"
   },
   {
    "duration": 3,
    "start_time": "2023-01-28T18:16:06.103Z"
   },
   {
    "duration": 85,
    "start_time": "2023-01-28T18:16:06.108Z"
   },
   {
    "duration": 5,
    "start_time": "2023-01-28T18:16:06.196Z"
   },
   {
    "duration": 4,
    "start_time": "2023-01-28T18:16:06.203Z"
   },
   {
    "duration": 82,
    "start_time": "2023-01-28T18:16:06.209Z"
   },
   {
    "duration": 12,
    "start_time": "2023-01-28T18:16:06.292Z"
   },
   {
    "duration": 4188,
    "start_time": "2023-01-28T18:16:06.306Z"
   },
   {
    "duration": 13471,
    "start_time": "2023-01-28T18:44:57.428Z"
   },
   {
    "duration": 14183,
    "start_time": "2023-01-28T18:45:44.240Z"
   },
   {
    "duration": 4785,
    "start_time": "2023-01-28T18:49:03.026Z"
   },
   {
    "duration": 0,
    "start_time": "2023-01-28T18:51:09.768Z"
   },
   {
    "duration": 2038,
    "start_time": "2023-01-28T18:51:12.269Z"
   },
   {
    "duration": 5757,
    "start_time": "2023-01-28T18:51:40.141Z"
   },
   {
    "duration": 11,
    "start_time": "2023-01-28T18:53:36.032Z"
   },
   {
    "duration": 32,
    "start_time": "2023-01-28T18:53:43.143Z"
   },
   {
    "duration": 13851,
    "start_time": "2023-01-28T18:56:41.328Z"
   },
   {
    "duration": 9,
    "start_time": "2023-01-28T18:57:15.166Z"
   },
   {
    "duration": 5259,
    "start_time": "2023-01-28T18:57:21.008Z"
   },
   {
    "duration": 7195,
    "start_time": "2023-01-28T18:58:18.160Z"
   },
   {
    "duration": 5347,
    "start_time": "2023-01-28T18:59:28.123Z"
   },
   {
    "duration": 4922,
    "start_time": "2023-01-28T18:59:46.773Z"
   },
   {
    "duration": 54,
    "start_time": "2023-01-28T21:29:48.642Z"
   },
   {
    "duration": 2597,
    "start_time": "2023-01-28T21:29:55.352Z"
   },
   {
    "duration": 1776,
    "start_time": "2023-01-28T21:29:57.952Z"
   },
   {
    "duration": 569,
    "start_time": "2023-01-28T21:29:59.730Z"
   },
   {
    "duration": 247,
    "start_time": "2023-01-28T21:30:00.301Z"
   },
   {
    "duration": 243,
    "start_time": "2023-01-28T21:30:00.550Z"
   },
   {
    "duration": 3,
    "start_time": "2023-01-28T21:30:00.796Z"
   },
   {
    "duration": 53,
    "start_time": "2023-01-28T21:30:00.800Z"
   },
   {
    "duration": 82,
    "start_time": "2023-01-28T21:30:00.854Z"
   },
   {
    "duration": 45,
    "start_time": "2023-01-28T21:30:00.937Z"
   },
   {
    "duration": 87,
    "start_time": "2023-01-28T21:30:00.985Z"
   },
   {
    "duration": 99,
    "start_time": "2023-01-28T21:30:01.073Z"
   },
   {
    "duration": 43,
    "start_time": "2023-01-28T21:30:01.174Z"
   },
   {
    "duration": 3,
    "start_time": "2023-01-28T21:30:01.241Z"
   },
   {
    "duration": 2046,
    "start_time": "2023-01-28T21:30:01.246Z"
   },
   {
    "duration": 346,
    "start_time": "2023-01-28T21:30:03.294Z"
   },
   {
    "duration": 20,
    "start_time": "2023-01-28T21:30:03.642Z"
   },
   {
    "duration": 16,
    "start_time": "2023-01-28T21:30:03.664Z"
   },
   {
    "duration": 27,
    "start_time": "2023-01-28T21:30:03.682Z"
   },
   {
    "duration": 46,
    "start_time": "2023-01-28T21:30:03.711Z"
   },
   {
    "duration": 16,
    "start_time": "2023-01-28T21:30:03.759Z"
   },
   {
    "duration": 35,
    "start_time": "2023-01-28T21:30:03.777Z"
   },
   {
    "duration": 7,
    "start_time": "2023-01-28T21:30:03.814Z"
   },
   {
    "duration": 20,
    "start_time": "2023-01-28T21:30:03.822Z"
   },
   {
    "duration": 17,
    "start_time": "2023-01-28T21:30:03.843Z"
   },
   {
    "duration": 30,
    "start_time": "2023-01-28T21:30:03.863Z"
   },
   {
    "duration": 124437,
    "start_time": "2023-01-28T21:30:03.895Z"
   },
   {
    "duration": 2710,
    "start_time": "2023-01-28T21:32:08.334Z"
   },
   {
    "duration": 2927,
    "start_time": "2023-01-28T21:32:11.049Z"
   },
   {
    "duration": 3,
    "start_time": "2023-01-28T21:32:13.978Z"
   },
   {
    "duration": 10,
    "start_time": "2023-01-28T21:32:13.983Z"
   },
   {
    "duration": 17,
    "start_time": "2023-01-28T21:32:13.994Z"
   },
   {
    "duration": 17,
    "start_time": "2023-01-28T21:32:14.013Z"
   },
   {
    "duration": 4,
    "start_time": "2023-01-28T21:32:14.032Z"
   },
   {
    "duration": 9,
    "start_time": "2023-01-28T21:32:14.038Z"
   },
   {
    "duration": 7,
    "start_time": "2023-01-28T21:32:14.049Z"
   },
   {
    "duration": 16,
    "start_time": "2023-01-28T21:32:14.058Z"
   },
   {
    "duration": 34,
    "start_time": "2023-01-28T21:32:14.076Z"
   },
   {
    "duration": 3987,
    "start_time": "2023-01-28T21:32:14.111Z"
   },
   {
    "duration": 2788,
    "start_time": "2023-01-29T06:50:31.666Z"
   },
   {
    "duration": 1670,
    "start_time": "2023-01-29T06:50:34.456Z"
   },
   {
    "duration": 603,
    "start_time": "2023-01-29T06:50:36.128Z"
   },
   {
    "duration": 272,
    "start_time": "2023-01-29T06:50:36.734Z"
   },
   {
    "duration": 249,
    "start_time": "2023-01-29T06:50:37.008Z"
   },
   {
    "duration": 3,
    "start_time": "2023-01-29T06:50:37.258Z"
   },
   {
    "duration": 11,
    "start_time": "2023-01-29T06:50:37.263Z"
   },
   {
    "duration": 51,
    "start_time": "2023-01-29T06:50:37.275Z"
   },
   {
    "duration": 66,
    "start_time": "2023-01-29T06:50:37.328Z"
   },
   {
    "duration": 72,
    "start_time": "2023-01-29T06:50:37.398Z"
   },
   {
    "duration": 93,
    "start_time": "2023-01-29T06:50:37.471Z"
   },
   {
    "duration": 64,
    "start_time": "2023-01-29T06:50:37.566Z"
   },
   {
    "duration": 3,
    "start_time": "2023-01-29T06:50:37.632Z"
   },
   {
    "duration": 2199,
    "start_time": "2023-01-29T06:50:37.636Z"
   },
   {
    "duration": 387,
    "start_time": "2023-01-29T06:50:39.838Z"
   },
   {
    "duration": 20,
    "start_time": "2023-01-29T06:50:40.226Z"
   },
   {
    "duration": 14,
    "start_time": "2023-01-29T06:50:40.247Z"
   },
   {
    "duration": 5,
    "start_time": "2023-01-29T06:50:40.263Z"
   },
   {
    "duration": 19,
    "start_time": "2023-01-29T06:50:40.289Z"
   },
   {
    "duration": 16,
    "start_time": "2023-01-29T06:50:40.310Z"
   },
   {
    "duration": 16,
    "start_time": "2023-01-29T06:50:40.328Z"
   },
   {
    "duration": 4,
    "start_time": "2023-01-29T06:50:40.346Z"
   },
   {
    "duration": 5,
    "start_time": "2023-01-29T06:50:40.352Z"
   },
   {
    "duration": 16,
    "start_time": "2023-01-29T06:50:40.383Z"
   },
   {
    "duration": 8,
    "start_time": "2023-01-29T06:50:40.401Z"
   },
   {
    "duration": 199947,
    "start_time": "2023-01-29T06:50:40.411Z"
   },
   {
    "duration": 2436,
    "start_time": "2023-01-29T06:54:00.360Z"
   },
   {
    "duration": 2624,
    "start_time": "2023-01-29T06:54:02.887Z"
   },
   {
    "duration": 3,
    "start_time": "2023-01-29T06:54:05.513Z"
   },
   {
    "duration": 11,
    "start_time": "2023-01-29T06:54:05.517Z"
   },
   {
    "duration": 38,
    "start_time": "2023-01-29T06:54:05.530Z"
   },
   {
    "duration": 8,
    "start_time": "2023-01-29T06:54:05.570Z"
   },
   {
    "duration": 10,
    "start_time": "2023-01-29T06:54:05.580Z"
   },
   {
    "duration": 13,
    "start_time": "2023-01-29T06:54:05.592Z"
   },
   {
    "duration": 27,
    "start_time": "2023-01-29T06:54:05.607Z"
   },
   {
    "duration": 19,
    "start_time": "2023-01-29T06:54:05.637Z"
   },
   {
    "duration": 16,
    "start_time": "2023-01-29T06:54:05.659Z"
   },
   {
    "duration": 4172,
    "start_time": "2023-01-29T06:54:05.678Z"
   },
   {
    "duration": 3999,
    "start_time": "2023-01-29T06:54:41.429Z"
   },
   {
    "duration": 4129,
    "start_time": "2023-01-29T06:54:51.367Z"
   },
   {
    "duration": 3999,
    "start_time": "2023-01-29T06:55:26.812Z"
   },
   {
    "duration": 3941,
    "start_time": "2023-01-29T06:56:32.665Z"
   },
   {
    "duration": 4333,
    "start_time": "2023-01-29T06:56:49.380Z"
   },
   {
    "duration": 4084,
    "start_time": "2023-01-29T06:57:03.981Z"
   },
   {
    "duration": 4180,
    "start_time": "2023-01-29T06:57:10.332Z"
   },
   {
    "duration": 4103,
    "start_time": "2023-01-29T06:59:38.620Z"
   },
   {
    "duration": 2291,
    "start_time": "2023-01-29T07:02:26.484Z"
   },
   {
    "duration": 1600,
    "start_time": "2023-01-29T07:02:28.777Z"
   },
   {
    "duration": 180,
    "start_time": "2023-01-29T07:02:30.379Z"
   },
   {
    "duration": 164,
    "start_time": "2023-01-29T07:02:30.561Z"
   },
   {
    "duration": 167,
    "start_time": "2023-01-29T07:02:30.727Z"
   },
   {
    "duration": 3,
    "start_time": "2023-01-29T07:02:30.896Z"
   },
   {
    "duration": 46,
    "start_time": "2023-01-29T07:02:30.901Z"
   },
   {
    "duration": 61,
    "start_time": "2023-01-29T07:02:30.949Z"
   },
   {
    "duration": 33,
    "start_time": "2023-01-29T07:02:31.012Z"
   },
   {
    "duration": 100,
    "start_time": "2023-01-29T07:02:31.049Z"
   },
   {
    "duration": 89,
    "start_time": "2023-01-29T07:02:31.151Z"
   },
   {
    "duration": 77,
    "start_time": "2023-01-29T07:02:31.242Z"
   },
   {
    "duration": 3,
    "start_time": "2023-01-29T07:02:31.321Z"
   },
   {
    "duration": 2119,
    "start_time": "2023-01-29T07:02:31.325Z"
   },
   {
    "duration": 375,
    "start_time": "2023-01-29T07:02:33.446Z"
   },
   {
    "duration": 20,
    "start_time": "2023-01-29T07:02:33.823Z"
   },
   {
    "duration": 15,
    "start_time": "2023-01-29T07:02:33.845Z"
   },
   {
    "duration": 11,
    "start_time": "2023-01-29T07:02:33.862Z"
   },
   {
    "duration": 19,
    "start_time": "2023-01-29T07:02:33.883Z"
   },
   {
    "duration": 21,
    "start_time": "2023-01-29T07:02:33.904Z"
   },
   {
    "duration": 20,
    "start_time": "2023-01-29T07:02:33.928Z"
   },
   {
    "duration": 4,
    "start_time": "2023-01-29T07:02:33.950Z"
   },
   {
    "duration": 4,
    "start_time": "2023-01-29T07:02:33.983Z"
   },
   {
    "duration": 13,
    "start_time": "2023-01-29T07:02:33.990Z"
   },
   {
    "duration": 5,
    "start_time": "2023-01-29T07:02:34.005Z"
   },
   {
    "duration": 151536,
    "start_time": "2023-01-29T07:02:34.012Z"
   },
   {
    "duration": 2238,
    "start_time": "2023-01-29T07:05:05.550Z"
   },
   {
    "duration": 3108,
    "start_time": "2023-01-29T07:05:07.792Z"
   },
   {
    "duration": 2,
    "start_time": "2023-01-29T07:05:10.902Z"
   },
   {
    "duration": 15,
    "start_time": "2023-01-29T07:05:10.906Z"
   },
   {
    "duration": 24,
    "start_time": "2023-01-29T07:05:10.923Z"
   },
   {
    "duration": 19,
    "start_time": "2023-01-29T07:05:10.949Z"
   },
   {
    "duration": 6,
    "start_time": "2023-01-29T07:05:10.971Z"
   },
   {
    "duration": 20,
    "start_time": "2023-01-29T07:05:10.979Z"
   },
   {
    "duration": 22,
    "start_time": "2023-01-29T07:05:11.002Z"
   },
   {
    "duration": 19,
    "start_time": "2023-01-29T07:05:11.027Z"
   },
   {
    "duration": 16,
    "start_time": "2023-01-29T07:05:11.048Z"
   },
   {
    "duration": 4203,
    "start_time": "2023-01-29T07:05:11.066Z"
   },
   {
    "duration": 2337,
    "start_time": "2023-01-29T21:07:27.077Z"
   },
   {
    "duration": 1867,
    "start_time": "2023-01-29T21:07:29.416Z"
   },
   {
    "duration": 1203,
    "start_time": "2023-01-29T21:07:31.285Z"
   },
   {
    "duration": 279,
    "start_time": "2023-01-29T21:07:32.490Z"
   },
   {
    "duration": 255,
    "start_time": "2023-01-29T21:07:32.770Z"
   },
   {
    "duration": 3,
    "start_time": "2023-01-29T21:07:33.027Z"
   },
   {
    "duration": 13,
    "start_time": "2023-01-29T21:07:33.031Z"
   },
   {
    "duration": 36,
    "start_time": "2023-01-29T21:07:33.046Z"
   },
   {
    "duration": 40,
    "start_time": "2023-01-29T21:07:33.084Z"
   },
   {
    "duration": 80,
    "start_time": "2023-01-29T21:07:33.127Z"
   },
   {
    "duration": 94,
    "start_time": "2023-01-29T21:07:33.213Z"
   },
   {
    "duration": 37,
    "start_time": "2023-01-29T21:07:33.314Z"
   },
   {
    "duration": 2,
    "start_time": "2023-01-29T21:07:33.352Z"
   },
   {
    "duration": 1965,
    "start_time": "2023-01-29T21:07:33.356Z"
   },
   {
    "duration": 311,
    "start_time": "2023-01-29T21:07:35.323Z"
   },
   {
    "duration": 20,
    "start_time": "2023-01-29T21:07:35.636Z"
   },
   {
    "duration": 27,
    "start_time": "2023-01-29T21:07:35.658Z"
   },
   {
    "duration": 33,
    "start_time": "2023-01-29T21:07:35.687Z"
   },
   {
    "duration": 38,
    "start_time": "2023-01-29T21:07:35.722Z"
   },
   {
    "duration": 53,
    "start_time": "2023-01-29T21:07:35.762Z"
   },
   {
    "duration": 16,
    "start_time": "2023-01-29T21:07:35.817Z"
   },
   {
    "duration": 6,
    "start_time": "2023-01-29T21:07:35.835Z"
   },
   {
    "duration": 26,
    "start_time": "2023-01-29T21:07:35.842Z"
   },
   {
    "duration": 49,
    "start_time": "2023-01-29T21:07:35.869Z"
   },
   {
    "duration": 21,
    "start_time": "2023-01-29T21:07:35.919Z"
   },
   {
    "duration": 137657,
    "start_time": "2023-01-29T21:07:35.941Z"
   },
   {
    "duration": 1805,
    "start_time": "2023-01-29T21:09:53.600Z"
   },
   {
    "duration": 2876,
    "start_time": "2023-01-29T21:09:55.414Z"
   },
   {
    "duration": 2,
    "start_time": "2023-01-29T21:09:58.292Z"
   },
   {
    "duration": 27,
    "start_time": "2023-01-29T21:09:58.296Z"
   },
   {
    "duration": 16,
    "start_time": "2023-01-29T21:09:58.325Z"
   },
   {
    "duration": 11,
    "start_time": "2023-01-29T21:09:58.343Z"
   },
   {
    "duration": 7,
    "start_time": "2023-01-29T21:09:58.356Z"
   },
   {
    "duration": 7,
    "start_time": "2023-01-29T21:09:58.365Z"
   },
   {
    "duration": 5,
    "start_time": "2023-01-29T21:09:58.373Z"
   },
   {
    "duration": 5,
    "start_time": "2023-01-29T21:09:58.380Z"
   },
   {
    "duration": 45,
    "start_time": "2023-01-29T21:09:58.387Z"
   },
   {
    "duration": 4127,
    "start_time": "2023-01-29T21:09:58.434Z"
   }
  ],
  "kernelspec": {
   "display_name": "Python 3 (ipykernel)",
   "language": "python",
   "name": "python3"
  },
  "language_info": {
   "codemirror_mode": {
    "name": "ipython",
    "version": 3
   },
   "file_extension": ".py",
   "mimetype": "text/x-python",
   "name": "python",
   "nbconvert_exporter": "python",
   "pygments_lexer": "ipython3",
   "version": "3.9.13"
  },
  "toc": {
   "base_numbering": 1,
   "nav_menu": {},
   "number_sections": true,
   "sideBar": true,
   "skip_h1_title": true,
   "title_cell": "Table of Contents",
   "title_sidebar": "Contents",
   "toc_cell": false,
   "toc_position": {},
   "toc_section_display": true,
   "toc_window_display": false
  }
 },
 "nbformat": 4,
 "nbformat_minor": 5
}
