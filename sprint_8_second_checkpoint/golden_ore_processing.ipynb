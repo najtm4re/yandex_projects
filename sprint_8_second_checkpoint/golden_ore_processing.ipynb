{
 "cells": [
  {
   "attachments": {},
   "cell_type": "markdown",
   "id": "204837da-4c2c-4ce2-8e49-d6e4abf8c1ba",
   "metadata": {},
   "source": [
    "# Прогнозирование коэффициента восстановления золота\n",
    "\n",
    "**Описание исследования**  \n",
    "\n",
    "Необходимо подготовить прототип модели машинного обучения для компании «Цифра», которая разрабатывает решения для эффективной работы промышленных предприятий.\n",
    "Модель должна предсказать коэффициент восстановления золота из золотосодержащей руды. Модель поможет оптимизировать производство, чтобы не запускать предприятие с убыточными характеристиками.\n",
    "\n",
    "**Цель исследования**\n",
    "- Создать модель, способную предсказать коэффициент восстановления золота из золотосодержащей руды\n",
    "\n",
    "**Ход исследования**\n",
    "- Обзор и предобработка данных\n",
    "- Построение модели\n",
    "- Проверка на тестовой выборке\n",
    "- Общий вывод\n",
    "\n",
    "**Описание процесса восстановления золота**\n",
    "\n",
    "\n",
    "Когда добытая руда проходит первичную обработку, получается дроблёная смесь. Её отправляют на флотацию (обогащение) и двухэтапную очистку.  \n",
    "\n",
    "<p align=\"center\">\n",
    "    <img src=\"https://i.ibb.co/0VGwfVb/image.png\"> \n",
    "\n",
    "1. Флотация  \n",
    "Во флотационную установку подаётся смесь золотосодержащей руды. После обогащения получается черновой концентрат и «отвальные хвосты», то есть остатки продукта с низкой концентрацией ценных металлов.\n",
    "На стабильность этого процесса влияет непостоянное и неоптимальное физико-химическое состояние флотационной пульпы (смеси твёрдых частиц и жидкости).\n",
    "2. Очистка   \n",
    "Черновой концентрат проходит две очистки. На выходе получается финальный концентрат и новые отвальные хвосты."
   ]
  },
  {
   "attachments": {},
   "cell_type": "markdown",
   "id": "06947f7b-2126-4f1f-9247-19d5dfbb06cc",
   "metadata": {},
   "source": [
    "## Импорт библиотек и загрузка данных"
   ]
  },
  {
   "cell_type": "code",
   "execution_count": 97,
   "id": "d7a6f0ba-e9cf-42dd-8ef1-dd8446e49314",
   "metadata": {
    "tags": []
   },
   "outputs": [],
   "source": [
    "import pandas as pd\n",
    "import numpy as np\n",
    "import matplotlib.pyplot as plt\n",
    "import seaborn as sns\n",
    "import re\n",
    "import six\n",
    "\n",
    "\n",
    "from sklearn.dummy import DummyRegressor\n",
    "from sklearn.svm import SVR\n",
    "from sklearn.pipeline import Pipeline\n",
    "\n",
    "\n",
    "from sklearn.model_selection import train_test_split, RandomizedSearchCV\n",
    "from sklearn.metrics import mean_squared_error, make_scorer, mean_absolute_error\n",
    "from scipy.stats import uniform, randint\n",
    "from sklearn.multioutput import MultiOutputRegressor\n",
    "from sklearn.preprocessing import StandardScaler\n",
    "from sklearn.impute import KNNImputer\n",
    "\n",
    "from numpy.random import RandomState\n",
    "from scipy import stats as st"
   ]
  },
  {
   "cell_type": "code",
   "execution_count": 98,
   "id": "5e76069b-8c1b-41b4-bed4-1dd1cd96a037",
   "metadata": {},
   "outputs": [],
   "source": [
    "try:\n",
    "    df_full = pd.read_csv(\n",
    "        r\"C:\\workspace\\yandex_cources\\full_history\\sprint_8_second_checkpoint\\data\\gold_recovery_full_new.csv\"\n",
    "    )\n",
    "except:\n",
    "    df_full = pd.read_csv(r\"/datasets/gold_recovery_full_new.csv\")"
   ]
  },
  {
   "cell_type": "code",
   "execution_count": 99,
   "id": "a558c81d-2b5a-40d7-a1c6-4a31231091c8",
   "metadata": {},
   "outputs": [],
   "source": [
    "try:\n",
    "    df_train = pd.read_csv(\n",
    "        r\"C:\\workspace\\yandex_cources\\full_history\\sprint_8_second_checkpoint\\data\\gold_recovery_train_new.csv\"\n",
    "    )\n",
    "except:\n",
    "    df_train = pd.read_csv(r\"/datasets/gold_recovery_train_new.csv\")"
   ]
  },
  {
   "cell_type": "code",
   "execution_count": 100,
   "id": "ba468da5-160d-46e2-911f-a32190ee760c",
   "metadata": {},
   "outputs": [],
   "source": [
    "try:\n",
    "    df_test = pd.read_csv(\n",
    "        r\"C:\\workspace\\yandex_cources\\full_history\\sprint_8_second_checkpoint\\data\\gold_recovery_test_new.csv\"\n",
    "    )\n",
    "except:\n",
    "    df_test = pd.read_csv(r\"/datasets/gold_recovery_test_new.csv\")"
   ]
  },
  {
   "attachments": {},
   "cell_type": "markdown",
   "id": "74ca453d-5fb0-4de4-a9a1-616ecdedc57d",
   "metadata": {},
   "source": [
    "## **Обзор и предобработка данных**"
   ]
  },
  {
   "cell_type": "code",
   "execution_count": 101,
   "id": "58730f93-47d6-4a51-916e-742186d2fd2a",
   "metadata": {},
   "outputs": [
    {
     "name": "stdout",
     "output_type": "stream",
     "text": [
      "<class 'pandas.core.frame.DataFrame'>\n",
      "RangeIndex: 19439 entries, 0 to 19438\n",
      "Data columns (total 87 columns):\n",
      " #   Column                                              Non-Null Count  Dtype  \n",
      "---  ------                                              --------------  -----  \n",
      " 0   date                                                19439 non-null  object \n",
      " 1   final.output.concentrate_ag                         19438 non-null  float64\n",
      " 2   final.output.concentrate_pb                         19438 non-null  float64\n",
      " 3   final.output.concentrate_sol                        19228 non-null  float64\n",
      " 4   final.output.concentrate_au                         19439 non-null  float64\n",
      " 5   final.output.recovery                               19439 non-null  float64\n",
      " 6   final.output.tail_ag                                19438 non-null  float64\n",
      " 7   final.output.tail_pb                                19338 non-null  float64\n",
      " 8   final.output.tail_sol                               19433 non-null  float64\n",
      " 9   final.output.tail_au                                19439 non-null  float64\n",
      " 10  primary_cleaner.input.sulfate                       19415 non-null  float64\n",
      " 11  primary_cleaner.input.depressant                    19402 non-null  float64\n",
      " 12  primary_cleaner.input.feed_size                     19439 non-null  float64\n",
      " 13  primary_cleaner.input.xanthate                      19335 non-null  float64\n",
      " 14  primary_cleaner.output.concentrate_ag               19439 non-null  float64\n",
      " 15  primary_cleaner.output.concentrate_pb               19323 non-null  float64\n",
      " 16  primary_cleaner.output.concentrate_sol              19069 non-null  float64\n",
      " 17  primary_cleaner.output.concentrate_au               19439 non-null  float64\n",
      " 18  primary_cleaner.output.tail_ag                      19435 non-null  float64\n",
      " 19  primary_cleaner.output.tail_pb                      19418 non-null  float64\n",
      " 20  primary_cleaner.output.tail_sol                     19377 non-null  float64\n",
      " 21  primary_cleaner.output.tail_au                      19439 non-null  float64\n",
      " 22  primary_cleaner.state.floatbank8_a_air              19435 non-null  float64\n",
      " 23  primary_cleaner.state.floatbank8_a_level            19438 non-null  float64\n",
      " 24  primary_cleaner.state.floatbank8_b_air              19435 non-null  float64\n",
      " 25  primary_cleaner.state.floatbank8_b_level            19438 non-null  float64\n",
      " 26  primary_cleaner.state.floatbank8_c_air              19437 non-null  float64\n",
      " 27  primary_cleaner.state.floatbank8_c_level            19438 non-null  float64\n",
      " 28  primary_cleaner.state.floatbank8_d_air              19436 non-null  float64\n",
      " 29  primary_cleaner.state.floatbank8_d_level            19438 non-null  float64\n",
      " 30  rougher.calculation.sulfate_to_au_concentrate       19437 non-null  float64\n",
      " 31  rougher.calculation.floatbank10_sulfate_to_au_feed  19437 non-null  float64\n",
      " 32  rougher.calculation.floatbank11_sulfate_to_au_feed  19437 non-null  float64\n",
      " 33  rougher.calculation.au_pb_ratio                     19439 non-null  float64\n",
      " 34  rougher.input.feed_ag                               19439 non-null  float64\n",
      " 35  rougher.input.feed_pb                               19339 non-null  float64\n",
      " 36  rougher.input.feed_rate                             19428 non-null  float64\n",
      " 37  rougher.input.feed_size                             19294 non-null  float64\n",
      " 38  rougher.input.feed_sol                              19340 non-null  float64\n",
      " 39  rougher.input.feed_au                               19439 non-null  float64\n",
      " 40  rougher.input.floatbank10_sulfate                   19405 non-null  float64\n",
      " 41  rougher.input.floatbank10_xanthate                  19431 non-null  float64\n",
      " 42  rougher.input.floatbank11_sulfate                   19395 non-null  float64\n",
      " 43  rougher.input.floatbank11_xanthate                  18986 non-null  float64\n",
      " 44  rougher.output.concentrate_ag                       19439 non-null  float64\n",
      " 45  rougher.output.concentrate_pb                       19439 non-null  float64\n",
      " 46  rougher.output.concentrate_sol                      19416 non-null  float64\n",
      " 47  rougher.output.concentrate_au                       19439 non-null  float64\n",
      " 48  rougher.output.recovery                             19439 non-null  float64\n",
      " 49  rougher.output.tail_ag                              19438 non-null  float64\n",
      " 50  rougher.output.tail_pb                              19439 non-null  float64\n",
      " 51  rougher.output.tail_sol                             19439 non-null  float64\n",
      " 52  rougher.output.tail_au                              19439 non-null  float64\n",
      " 53  rougher.state.floatbank10_a_air                     19438 non-null  float64\n",
      " 54  rougher.state.floatbank10_a_level                   19438 non-null  float64\n",
      " 55  rougher.state.floatbank10_b_air                     19438 non-null  float64\n",
      " 56  rougher.state.floatbank10_b_level                   19438 non-null  float64\n",
      " 57  rougher.state.floatbank10_c_air                     19438 non-null  float64\n",
      " 58  rougher.state.floatbank10_c_level                   19438 non-null  float64\n",
      " 59  rougher.state.floatbank10_d_air                     19439 non-null  float64\n",
      " 60  rougher.state.floatbank10_d_level                   19439 non-null  float64\n",
      " 61  rougher.state.floatbank10_e_air                     19003 non-null  float64\n",
      " 62  rougher.state.floatbank10_e_level                   19439 non-null  float64\n",
      " 63  rougher.state.floatbank10_f_air                     19439 non-null  float64\n",
      " 64  rougher.state.floatbank10_f_level                   19439 non-null  float64\n",
      " 65  secondary_cleaner.output.tail_ag                    19437 non-null  float64\n",
      " 66  secondary_cleaner.output.tail_pb                    19427 non-null  float64\n",
      " 67  secondary_cleaner.output.tail_sol                   17691 non-null  float64\n",
      " 68  secondary_cleaner.output.tail_au                    19439 non-null  float64\n",
      " 69  secondary_cleaner.state.floatbank2_a_air            19219 non-null  float64\n",
      " 70  secondary_cleaner.state.floatbank2_a_level          19438 non-null  float64\n",
      " 71  secondary_cleaner.state.floatbank2_b_air            19416 non-null  float64\n",
      " 72  secondary_cleaner.state.floatbank2_b_level          19438 non-null  float64\n",
      " 73  secondary_cleaner.state.floatbank3_a_air            19426 non-null  float64\n",
      " 74  secondary_cleaner.state.floatbank3_a_level          19438 non-null  float64\n",
      " 75  secondary_cleaner.state.floatbank3_b_air            19438 non-null  float64\n",
      " 76  secondary_cleaner.state.floatbank3_b_level          19438 non-null  float64\n",
      " 77  secondary_cleaner.state.floatbank4_a_air            19433 non-null  float64\n",
      " 78  secondary_cleaner.state.floatbank4_a_level          19438 non-null  float64\n",
      " 79  secondary_cleaner.state.floatbank4_b_air            19438 non-null  float64\n",
      " 80  secondary_cleaner.state.floatbank4_b_level          19438 non-null  float64\n",
      " 81  secondary_cleaner.state.floatbank5_a_air            19438 non-null  float64\n",
      " 82  secondary_cleaner.state.floatbank5_a_level          19438 non-null  float64\n",
      " 83  secondary_cleaner.state.floatbank5_b_air            19438 non-null  float64\n",
      " 84  secondary_cleaner.state.floatbank5_b_level          19438 non-null  float64\n",
      " 85  secondary_cleaner.state.floatbank6_a_air            19437 non-null  float64\n",
      " 86  secondary_cleaner.state.floatbank6_a_level          19438 non-null  float64\n",
      "dtypes: float64(86), object(1)\n",
      "memory usage: 12.9+ MB\n"
     ]
    }
   ],
   "source": [
    "df_full.info()"
   ]
  },
  {
   "cell_type": "code",
   "execution_count": 102,
   "id": "36b231b2-ba9f-48f0-8327-ea2d60d19575",
   "metadata": {},
   "outputs": [
    {
     "name": "stdout",
     "output_type": "stream",
     "text": [
      "<class 'pandas.core.frame.DataFrame'>\n",
      "RangeIndex: 14149 entries, 0 to 14148\n",
      "Data columns (total 87 columns):\n",
      " #   Column                                              Non-Null Count  Dtype  \n",
      "---  ------                                              --------------  -----  \n",
      " 0   date                                                14149 non-null  object \n",
      " 1   final.output.concentrate_ag                         14148 non-null  float64\n",
      " 2   final.output.concentrate_pb                         14148 non-null  float64\n",
      " 3   final.output.concentrate_sol                        13938 non-null  float64\n",
      " 4   final.output.concentrate_au                         14149 non-null  float64\n",
      " 5   final.output.recovery                               14149 non-null  float64\n",
      " 6   final.output.tail_ag                                14149 non-null  float64\n",
      " 7   final.output.tail_pb                                14049 non-null  float64\n",
      " 8   final.output.tail_sol                               14144 non-null  float64\n",
      " 9   final.output.tail_au                                14149 non-null  float64\n",
      " 10  primary_cleaner.input.sulfate                       14129 non-null  float64\n",
      " 11  primary_cleaner.input.depressant                    14117 non-null  float64\n",
      " 12  primary_cleaner.input.feed_size                     14149 non-null  float64\n",
      " 13  primary_cleaner.input.xanthate                      14049 non-null  float64\n",
      " 14  primary_cleaner.output.concentrate_ag               14149 non-null  float64\n",
      " 15  primary_cleaner.output.concentrate_pb               14063 non-null  float64\n",
      " 16  primary_cleaner.output.concentrate_sol              13863 non-null  float64\n",
      " 17  primary_cleaner.output.concentrate_au               14149 non-null  float64\n",
      " 18  primary_cleaner.output.tail_ag                      14148 non-null  float64\n",
      " 19  primary_cleaner.output.tail_pb                      14134 non-null  float64\n",
      " 20  primary_cleaner.output.tail_sol                     14103 non-null  float64\n",
      " 21  primary_cleaner.output.tail_au                      14149 non-null  float64\n",
      " 22  primary_cleaner.state.floatbank8_a_air              14145 non-null  float64\n",
      " 23  primary_cleaner.state.floatbank8_a_level            14148 non-null  float64\n",
      " 24  primary_cleaner.state.floatbank8_b_air              14145 non-null  float64\n",
      " 25  primary_cleaner.state.floatbank8_b_level            14148 non-null  float64\n",
      " 26  primary_cleaner.state.floatbank8_c_air              14147 non-null  float64\n",
      " 27  primary_cleaner.state.floatbank8_c_level            14148 non-null  float64\n",
      " 28  primary_cleaner.state.floatbank8_d_air              14146 non-null  float64\n",
      " 29  primary_cleaner.state.floatbank8_d_level            14148 non-null  float64\n",
      " 30  rougher.calculation.sulfate_to_au_concentrate       14148 non-null  float64\n",
      " 31  rougher.calculation.floatbank10_sulfate_to_au_feed  14148 non-null  float64\n",
      " 32  rougher.calculation.floatbank11_sulfate_to_au_feed  14148 non-null  float64\n",
      " 33  rougher.calculation.au_pb_ratio                     14149 non-null  float64\n",
      " 34  rougher.input.feed_ag                               14149 non-null  float64\n",
      " 35  rougher.input.feed_pb                               14049 non-null  float64\n",
      " 36  rougher.input.feed_rate                             14141 non-null  float64\n",
      " 37  rougher.input.feed_size                             14005 non-null  float64\n",
      " 38  rougher.input.feed_sol                              14071 non-null  float64\n",
      " 39  rougher.input.feed_au                               14149 non-null  float64\n",
      " 40  rougher.input.floatbank10_sulfate                   14120 non-null  float64\n",
      " 41  rougher.input.floatbank10_xanthate                  14141 non-null  float64\n",
      " 42  rougher.input.floatbank11_sulfate                   14113 non-null  float64\n",
      " 43  rougher.input.floatbank11_xanthate                  13721 non-null  float64\n",
      " 44  rougher.output.concentrate_ag                       14149 non-null  float64\n",
      " 45  rougher.output.concentrate_pb                       14149 non-null  float64\n",
      " 46  rougher.output.concentrate_sol                      14127 non-null  float64\n",
      " 47  rougher.output.concentrate_au                       14149 non-null  float64\n",
      " 48  rougher.output.recovery                             14149 non-null  float64\n",
      " 49  rougher.output.tail_ag                              14148 non-null  float64\n",
      " 50  rougher.output.tail_pb                              14149 non-null  float64\n",
      " 51  rougher.output.tail_sol                             14149 non-null  float64\n",
      " 52  rougher.output.tail_au                              14149 non-null  float64\n",
      " 53  rougher.state.floatbank10_a_air                     14148 non-null  float64\n",
      " 54  rougher.state.floatbank10_a_level                   14148 non-null  float64\n",
      " 55  rougher.state.floatbank10_b_air                     14148 non-null  float64\n",
      " 56  rougher.state.floatbank10_b_level                   14148 non-null  float64\n",
      " 57  rougher.state.floatbank10_c_air                     14148 non-null  float64\n",
      " 58  rougher.state.floatbank10_c_level                   14148 non-null  float64\n",
      " 59  rougher.state.floatbank10_d_air                     14149 non-null  float64\n",
      " 60  rougher.state.floatbank10_d_level                   14149 non-null  float64\n",
      " 61  rougher.state.floatbank10_e_air                     13713 non-null  float64\n",
      " 62  rougher.state.floatbank10_e_level                   14149 non-null  float64\n",
      " 63  rougher.state.floatbank10_f_air                     14149 non-null  float64\n",
      " 64  rougher.state.floatbank10_f_level                   14149 non-null  float64\n",
      " 65  secondary_cleaner.output.tail_ag                    14147 non-null  float64\n",
      " 66  secondary_cleaner.output.tail_pb                    14139 non-null  float64\n",
      " 67  secondary_cleaner.output.tail_sol                   12544 non-null  float64\n",
      " 68  secondary_cleaner.output.tail_au                    14149 non-null  float64\n",
      " 69  secondary_cleaner.state.floatbank2_a_air            13932 non-null  float64\n",
      " 70  secondary_cleaner.state.floatbank2_a_level          14148 non-null  float64\n",
      " 71  secondary_cleaner.state.floatbank2_b_air            14128 non-null  float64\n",
      " 72  secondary_cleaner.state.floatbank2_b_level          14148 non-null  float64\n",
      " 73  secondary_cleaner.state.floatbank3_a_air            14145 non-null  float64\n",
      " 74  secondary_cleaner.state.floatbank3_a_level          14148 non-null  float64\n",
      " 75  secondary_cleaner.state.floatbank3_b_air            14148 non-null  float64\n",
      " 76  secondary_cleaner.state.floatbank3_b_level          14148 non-null  float64\n",
      " 77  secondary_cleaner.state.floatbank4_a_air            14143 non-null  float64\n",
      " 78  secondary_cleaner.state.floatbank4_a_level          14148 non-null  float64\n",
      " 79  secondary_cleaner.state.floatbank4_b_air            14148 non-null  float64\n",
      " 80  secondary_cleaner.state.floatbank4_b_level          14148 non-null  float64\n",
      " 81  secondary_cleaner.state.floatbank5_a_air            14148 non-null  float64\n",
      " 82  secondary_cleaner.state.floatbank5_a_level          14148 non-null  float64\n",
      " 83  secondary_cleaner.state.floatbank5_b_air            14148 non-null  float64\n",
      " 84  secondary_cleaner.state.floatbank5_b_level          14148 non-null  float64\n",
      " 85  secondary_cleaner.state.floatbank6_a_air            14147 non-null  float64\n",
      " 86  secondary_cleaner.state.floatbank6_a_level          14148 non-null  float64\n",
      "dtypes: float64(86), object(1)\n",
      "memory usage: 9.4+ MB\n"
     ]
    }
   ],
   "source": [
    "df_train.info()"
   ]
  },
  {
   "cell_type": "code",
   "execution_count": 103,
   "id": "ea3189c7-e4a5-4860-9943-9086c1fce8fc",
   "metadata": {},
   "outputs": [
    {
     "name": "stdout",
     "output_type": "stream",
     "text": [
      "<class 'pandas.core.frame.DataFrame'>\n",
      "RangeIndex: 5290 entries, 0 to 5289\n",
      "Data columns (total 53 columns):\n",
      " #   Column                                      Non-Null Count  Dtype  \n",
      "---  ------                                      --------------  -----  \n",
      " 0   date                                        5290 non-null   object \n",
      " 1   primary_cleaner.input.sulfate               5286 non-null   float64\n",
      " 2   primary_cleaner.input.depressant            5285 non-null   float64\n",
      " 3   primary_cleaner.input.feed_size             5290 non-null   float64\n",
      " 4   primary_cleaner.input.xanthate              5286 non-null   float64\n",
      " 5   primary_cleaner.state.floatbank8_a_air      5290 non-null   float64\n",
      " 6   primary_cleaner.state.floatbank8_a_level    5290 non-null   float64\n",
      " 7   primary_cleaner.state.floatbank8_b_air      5290 non-null   float64\n",
      " 8   primary_cleaner.state.floatbank8_b_level    5290 non-null   float64\n",
      " 9   primary_cleaner.state.floatbank8_c_air      5290 non-null   float64\n",
      " 10  primary_cleaner.state.floatbank8_c_level    5290 non-null   float64\n",
      " 11  primary_cleaner.state.floatbank8_d_air      5290 non-null   float64\n",
      " 12  primary_cleaner.state.floatbank8_d_level    5290 non-null   float64\n",
      " 13  rougher.input.feed_ag                       5290 non-null   float64\n",
      " 14  rougher.input.feed_pb                       5290 non-null   float64\n",
      " 15  rougher.input.feed_rate                     5287 non-null   float64\n",
      " 16  rougher.input.feed_size                     5289 non-null   float64\n",
      " 17  rougher.input.feed_sol                      5269 non-null   float64\n",
      " 18  rougher.input.feed_au                       5290 non-null   float64\n",
      " 19  rougher.input.floatbank10_sulfate           5285 non-null   float64\n",
      " 20  rougher.input.floatbank10_xanthate          5290 non-null   float64\n",
      " 21  rougher.input.floatbank11_sulfate           5282 non-null   float64\n",
      " 22  rougher.input.floatbank11_xanthate          5265 non-null   float64\n",
      " 23  rougher.state.floatbank10_a_air             5290 non-null   float64\n",
      " 24  rougher.state.floatbank10_a_level           5290 non-null   float64\n",
      " 25  rougher.state.floatbank10_b_air             5290 non-null   float64\n",
      " 26  rougher.state.floatbank10_b_level           5290 non-null   float64\n",
      " 27  rougher.state.floatbank10_c_air             5290 non-null   float64\n",
      " 28  rougher.state.floatbank10_c_level           5290 non-null   float64\n",
      " 29  rougher.state.floatbank10_d_air             5290 non-null   float64\n",
      " 30  rougher.state.floatbank10_d_level           5290 non-null   float64\n",
      " 31  rougher.state.floatbank10_e_air             5290 non-null   float64\n",
      " 32  rougher.state.floatbank10_e_level           5290 non-null   float64\n",
      " 33  rougher.state.floatbank10_f_air             5290 non-null   float64\n",
      " 34  rougher.state.floatbank10_f_level           5290 non-null   float64\n",
      " 35  secondary_cleaner.state.floatbank2_a_air    5287 non-null   float64\n",
      " 36  secondary_cleaner.state.floatbank2_a_level  5290 non-null   float64\n",
      " 37  secondary_cleaner.state.floatbank2_b_air    5288 non-null   float64\n",
      " 38  secondary_cleaner.state.floatbank2_b_level  5290 non-null   float64\n",
      " 39  secondary_cleaner.state.floatbank3_a_air    5281 non-null   float64\n",
      " 40  secondary_cleaner.state.floatbank3_a_level  5290 non-null   float64\n",
      " 41  secondary_cleaner.state.floatbank3_b_air    5290 non-null   float64\n",
      " 42  secondary_cleaner.state.floatbank3_b_level  5290 non-null   float64\n",
      " 43  secondary_cleaner.state.floatbank4_a_air    5290 non-null   float64\n",
      " 44  secondary_cleaner.state.floatbank4_a_level  5290 non-null   float64\n",
      " 45  secondary_cleaner.state.floatbank4_b_air    5290 non-null   float64\n",
      " 46  secondary_cleaner.state.floatbank4_b_level  5290 non-null   float64\n",
      " 47  secondary_cleaner.state.floatbank5_a_air    5290 non-null   float64\n",
      " 48  secondary_cleaner.state.floatbank5_a_level  5290 non-null   float64\n",
      " 49  secondary_cleaner.state.floatbank5_b_air    5290 non-null   float64\n",
      " 50  secondary_cleaner.state.floatbank5_b_level  5290 non-null   float64\n",
      " 51  secondary_cleaner.state.floatbank6_a_air    5290 non-null   float64\n",
      " 52  secondary_cleaner.state.floatbank6_a_level  5290 non-null   float64\n",
      "dtypes: float64(52), object(1)\n",
      "memory usage: 2.1+ MB\n"
     ]
    }
   ],
   "source": [
    "df_test.info()"
   ]
  },
  {
   "attachments": {},
   "cell_type": "markdown",
   "id": "eb429de8-54b9-4fd6-9778-cba562f5cd11",
   "metadata": {},
   "source": [
    "Признаки, отсутствующие в тестововом датасете: "
   ]
  },
  {
   "cell_type": "code",
   "execution_count": 104,
   "id": "2bd0a3f5-4afc-4bc4-927c-0adfafc585c0",
   "metadata": {},
   "outputs": [
    {
     "data": {
      "text/plain": [
       "Index(['final.output.concentrate_ag', 'final.output.concentrate_pb',\n",
       "       'final.output.concentrate_sol', 'final.output.concentrate_au',\n",
       "       'final.output.recovery', 'final.output.tail_ag', 'final.output.tail_pb',\n",
       "       'final.output.tail_sol', 'final.output.tail_au',\n",
       "       'primary_cleaner.output.concentrate_ag',\n",
       "       'primary_cleaner.output.concentrate_pb',\n",
       "       'primary_cleaner.output.concentrate_sol',\n",
       "       'primary_cleaner.output.concentrate_au',\n",
       "       'primary_cleaner.output.tail_ag', 'primary_cleaner.output.tail_pb',\n",
       "       'primary_cleaner.output.tail_sol', 'primary_cleaner.output.tail_au',\n",
       "       'rougher.calculation.sulfate_to_au_concentrate',\n",
       "       'rougher.calculation.floatbank10_sulfate_to_au_feed',\n",
       "       'rougher.calculation.floatbank11_sulfate_to_au_feed',\n",
       "       'rougher.calculation.au_pb_ratio', 'rougher.output.concentrate_ag',\n",
       "       'rougher.output.concentrate_pb', 'rougher.output.concentrate_sol',\n",
       "       'rougher.output.concentrate_au', 'rougher.output.recovery',\n",
       "       'rougher.output.tail_ag', 'rougher.output.tail_pb',\n",
       "       'rougher.output.tail_sol', 'rougher.output.tail_au',\n",
       "       'secondary_cleaner.output.tail_ag', 'secondary_cleaner.output.tail_pb',\n",
       "       'secondary_cleaner.output.tail_sol',\n",
       "       'secondary_cleaner.output.tail_au'],\n",
       "      dtype='object')"
      ]
     },
     "execution_count": 104,
     "metadata": {},
     "output_type": "execute_result"
    }
   ],
   "source": [
    "df_full.drop(columns=df_test.columns).columns"
   ]
  },
  {
   "attachments": {},
   "cell_type": "markdown",
   "id": "3c10aca8-fe42-4b27-ad21-b5e21a28f807",
   "metadata": {},
   "source": [
    "**Вывод:**  \n",
    "В тестовом датасете отсутствуют типы output и calculation.  \n",
    "Стоит обратить внимание на пропуски в данных. "
   ]
  },
  {
   "cell_type": "code",
   "execution_count": 105,
   "id": "437899fa-60b9-4ce7-ad46-6869539855a8",
   "metadata": {},
   "outputs": [],
   "source": [
    "# колонок много; снимем ограничения, чтобы видеть информацию полностью\n",
    "pd.set_option(\"display.max_columns\", 200)\n",
    "pd.set_option(\"display.max_rows\", 200)"
   ]
  },
  {
   "attachments": {},
   "cell_type": "markdown",
   "id": "a5f5e802-b9ac-430c-8d58-eaaf1972c8cd",
   "metadata": {},
   "source": [
    "### Названия столбцов"
   ]
  },
  {
   "attachments": {},
   "cell_type": "markdown",
   "id": "b59b94c1-a77f-44a8-a5f0-4a11c1200712",
   "metadata": {},
   "source": [
    "Система с точками удобна для понимания структуры названий столбцов, но в дальнейшем будет мешать, поэтому приведем названия к snake_case. "
   ]
  },
  {
   "cell_type": "code",
   "execution_count": 106,
   "id": "73fcbf9d-2859-4272-a6ab-8ef1b6618ee8",
   "metadata": {},
   "outputs": [],
   "source": [
    "df_list = [df_full, df_train, df_test]\n",
    "for df in df_list:\n",
    "    for i, column in enumerate(df.columns):\n",
    "        df.rename(\n",
    "            columns={\n",
    "                df.columns[i]: \"_\".join(re.findall(\"[a-z0-9_]*[^.]\", df.columns[i]))\n",
    "            },\n",
    "            inplace=True,\n",
    "        )"
   ]
  },
  {
   "cell_type": "code",
   "execution_count": 107,
   "id": "69d1ecf6-752d-4b5c-a59e-a391f172b288",
   "metadata": {},
   "outputs": [
    {
     "data": {
      "text/plain": [
       "'primary_cleaner_state_floatbank8_b_level'"
      ]
     },
     "execution_count": 107,
     "metadata": {},
     "output_type": "execute_result"
    }
   ],
   "source": [
    "df_train.columns[25]"
   ]
  },
  {
   "attachments": {},
   "cell_type": "markdown",
   "id": "75c170bd-bec4-48c4-bf94-74f9df83ad5c",
   "metadata": {},
   "source": [
    "Пока исходный датасет не обработан, создадим набор целевых признаков для тестовой выборки."
   ]
  },
  {
   "cell_type": "code",
   "execution_count": 108,
   "id": "fdfcaf50-19cb-483b-958e-8aa396b9bc24",
   "metadata": {},
   "outputs": [],
   "source": [
    "y_test = df_full[df_full[\"date\"].isin(df_test[\"date\"])][\n",
    "    [\"rougher_output_recovery\", \"final_output_recovery\"]\n",
    "]"
   ]
  },
  {
   "attachments": {},
   "cell_type": "markdown",
   "id": "3bdff3a7-e0e7-4d6c-b09d-b9e4b8f9ba34",
   "metadata": {},
   "source": [
    "### Расчет эффективности обогащения"
   ]
  },
  {
   "cell_type": "code",
   "execution_count": 109,
   "id": "ffe3ee1a-362d-41c9-a613-9c72b2d1ef36",
   "metadata": {},
   "outputs": [],
   "source": [
    "T = df_train[\"rougher_output_tail_au\"]\n",
    "F = df_train[\"rougher_input_feed_au\"]\n",
    "C = df_train[\"rougher_output_concentrate_au\"]"
   ]
  },
  {
   "cell_type": "code",
   "execution_count": 110,
   "id": "b262a870-f8dd-4afb-b01c-98c5916ac90f",
   "metadata": {},
   "outputs": [],
   "source": [
    "recovery_calculated = (C * (F - T)) / (F * (C - T)) * 100"
   ]
  },
  {
   "cell_type": "code",
   "execution_count": 111,
   "id": "086e23f9-9fae-4ad3-bd4a-6845cc3c6dfa",
   "metadata": {},
   "outputs": [
    {
     "data": {
      "text/plain": [
       "9.73512347450521e-15"
      ]
     },
     "execution_count": 111,
     "metadata": {},
     "output_type": "execute_result"
    }
   ],
   "source": [
    "mean_absolute_error(recovery_calculated, df_train[\"rougher_output_recovery\"])"
   ]
  },
  {
   "cell_type": "code",
   "execution_count": 112,
   "id": "32497455-f9cf-452b-8b6e-10b81270038a",
   "metadata": {
    "tags": []
   },
   "outputs": [
    {
     "name": "stdout",
     "output_type": "stream",
     "text": [
      "<class 'pandas.core.frame.DataFrame'>\n",
      "RangeIndex: 14149 entries, 0 to 14148\n",
      "Data columns (total 30 columns):\n",
      " #   Column                                  Non-Null Count  Dtype  \n",
      "---  ------                                  --------------  -----  \n",
      " 0   final_output_concentrate_ag             14148 non-null  float64\n",
      " 1   final_output_concentrate_pb             14148 non-null  float64\n",
      " 2   final_output_concentrate_sol            13938 non-null  float64\n",
      " 3   final_output_concentrate_au             14149 non-null  float64\n",
      " 4   final_output_recovery                   14149 non-null  float64\n",
      " 5   final_output_tail_ag                    14149 non-null  float64\n",
      " 6   final_output_tail_pb                    14049 non-null  float64\n",
      " 7   final_output_tail_sol                   14144 non-null  float64\n",
      " 8   final_output_tail_au                    14149 non-null  float64\n",
      " 9   primary_cleaner_output_concentrate_ag   14149 non-null  float64\n",
      " 10  primary_cleaner_output_concentrate_pb   14063 non-null  float64\n",
      " 11  primary_cleaner_output_concentrate_sol  13863 non-null  float64\n",
      " 12  primary_cleaner_output_concentrate_au   14149 non-null  float64\n",
      " 13  primary_cleaner_output_tail_ag          14148 non-null  float64\n",
      " 14  primary_cleaner_output_tail_pb          14134 non-null  float64\n",
      " 15  primary_cleaner_output_tail_sol         14103 non-null  float64\n",
      " 16  primary_cleaner_output_tail_au          14149 non-null  float64\n",
      " 17  rougher_output_concentrate_ag           14149 non-null  float64\n",
      " 18  rougher_output_concentrate_pb           14149 non-null  float64\n",
      " 19  rougher_output_concentrate_sol          14127 non-null  float64\n",
      " 20  rougher_output_concentrate_au           14149 non-null  float64\n",
      " 21  rougher_output_recovery                 14149 non-null  float64\n",
      " 22  rougher_output_tail_ag                  14148 non-null  float64\n",
      " 23  rougher_output_tail_pb                  14149 non-null  float64\n",
      " 24  rougher_output_tail_sol                 14149 non-null  float64\n",
      " 25  rougher_output_tail_au                  14149 non-null  float64\n",
      " 26  secondary_cleaner_output_tail_ag        14147 non-null  float64\n",
      " 27  secondary_cleaner_output_tail_pb        14139 non-null  float64\n",
      " 28  secondary_cleaner_output_tail_sol       12544 non-null  float64\n",
      " 29  secondary_cleaner_output_tail_au        14149 non-null  float64\n",
      "dtypes: float64(30)\n",
      "memory usage: 3.2 MB\n"
     ]
    }
   ],
   "source": [
    "recov_fin = []\n",
    "for column in df_full.columns:\n",
    "    if \"output\" in column and \"isna\" not in column:\n",
    "        recov_fin.append(column)\n",
    "df_train[recov_fin].info()"
   ]
  },
  {
   "attachments": {},
   "cell_type": "markdown",
   "id": "3fa91031-54ad-4370-8922-d9236a67d88f",
   "metadata": {},
   "source": [
    "**Вывод:** Значение MAE имеет высокую отрицательную степень, значит эффективность обогащения была рассчитана правильно. Небольшое расхождение скорее всего связано с тем, что в датасете числа имеют конечный знак после запятой, в то время как рассчитанные в реальном времени могут иметь куда большее число знаков. "
   ]
  },
  {
   "attachments": {},
   "cell_type": "markdown",
   "id": "ead1ce8b-a28e-42fe-b896-6fbef33287c5",
   "metadata": {},
   "source": [
    "### Изменение концентрации металлов в процессе восстановления"
   ]
  },
  {
   "attachments": {},
   "cell_type": "markdown",
   "id": "8af27797-9363-41f7-bb3c-cd2afe1cf486",
   "metadata": {},
   "source": [
    "Рассмотрим как меняются концентрации металлов:"
   ]
  },
  {
   "cell_type": "code",
   "execution_count": 113,
   "id": "baa2582b-713c-4429-9989-66a6f9f7fe35",
   "metadata": {},
   "outputs": [
    {
     "data": {
      "text/plain": [
       "Text(0, 0.5, 'Частота')"
      ]
     },
     "execution_count": 113,
     "metadata": {},
     "output_type": "execute_result"
    },
    {
     "data": {
      "image/png": "[encoded data removed]",
      "text/plain": [
       "<Figure size 800x500 with 1 Axes>"
      ]
     },
     "metadata": {},
     "output_type": "display_data"
    }
   ],
   "source": [
    "df_full[\n",
    "    [\n",
    "        \"rougher_input_feed_au\",\n",
    "        \"rougher_output_concentrate_au\",\n",
    "        \"primary_cleaner_output_concentrate_au\",\n",
    "        \"final_output_concentrate_au\",\n",
    "    ]\n",
    "].plot(kind=\"hist\", bins=100, figsize=(8, 5), alpha=0.6, ylim=(0, 3000), grid=True)\n",
    "plt.title(\"Изменение концентраци золота в процессе восстановления\")\n",
    "plt.xlabel(\"Концентрация золота, %\")\n",
    "plt.ylabel(\"Частота\")"
   ]
  },
  {
   "cell_type": "code",
   "execution_count": 114,
   "id": "4841283b-4c89-44a9-a0ec-fb5ab32df325",
   "metadata": {},
   "outputs": [
    {
     "data": {
      "text/plain": [
       "Text(0, 0.5, 'Частота')"
      ]
     },
     "execution_count": 114,
     "metadata": {},
     "output_type": "execute_result"
    },
    {
     "data": {
      "image/png": "[encoded data removed]",
      "text/plain": [
       "<Figure size 800x500 with 1 Axes>"
      ]
     },
     "metadata": {},
     "output_type": "display_data"
    }
   ],
   "source": [
    "df_full[\n",
    "    [\n",
    "        \"rougher_input_feed_ag\",\n",
    "        \"rougher_output_concentrate_ag\",\n",
    "        \"primary_cleaner_output_concentrate_ag\",\n",
    "        \"final_output_concentrate_ag\",\n",
    "    ]\n",
    "].plot(kind=\"hist\", bins=100, figsize=(8, 5), alpha=0.5, ylim=(0, 1750), grid=True)\n",
    "plt.title(\"Изменение концентраци серебра в процессе восстановления\")\n",
    "plt.xlabel(\"Концентрация золота, %\")\n",
    "plt.ylabel(\"Частота\")"
   ]
  },
  {
   "cell_type": "code",
   "execution_count": 115,
   "id": "a795d34c-b512-4b91-a843-235fa249a9cb",
   "metadata": {},
   "outputs": [
    {
     "data": {
      "text/plain": [
       "Text(0, 0.5, 'Частота')"
      ]
     },
     "execution_count": 115,
     "metadata": {},
     "output_type": "execute_result"
    },
    {
     "data": {
      "image/png": "[encoded data removed]",
      "text/plain": [
       "<Figure size 800x500 with 1 Axes>"
      ]
     },
     "metadata": {},
     "output_type": "display_data"
    }
   ],
   "source": [
    "df_full[\n",
    "    [\n",
    "        \"rougher_input_feed_pb\",\n",
    "        \"rougher_output_concentrate_pb\",\n",
    "        \"primary_cleaner_output_concentrate_pb\",\n",
    "        \"final_output_concentrate_pb\",\n",
    "    ]\n",
    "].plot(kind=\"hist\", bins=100, figsize=(8, 5), alpha=0.6, ylim=(0, 1500), grid=True)\n",
    "plt.title(\"Изменение концентраци свинца в процессе восстановления\")\n",
    "plt.xlabel(\"Концентрация золота, %\")\n",
    "plt.ylabel(\"Частота\")"
   ]
  },
  {
   "attachments": {},
   "cell_type": "markdown",
   "id": "3c5e982b-8009-48c8-8485-ce3f96a7e78d",
   "metadata": {
    "tags": []
   },
   "source": [
    "**Вывод:** В процессе очистки процент содержания металлов в концентрате меняется следующим образом:\n",
    "- Содержание золота постепенно поднимается с ~8% до ~20% после флотации, ~35% после первого этапа очистки и ~45% после второго;\n",
    "- Содержание серебра поднимается с 6-11% до 10-16% после флотации, а затем падает обратно до 6-11% после первого этапа очистки и стабилизируется около 3-4% после второго;\n",
    "- Содержание свинца поднимается с 3-4% до 7-8% после флотации, затем еще подрастает после первого этапа очистки и стабилизируется вокруг 9-11% после второго. \n",
    "\n",
    "На графиках присутствуют пики около 0, которые можно интерпретировать как пропуски в данных."
   ]
  },
  {
   "attachments": {},
   "cell_type": "markdown",
   "id": "44906ff0-fc62-402d-90d4-1fa1f53d9d30",
   "metadata": {
    "tags": []
   },
   "source": [
    "### Распределение размеров гранул сырья"
   ]
  },
  {
   "attachments": {},
   "cell_type": "markdown",
   "id": "9ac01824-d69d-4cc8-ab54-c6655b895a65",
   "metadata": {
    "tags": []
   },
   "source": [
    "Построим графики плотности для сравнения распределений в датафреймах."
   ]
  },
  {
   "cell_type": "code",
   "execution_count": 116,
   "id": "8648514a-2bf8-4130-8997-51e4c69848b8",
   "metadata": {
    "tags": []
   },
   "outputs": [
    {
     "data": {
      "image/png": "[encoded data removed]",
      "text/plain": [
       "<Figure size 640x480 with 1 Axes>"
      ]
     },
     "metadata": {},
     "output_type": "display_data"
    },
    {
     "data": {
      "image/png": "[encoded data removed]",
      "text/plain": [
       "<Figure size 640x480 with 1 Axes>"
      ]
     },
     "metadata": {},
     "output_type": "display_data"
    }
   ],
   "source": [
    "stage = [\"флотации\", \"первом этапе очистки\"]\n",
    "for i, column in enumerate(\n",
    "    [\"rougher_input_feed_size\", \"primary_cleaner_input_feed_size\"]\n",
    "):\n",
    "    sns.kdeplot(df_full[column], alpha=0.65, fill=True, linewidth=0)\n",
    "    sns.kdeplot(df_train[column], alpha=0.4, fill=True, linewidth=0)\n",
    "    plt.xlabel(f\"Размер гранул на этапе {column}\")\n",
    "    plt.title(f\"Плотность распределения гранул сырья на этапе {stage[i]}\")\n",
    "    plt.show()"
   ]
  },
  {
   "attachments": {},
   "cell_type": "markdown",
   "id": "7b5a37ce-9daa-41cb-b2d7-12c91bafa40a",
   "metadata": {
    "tags": []
   },
   "source": [
    "**Вывод:** Распределения совпадают, значит обучение модели по данным признакам будет происходить корректно. "
   ]
  },
  {
   "attachments": {},
   "cell_type": "markdown",
   "id": "bb3dc42a-8679-4676-b58b-53b7dfddfe4f",
   "metadata": {
    "tags": []
   },
   "source": [
    "### Расчет суммарных концентраций"
   ]
  },
  {
   "attachments": {},
   "cell_type": "markdown",
   "id": "c981e1ea-8c01-4339-95b2-3eaa941a052d",
   "metadata": {
    "tags": []
   },
   "source": [
    "Посчитаем суммарную концентрацию веществ на каждом из этапов: в сырье, в черновом и финальном концентратах "
   ]
  },
  {
   "cell_type": "code",
   "execution_count": 117,
   "id": "5aa34dcb-19d1-4f10-950d-778834e53d6e",
   "metadata": {
    "tags": []
   },
   "outputs": [
    {
     "data": {
      "text/plain": [
       "Text(0, 0.5, 'Частота')"
      ]
     },
     "execution_count": 117,
     "metadata": {},
     "output_type": "execute_result"
    },
    {
     "data": {
      "image/png": "[encoded data removed]",
      "text/plain": [
       "<Figure size 400x300 with 1 Axes>"
      ]
     },
     "metadata": {},
     "output_type": "display_data"
    }
   ],
   "source": [
    "rougher_input_concentrate_sum = df_full[\n",
    "    [\n",
    "        \"rougher_input_feed_ag\",\n",
    "        \"rougher_input_feed_au\",\n",
    "        \"rougher_input_feed_pb\",\n",
    "        \"rougher_input_feed_sol\",\n",
    "    ]\n",
    "].sum(axis=1)\n",
    "rougher_input_concentrate_sum.hist(bins=50, figsize=(4, 3))\n",
    "plt.title(\"Суммарная концентрация веществ в сырье\")\n",
    "plt.xlabel(\"Суммарная концентрация, %\")\n",
    "plt.ylabel(\"Частота\")"
   ]
  },
  {
   "cell_type": "code",
   "execution_count": 118,
   "id": "19ed8268-e41b-439c-a85c-aa7decfa3183",
   "metadata": {
    "tags": []
   },
   "outputs": [
    {
     "data": {
      "text/plain": [
       "Text(0, 0.5, 'Частота')"
      ]
     },
     "execution_count": 118,
     "metadata": {},
     "output_type": "execute_result"
    },
    {
     "data": {
      "image/png": "[encoded data removed]",
      "text/plain": [
       "<Figure size 400x300 with 1 Axes>"
      ]
     },
     "metadata": {},
     "output_type": "display_data"
    }
   ],
   "source": [
    "rougher_output_concentrate_sum = df_full[\n",
    "    [\n",
    "        \"rougher_output_concentrate_ag\",\n",
    "        \"rougher_output_concentrate_au\",\n",
    "        \"rougher_output_concentrate_pb\",\n",
    "        \"rougher_output_concentrate_sol\",\n",
    "    ]\n",
    "].sum(axis=1)\n",
    "rougher_output_concentrate_sum.hist(bins=50, figsize=(4, 3))\n",
    "plt.title(\"Суммарная концентрация веществ в черновом концентрате\")\n",
    "plt.xlabel(\"Суммарная концентрация, %\")\n",
    "plt.ylabel(\"Частота\")"
   ]
  },
  {
   "cell_type": "code",
   "execution_count": 119,
   "id": "ef202efe-1604-4afe-a56d-4073e8d52adc",
   "metadata": {
    "tags": []
   },
   "outputs": [
    {
     "data": {
      "text/plain": [
       "Text(0, 0.5, 'Частота')"
      ]
     },
     "execution_count": 119,
     "metadata": {},
     "output_type": "execute_result"
    },
    {
     "data": {
      "image/png": "[encoded data removed]",
      "text/plain": [
       "<Figure size 400x300 with 1 Axes>"
      ]
     },
     "metadata": {},
     "output_type": "display_data"
    }
   ],
   "source": [
    "final_output_concentrate_sum = df_full[\n",
    "    [\n",
    "        \"final_output_concentrate_ag\",\n",
    "        \"final_output_concentrate_au\",\n",
    "        \"final_output_concentrate_pb\",\n",
    "        \"final_output_concentrate_sol\",\n",
    "    ]\n",
    "].sum(axis=1)\n",
    "final_output_concentrate_sum.hist(bins=50, figsize=(4, 3))\n",
    "plt.title(\"Суммарная концентрация веществ в финальном концентрате\")\n",
    "plt.xlabel(\"Суммарная концентрация, %\")\n",
    "plt.ylabel(\"Частота\")"
   ]
  },
  {
   "attachments": {},
   "cell_type": "markdown",
   "id": "9cd5bfe1-84c5-4dae-8e48-f0d546fc4de8",
   "metadata": {
    "tags": []
   },
   "source": [
    "**Вывод:** Суммарная концентрация возрастает после флотации и стабилизируется около 70% после двух этапов очистки. На графиках выходных концентраций на этапе флотации и финальных концентраций присутствуют пики около 0, которыу можно интерпретировать как набор пропусков.  "
   ]
  },
  {
   "attachments": {},
   "cell_type": "markdown",
   "id": "c8ee6da3-aa2c-45e5-bfd5-3e6bb548c041",
   "metadata": {},
   "source": [
    "### Обработка пропусков"
   ]
  },
  {
   "attachments": {},
   "cell_type": "markdown",
   "id": "a91f4de1-f6d0-47bf-8dd4-b5320e1b099b",
   "metadata": {},
   "source": [
    "Известно, что данные индексируются датой/временем и соседние параметры \"похожи\", благодаря чему пропуски можно было бы заполнить средним между ближайшими соседями."
   ]
  },
  {
   "attachments": {},
   "cell_type": "markdown",
   "id": "656af2f2-d7c5-45ab-a834-f9932439c820",
   "metadata": {},
   "source": [
    "Определим, к какому числу строк без пропусков мы стремимся."
   ]
  },
  {
   "cell_type": "code",
   "execution_count": 120,
   "id": "65be6e23-d0cd-4864-b5aa-3cad4ec1c527",
   "metadata": {},
   "outputs": [
    {
     "data": {
      "text/plain": [
       "14149"
      ]
     },
     "execution_count": 120,
     "metadata": {},
     "output_type": "execute_result"
    }
   ],
   "source": [
    "max(df_train.count())"
   ]
  },
  {
   "attachments": {},
   "cell_type": "markdown",
   "id": "e2ad8007-a92c-4a6e-bf50-65a310158cd4",
   "metadata": {},
   "source": [
    "Посмотрим, сколько всего пропусков присутствует."
   ]
  },
  {
   "cell_type": "code",
   "execution_count": 121,
   "id": "9391baa5-657d-4386-b6d2-7c3e522c5c45",
   "metadata": {},
   "outputs": [
    {
     "data": {
      "text/plain": [
       "4100"
      ]
     },
     "execution_count": 121,
     "metadata": {},
     "output_type": "execute_result"
    }
   ],
   "source": [
    "df_train.isna().sum().sum()"
   ]
  },
  {
   "cell_type": "code",
   "execution_count": 122,
   "id": "b878d010-b190-439d-80c4-14832abd117e",
   "metadata": {},
   "outputs": [
    {
     "data": {
      "text/plain": [
       "secondary_cleaner_output_tail_sol                     1605\n",
       "rougher_state_floatbank10_e_air                        436\n",
       "rougher_input_floatbank11_xanthate                     428\n",
       "primary_cleaner_output_concentrate_sol                 286\n",
       "secondary_cleaner_state_floatbank2_a_air               217\n",
       "final_output_concentrate_sol                           211\n",
       "rougher_input_feed_size                                144\n",
       "final_output_tail_pb                                   100\n",
       "rougher_input_feed_pb                                  100\n",
       "primary_cleaner_input_xanthate                         100\n",
       "primary_cleaner_output_concentrate_pb                   86\n",
       "rougher_input_feed_sol                                  78\n",
       "primary_cleaner_output_tail_sol                         46\n",
       "rougher_input_floatbank11_sulfate                       36\n",
       "primary_cleaner_input_depressant                        32\n",
       "rougher_input_floatbank10_sulfate                       29\n",
       "rougher_output_concentrate_sol                          22\n",
       "secondary_cleaner_state_floatbank2_b_air                21\n",
       "primary_cleaner_input_sulfate                           20\n",
       "primary_cleaner_output_tail_pb                          15\n",
       "secondary_cleaner_output_tail_pb                        10\n",
       "rougher_input_feed_rate                                  8\n",
       "rougher_input_floatbank10_xanthate                       8\n",
       "secondary_cleaner_state_floatbank4_a_air                 6\n",
       "final_output_tail_sol                                    5\n",
       "secondary_cleaner_state_floatbank3_a_air                 4\n",
       "primary_cleaner_state_floatbank8_b_air                   4\n",
       "primary_cleaner_state_floatbank8_a_air                   4\n",
       "primary_cleaner_state_floatbank8_d_air                   3\n",
       "primary_cleaner_state_floatbank8_c_air                   2\n",
       "secondary_cleaner_output_tail_ag                         2\n",
       "secondary_cleaner_state_floatbank6_a_air                 2\n",
       "secondary_cleaner_state_floatbank2_a_level               1\n",
       "secondary_cleaner_state_floatbank3_a_level               1\n",
       "secondary_cleaner_state_floatbank2_b_level               1\n",
       "secondary_cleaner_state_floatbank4_a_level               1\n",
       "secondary_cleaner_state_floatbank3_b_air                 1\n",
       "secondary_cleaner_state_floatbank3_b_level               1\n",
       "secondary_cleaner_state_floatbank4_b_level               1\n",
       "secondary_cleaner_state_floatbank5_a_air                 1\n",
       "secondary_cleaner_state_floatbank5_a_level               1\n",
       "secondary_cleaner_state_floatbank5_b_air                 1\n",
       "secondary_cleaner_state_floatbank5_b_level               1\n",
       "secondary_cleaner_state_floatbank4_b_air                 1\n",
       "final_output_concentrate_ag                              1\n",
       "rougher_state_floatbank10_c_level                        1\n",
       "rougher_calculation_floatbank10_sulfate_to_au_feed       1\n",
       "primary_cleaner_output_tail_ag                           1\n",
       "primary_cleaner_state_floatbank8_a_level                 1\n",
       "primary_cleaner_state_floatbank8_b_level                 1\n",
       "primary_cleaner_state_floatbank8_c_level                 1\n",
       "primary_cleaner_state_floatbank8_d_level                 1\n",
       "rougher_calculation_sulfate_to_au_concentrate            1\n",
       "rougher_calculation_floatbank11_sulfate_to_au_feed       1\n",
       "rougher_state_floatbank10_c_air                          1\n",
       "final_output_concentrate_pb                              1\n",
       "rougher_output_tail_ag                                   1\n",
       "rougher_state_floatbank10_a_air                          1\n",
       "rougher_state_floatbank10_a_level                        1\n",
       "rougher_state_floatbank10_b_air                          1\n",
       "rougher_state_floatbank10_b_level                        1\n",
       "secondary_cleaner_state_floatbank6_a_level               1\n",
       "dtype: int64"
      ]
     },
     "metadata": {},
     "output_type": "display_data"
    },
    {
     "data": {
      "text/plain": [
       "62"
      ]
     },
     "metadata": {},
     "output_type": "display_data"
    }
   ],
   "source": [
    "bad_boys_team = (\n",
    "    df_train.isna().sum()[df_train.isna().sum() != 0].sort_values(ascending=False)\n",
    ")\n",
    "bad_boys_names = pd.Series(bad_boys_team.index).tolist()\n",
    "display(bad_boys_team, len(bad_boys_team))"
   ]
  },
  {
   "attachments": {},
   "cell_type": "markdown",
   "id": "811a73ab-3eef-40c5-ae5d-9443eeb25969",
   "metadata": {},
   "source": [
    "Известно, что соседние по времени параметры похожи. Проверим, насколько это соответствует истине и можно ли ближайшими предыдущими соседями заполнить пропуски. Но перед этим изменим тип столбца date на Datetime64."
   ]
  },
  {
   "cell_type": "code",
   "execution_count": 123,
   "id": "db51682f-d49d-4b59-b392-3c3649651af7",
   "metadata": {},
   "outputs": [],
   "source": [
    "df_train[\"date\"] = pd.to_datetime(df_train[\"date\"], format=\"%Y-%m-%d %H:%M:%S\")"
   ]
  },
  {
   "cell_type": "code",
   "execution_count": 124,
   "id": "d606dbd4-fde8-49f3-83dc-c764d614c99b",
   "metadata": {},
   "outputs": [],
   "source": [
    "df_train = df_train.sort_values(by=\"date\")"
   ]
  },
  {
   "attachments": {},
   "cell_type": "markdown",
   "id": "0167671d-c409-4d29-ad1d-5a2d7157006e",
   "metadata": {},
   "source": [
    "Определим индексы строк, где разница с последующей или предыдущей датой составляет более 1 часа. "
   ]
  },
  {
   "cell_type": "code",
   "execution_count": 125,
   "id": "6f45feaf-e80f-4425-8d75-2f049dcebf5d",
   "metadata": {},
   "outputs": [
    {
     "data": {
      "text/plain": [
       "656"
      ]
     },
     "execution_count": 125,
     "metadata": {},
     "output_type": "execute_result"
    }
   ],
   "source": [
    "indexes = df_train[df_train[\"date\"].diff() / np.timedelta64(1, \"h\") > 1][\"date\"].index\n",
    "indexes = indexes.append(indexes - 1)\n",
    "len(indexes)"
   ]
  },
  {
   "attachments": {},
   "cell_type": "markdown",
   "id": "d184b053-022b-4801-882b-d09051890455",
   "metadata": {},
   "source": [
    "Теперь посчитаем разницу между фактическим и предыдущим значением, исследуем при помощи метода .describe()."
   ]
  },
  {
   "cell_type": "code",
   "execution_count": 126,
   "id": "d0df212c-c2c5-487b-a972-a1961b356eb7",
   "metadata": {},
   "outputs": [
    {
     "data": {
      "text/html": [
       "<div>\n",
       "<style scoped>\n",
       "    .dataframe tbody tr th:only-of-type {\n",
       "        vertical-align: middle;\n",
       "    }\n",
       "\n",
       "    .dataframe tbody tr th {\n",
       "        vertical-align: top;\n",
       "    }\n",
       "\n",
       "    .dataframe thead th {\n",
       "        text-align: right;\n",
       "    }\n",
       "</style>\n",
       "<table border=\"1\" class=\"dataframe\">\n",
       "  <thead>\n",
       "    <tr style=\"text-align: right;\">\n",
       "      <th></th>\n",
       "      <th>mean</th>\n",
       "      <th>std</th>\n",
       "      <th>min</th>\n",
       "      <th>25%</th>\n",
       "      <th>50%</th>\n",
       "      <th>75%</th>\n",
       "      <th>max</th>\n",
       "    </tr>\n",
       "  </thead>\n",
       "  <tbody>\n",
       "    <tr>\n",
       "      <th>final_output_concentrate_ag</th>\n",
       "      <td>1.069630e+00</td>\n",
       "      <td>6.306168e+00</td>\n",
       "      <td>1.681717e-02</td>\n",
       "      <td>0.955739</td>\n",
       "      <td>0.998548</td>\n",
       "      <td>1.042934</td>\n",
       "      <td>7.477529e+02</td>\n",
       "    </tr>\n",
       "    <tr>\n",
       "      <th>final_output_concentrate_pb</th>\n",
       "      <td>1.085184e+00</td>\n",
       "      <td>8.539576e+00</td>\n",
       "      <td>7.200904e-03</td>\n",
       "      <td>0.978511</td>\n",
       "      <td>0.999756</td>\n",
       "      <td>1.021603</td>\n",
       "      <td>1.012829e+03</td>\n",
       "    </tr>\n",
       "    <tr>\n",
       "      <th>final_output_concentrate_sol</th>\n",
       "      <td>1.072298e+00</td>\n",
       "      <td>6.539618e+00</td>\n",
       "      <td>4.927757e-03</td>\n",
       "      <td>0.976309</td>\n",
       "      <td>1.000062</td>\n",
       "      <td>1.024438</td>\n",
       "      <td>7.679531e+02</td>\n",
       "    </tr>\n",
       "    <tr>\n",
       "      <th>final_output_concentrate_au</th>\n",
       "      <td>1.240736e+00</td>\n",
       "      <td>2.680976e+01</td>\n",
       "      <td>1.049578e-03</td>\n",
       "      <td>0.987300</td>\n",
       "      <td>1.000570</td>\n",
       "      <td>1.013707</td>\n",
       "      <td>3.179634e+03</td>\n",
       "    </tr>\n",
       "    <tr>\n",
       "      <th>final_output_recovery</th>\n",
       "      <td>1.056810e+00</td>\n",
       "      <td>3.733886e+00</td>\n",
       "      <td>1.957415e-03</td>\n",
       "      <td>0.974323</td>\n",
       "      <td>1.000000</td>\n",
       "      <td>1.026833</td>\n",
       "      <td>4.024065e+02</td>\n",
       "    </tr>\n",
       "    <tr>\n",
       "      <th>final_output_tail_ag</th>\n",
       "      <td>1.072221e+00</td>\n",
       "      <td>3.626008e+00</td>\n",
       "      <td>3.288325e-03</td>\n",
       "      <td>0.980182</td>\n",
       "      <td>1.000329</td>\n",
       "      <td>1.020557</td>\n",
       "      <td>3.981129e+02</td>\n",
       "    </tr>\n",
       "    <tr>\n",
       "      <th>final_output_tail_pb</th>\n",
       "      <td>1.077305e+00</td>\n",
       "      <td>3.980902e+00</td>\n",
       "      <td>3.173327e-03</td>\n",
       "      <td>0.958539</td>\n",
       "      <td>0.999889</td>\n",
       "      <td>1.043833</td>\n",
       "      <td>4.482781e+02</td>\n",
       "    </tr>\n",
       "    <tr>\n",
       "      <th>final_output_tail_sol</th>\n",
       "      <td>1.041791e+00</td>\n",
       "      <td>1.034252e+00</td>\n",
       "      <td>9.394880e-03</td>\n",
       "      <td>0.973081</td>\n",
       "      <td>1.001129</td>\n",
       "      <td>1.030924</td>\n",
       "      <td>6.808512e+01</td>\n",
       "    </tr>\n",
       "    <tr>\n",
       "      <th>final_output_tail_au</th>\n",
       "      <td>1.073110e+00</td>\n",
       "      <td>3.501650e+00</td>\n",
       "      <td>3.474860e-03</td>\n",
       "      <td>0.954618</td>\n",
       "      <td>1.000140</td>\n",
       "      <td>1.045613</td>\n",
       "      <td>3.839970e+02</td>\n",
       "    </tr>\n",
       "    <tr>\n",
       "      <th>primary_cleaner_input_sulfate</th>\n",
       "      <td>1.126446e+00</td>\n",
       "      <td>7.463737e+00</td>\n",
       "      <td>9.041031e-04</td>\n",
       "      <td>0.969067</td>\n",
       "      <td>1.000372</td>\n",
       "      <td>1.036488</td>\n",
       "      <td>6.022080e+02</td>\n",
       "    </tr>\n",
       "    <tr>\n",
       "      <th>primary_cleaner_input_depressant</th>\n",
       "      <td>1.094755e+00</td>\n",
       "      <td>4.955265e+00</td>\n",
       "      <td>1.629512e-03</td>\n",
       "      <td>0.995287</td>\n",
       "      <td>0.999976</td>\n",
       "      <td>1.005027</td>\n",
       "      <td>4.148530e+02</td>\n",
       "    </tr>\n",
       "    <tr>\n",
       "      <th>primary_cleaner_input_feed_size</th>\n",
       "      <td>1.000770e+00</td>\n",
       "      <td>5.716649e-02</td>\n",
       "      <td>1.553967e-01</td>\n",
       "      <td>1.000000</td>\n",
       "      <td>1.000000</td>\n",
       "      <td>1.000000</td>\n",
       "      <td>6.750000e+00</td>\n",
       "    </tr>\n",
       "    <tr>\n",
       "      <th>primary_cleaner_input_xanthate</th>\n",
       "      <td>1.600637e+01</td>\n",
       "      <td>1.746003e+03</td>\n",
       "      <td>9.004459e-06</td>\n",
       "      <td>0.983456</td>\n",
       "      <td>1.000469</td>\n",
       "      <td>1.019763</td>\n",
       "      <td>2.066323e+05</td>\n",
       "    </tr>\n",
       "    <tr>\n",
       "      <th>primary_cleaner_output_concentrate_ag</th>\n",
       "      <td>1.832806e+00</td>\n",
       "      <td>2.166607e+01</td>\n",
       "      <td>9.694913e-04</td>\n",
       "      <td>0.963954</td>\n",
       "      <td>1.000000</td>\n",
       "      <td>1.036162</td>\n",
       "      <td>9.739096e+02</td>\n",
       "    </tr>\n",
       "    <tr>\n",
       "      <th>primary_cleaner_output_concentrate_pb</th>\n",
       "      <td>2.072195e+00</td>\n",
       "      <td>2.905521e+01</td>\n",
       "      <td>7.571569e-04</td>\n",
       "      <td>0.974450</td>\n",
       "      <td>1.000000</td>\n",
       "      <td>1.026229</td>\n",
       "      <td>1.268673e+03</td>\n",
       "    </tr>\n",
       "    <tr>\n",
       "      <th>primary_cleaner_output_concentrate_sol</th>\n",
       "      <td>2.033876e+00</td>\n",
       "      <td>2.677935e+01</td>\n",
       "      <td>8.187996e-04</td>\n",
       "      <td>0.959543</td>\n",
       "      <td>1.000000</td>\n",
       "      <td>1.042078</td>\n",
       "      <td>1.305898e+03</td>\n",
       "    </tr>\n",
       "    <tr>\n",
       "      <th>primary_cleaner_output_concentrate_au</th>\n",
       "      <td>4.115857e+00</td>\n",
       "      <td>8.362164e+01</td>\n",
       "      <td>2.811624e-04</td>\n",
       "      <td>0.979769</td>\n",
       "      <td>1.000156</td>\n",
       "      <td>1.021148</td>\n",
       "      <td>3.656121e+03</td>\n",
       "    </tr>\n",
       "    <tr>\n",
       "      <th>primary_cleaner_output_tail_ag</th>\n",
       "      <td>1.019534e+00</td>\n",
       "      <td>5.668809e-01</td>\n",
       "      <td>1.914034e-02</td>\n",
       "      <td>0.980243</td>\n",
       "      <td>0.999802</td>\n",
       "      <td>1.019950</td>\n",
       "      <td>3.640614e+01</td>\n",
       "    </tr>\n",
       "    <tr>\n",
       "      <th>primary_cleaner_output_tail_pb</th>\n",
       "      <td>1.023562e+00</td>\n",
       "      <td>5.917740e-01</td>\n",
       "      <td>1.965708e-02</td>\n",
       "      <td>0.958742</td>\n",
       "      <td>0.999655</td>\n",
       "      <td>1.041911</td>\n",
       "      <td>3.802256e+01</td>\n",
       "    </tr>\n",
       "    <tr>\n",
       "      <th>primary_cleaner_output_tail_sol</th>\n",
       "      <td>1.028921e+00</td>\n",
       "      <td>5.824501e-01</td>\n",
       "      <td>1.457766e-02</td>\n",
       "      <td>0.964262</td>\n",
       "      <td>1.000551</td>\n",
       "      <td>1.040022</td>\n",
       "      <td>3.745442e+01</td>\n",
       "    </tr>\n",
       "    <tr>\n",
       "      <th>primary_cleaner_output_tail_au</th>\n",
       "      <td>1.030685e+00</td>\n",
       "      <td>6.151499e-01</td>\n",
       "      <td>1.941359e-02</td>\n",
       "      <td>0.948151</td>\n",
       "      <td>0.997532</td>\n",
       "      <td>1.049858</td>\n",
       "      <td>3.827361e+01</td>\n",
       "    </tr>\n",
       "    <tr>\n",
       "      <th>primary_cleaner_state_floatbank8_a_air</th>\n",
       "      <td>1.728863e+01</td>\n",
       "      <td>1.936938e+03</td>\n",
       "      <td>4.812132e-05</td>\n",
       "      <td>0.999212</td>\n",
       "      <td>0.999985</td>\n",
       "      <td>1.000782</td>\n",
       "      <td>2.303338e+05</td>\n",
       "    </tr>\n",
       "    <tr>\n",
       "      <th>primary_cleaner_state_floatbank8_a_level</th>\n",
       "      <td>1.000056e+00</td>\n",
       "      <td>1.201493e-02</td>\n",
       "      <td>7.040040e-01</td>\n",
       "      <td>0.998758</td>\n",
       "      <td>0.999995</td>\n",
       "      <td>1.001210</td>\n",
       "      <td>1.424905e+00</td>\n",
       "    </tr>\n",
       "    <tr>\n",
       "      <th>primary_cleaner_state_floatbank8_b_air</th>\n",
       "      <td>1.266482e+01</td>\n",
       "      <td>1.387094e+03</td>\n",
       "      <td>6.562865e-05</td>\n",
       "      <td>0.999084</td>\n",
       "      <td>0.999997</td>\n",
       "      <td>1.000876</td>\n",
       "      <td>1.649486e+05</td>\n",
       "    </tr>\n",
       "    <tr>\n",
       "      <th>primary_cleaner_state_floatbank8_b_level</th>\n",
       "      <td>1.000094e+00</td>\n",
       "      <td>1.490432e-02</td>\n",
       "      <td>6.739192e-01</td>\n",
       "      <td>0.998694</td>\n",
       "      <td>0.999970</td>\n",
       "      <td>1.001292</td>\n",
       "      <td>1.425782e+00</td>\n",
       "    </tr>\n",
       "    <tr>\n",
       "      <th>primary_cleaner_state_floatbank8_c_air</th>\n",
       "      <td>7.747066e+00</td>\n",
       "      <td>7.989636e+02</td>\n",
       "      <td>1.142690e-04</td>\n",
       "      <td>0.999289</td>\n",
       "      <td>1.000016</td>\n",
       "      <td>1.000733</td>\n",
       "      <td>9.501975e+04</td>\n",
       "    </tr>\n",
       "    <tr>\n",
       "      <th>primary_cleaner_state_floatbank8_c_level</th>\n",
       "      <td>1.000254e+00</td>\n",
       "      <td>2.382696e-02</td>\n",
       "      <td>6.389577e-01</td>\n",
       "      <td>0.997788</td>\n",
       "      <td>0.999946</td>\n",
       "      <td>1.002094</td>\n",
       "      <td>1.722145e+00</td>\n",
       "    </tr>\n",
       "    <tr>\n",
       "      <th>primary_cleaner_state_floatbank8_d_air</th>\n",
       "      <td>1.254559e+01</td>\n",
       "      <td>1.372938e+03</td>\n",
       "      <td>6.558803e-05</td>\n",
       "      <td>0.998723</td>\n",
       "      <td>0.999986</td>\n",
       "      <td>1.001059</td>\n",
       "      <td>1.632710e+05</td>\n",
       "    </tr>\n",
       "    <tr>\n",
       "      <th>primary_cleaner_state_floatbank8_d_level</th>\n",
       "      <td>1.002306e+00</td>\n",
       "      <td>7.686182e-02</td>\n",
       "      <td>2.125436e-01</td>\n",
       "      <td>0.997933</td>\n",
       "      <td>0.999931</td>\n",
       "      <td>1.001840</td>\n",
       "      <td>3.203003e+00</td>\n",
       "    </tr>\n",
       "    <tr>\n",
       "      <th>rougher_calculation_sulfate_to_au_concentrate</th>\n",
       "      <td>1.178875e-01</td>\n",
       "      <td>8.250055e+01</td>\n",
       "      <td>-8.468093e+03</td>\n",
       "      <td>0.996038</td>\n",
       "      <td>1.000205</td>\n",
       "      <td>1.004699</td>\n",
       "      <td>1.500483e+03</td>\n",
       "    </tr>\n",
       "    <tr>\n",
       "      <th>rougher_calculation_floatbank10_sulfate_to_au_feed</th>\n",
       "      <td>1.781953e+00</td>\n",
       "      <td>1.259100e+02</td>\n",
       "      <td>-3.290532e+03</td>\n",
       "      <td>0.985887</td>\n",
       "      <td>0.999911</td>\n",
       "      <td>1.014100</td>\n",
       "      <td>1.453337e+04</td>\n",
       "    </tr>\n",
       "    <tr>\n",
       "      <th>rougher_calculation_floatbank11_sulfate_to_au_feed</th>\n",
       "      <td>1.563888e+00</td>\n",
       "      <td>1.075900e+02</td>\n",
       "      <td>-5.283675e+03</td>\n",
       "      <td>0.985513</td>\n",
       "      <td>0.999897</td>\n",
       "      <td>1.014449</td>\n",
       "      <td>8.983753e+03</td>\n",
       "    </tr>\n",
       "    <tr>\n",
       "      <th>rougher_calculation_au_pb_ratio</th>\n",
       "      <td>-2.044252e+01</td>\n",
       "      <td>1.214341e+03</td>\n",
       "      <td>-1.200838e+05</td>\n",
       "      <td>0.979429</td>\n",
       "      <td>1.000194</td>\n",
       "      <td>1.021434</td>\n",
       "      <td>4.578704e+01</td>\n",
       "    </tr>\n",
       "    <tr>\n",
       "      <th>rougher_input_feed_ag</th>\n",
       "      <td>1.056475e+00</td>\n",
       "      <td>6.036534e+00</td>\n",
       "      <td>6.200607e-03</td>\n",
       "      <td>0.982031</td>\n",
       "      <td>0.999867</td>\n",
       "      <td>1.017468</td>\n",
       "      <td>7.187991e+02</td>\n",
       "    </tr>\n",
       "    <tr>\n",
       "      <th>rougher_input_feed_pb</th>\n",
       "      <td>1.025752e+00</td>\n",
       "      <td>1.745549e+00</td>\n",
       "      <td>1.768520e-02</td>\n",
       "      <td>0.963027</td>\n",
       "      <td>0.999977</td>\n",
       "      <td>1.037533</td>\n",
       "      <td>2.064108e+02</td>\n",
       "    </tr>\n",
       "    <tr>\n",
       "      <th>rougher_input_feed_rate</th>\n",
       "      <td>1.233433e+01</td>\n",
       "      <td>4.995042e+02</td>\n",
       "      <td>2.574843e-05</td>\n",
       "      <td>0.986551</td>\n",
       "      <td>1.000477</td>\n",
       "      <td>1.017433</td>\n",
       "      <td>4.787225e+04</td>\n",
       "    </tr>\n",
       "    <tr>\n",
       "      <th>rougher_input_feed_size</th>\n",
       "      <td>1.007351e+00</td>\n",
       "      <td>2.020852e-01</td>\n",
       "      <td>6.011856e-02</td>\n",
       "      <td>0.981970</td>\n",
       "      <td>1.000017</td>\n",
       "      <td>1.020335</td>\n",
       "      <td>1.896645e+01</td>\n",
       "    </tr>\n",
       "    <tr>\n",
       "      <th>rougher_input_feed_sol</th>\n",
       "      <td>1.254737e+00</td>\n",
       "      <td>2.839885e+01</td>\n",
       "      <td>1.550734e-03</td>\n",
       "      <td>0.983834</td>\n",
       "      <td>1.000377</td>\n",
       "      <td>1.017714</td>\n",
       "      <td>3.362077e+03</td>\n",
       "    </tr>\n",
       "    <tr>\n",
       "      <th>rougher_input_feed_au</th>\n",
       "      <td>1.052621e+00</td>\n",
       "      <td>5.389300e+00</td>\n",
       "      <td>6.319447e-03</td>\n",
       "      <td>0.974604</td>\n",
       "      <td>1.000090</td>\n",
       "      <td>1.026439</td>\n",
       "      <td>6.417436e+02</td>\n",
       "    </tr>\n",
       "    <tr>\n",
       "      <th>rougher_input_floatbank10_sulfate</th>\n",
       "      <td>2.285535e+00</td>\n",
       "      <td>1.324577e+02</td>\n",
       "      <td>6.370970e-05</td>\n",
       "      <td>0.998740</td>\n",
       "      <td>1.000005</td>\n",
       "      <td>1.002325</td>\n",
       "      <td>1.569241e+04</td>\n",
       "    </tr>\n",
       "    <tr>\n",
       "      <th>rougher_input_floatbank10_xanthate</th>\n",
       "      <td>1.765685e+00</td>\n",
       "      <td>2.623804e+01</td>\n",
       "      <td>3.056420e-04</td>\n",
       "      <td>0.999411</td>\n",
       "      <td>1.000030</td>\n",
       "      <td>1.000738</td>\n",
       "      <td>1.356911e+03</td>\n",
       "    </tr>\n",
       "    <tr>\n",
       "      <th>rougher_input_floatbank11_sulfate</th>\n",
       "      <td>2.251871e+00</td>\n",
       "      <td>1.050262e+02</td>\n",
       "      <td>2.474151e-05</td>\n",
       "      <td>0.997363</td>\n",
       "      <td>1.000005</td>\n",
       "      <td>1.004866</td>\n",
       "      <td>1.234307e+04</td>\n",
       "    </tr>\n",
       "    <tr>\n",
       "      <th>rougher_input_floatbank11_xanthate</th>\n",
       "      <td>1.095993e+00</td>\n",
       "      <td>7.624132e+00</td>\n",
       "      <td>1.184693e-03</td>\n",
       "      <td>0.999484</td>\n",
       "      <td>1.000025</td>\n",
       "      <td>1.000656</td>\n",
       "      <td>8.785960e+02</td>\n",
       "    </tr>\n",
       "    <tr>\n",
       "      <th>rougher_output_concentrate_ag</th>\n",
       "      <td>1.081095e+00</td>\n",
       "      <td>8.322347e+00</td>\n",
       "      <td>6.125011e-03</td>\n",
       "      <td>0.980692</td>\n",
       "      <td>1.000065</td>\n",
       "      <td>1.019861</td>\n",
       "      <td>9.780343e+02</td>\n",
       "    </tr>\n",
       "    <tr>\n",
       "      <th>rougher_output_concentrate_pb</th>\n",
       "      <td>1.043547e+00</td>\n",
       "      <td>3.903758e+00</td>\n",
       "      <td>1.150957e-02</td>\n",
       "      <td>0.981444</td>\n",
       "      <td>0.999438</td>\n",
       "      <td>1.018988</td>\n",
       "      <td>4.581367e+02</td>\n",
       "    </tr>\n",
       "    <tr>\n",
       "      <th>rougher_output_concentrate_sol</th>\n",
       "      <td>1.185435e+00</td>\n",
       "      <td>2.050248e+01</td>\n",
       "      <td>2.443329e-03</td>\n",
       "      <td>0.987572</td>\n",
       "      <td>0.999658</td>\n",
       "      <td>1.011484</td>\n",
       "      <td>2.405665e+03</td>\n",
       "    </tr>\n",
       "    <tr>\n",
       "      <th>rougher_output_concentrate_au</th>\n",
       "      <td>1.122462e+00</td>\n",
       "      <td>1.312694e+01</td>\n",
       "      <td>3.506735e-03</td>\n",
       "      <td>0.984787</td>\n",
       "      <td>0.999691</td>\n",
       "      <td>1.013929</td>\n",
       "      <td>1.542570e+03</td>\n",
       "    </tr>\n",
       "    <tr>\n",
       "      <th>rougher_output_recovery</th>\n",
       "      <td>1.003680e+00</td>\n",
       "      <td>1.711670e-01</td>\n",
       "      <td>9.864802e-02</td>\n",
       "      <td>0.989277</td>\n",
       "      <td>1.000133</td>\n",
       "      <td>1.011294</td>\n",
       "      <td>1.850977e+01</td>\n",
       "    </tr>\n",
       "    <tr>\n",
       "      <th>rougher_output_tail_ag</th>\n",
       "      <td>1.001660e+00</td>\n",
       "      <td>8.405782e-02</td>\n",
       "      <td>1.640905e-01</td>\n",
       "      <td>0.979732</td>\n",
       "      <td>0.999444</td>\n",
       "      <td>1.019577</td>\n",
       "      <td>8.965841e+00</td>\n",
       "    </tr>\n",
       "    <tr>\n",
       "      <th>rougher_output_tail_pb</th>\n",
       "      <td>1.040100e+00</td>\n",
       "      <td>1.107839e+00</td>\n",
       "      <td>1.986337e-02</td>\n",
       "      <td>0.939361</td>\n",
       "      <td>0.998938</td>\n",
       "      <td>1.062557</td>\n",
       "      <td>1.060211e+02</td>\n",
       "    </tr>\n",
       "    <tr>\n",
       "      <th>rougher_output_tail_sol</th>\n",
       "      <td>1.004124e+00</td>\n",
       "      <td>1.165185e-01</td>\n",
       "      <td>1.537942e-01</td>\n",
       "      <td>0.978172</td>\n",
       "      <td>1.000842</td>\n",
       "      <td>1.024869</td>\n",
       "      <td>6.502194e+00</td>\n",
       "    </tr>\n",
       "    <tr>\n",
       "      <th>rougher_output_tail_au</th>\n",
       "      <td>1.016605e+00</td>\n",
       "      <td>3.630172e-01</td>\n",
       "      <td>8.390101e-02</td>\n",
       "      <td>0.949143</td>\n",
       "      <td>0.998701</td>\n",
       "      <td>1.050258</td>\n",
       "      <td>2.838929e+01</td>\n",
       "    </tr>\n",
       "    <tr>\n",
       "      <th>rougher_state_floatbank10_a_air</th>\n",
       "      <td>-1.177526e+00</td>\n",
       "      <td>2.045147e+02</td>\n",
       "      <td>-2.305363e+04</td>\n",
       "      <td>0.998675</td>\n",
       "      <td>0.999998</td>\n",
       "      <td>1.001288</td>\n",
       "      <td>4.178680e+00</td>\n",
       "    </tr>\n",
       "    <tr>\n",
       "      <th>rougher_state_floatbank10_a_level</th>\n",
       "      <td>1.000209e+00</td>\n",
       "      <td>2.263669e-02</td>\n",
       "      <td>5.759646e-01</td>\n",
       "      <td>0.999354</td>\n",
       "      <td>1.000005</td>\n",
       "      <td>1.000658</td>\n",
       "      <td>1.938214e+00</td>\n",
       "    </tr>\n",
       "    <tr>\n",
       "      <th>rougher_state_floatbank10_b_air</th>\n",
       "      <td>8.502397e-01</td>\n",
       "      <td>1.348017e+01</td>\n",
       "      <td>-1.457039e+03</td>\n",
       "      <td>0.998615</td>\n",
       "      <td>1.000011</td>\n",
       "      <td>1.001319</td>\n",
       "      <td>4.035838e+00</td>\n",
       "    </tr>\n",
       "    <tr>\n",
       "      <th>rougher_state_floatbank10_b_level</th>\n",
       "      <td>1.000120e+00</td>\n",
       "      <td>1.560587e-02</td>\n",
       "      <td>6.283741e-01</td>\n",
       "      <td>0.998966</td>\n",
       "      <td>0.999987</td>\n",
       "      <td>1.001002</td>\n",
       "      <td>1.669529e+00</td>\n",
       "    </tr>\n",
       "    <tr>\n",
       "      <th>rougher_state_floatbank10_c_air</th>\n",
       "      <td>-1.697246e+00</td>\n",
       "      <td>2.460447e+02</td>\n",
       "      <td>-2.708783e+04</td>\n",
       "      <td>0.998535</td>\n",
       "      <td>0.999990</td>\n",
       "      <td>1.001411</td>\n",
       "      <td>3.875536e+00</td>\n",
       "    </tr>\n",
       "    <tr>\n",
       "      <th>rougher_state_floatbank10_c_level</th>\n",
       "      <td>1.000107e+00</td>\n",
       "      <td>1.477527e-02</td>\n",
       "      <td>6.203543e-01</td>\n",
       "      <td>0.998604</td>\n",
       "      <td>1.000004</td>\n",
       "      <td>1.001425</td>\n",
       "      <td>1.715475e+00</td>\n",
       "    </tr>\n",
       "    <tr>\n",
       "      <th>rougher_state_floatbank10_d_air</th>\n",
       "      <td>4.117624e-01</td>\n",
       "      <td>6.407806e+01</td>\n",
       "      <td>-7.584741e+03</td>\n",
       "      <td>0.995730</td>\n",
       "      <td>0.999869</td>\n",
       "      <td>1.003925</td>\n",
       "      <td>3.025908e+00</td>\n",
       "    </tr>\n",
       "    <tr>\n",
       "      <th>rougher_state_floatbank10_d_level</th>\n",
       "      <td>1.000157e+00</td>\n",
       "      <td>1.770314e-02</td>\n",
       "      <td>6.256691e-01</td>\n",
       "      <td>0.997520</td>\n",
       "      <td>0.999957</td>\n",
       "      <td>1.002418</td>\n",
       "      <td>1.601438e+00</td>\n",
       "    </tr>\n",
       "    <tr>\n",
       "      <th>rougher_state_floatbank10_e_air</th>\n",
       "      <td>9.584101e-01</td>\n",
       "      <td>3.698171e+00</td>\n",
       "      <td>-3.895409e+02</td>\n",
       "      <td>0.998909</td>\n",
       "      <td>1.000017</td>\n",
       "      <td>1.001082</td>\n",
       "      <td>6.234054e+00</td>\n",
       "    </tr>\n",
       "    <tr>\n",
       "      <th>rougher_state_floatbank10_e_level</th>\n",
       "      <td>1.000137e+00</td>\n",
       "      <td>1.697712e-02</td>\n",
       "      <td>6.214097e-01</td>\n",
       "      <td>0.998340</td>\n",
       "      <td>0.999954</td>\n",
       "      <td>1.001632</td>\n",
       "      <td>1.675235e+00</td>\n",
       "    </tr>\n",
       "    <tr>\n",
       "      <th>rougher_state_floatbank10_f_air</th>\n",
       "      <td>9.713303e-01</td>\n",
       "      <td>2.805888e+00</td>\n",
       "      <td>-3.038625e+02</td>\n",
       "      <td>0.998978</td>\n",
       "      <td>1.000030</td>\n",
       "      <td>1.001008</td>\n",
       "      <td>2.981502e+01</td>\n",
       "    </tr>\n",
       "    <tr>\n",
       "      <th>rougher_state_floatbank10_f_level</th>\n",
       "      <td>1.000300e+00</td>\n",
       "      <td>2.567675e-02</td>\n",
       "      <td>4.879216e-01</td>\n",
       "      <td>0.997101</td>\n",
       "      <td>0.999991</td>\n",
       "      <td>1.002888</td>\n",
       "      <td>2.046191e+00</td>\n",
       "    </tr>\n",
       "    <tr>\n",
       "      <th>secondary_cleaner_output_tail_ag</th>\n",
       "      <td>1.068382e+00</td>\n",
       "      <td>5.041508e+00</td>\n",
       "      <td>2.730956e-03</td>\n",
       "      <td>0.983756</td>\n",
       "      <td>1.000198</td>\n",
       "      <td>1.016239</td>\n",
       "      <td>5.779774e+02</td>\n",
       "    </tr>\n",
       "    <tr>\n",
       "      <th>secondary_cleaner_output_tail_pb</th>\n",
       "      <td>1.073407e+00</td>\n",
       "      <td>5.295647e+00</td>\n",
       "      <td>2.788681e-03</td>\n",
       "      <td>0.968381</td>\n",
       "      <td>0.999815</td>\n",
       "      <td>1.031686</td>\n",
       "      <td>6.067535e+02</td>\n",
       "    </tr>\n",
       "    <tr>\n",
       "      <th>secondary_cleaner_output_tail_sol</th>\n",
       "      <td>1.092256e+00</td>\n",
       "      <td>5.343213e+00</td>\n",
       "      <td>3.080242e-03</td>\n",
       "      <td>0.949895</td>\n",
       "      <td>1.001190</td>\n",
       "      <td>1.055085</td>\n",
       "      <td>5.719139e+02</td>\n",
       "    </tr>\n",
       "    <tr>\n",
       "      <th>secondary_cleaner_output_tail_au</th>\n",
       "      <td>1.082915e+00</td>\n",
       "      <td>5.373693e+00</td>\n",
       "      <td>3.115158e-03</td>\n",
       "      <td>0.948241</td>\n",
       "      <td>0.997342</td>\n",
       "      <td>1.049181</td>\n",
       "      <td>6.153554e+02</td>\n",
       "    </tr>\n",
       "    <tr>\n",
       "      <th>secondary_cleaner_state_floatbank2_a_air</th>\n",
       "      <td>1.028105e+00</td>\n",
       "      <td>2.742099e+00</td>\n",
       "      <td>3.097030e-03</td>\n",
       "      <td>0.998491</td>\n",
       "      <td>0.999987</td>\n",
       "      <td>1.001538</td>\n",
       "      <td>3.235460e+02</td>\n",
       "    </tr>\n",
       "    <tr>\n",
       "      <th>secondary_cleaner_state_floatbank2_a_level</th>\n",
       "      <td>1.000835e+00</td>\n",
       "      <td>4.521114e-02</td>\n",
       "      <td>3.938378e-01</td>\n",
       "      <td>0.999099</td>\n",
       "      <td>0.999996</td>\n",
       "      <td>1.000845</td>\n",
       "      <td>3.492957e+00</td>\n",
       "    </tr>\n",
       "    <tr>\n",
       "      <th>secondary_cleaner_state_floatbank2_b_air</th>\n",
       "      <td>2.101678e+14</td>\n",
       "      <td>1.716458e+16</td>\n",
       "      <td>1.496597e-14</td>\n",
       "      <td>0.998546</td>\n",
       "      <td>1.000000</td>\n",
       "      <td>1.001414</td>\n",
       "      <td>1.896905e+18</td>\n",
       "    </tr>\n",
       "    <tr>\n",
       "      <th>secondary_cleaner_state_floatbank2_b_level</th>\n",
       "      <td>1.000534e+00</td>\n",
       "      <td>3.417676e-02</td>\n",
       "      <td>3.898423e-01</td>\n",
       "      <td>0.999313</td>\n",
       "      <td>0.999988</td>\n",
       "      <td>1.000646</td>\n",
       "      <td>2.216174e+00</td>\n",
       "    </tr>\n",
       "    <tr>\n",
       "      <th>secondary_cleaner_state_floatbank3_a_air</th>\n",
       "      <td>4.544817e+17</td>\n",
       "      <td>5.404321e+19</td>\n",
       "      <td>3.543068e-18</td>\n",
       "      <td>0.998921</td>\n",
       "      <td>1.000011</td>\n",
       "      <td>1.001091</td>\n",
       "      <td>6.426371e+21</td>\n",
       "    </tr>\n",
       "    <tr>\n",
       "      <th>secondary_cleaner_state_floatbank3_a_level</th>\n",
       "      <td>1.000318e+00</td>\n",
       "      <td>2.625897e-02</td>\n",
       "      <td>5.487420e-01</td>\n",
       "      <td>0.999209</td>\n",
       "      <td>0.999981</td>\n",
       "      <td>1.000781</td>\n",
       "      <td>1.885451e+00</td>\n",
       "    </tr>\n",
       "    <tr>\n",
       "      <th>secondary_cleaner_state_floatbank3_b_air</th>\n",
       "      <td>7.800933e+17</td>\n",
       "      <td>9.277536e+19</td>\n",
       "      <td>3.543069e-18</td>\n",
       "      <td>0.998661</td>\n",
       "      <td>0.999994</td>\n",
       "      <td>1.001344</td>\n",
       "      <td>1.103364e+22</td>\n",
       "    </tr>\n",
       "    <tr>\n",
       "      <th>secondary_cleaner_state_floatbank3_b_level</th>\n",
       "      <td>1.000773e+00</td>\n",
       "      <td>4.227727e-02</td>\n",
       "      <td>3.796494e-01</td>\n",
       "      <td>0.999513</td>\n",
       "      <td>0.999979</td>\n",
       "      <td>1.000425</td>\n",
       "      <td>2.927385e+00</td>\n",
       "    </tr>\n",
       "    <tr>\n",
       "      <th>secondary_cleaner_state_floatbank4_a_air</th>\n",
       "      <td>1.558026e+01</td>\n",
       "      <td>1.733606e+03</td>\n",
       "      <td>4.845515e-06</td>\n",
       "      <td>0.998530</td>\n",
       "      <td>1.000001</td>\n",
       "      <td>1.001483</td>\n",
       "      <td>2.061326e+05</td>\n",
       "    </tr>\n",
       "    <tr>\n",
       "      <th>secondary_cleaner_state_floatbank4_a_level</th>\n",
       "      <td>1.000277e+00</td>\n",
       "      <td>2.424656e-02</td>\n",
       "      <td>6.290813e-01</td>\n",
       "      <td>0.997545</td>\n",
       "      <td>0.999973</td>\n",
       "      <td>1.002383</td>\n",
       "      <td>1.903280e+00</td>\n",
       "    </tr>\n",
       "    <tr>\n",
       "      <th>secondary_cleaner_state_floatbank4_b_air</th>\n",
       "      <td>1.457064e+01</td>\n",
       "      <td>1.613887e+03</td>\n",
       "      <td>5.249269e-06</td>\n",
       "      <td>0.997870</td>\n",
       "      <td>0.999966</td>\n",
       "      <td>1.002070</td>\n",
       "      <td>1.919382e+05</td>\n",
       "    </tr>\n",
       "    <tr>\n",
       "      <th>secondary_cleaner_state_floatbank4_b_level</th>\n",
       "      <td>1.001141e+00</td>\n",
       "      <td>5.243210e-02</td>\n",
       "      <td>2.900209e-01</td>\n",
       "      <td>0.998540</td>\n",
       "      <td>0.999944</td>\n",
       "      <td>1.001312</td>\n",
       "      <td>2.574619e+00</td>\n",
       "    </tr>\n",
       "    <tr>\n",
       "      <th>secondary_cleaner_state_floatbank5_a_air</th>\n",
       "      <td>9.896225e-01</td>\n",
       "      <td>9.502422e-01</td>\n",
       "      <td>-9.300179e+01</td>\n",
       "      <td>0.998078</td>\n",
       "      <td>0.999983</td>\n",
       "      <td>1.001819</td>\n",
       "      <td>8.964354e+00</td>\n",
       "    </tr>\n",
       "    <tr>\n",
       "      <th>secondary_cleaner_state_floatbank5_a_level</th>\n",
       "      <td>1.000292e+00</td>\n",
       "      <td>2.512959e-02</td>\n",
       "      <td>5.030115e-01</td>\n",
       "      <td>0.998068</td>\n",
       "      <td>0.999916</td>\n",
       "      <td>1.001779</td>\n",
       "      <td>1.864889e+00</td>\n",
       "    </tr>\n",
       "    <tr>\n",
       "      <th>secondary_cleaner_state_floatbank5_b_air</th>\n",
       "      <td>1.002859e+00</td>\n",
       "      <td>1.858266e-01</td>\n",
       "      <td>4.770506e-02</td>\n",
       "      <td>0.998088</td>\n",
       "      <td>0.999943</td>\n",
       "      <td>1.001726</td>\n",
       "      <td>2.088311e+01</td>\n",
       "    </tr>\n",
       "    <tr>\n",
       "      <th>secondary_cleaner_state_floatbank5_b_level</th>\n",
       "      <td>1.000716e+00</td>\n",
       "      <td>4.233529e-02</td>\n",
       "      <td>3.628686e-01</td>\n",
       "      <td>0.999504</td>\n",
       "      <td>0.999998</td>\n",
       "      <td>1.000471</td>\n",
       "      <td>3.098876e+00</td>\n",
       "    </tr>\n",
       "    <tr>\n",
       "      <th>secondary_cleaner_state_floatbank6_a_air</th>\n",
       "      <td>1.017081e+00</td>\n",
       "      <td>1.044961e+00</td>\n",
       "      <td>1.195506e-02</td>\n",
       "      <td>0.999045</td>\n",
       "      <td>0.999990</td>\n",
       "      <td>1.000932</td>\n",
       "      <td>7.706245e+01</td>\n",
       "    </tr>\n",
       "    <tr>\n",
       "      <th>secondary_cleaner_state_floatbank6_a_level</th>\n",
       "      <td>1.000537e+00</td>\n",
       "      <td>4.075996e-02</td>\n",
       "      <td>2.937731e-01</td>\n",
       "      <td>0.998396</td>\n",
       "      <td>0.999970</td>\n",
       "      <td>1.001557</td>\n",
       "      <td>4.396011e+00</td>\n",
       "    </tr>\n",
       "  </tbody>\n",
       "</table>\n",
       "</div>"
      ],
      "text/plain": [
       "                                                            mean   \n",
       "final_output_concentrate_ag                         1.069630e+00  \\\n",
       "final_output_concentrate_pb                         1.085184e+00   \n",
       "final_output_concentrate_sol                        1.072298e+00   \n",
       "final_output_concentrate_au                         1.240736e+00   \n",
       "final_output_recovery                               1.056810e+00   \n",
       "final_output_tail_ag                                1.072221e+00   \n",
       "final_output_tail_pb                                1.077305e+00   \n",
       "final_output_tail_sol                               1.041791e+00   \n",
       "final_output_tail_au                                1.073110e+00   \n",
       "primary_cleaner_input_sulfate                       1.126446e+00   \n",
       "primary_cleaner_input_depressant                    1.094755e+00   \n",
       "primary_cleaner_input_feed_size                     1.000770e+00   \n",
       "primary_cleaner_input_xanthate                      1.600637e+01   \n",
       "primary_cleaner_output_concentrate_ag               1.832806e+00   \n",
       "primary_cleaner_output_concentrate_pb               2.072195e+00   \n",
       "primary_cleaner_output_concentrate_sol              2.033876e+00   \n",
       "primary_cleaner_output_concentrate_au               4.115857e+00   \n",
       "primary_cleaner_output_tail_ag                      1.019534e+00   \n",
       "primary_cleaner_output_tail_pb                      1.023562e+00   \n",
       "primary_cleaner_output_tail_sol                     1.028921e+00   \n",
       "primary_cleaner_output_tail_au                      1.030685e+00   \n",
       "primary_cleaner_state_floatbank8_a_air              1.728863e+01   \n",
       "primary_cleaner_state_floatbank8_a_level            1.000056e+00   \n",
       "primary_cleaner_state_floatbank8_b_air              1.266482e+01   \n",
       "primary_cleaner_state_floatbank8_b_level            1.000094e+00   \n",
       "primary_cleaner_state_floatbank8_c_air              7.747066e+00   \n",
       "primary_cleaner_state_floatbank8_c_level            1.000254e+00   \n",
       "primary_cleaner_state_floatbank8_d_air              1.254559e+01   \n",
       "primary_cleaner_state_floatbank8_d_level            1.002306e+00   \n",
       "rougher_calculation_sulfate_to_au_concentrate       1.178875e-01   \n",
       "rougher_calculation_floatbank10_sulfate_to_au_feed  1.781953e+00   \n",
       "rougher_calculation_floatbank11_sulfate_to_au_feed  1.563888e+00   \n",
       "rougher_calculation_au_pb_ratio                    -2.044252e+01   \n",
       "rougher_input_feed_ag                               1.056475e+00   \n",
       "rougher_input_feed_pb                               1.025752e+00   \n",
       "rougher_input_feed_rate                             1.233433e+01   \n",
       "rougher_input_feed_size                             1.007351e+00   \n",
       "rougher_input_feed_sol                              1.254737e+00   \n",
       "rougher_input_feed_au                               1.052621e+00   \n",
       "rougher_input_floatbank10_sulfate                   2.285535e+00   \n",
       "rougher_input_floatbank10_xanthate                  1.765685e+00   \n",
       "rougher_input_floatbank11_sulfate                   2.251871e+00   \n",
       "rougher_input_floatbank11_xanthate                  1.095993e+00   \n",
       "rougher_output_concentrate_ag                       1.081095e+00   \n",
       "rougher_output_concentrate_pb                       1.043547e+00   \n",
       "rougher_output_concentrate_sol                      1.185435e+00   \n",
       "rougher_output_concentrate_au                       1.122462e+00   \n",
       "rougher_output_recovery                             1.003680e+00   \n",
       "rougher_output_tail_ag                              1.001660e+00   \n",
       "rougher_output_tail_pb                              1.040100e+00   \n",
       "rougher_output_tail_sol                             1.004124e+00   \n",
       "rougher_output_tail_au                              1.016605e+00   \n",
       "rougher_state_floatbank10_a_air                    -1.177526e+00   \n",
       "rougher_state_floatbank10_a_level                   1.000209e+00   \n",
       "rougher_state_floatbank10_b_air                     8.502397e-01   \n",
       "rougher_state_floatbank10_b_level                   1.000120e+00   \n",
       "rougher_state_floatbank10_c_air                    -1.697246e+00   \n",
       "rougher_state_floatbank10_c_level                   1.000107e+00   \n",
       "rougher_state_floatbank10_d_air                     4.117624e-01   \n",
       "rougher_state_floatbank10_d_level                   1.000157e+00   \n",
       "rougher_state_floatbank10_e_air                     9.584101e-01   \n",
       "rougher_state_floatbank10_e_level                   1.000137e+00   \n",
       "rougher_state_floatbank10_f_air                     9.713303e-01   \n",
       "rougher_state_floatbank10_f_level                   1.000300e+00   \n",
       "secondary_cleaner_output_tail_ag                    1.068382e+00   \n",
       "secondary_cleaner_output_tail_pb                    1.073407e+00   \n",
       "secondary_cleaner_output_tail_sol                   1.092256e+00   \n",
       "secondary_cleaner_output_tail_au                    1.082915e+00   \n",
       "secondary_cleaner_state_floatbank2_a_air            1.028105e+00   \n",
       "secondary_cleaner_state_floatbank2_a_level          1.000835e+00   \n",
       "secondary_cleaner_state_floatbank2_b_air            2.101678e+14   \n",
       "secondary_cleaner_state_floatbank2_b_level          1.000534e+00   \n",
       "secondary_cleaner_state_floatbank3_a_air            4.544817e+17   \n",
       "secondary_cleaner_state_floatbank3_a_level          1.000318e+00   \n",
       "secondary_cleaner_state_floatbank3_b_air            7.800933e+17   \n",
       "secondary_cleaner_state_floatbank3_b_level          1.000773e+00   \n",
       "secondary_cleaner_state_floatbank4_a_air            1.558026e+01   \n",
       "secondary_cleaner_state_floatbank4_a_level          1.000277e+00   \n",
       "secondary_cleaner_state_floatbank4_b_air            1.457064e+01   \n",
       "secondary_cleaner_state_floatbank4_b_level          1.001141e+00   \n",
       "secondary_cleaner_state_floatbank5_a_air            9.896225e-01   \n",
       "secondary_cleaner_state_floatbank5_a_level          1.000292e+00   \n",
       "secondary_cleaner_state_floatbank5_b_air            1.002859e+00   \n",
       "secondary_cleaner_state_floatbank5_b_level          1.000716e+00   \n",
       "secondary_cleaner_state_floatbank6_a_air            1.017081e+00   \n",
       "secondary_cleaner_state_floatbank6_a_level          1.000537e+00   \n",
       "\n",
       "                                                             std   \n",
       "final_output_concentrate_ag                         6.306168e+00  \\\n",
       "final_output_concentrate_pb                         8.539576e+00   \n",
       "final_output_concentrate_sol                        6.539618e+00   \n",
       "final_output_concentrate_au                         2.680976e+01   \n",
       "final_output_recovery                               3.733886e+00   \n",
       "final_output_tail_ag                                3.626008e+00   \n",
       "final_output_tail_pb                                3.980902e+00   \n",
       "final_output_tail_sol                               1.034252e+00   \n",
       "final_output_tail_au                                3.501650e+00   \n",
       "primary_cleaner_input_sulfate                       7.463737e+00   \n",
       "primary_cleaner_input_depressant                    4.955265e+00   \n",
       "primary_cleaner_input_feed_size                     5.716649e-02   \n",
       "primary_cleaner_input_xanthate                      1.746003e+03   \n",
       "primary_cleaner_output_concentrate_ag               2.166607e+01   \n",
       "primary_cleaner_output_concentrate_pb               2.905521e+01   \n",
       "primary_cleaner_output_concentrate_sol              2.677935e+01   \n",
       "primary_cleaner_output_concentrate_au               8.362164e+01   \n",
       "primary_cleaner_output_tail_ag                      5.668809e-01   \n",
       "primary_cleaner_output_tail_pb                      5.917740e-01   \n",
       "primary_cleaner_output_tail_sol                     5.824501e-01   \n",
       "primary_cleaner_output_tail_au                      6.151499e-01   \n",
       "primary_cleaner_state_floatbank8_a_air              1.936938e+03   \n",
       "primary_cleaner_state_floatbank8_a_level            1.201493e-02   \n",
       "primary_cleaner_state_floatbank8_b_air              1.387094e+03   \n",
       "primary_cleaner_state_floatbank8_b_level            1.490432e-02   \n",
       "primary_cleaner_state_floatbank8_c_air              7.989636e+02   \n",
       "primary_cleaner_state_floatbank8_c_level            2.382696e-02   \n",
       "primary_cleaner_state_floatbank8_d_air              1.372938e+03   \n",
       "primary_cleaner_state_floatbank8_d_level            7.686182e-02   \n",
       "rougher_calculation_sulfate_to_au_concentrate       8.250055e+01   \n",
       "rougher_calculation_floatbank10_sulfate_to_au_feed  1.259100e+02   \n",
       "rougher_calculation_floatbank11_sulfate_to_au_feed  1.075900e+02   \n",
       "rougher_calculation_au_pb_ratio                     1.214341e+03   \n",
       "rougher_input_feed_ag                               6.036534e+00   \n",
       "rougher_input_feed_pb                               1.745549e+00   \n",
       "rougher_input_feed_rate                             4.995042e+02   \n",
       "rougher_input_feed_size                             2.020852e-01   \n",
       "rougher_input_feed_sol                              2.839885e+01   \n",
       "rougher_input_feed_au                               5.389300e+00   \n",
       "rougher_input_floatbank10_sulfate                   1.324577e+02   \n",
       "rougher_input_floatbank10_xanthate                  2.623804e+01   \n",
       "rougher_input_floatbank11_sulfate                   1.050262e+02   \n",
       "rougher_input_floatbank11_xanthate                  7.624132e+00   \n",
       "rougher_output_concentrate_ag                       8.322347e+00   \n",
       "rougher_output_concentrate_pb                       3.903758e+00   \n",
       "rougher_output_concentrate_sol                      2.050248e+01   \n",
       "rougher_output_concentrate_au                       1.312694e+01   \n",
       "rougher_output_recovery                             1.711670e-01   \n",
       "rougher_output_tail_ag                              8.405782e-02   \n",
       "rougher_output_tail_pb                              1.107839e+00   \n",
       "rougher_output_tail_sol                             1.165185e-01   \n",
       "rougher_output_tail_au                              3.630172e-01   \n",
       "rougher_state_floatbank10_a_air                     2.045147e+02   \n",
       "rougher_state_floatbank10_a_level                   2.263669e-02   \n",
       "rougher_state_floatbank10_b_air                     1.348017e+01   \n",
       "rougher_state_floatbank10_b_level                   1.560587e-02   \n",
       "rougher_state_floatbank10_c_air                     2.460447e+02   \n",
       "rougher_state_floatbank10_c_level                   1.477527e-02   \n",
       "rougher_state_floatbank10_d_air                     6.407806e+01   \n",
       "rougher_state_floatbank10_d_level                   1.770314e-02   \n",
       "rougher_state_floatbank10_e_air                     3.698171e+00   \n",
       "rougher_state_floatbank10_e_level                   1.697712e-02   \n",
       "rougher_state_floatbank10_f_air                     2.805888e+00   \n",
       "rougher_state_floatbank10_f_level                   2.567675e-02   \n",
       "secondary_cleaner_output_tail_ag                    5.041508e+00   \n",
       "secondary_cleaner_output_tail_pb                    5.295647e+00   \n",
       "secondary_cleaner_output_tail_sol                   5.343213e+00   \n",
       "secondary_cleaner_output_tail_au                    5.373693e+00   \n",
       "secondary_cleaner_state_floatbank2_a_air            2.742099e+00   \n",
       "secondary_cleaner_state_floatbank2_a_level          4.521114e-02   \n",
       "secondary_cleaner_state_floatbank2_b_air            1.716458e+16   \n",
       "secondary_cleaner_state_floatbank2_b_level          3.417676e-02   \n",
       "secondary_cleaner_state_floatbank3_a_air            5.404321e+19   \n",
       "secondary_cleaner_state_floatbank3_a_level          2.625897e-02   \n",
       "secondary_cleaner_state_floatbank3_b_air            9.277536e+19   \n",
       "secondary_cleaner_state_floatbank3_b_level          4.227727e-02   \n",
       "secondary_cleaner_state_floatbank4_a_air            1.733606e+03   \n",
       "secondary_cleaner_state_floatbank4_a_level          2.424656e-02   \n",
       "secondary_cleaner_state_floatbank4_b_air            1.613887e+03   \n",
       "secondary_cleaner_state_floatbank4_b_level          5.243210e-02   \n",
       "secondary_cleaner_state_floatbank5_a_air            9.502422e-01   \n",
       "secondary_cleaner_state_floatbank5_a_level          2.512959e-02   \n",
       "secondary_cleaner_state_floatbank5_b_air            1.858266e-01   \n",
       "secondary_cleaner_state_floatbank5_b_level          4.233529e-02   \n",
       "secondary_cleaner_state_floatbank6_a_air            1.044961e+00   \n",
       "secondary_cleaner_state_floatbank6_a_level          4.075996e-02   \n",
       "\n",
       "                                                             min       25%   \n",
       "final_output_concentrate_ag                         1.681717e-02  0.955739  \\\n",
       "final_output_concentrate_pb                         7.200904e-03  0.978511   \n",
       "final_output_concentrate_sol                        4.927757e-03  0.976309   \n",
       "final_output_concentrate_au                         1.049578e-03  0.987300   \n",
       "final_output_recovery                               1.957415e-03  0.974323   \n",
       "final_output_tail_ag                                3.288325e-03  0.980182   \n",
       "final_output_tail_pb                                3.173327e-03  0.958539   \n",
       "final_output_tail_sol                               9.394880e-03  0.973081   \n",
       "final_output_tail_au                                3.474860e-03  0.954618   \n",
       "primary_cleaner_input_sulfate                       9.041031e-04  0.969067   \n",
       "primary_cleaner_input_depressant                    1.629512e-03  0.995287   \n",
       "primary_cleaner_input_feed_size                     1.553967e-01  1.000000   \n",
       "primary_cleaner_input_xanthate                      9.004459e-06  0.983456   \n",
       "primary_cleaner_output_concentrate_ag               9.694913e-04  0.963954   \n",
       "primary_cleaner_output_concentrate_pb               7.571569e-04  0.974450   \n",
       "primary_cleaner_output_concentrate_sol              8.187996e-04  0.959543   \n",
       "primary_cleaner_output_concentrate_au               2.811624e-04  0.979769   \n",
       "primary_cleaner_output_tail_ag                      1.914034e-02  0.980243   \n",
       "primary_cleaner_output_tail_pb                      1.965708e-02  0.958742   \n",
       "primary_cleaner_output_tail_sol                     1.457766e-02  0.964262   \n",
       "primary_cleaner_output_tail_au                      1.941359e-02  0.948151   \n",
       "primary_cleaner_state_floatbank8_a_air              4.812132e-05  0.999212   \n",
       "primary_cleaner_state_floatbank8_a_level            7.040040e-01  0.998758   \n",
       "primary_cleaner_state_floatbank8_b_air              6.562865e-05  0.999084   \n",
       "primary_cleaner_state_floatbank8_b_level            6.739192e-01  0.998694   \n",
       "primary_cleaner_state_floatbank8_c_air              1.142690e-04  0.999289   \n",
       "primary_cleaner_state_floatbank8_c_level            6.389577e-01  0.997788   \n",
       "primary_cleaner_state_floatbank8_d_air              6.558803e-05  0.998723   \n",
       "primary_cleaner_state_floatbank8_d_level            2.125436e-01  0.997933   \n",
       "rougher_calculation_sulfate_to_au_concentrate      -8.468093e+03  0.996038   \n",
       "rougher_calculation_floatbank10_sulfate_to_au_feed -3.290532e+03  0.985887   \n",
       "rougher_calculation_floatbank11_sulfate_to_au_feed -5.283675e+03  0.985513   \n",
       "rougher_calculation_au_pb_ratio                    -1.200838e+05  0.979429   \n",
       "rougher_input_feed_ag                               6.200607e-03  0.982031   \n",
       "rougher_input_feed_pb                               1.768520e-02  0.963027   \n",
       "rougher_input_feed_rate                             2.574843e-05  0.986551   \n",
       "rougher_input_feed_size                             6.011856e-02  0.981970   \n",
       "rougher_input_feed_sol                              1.550734e-03  0.983834   \n",
       "rougher_input_feed_au                               6.319447e-03  0.974604   \n",
       "rougher_input_floatbank10_sulfate                   6.370970e-05  0.998740   \n",
       "rougher_input_floatbank10_xanthate                  3.056420e-04  0.999411   \n",
       "rougher_input_floatbank11_sulfate                   2.474151e-05  0.997363   \n",
       "rougher_input_floatbank11_xanthate                  1.184693e-03  0.999484   \n",
       "rougher_output_concentrate_ag                       6.125011e-03  0.980692   \n",
       "rougher_output_concentrate_pb                       1.150957e-02  0.981444   \n",
       "rougher_output_concentrate_sol                      2.443329e-03  0.987572   \n",
       "rougher_output_concentrate_au                       3.506735e-03  0.984787   \n",
       "rougher_output_recovery                             9.864802e-02  0.989277   \n",
       "rougher_output_tail_ag                              1.640905e-01  0.979732   \n",
       "rougher_output_tail_pb                              1.986337e-02  0.939361   \n",
       "rougher_output_tail_sol                             1.537942e-01  0.978172   \n",
       "rougher_output_tail_au                              8.390101e-02  0.949143   \n",
       "rougher_state_floatbank10_a_air                    -2.305363e+04  0.998675   \n",
       "rougher_state_floatbank10_a_level                   5.759646e-01  0.999354   \n",
       "rougher_state_floatbank10_b_air                    -1.457039e+03  0.998615   \n",
       "rougher_state_floatbank10_b_level                   6.283741e-01  0.998966   \n",
       "rougher_state_floatbank10_c_air                    -2.708783e+04  0.998535   \n",
       "rougher_state_floatbank10_c_level                   6.203543e-01  0.998604   \n",
       "rougher_state_floatbank10_d_air                    -7.584741e+03  0.995730   \n",
       "rougher_state_floatbank10_d_level                   6.256691e-01  0.997520   \n",
       "rougher_state_floatbank10_e_air                    -3.895409e+02  0.998909   \n",
       "rougher_state_floatbank10_e_level                   6.214097e-01  0.998340   \n",
       "rougher_state_floatbank10_f_air                    -3.038625e+02  0.998978   \n",
       "rougher_state_floatbank10_f_level                   4.879216e-01  0.997101   \n",
       "secondary_cleaner_output_tail_ag                    2.730956e-03  0.983756   \n",
       "secondary_cleaner_output_tail_pb                    2.788681e-03  0.968381   \n",
       "secondary_cleaner_output_tail_sol                   3.080242e-03  0.949895   \n",
       "secondary_cleaner_output_tail_au                    3.115158e-03  0.948241   \n",
       "secondary_cleaner_state_floatbank2_a_air            3.097030e-03  0.998491   \n",
       "secondary_cleaner_state_floatbank2_a_level          3.938378e-01  0.999099   \n",
       "secondary_cleaner_state_floatbank2_b_air            1.496597e-14  0.998546   \n",
       "secondary_cleaner_state_floatbank2_b_level          3.898423e-01  0.999313   \n",
       "secondary_cleaner_state_floatbank3_a_air            3.543068e-18  0.998921   \n",
       "secondary_cleaner_state_floatbank3_a_level          5.487420e-01  0.999209   \n",
       "secondary_cleaner_state_floatbank3_b_air            3.543069e-18  0.998661   \n",
       "secondary_cleaner_state_floatbank3_b_level          3.796494e-01  0.999513   \n",
       "secondary_cleaner_state_floatbank4_a_air            4.845515e-06  0.998530   \n",
       "secondary_cleaner_state_floatbank4_a_level          6.290813e-01  0.997545   \n",
       "secondary_cleaner_state_floatbank4_b_air            5.249269e-06  0.997870   \n",
       "secondary_cleaner_state_floatbank4_b_level          2.900209e-01  0.998540   \n",
       "secondary_cleaner_state_floatbank5_a_air           -9.300179e+01  0.998078   \n",
       "secondary_cleaner_state_floatbank5_a_level          5.030115e-01  0.998068   \n",
       "secondary_cleaner_state_floatbank5_b_air            4.770506e-02  0.998088   \n",
       "secondary_cleaner_state_floatbank5_b_level          3.628686e-01  0.999504   \n",
       "secondary_cleaner_state_floatbank6_a_air            1.195506e-02  0.999045   \n",
       "secondary_cleaner_state_floatbank6_a_level          2.937731e-01  0.998396   \n",
       "\n",
       "                                                         50%       75%   \n",
       "final_output_concentrate_ag                         0.998548  1.042934  \\\n",
       "final_output_concentrate_pb                         0.999756  1.021603   \n",
       "final_output_concentrate_sol                        1.000062  1.024438   \n",
       "final_output_concentrate_au                         1.000570  1.013707   \n",
       "final_output_recovery                               1.000000  1.026833   \n",
       "final_output_tail_ag                                1.000329  1.020557   \n",
       "final_output_tail_pb                                0.999889  1.043833   \n",
       "final_output_tail_sol                               1.001129  1.030924   \n",
       "final_output_tail_au                                1.000140  1.045613   \n",
       "primary_cleaner_input_sulfate                       1.000372  1.036488   \n",
       "primary_cleaner_input_depressant                    0.999976  1.005027   \n",
       "primary_cleaner_input_feed_size                     1.000000  1.000000   \n",
       "primary_cleaner_input_xanthate                      1.000469  1.019763   \n",
       "primary_cleaner_output_concentrate_ag               1.000000  1.036162   \n",
       "primary_cleaner_output_concentrate_pb               1.000000  1.026229   \n",
       "primary_cleaner_output_concentrate_sol              1.000000  1.042078   \n",
       "primary_cleaner_output_concentrate_au               1.000156  1.021148   \n",
       "primary_cleaner_output_tail_ag                      0.999802  1.019950   \n",
       "primary_cleaner_output_tail_pb                      0.999655  1.041911   \n",
       "primary_cleaner_output_tail_sol                     1.000551  1.040022   \n",
       "primary_cleaner_output_tail_au                      0.997532  1.049858   \n",
       "primary_cleaner_state_floatbank8_a_air              0.999985  1.000782   \n",
       "primary_cleaner_state_floatbank8_a_level            0.999995  1.001210   \n",
       "primary_cleaner_state_floatbank8_b_air              0.999997  1.000876   \n",
       "primary_cleaner_state_floatbank8_b_level            0.999970  1.001292   \n",
       "primary_cleaner_state_floatbank8_c_air              1.000016  1.000733   \n",
       "primary_cleaner_state_floatbank8_c_level            0.999946  1.002094   \n",
       "primary_cleaner_state_floatbank8_d_air              0.999986  1.001059   \n",
       "primary_cleaner_state_floatbank8_d_level            0.999931  1.001840   \n",
       "rougher_calculation_sulfate_to_au_concentrate       1.000205  1.004699   \n",
       "rougher_calculation_floatbank10_sulfate_to_au_feed  0.999911  1.014100   \n",
       "rougher_calculation_floatbank11_sulfate_to_au_feed  0.999897  1.014449   \n",
       "rougher_calculation_au_pb_ratio                     1.000194  1.021434   \n",
       "rougher_input_feed_ag                               0.999867  1.017468   \n",
       "rougher_input_feed_pb                               0.999977  1.037533   \n",
       "rougher_input_feed_rate                             1.000477  1.017433   \n",
       "rougher_input_feed_size                             1.000017  1.020335   \n",
       "rougher_input_feed_sol                              1.000377  1.017714   \n",
       "rougher_input_feed_au                               1.000090  1.026439   \n",
       "rougher_input_floatbank10_sulfate                   1.000005  1.002325   \n",
       "rougher_input_floatbank10_xanthate                  1.000030  1.000738   \n",
       "rougher_input_floatbank11_sulfate                   1.000005  1.004866   \n",
       "rougher_input_floatbank11_xanthate                  1.000025  1.000656   \n",
       "rougher_output_concentrate_ag                       1.000065  1.019861   \n",
       "rougher_output_concentrate_pb                       0.999438  1.018988   \n",
       "rougher_output_concentrate_sol                      0.999658  1.011484   \n",
       "rougher_output_concentrate_au                       0.999691  1.013929   \n",
       "rougher_output_recovery                             1.000133  1.011294   \n",
       "rougher_output_tail_ag                              0.999444  1.019577   \n",
       "rougher_output_tail_pb                              0.998938  1.062557   \n",
       "rougher_output_tail_sol                             1.000842  1.024869   \n",
       "rougher_output_tail_au                              0.998701  1.050258   \n",
       "rougher_state_floatbank10_a_air                     0.999998  1.001288   \n",
       "rougher_state_floatbank10_a_level                   1.000005  1.000658   \n",
       "rougher_state_floatbank10_b_air                     1.000011  1.001319   \n",
       "rougher_state_floatbank10_b_level                   0.999987  1.001002   \n",
       "rougher_state_floatbank10_c_air                     0.999990  1.001411   \n",
       "rougher_state_floatbank10_c_level                   1.000004  1.001425   \n",
       "rougher_state_floatbank10_d_air                     0.999869  1.003925   \n",
       "rougher_state_floatbank10_d_level                   0.999957  1.002418   \n",
       "rougher_state_floatbank10_e_air                     1.000017  1.001082   \n",
       "rougher_state_floatbank10_e_level                   0.999954  1.001632   \n",
       "rougher_state_floatbank10_f_air                     1.000030  1.001008   \n",
       "rougher_state_floatbank10_f_level                   0.999991  1.002888   \n",
       "secondary_cleaner_output_tail_ag                    1.000198  1.016239   \n",
       "secondary_cleaner_output_tail_pb                    0.999815  1.031686   \n",
       "secondary_cleaner_output_tail_sol                   1.001190  1.055085   \n",
       "secondary_cleaner_output_tail_au                    0.997342  1.049181   \n",
       "secondary_cleaner_state_floatbank2_a_air            0.999987  1.001538   \n",
       "secondary_cleaner_state_floatbank2_a_level          0.999996  1.000845   \n",
       "secondary_cleaner_state_floatbank2_b_air            1.000000  1.001414   \n",
       "secondary_cleaner_state_floatbank2_b_level          0.999988  1.000646   \n",
       "secondary_cleaner_state_floatbank3_a_air            1.000011  1.001091   \n",
       "secondary_cleaner_state_floatbank3_a_level          0.999981  1.000781   \n",
       "secondary_cleaner_state_floatbank3_b_air            0.999994  1.001344   \n",
       "secondary_cleaner_state_floatbank3_b_level          0.999979  1.000425   \n",
       "secondary_cleaner_state_floatbank4_a_air            1.000001  1.001483   \n",
       "secondary_cleaner_state_floatbank4_a_level          0.999973  1.002383   \n",
       "secondary_cleaner_state_floatbank4_b_air            0.999966  1.002070   \n",
       "secondary_cleaner_state_floatbank4_b_level          0.999944  1.001312   \n",
       "secondary_cleaner_state_floatbank5_a_air            0.999983  1.001819   \n",
       "secondary_cleaner_state_floatbank5_a_level          0.999916  1.001779   \n",
       "secondary_cleaner_state_floatbank5_b_air            0.999943  1.001726   \n",
       "secondary_cleaner_state_floatbank5_b_level          0.999998  1.000471   \n",
       "secondary_cleaner_state_floatbank6_a_air            0.999990  1.000932   \n",
       "secondary_cleaner_state_floatbank6_a_level          0.999970  1.001557   \n",
       "\n",
       "                                                             max  \n",
       "final_output_concentrate_ag                         7.477529e+02  \n",
       "final_output_concentrate_pb                         1.012829e+03  \n",
       "final_output_concentrate_sol                        7.679531e+02  \n",
       "final_output_concentrate_au                         3.179634e+03  \n",
       "final_output_recovery                               4.024065e+02  \n",
       "final_output_tail_ag                                3.981129e+02  \n",
       "final_output_tail_pb                                4.482781e+02  \n",
       "final_output_tail_sol                               6.808512e+01  \n",
       "final_output_tail_au                                3.839970e+02  \n",
       "primary_cleaner_input_sulfate                       6.022080e+02  \n",
       "primary_cleaner_input_depressant                    4.148530e+02  \n",
       "primary_cleaner_input_feed_size                     6.750000e+00  \n",
       "primary_cleaner_input_xanthate                      2.066323e+05  \n",
       "primary_cleaner_output_concentrate_ag               9.739096e+02  \n",
       "primary_cleaner_output_concentrate_pb               1.268673e+03  \n",
       "primary_cleaner_output_concentrate_sol              1.305898e+03  \n",
       "primary_cleaner_output_concentrate_au               3.656121e+03  \n",
       "primary_cleaner_output_tail_ag                      3.640614e+01  \n",
       "primary_cleaner_output_tail_pb                      3.802256e+01  \n",
       "primary_cleaner_output_tail_sol                     3.745442e+01  \n",
       "primary_cleaner_output_tail_au                      3.827361e+01  \n",
       "primary_cleaner_state_floatbank8_a_air              2.303338e+05  \n",
       "primary_cleaner_state_floatbank8_a_level            1.424905e+00  \n",
       "primary_cleaner_state_floatbank8_b_air              1.649486e+05  \n",
       "primary_cleaner_state_floatbank8_b_level            1.425782e+00  \n",
       "primary_cleaner_state_floatbank8_c_air              9.501975e+04  \n",
       "primary_cleaner_state_floatbank8_c_level            1.722145e+00  \n",
       "primary_cleaner_state_floatbank8_d_air              1.632710e+05  \n",
       "primary_cleaner_state_floatbank8_d_level            3.203003e+00  \n",
       "rougher_calculation_sulfate_to_au_concentrate       1.500483e+03  \n",
       "rougher_calculation_floatbank10_sulfate_to_au_feed  1.453337e+04  \n",
       "rougher_calculation_floatbank11_sulfate_to_au_feed  8.983753e+03  \n",
       "rougher_calculation_au_pb_ratio                     4.578704e+01  \n",
       "rougher_input_feed_ag                               7.187991e+02  \n",
       "rougher_input_feed_pb                               2.064108e+02  \n",
       "rougher_input_feed_rate                             4.787225e+04  \n",
       "rougher_input_feed_size                             1.896645e+01  \n",
       "rougher_input_feed_sol                              3.362077e+03  \n",
       "rougher_input_feed_au                               6.417436e+02  \n",
       "rougher_input_floatbank10_sulfate                   1.569241e+04  \n",
       "rougher_input_floatbank10_xanthate                  1.356911e+03  \n",
       "rougher_input_floatbank11_sulfate                   1.234307e+04  \n",
       "rougher_input_floatbank11_xanthate                  8.785960e+02  \n",
       "rougher_output_concentrate_ag                       9.780343e+02  \n",
       "rougher_output_concentrate_pb                       4.581367e+02  \n",
       "rougher_output_concentrate_sol                      2.405665e+03  \n",
       "rougher_output_concentrate_au                       1.542570e+03  \n",
       "rougher_output_recovery                             1.850977e+01  \n",
       "rougher_output_tail_ag                              8.965841e+00  \n",
       "rougher_output_tail_pb                              1.060211e+02  \n",
       "rougher_output_tail_sol                             6.502194e+00  \n",
       "rougher_output_tail_au                              2.838929e+01  \n",
       "rougher_state_floatbank10_a_air                     4.178680e+00  \n",
       "rougher_state_floatbank10_a_level                   1.938214e+00  \n",
       "rougher_state_floatbank10_b_air                     4.035838e+00  \n",
       "rougher_state_floatbank10_b_level                   1.669529e+00  \n",
       "rougher_state_floatbank10_c_air                     3.875536e+00  \n",
       "rougher_state_floatbank10_c_level                   1.715475e+00  \n",
       "rougher_state_floatbank10_d_air                     3.025908e+00  \n",
       "rougher_state_floatbank10_d_level                   1.601438e+00  \n",
       "rougher_state_floatbank10_e_air                     6.234054e+00  \n",
       "rougher_state_floatbank10_e_level                   1.675235e+00  \n",
       "rougher_state_floatbank10_f_air                     2.981502e+01  \n",
       "rougher_state_floatbank10_f_level                   2.046191e+00  \n",
       "secondary_cleaner_output_tail_ag                    5.779774e+02  \n",
       "secondary_cleaner_output_tail_pb                    6.067535e+02  \n",
       "secondary_cleaner_output_tail_sol                   5.719139e+02  \n",
       "secondary_cleaner_output_tail_au                    6.153554e+02  \n",
       "secondary_cleaner_state_floatbank2_a_air            3.235460e+02  \n",
       "secondary_cleaner_state_floatbank2_a_level          3.492957e+00  \n",
       "secondary_cleaner_state_floatbank2_b_air            1.896905e+18  \n",
       "secondary_cleaner_state_floatbank2_b_level          2.216174e+00  \n",
       "secondary_cleaner_state_floatbank3_a_air            6.426371e+21  \n",
       "secondary_cleaner_state_floatbank3_a_level          1.885451e+00  \n",
       "secondary_cleaner_state_floatbank3_b_air            1.103364e+22  \n",
       "secondary_cleaner_state_floatbank3_b_level          2.927385e+00  \n",
       "secondary_cleaner_state_floatbank4_a_air            2.061326e+05  \n",
       "secondary_cleaner_state_floatbank4_a_level          1.903280e+00  \n",
       "secondary_cleaner_state_floatbank4_b_air            1.919382e+05  \n",
       "secondary_cleaner_state_floatbank4_b_level          2.574619e+00  \n",
       "secondary_cleaner_state_floatbank5_a_air            8.964354e+00  \n",
       "secondary_cleaner_state_floatbank5_a_level          1.864889e+00  \n",
       "secondary_cleaner_state_floatbank5_b_air            2.088311e+01  \n",
       "secondary_cleaner_state_floatbank5_b_level          3.098876e+00  \n",
       "secondary_cleaner_state_floatbank6_a_air            7.706245e+01  \n",
       "secondary_cleaner_state_floatbank6_a_level          4.396011e+00  "
      ]
     },
     "execution_count": 126,
     "metadata": {},
     "output_type": "execute_result"
    }
   ],
   "source": [
    "df_train = df_train.sort_index()\n",
    "(\n",
    "    df_train.replace(0, np.nan).drop(columns=\"date\")\n",
    "    / df_train.shift(1).replace(0, np.nan).drop(columns=\"date\")\n",
    ").describe().T.drop(columns=\"count\")"
   ]
  },
  {
   "attachments": {},
   "cell_type": "markdown",
   "id": "3e5df245-d967-4b44-bb2c-6f3d2ed6cbb7",
   "metadata": {},
   "source": [
    "Медиана отношения между значением и предыдущим ему равна 1 или близка к ней у всех колонок, значит, заполнение пропусков данным методом оправдано. "
   ]
  },
  {
   "attachments": {},
   "cell_type": "markdown",
   "id": "cb2a7e87-83ab-41d7-8151-69df87afb8d2",
   "metadata": {},
   "source": [
    "Заполним пропуски при помощи ближайшего предыдущего соседа."
   ]
  },
  {
   "cell_type": "code",
   "execution_count": 127,
   "id": "6d7d040e-85f6-4926-8aab-b80f19549763",
   "metadata": {},
   "outputs": [],
   "source": [
    "# df_train = df_train.fillna(method='pad', limit=5)"
   ]
  },
  {
   "cell_type": "code",
   "execution_count": 128,
   "id": "dbbf8027-5ffb-412c-8aa1-bd32eea6d299",
   "metadata": {},
   "outputs": [],
   "source": [
    "# result = df_train[bad_boys_names].isna().sum() - bad_boys_team\n",
    "# result, result.sum()"
   ]
  },
  {
   "attachments": {},
   "cell_type": "markdown",
   "id": "7132d39e-3ee1-4e5d-993e-efae0d3d929f",
   "metadata": {},
   "source": [
    "Получилось убрать 1895 из 4100 пропусков. (если бы ffill использовался)"
   ]
  },
  {
   "cell_type": "code",
   "execution_count": 129,
   "id": "1cec277d-c355-44d8-ab49-fbba905343ca",
   "metadata": {},
   "outputs": [],
   "source": [
    "# df_train = df_train.dropna()\n",
    "# len(df_train)"
   ]
  },
  {
   "attachments": {},
   "cell_type": "markdown",
   "id": "4dbcbe44-fcfb-46f2-9822-478dcdf65606",
   "metadata": {},
   "source": [
    "**Вывод:** В тренировочном датасете были заполнены пропуски, для которых это было возможно сделать. Оставшиеся строки с пропусками были удалены. "
   ]
  },
  {
   "attachments": {},
   "cell_type": "markdown",
   "id": "f0689734-5914-4173-aa96-28920b40cf3e",
   "metadata": {},
   "source": [
    "**UPD**: заполнение пропусков заменено на KNNImputer"
   ]
  },
  {
   "attachments": {},
   "cell_type": "markdown",
   "id": "b02a41bf-c823-4ff2-9522-02885eaca6a2",
   "metadata": {},
   "source": [
    "## Построение модели"
   ]
  },
  {
   "attachments": {},
   "cell_type": "markdown",
   "id": "4c17c9b4-1a89-4722-9639-dafa3757cb1e",
   "metadata": {},
   "source": [
    "### Отбор признаков для обучения"
   ]
  },
  {
   "attachments": {},
   "cell_type": "markdown",
   "id": "00970b2d-f35e-4bd4-8ff1-817eeb6c7807",
   "metadata": {},
   "source": [
    "Будет пыполнено два варианта построения модели: совместный, использующий один набор данных для определения обоих целевых признаков, и раздельный, где для определения параметров чернового концентрата будут использованы лишь те признаки, что относятся непосредственно к процессу флотации. "
   ]
  },
  {
   "cell_type": "code",
   "execution_count": 130,
   "id": "4dbde050-1d5d-409b-befb-1aa4e1433671",
   "metadata": {},
   "outputs": [],
   "source": [
    "X = df_train[df_test.columns].drop(columns=\"date\")"
   ]
  },
  {
   "cell_type": "code",
   "execution_count": 131,
   "id": "1f23c019-bf31-4022-b77f-a2030581c311",
   "metadata": {},
   "outputs": [],
   "source": [
    "y = df_train[[\"rougher_output_recovery\", \"final_output_recovery\"]]"
   ]
  },
  {
   "cell_type": "code",
   "execution_count": 132,
   "id": "fa12876c-a993-427b-930b-39dd13ae0a89",
   "metadata": {},
   "outputs": [],
   "source": [
    "multi_roughed_data_list = [X, y[\"rougher_output_recovery\"]]\n",
    "multi_final_data_list = [X, y[\"final_output_recovery\"]]\n",
    "multi_data_list = [multi_roughed_data_list, multi_final_data_list]"
   ]
  },
  {
   "cell_type": "code",
   "execution_count": 133,
   "id": "3f39caaa-e5ac-485a-a59d-9f52d6e2d8f1",
   "metadata": {},
   "outputs": [],
   "source": [
    "rougher_columns = X.filter(regex=\"^rougher\", axis=1).columns"
   ]
  },
  {
   "cell_type": "code",
   "execution_count": 134,
   "id": "8e9544c7-b0d4-4a0d-a528-1ad7919d4815",
   "metadata": {},
   "outputs": [],
   "source": [
    "# список признаков для раздельной модели\n",
    "roughed_data_list = [X.loc[:, rougher_columns], y[\"rougher_output_recovery\"]]\n",
    "final_data_list = [X, y[\"final_output_recovery\"]]\n",
    "sep_data_list = [roughed_data_list, final_data_list]"
   ]
  },
  {
   "attachments": {},
   "cell_type": "markdown",
   "id": "9e7d606e-f107-47c9-987d-d03c7e3d0f34",
   "metadata": {},
   "source": [
    "### Обучение моделей"
   ]
  },
  {
   "attachments": {},
   "cell_type": "markdown",
   "id": "dc1081e8-b3e0-43a4-819e-e270134ae49a",
   "metadata": {},
   "source": [
    "Составим функции\n",
    "- Расчета показателя sMAPE\n",
    "- Скоринга моделей\n",
    "- Вывода результатов модели"
   ]
  },
  {
   "cell_type": "code",
   "execution_count": 135,
   "id": "e69e2029-c9be-4cc3-b269-e9d2697e317e",
   "metadata": {},
   "outputs": [],
   "source": [
    "def smape_score(targets, predictions):\n",
    "    return (\n",
    "        abs(targets - predictions) / ((abs(targets) + abs(predictions)) / 2)\n",
    "    ).mean() * 100"
   ]
  },
  {
   "cell_type": "code",
   "execution_count": 136,
   "id": "05f11998-2f52-4244-a94a-f6af973a64f2",
   "metadata": {},
   "outputs": [],
   "source": [
    "def smape_print(smape):\n",
    "    print(\"=\" * 79)\n",
    "    print(f\"\\nsMAPE = {abs(.25 * smape[0] + 0.75 * smape[1]):.3f} %\\n\")\n",
    "    print(\"=\" * 79)"
   ]
  },
  {
   "cell_type": "code",
   "execution_count": 137,
   "id": "a28b4d64-8ff9-4f3c-b7ae-7e2692a8fc77",
   "metadata": {},
   "outputs": [],
   "source": [
    "reg_pipe = Pipeline([(\"knn\", KNNImputer()), (\"std\", StandardScaler()), (\"reg\", SVR())])"
   ]
  },
  {
   "cell_type": "code",
   "execution_count": 138,
   "id": "0dfe3a84-570d-4b09-9134-e58ae8a5b425",
   "metadata": {},
   "outputs": [],
   "source": [
    "params = {\n",
    "    \"knn__n_neighbors\": np.arange(3, 9, 2),\n",
    "    \"reg__epsilon\": np.arange(0.5, 1, 0.1),\n",
    "    \"reg__C\": np.arange(0.1, 1, 0.1),\n",
    "}"
   ]
  },
  {
   "attachments": {},
   "cell_type": "markdown",
   "id": "1b5272d7-a0b8-4633-bbae-b161ffd70332",
   "metadata": {},
   "source": [
    "### Совместная модель"
   ]
  },
  {
   "cell_type": "code",
   "execution_count": 139,
   "id": "f3ba5d41-ce6a-4b35-bb41-b557434fcfa2",
   "metadata": {},
   "outputs": [
    {
     "name": "stdout",
     "output_type": "stream",
     "text": [
      "===============================================================================\n",
      "\n",
      "sMAPE = 9.988 %\n",
      "\n",
      "===============================================================================\n",
      "CPU times: total: 26.4 s\n",
      "Wall time: 6min 42s\n"
     ]
    }
   ],
   "source": [
    "%%time\n",
    "\n",
    "multi_model = []\n",
    "multi_smape = []\n",
    "for data_list in multi_data_list:\n",
    "    rs = RandomizedSearchCV(\n",
    "        reg_pipe,\n",
    "        params,\n",
    "        n_jobs=4,\n",
    "        cv=5,\n",
    "        error_score='raise',\n",
    "        scoring=make_scorer(smape_score, greater_is_better=False),\n",
    "        random_state=868\n",
    "    )\n",
    "    rs.fit(data_list[0], data_list[1])\n",
    "    multi_smape.append(rs.best_score_)\n",
    "    multi_model.append(rs.best_estimator_)\n",
    "smape_print(multi_smape)"
   ]
  },
  {
   "attachments": {},
   "cell_type": "markdown",
   "id": "461060ac-3a0f-4d6d-b643-027a2a15e9ca",
   "metadata": {},
   "source": [
    "### Раздельная модель"
   ]
  },
  {
   "cell_type": "code",
   "execution_count": 140,
   "id": "fb7ebfad-c980-4431-ba12-2e3e979ba89b",
   "metadata": {},
   "outputs": [
    {
     "name": "stdout",
     "output_type": "stream",
     "text": [
      "===============================================================================\n",
      "\n",
      "sMAPE = 10.126 %\n",
      "\n",
      "===============================================================================\n",
      "CPU times: total: 26 s\n",
      "Wall time: 6min 6s\n"
     ]
    }
   ],
   "source": [
    "%%time\n",
    "\n",
    "sep_model = []\n",
    "sep_smape = []\n",
    "for data_list in sep_data_list:\n",
    "    rs = RandomizedSearchCV(\n",
    "        reg_pipe,\n",
    "        params,\n",
    "        n_jobs=4,\n",
    "        cv=5,\n",
    "        scoring=make_scorer(smape_score, greater_is_better=False),\n",
    "        error_score='raise',\n",
    "        random_state=868\n",
    "    )\n",
    "    rs.fit(data_list[0], data_list[1])\n",
    "    sep_smape.append(rs.best_score_)\n",
    "    sep_model.append(rs.best_estimator_)\n",
    "smape_print(sep_smape)"
   ]
  },
  {
   "attachments": {},
   "cell_type": "markdown",
   "id": "ebdf4519-0a5f-4e34-8fc2-a424e6edeaf0",
   "metadata": {},
   "source": [
    "**Вывод:** Определение параметров чернового концентрата только по тем признакам, что относятся к процессу флотации, не дает улучший в точности предсказания. Более удачной будем считать совместную модель. "
   ]
  },
  {
   "cell_type": "code",
   "execution_count": 141,
   "id": "12bd177f-ccf1-4ff6-99d0-1e6ed1056949",
   "metadata": {},
   "outputs": [],
   "source": [
    "corrs = (\n",
    "    df_full.drop(columns=[\"date\"])\n",
    "    .corr(numeric_only=True)\n",
    "    .where(\n",
    "        np.triu(np.ones(df_full.drop(columns=[\"date\"]).corr().shape), 1).astype(bool)\n",
    "    )\n",
    "    .stack()\n",
    "    .reset_index()\n",
    "    .sort_values(by=0, ascending=False)\n",
    ")\n",
    "corrs.columns = [\"Clmn_1\", \"Clmn_2\", \"Value\"]"
   ]
  },
  {
   "cell_type": "code",
   "execution_count": 142,
   "id": "3b6a68fa-fab3-47ed-92bc-d668c4538fc8",
   "metadata": {},
   "outputs": [
    {
     "data": {
      "text/html": [
       "<div>\n",
       "<style scoped>\n",
       "    .dataframe tbody tr th:only-of-type {\n",
       "        vertical-align: middle;\n",
       "    }\n",
       "\n",
       "    .dataframe tbody tr th {\n",
       "        vertical-align: top;\n",
       "    }\n",
       "\n",
       "    .dataframe thead th {\n",
       "        text-align: right;\n",
       "    }\n",
       "</style>\n",
       "<table border=\"1\" class=\"dataframe\">\n",
       "  <thead>\n",
       "    <tr style=\"text-align: right;\">\n",
       "      <th></th>\n",
       "      <th>Clmn_1</th>\n",
       "      <th>Clmn_2</th>\n",
       "      <th>Value</th>\n",
       "    </tr>\n",
       "  </thead>\n",
       "  <tbody>\n",
       "    <tr>\n",
       "      <th>3191</th>\n",
       "      <td>rougher_state_floatbank10_b_level</td>\n",
       "      <td>rougher_state_floatbank10_c_level</td>\n",
       "      <td>0.987836</td>\n",
       "    </tr>\n",
       "    <tr>\n",
       "      <th>3356</th>\n",
       "      <td>rougher_state_floatbank10_e_level</td>\n",
       "      <td>rougher_state_floatbank10_f_level</td>\n",
       "      <td>0.980917</td>\n",
       "    </tr>\n",
       "    <tr>\n",
       "      <th>3250</th>\n",
       "      <td>rougher_state_floatbank10_c_level</td>\n",
       "      <td>rougher_state_floatbank10_d_level</td>\n",
       "      <td>0.980911</td>\n",
       "    </tr>\n",
       "    <tr>\n",
       "      <th>3193</th>\n",
       "      <td>rougher_state_floatbank10_b_level</td>\n",
       "      <td>rougher_state_floatbank10_d_level</td>\n",
       "      <td>0.971205</td>\n",
       "    </tr>\n",
       "    <tr>\n",
       "      <th>2115</th>\n",
       "      <td>rougher_calculation_floatbank10_sulfate_to_au_...</td>\n",
       "      <td>rougher_calculation_floatbank11_sulfate_to_au_...</td>\n",
       "      <td>0.965838</td>\n",
       "    </tr>\n",
       "    <tr>\n",
       "      <th>3252</th>\n",
       "      <td>rougher_state_floatbank10_c_level</td>\n",
       "      <td>rougher_state_floatbank10_e_level</td>\n",
       "      <td>0.962115</td>\n",
       "    </tr>\n",
       "    <tr>\n",
       "      <th>1576</th>\n",
       "      <td>primary_cleaner_state_floatbank8_a_air</td>\n",
       "      <td>primary_cleaner_state_floatbank8_b_air</td>\n",
       "      <td>0.953129</td>\n",
       "    </tr>\n",
       "    <tr>\n",
       "      <th>3254</th>\n",
       "      <td>rougher_state_floatbank10_c_level</td>\n",
       "      <td>rougher_state_floatbank10_f_level</td>\n",
       "      <td>0.952530</td>\n",
       "    </tr>\n",
       "    <tr>\n",
       "      <th>3195</th>\n",
       "      <td>rougher_state_floatbank10_b_level</td>\n",
       "      <td>rougher_state_floatbank10_e_level</td>\n",
       "      <td>0.951971</td>\n",
       "    </tr>\n",
       "    <tr>\n",
       "      <th>3305</th>\n",
       "      <td>rougher_state_floatbank10_d_level</td>\n",
       "      <td>rougher_state_floatbank10_e_level</td>\n",
       "      <td>0.949670</td>\n",
       "    </tr>\n",
       "    <tr>\n",
       "      <th>3307</th>\n",
       "      <td>rougher_state_floatbank10_d_level</td>\n",
       "      <td>rougher_state_floatbank10_f_level</td>\n",
       "      <td>0.948754</td>\n",
       "    </tr>\n",
       "    <tr>\n",
       "      <th>3197</th>\n",
       "      <td>rougher_state_floatbank10_b_level</td>\n",
       "      <td>rougher_state_floatbank10_f_level</td>\n",
       "      <td>0.945149</td>\n",
       "    </tr>\n",
       "    <tr>\n",
       "      <th>3160</th>\n",
       "      <td>rougher_state_floatbank10_b_air</td>\n",
       "      <td>rougher_state_floatbank10_c_air</td>\n",
       "      <td>0.941893</td>\n",
       "    </tr>\n",
       "    <tr>\n",
       "      <th>1642</th>\n",
       "      <td>primary_cleaner_state_floatbank8_a_level</td>\n",
       "      <td>primary_cleaner_state_floatbank8_c_level</td>\n",
       "      <td>0.938914</td>\n",
       "    </tr>\n",
       "    <tr>\n",
       "      <th>3331</th>\n",
       "      <td>rougher_state_floatbank10_e_air</td>\n",
       "      <td>rougher_state_floatbank10_f_air</td>\n",
       "      <td>0.938207</td>\n",
       "    </tr>\n",
       "    <tr>\n",
       "      <th>2621</th>\n",
       "      <td>rougher_input_floatbank10_xanthate</td>\n",
       "      <td>rougher_input_floatbank11_xanthate</td>\n",
       "      <td>0.930289</td>\n",
       "    </tr>\n",
       "    <tr>\n",
       "      <th>3162</th>\n",
       "      <td>rougher_state_floatbank10_b_air</td>\n",
       "      <td>rougher_state_floatbank10_d_air</td>\n",
       "      <td>0.928555</td>\n",
       "    </tr>\n",
       "    <tr>\n",
       "      <th>1309</th>\n",
       "      <td>primary_cleaner_output_tail_ag</td>\n",
       "      <td>primary_cleaner_output_tail_pb</td>\n",
       "      <td>0.926268</td>\n",
       "    </tr>\n",
       "    <tr>\n",
       "      <th>1703</th>\n",
       "      <td>primary_cleaner_state_floatbank8_b_air</td>\n",
       "      <td>primary_cleaner_state_floatbank8_c_air</td>\n",
       "      <td>0.924225</td>\n",
       "    </tr>\n",
       "    <tr>\n",
       "      <th>3221</th>\n",
       "      <td>rougher_state_floatbank10_c_air</td>\n",
       "      <td>rougher_state_floatbank10_d_air</td>\n",
       "      <td>0.920521</td>\n",
       "    </tr>\n",
       "  </tbody>\n",
       "</table>\n",
       "</div>"
      ],
      "text/plain": [
       "                                                 Clmn_1   \n",
       "3191                  rougher_state_floatbank10_b_level  \\\n",
       "3356                  rougher_state_floatbank10_e_level   \n",
       "3250                  rougher_state_floatbank10_c_level   \n",
       "3193                  rougher_state_floatbank10_b_level   \n",
       "2115  rougher_calculation_floatbank10_sulfate_to_au_...   \n",
       "3252                  rougher_state_floatbank10_c_level   \n",
       "1576             primary_cleaner_state_floatbank8_a_air   \n",
       "3254                  rougher_state_floatbank10_c_level   \n",
       "3195                  rougher_state_floatbank10_b_level   \n",
       "3305                  rougher_state_floatbank10_d_level   \n",
       "3307                  rougher_state_floatbank10_d_level   \n",
       "3197                  rougher_state_floatbank10_b_level   \n",
       "3160                    rougher_state_floatbank10_b_air   \n",
       "1642           primary_cleaner_state_floatbank8_a_level   \n",
       "3331                    rougher_state_floatbank10_e_air   \n",
       "2621                 rougher_input_floatbank10_xanthate   \n",
       "3162                    rougher_state_floatbank10_b_air   \n",
       "1309                     primary_cleaner_output_tail_ag   \n",
       "1703             primary_cleaner_state_floatbank8_b_air   \n",
       "3221                    rougher_state_floatbank10_c_air   \n",
       "\n",
       "                                                 Clmn_2     Value  \n",
       "3191                  rougher_state_floatbank10_c_level  0.987836  \n",
       "3356                  rougher_state_floatbank10_f_level  0.980917  \n",
       "3250                  rougher_state_floatbank10_d_level  0.980911  \n",
       "3193                  rougher_state_floatbank10_d_level  0.971205  \n",
       "2115  rougher_calculation_floatbank11_sulfate_to_au_...  0.965838  \n",
       "3252                  rougher_state_floatbank10_e_level  0.962115  \n",
       "1576             primary_cleaner_state_floatbank8_b_air  0.953129  \n",
       "3254                  rougher_state_floatbank10_f_level  0.952530  \n",
       "3195                  rougher_state_floatbank10_e_level  0.951971  \n",
       "3305                  rougher_state_floatbank10_e_level  0.949670  \n",
       "3307                  rougher_state_floatbank10_f_level  0.948754  \n",
       "3197                  rougher_state_floatbank10_f_level  0.945149  \n",
       "3160                    rougher_state_floatbank10_c_air  0.941893  \n",
       "1642           primary_cleaner_state_floatbank8_c_level  0.938914  \n",
       "3331                    rougher_state_floatbank10_f_air  0.938207  \n",
       "2621                 rougher_input_floatbank11_xanthate  0.930289  \n",
       "3162                    rougher_state_floatbank10_d_air  0.928555  \n",
       "1309                     primary_cleaner_output_tail_pb  0.926268  \n",
       "1703             primary_cleaner_state_floatbank8_c_air  0.924225  \n",
       "3221                    rougher_state_floatbank10_d_air  0.920521  "
      ]
     },
     "execution_count": 142,
     "metadata": {},
     "output_type": "execute_result"
    }
   ],
   "source": [
    "corrs.head(20)"
   ]
  },
  {
   "attachments": {},
   "cell_type": "markdown",
   "id": "3e43e561-cf88-41ab-8c41-5a444ff98ae8",
   "metadata": {},
   "source": [
    "## Проверка на тестовой выборке"
   ]
  },
  {
   "cell_type": "code",
   "execution_count": 143,
   "id": "cf1b8155-5229-47f3-a270-4206815c3a1d",
   "metadata": {},
   "outputs": [],
   "source": [
    "X_test = df_test[X.columns]\n",
    "y_test_rougher = y_test[\"rougher_output_recovery\"]\n",
    "y_test_final = y_test[\"final_output_recovery\"]"
   ]
  },
  {
   "cell_type": "code",
   "execution_count": 144,
   "id": "51424aae-cd29-4176-920e-de5e78aa1a01",
   "metadata": {},
   "outputs": [],
   "source": [
    "test_lists = [[X_test, y_test_rougher], [X_test, y_test_final]]"
   ]
  },
  {
   "cell_type": "code",
   "execution_count": 145,
   "id": "c6f88963-3471-4cf1-bf72-5867aab384f2",
   "metadata": {},
   "outputs": [
    {
     "name": "stdout",
     "output_type": "stream",
     "text": [
      "===============================================================================\n",
      "\n",
      "sMAPE = 8.706 %\n",
      "\n",
      "===============================================================================\n"
     ]
    }
   ],
   "source": [
    "test_smape_score = []\n",
    "for i, data_list in enumerate(test_lists):\n",
    "    test_smape_score.append(\n",
    "        smape_score(multi_model[i].predict(data_list[0]), data_list[1])\n",
    "    )\n",
    "smape_print(test_smape_score)"
   ]
  },
  {
   "attachments": {},
   "cell_type": "markdown",
   "id": "9628a023-dd97-42d7-bcb2-6f115cafb701",
   "metadata": {},
   "source": [
    "**Вывод:** Показатели модели на тестовой выборке даже лучше, чем кросс-валидационные значения."
   ]
  },
  {
   "attachments": {},
   "cell_type": "markdown",
   "id": "426cadf0-2e26-475f-8cac-a5a001505742",
   "metadata": {},
   "source": [
    "## Проверка модели на вменяемость"
   ]
  },
  {
   "cell_type": "code",
   "execution_count": 146,
   "id": "83c93de9-ac2d-40aa-8a3e-57869e8394df",
   "metadata": {},
   "outputs": [],
   "source": [
    "md = DummyRegressor()"
   ]
  },
  {
   "cell_type": "code",
   "execution_count": 147,
   "id": "3037ee91-c126-4d62-bc79-f84467c6a1d2",
   "metadata": {},
   "outputs": [],
   "source": [
    "dummy_list = [\n",
    "    [X, X_test, y.iloc[:, 0], y_test.iloc[:, 0]],\n",
    "    [X, X_test, y.iloc[:, 1], y_test.iloc[:, 1]],\n",
    "]"
   ]
  },
  {
   "cell_type": "code",
   "execution_count": 148,
   "id": "0743d0d0-2581-4274-bcfe-bfe6b16a8eee",
   "metadata": {},
   "outputs": [
    {
     "name": "stdout",
     "output_type": "stream",
     "text": [
      "===============================================================================\n",
      "\n",
      "sMAPE = 10.290 %\n",
      "\n",
      "===============================================================================\n",
      "\n",
      "Улучшение результата основной модели по сравнению с dummy-моделью составляет 1.614 %\n"
     ]
    }
   ],
   "source": [
    "smape_dummy_score = []\n",
    "for data in dummy_list:\n",
    "    md.fit(data[0], data[2])\n",
    "    smape_dummy_score.append(smape_score(md.predict(data[1]), data[3]))\n",
    "smape_print(smape_dummy_score)\n",
    "print(\n",
    "    f\"\\nУлучшение результата основной модели по сравнению с dummy-моделью составляет {pd.Series(smape_dummy_score).mean() - (0.25 * test_smape_score[0] + 0.75 * test_smape_score[1]):.3f} %\"\n",
    ")"
   ]
  },
  {
   "attachments": {},
   "cell_type": "markdown",
   "id": "9eed1547-0d7f-42dc-9cf3-7cf717e7020b",
   "metadata": {},
   "source": [
    "**Вывод:** Модель прошла проверку на вменяемость"
   ]
  },
  {
   "attachments": {},
   "cell_type": "markdown",
   "id": "ccdc0190-78dc-479b-868c-61f67cd3e522",
   "metadata": {},
   "source": [
    "## Общий вывод"
   ]
  },
  {
   "attachments": {},
   "cell_type": "markdown",
   "id": "0ee62e53-9068-4381-b6d3-354c10dabe03",
   "metadata": {},
   "source": [
    "В ходе выполнения исследования был изучен набор данных, содержащих параметры добычи и очистки золотосодержащей руды.  \n",
    "**Выполнены следующие действия:**  \n",
    "- Обзор и предобработка данных, в ходе которых выполнены:\n",
    "    1. Проверка расчета эффективности восстановления после этапа флотации, показавшая, что расчет выполнен верно;\n",
    "    2. Исследование изменений концентрации металлов на различных этапах очистки, показавший, что в процессе очистки процент содержания металлов в концентрате меняется следующим образом: \n",
    "\n",
    "        Содержание золота постепенно поднимается с ~8% до ~20% после флотации, ~35% после первого этапа очистки и ~45% после второго;\n",
    "\n",
    "        Содержание серебра поднимается с 6-11% до 10-16% после флотации, а затем падает обратно до 6-11% после первого этапа очистки и стабилизируется около 3-4% после второго; \n",
    "\n",
    "        Содержание свинца поднимается с 3-4% до 7-8% после флотации, затем еще подрастает после первого этапа очистки и стабилизируется вокруг 9-11% после второго; \n",
    "\n",
    "        На графиках присутствуют пики около 0, которые можно интерпретировать как пропуски в данных.\n",
    "\n",
    "    3. Исследование распределения гранул сырья в обучающей и тестовой выборках, показавшее, что распределения совпадают, значит обучение модели по данным признакам происходит корректно.  \n",
    "\n",
    "    4. Исследование суммарной концентрации всех веществ, показавшее, что суммарная концентрация возрастает после флотации и стабилизируется около 70% после двух этапов очистки.  \n",
    "\n",
    "        На графиках выходных концентраций на этапе флотации и финальных концентраций присутствуют пики около 0, которые интерпретируются как пропуски.\n",
    "\n",
    "    5. Обработка явных и неявных пропусков в полном датасете посредством заполнения средним между ближайшими соседями, обработка оставшихся пропусков\n",
    "\n",
    "- Построение совместной и раздельных моделей машинного обучения, прогнозирующих коэффициент восстановления золота из золотосодержащей руды, включающее повторное построение набора обучающих признаков на основе предобработанного полного датасета и подбор гипер-параметров при помощи случайного поиска;\n",
    "- Проверка лучшей модели на тестовой выборке и проверка на вменяемость, включающая повторное построение набора тестовых признаков аналогично предыдущему пункту.\n",
    "\n",
    "**Получены следующие результаты:**  \n",
    "\n",
    "Совместная модель определена как более точная. Ее показатели на тестовой выборке:  "
   ]
  },
  {
   "cell_type": "code",
   "execution_count": 149,
   "id": "e5283c07-deb2-47c5-ba1d-7163d84b4d76",
   "metadata": {},
   "outputs": [
    {
     "name": "stdout",
     "output_type": "stream",
     "text": [
      "===============================================================================\n",
      "\n",
      "sMAPE = 8.706 %\n",
      "\n",
      "===============================================================================\n"
     ]
    }
   ],
   "source": [
    "smape_print(test_smape_score)"
   ]
  },
  {
   "attachments": {},
   "cell_type": "markdown",
   "id": "bbdb8499-c725-4f70-89f4-e2f86f815f9f",
   "metadata": {},
   "source": [
    "В сравнении с простейшей моделью, использованной в проверке на вменяемость, присуствутвует улучшение метрики sMAPE на 1.614 %. Таким образом, построенная модель прошла проверку на вменяемость. "
   ]
  },
  {
   "cell_type": "code",
   "execution_count": null,
   "id": "4b03be41",
   "metadata": {},
   "outputs": [],
   "source": []
  }
 ],
 "metadata": {
  "ExecuteTimeLog": [
   {
    "duration": 1772,
    "start_time": "2023-02-03T15:55:35.952Z"
   },
   {
    "duration": 590,
    "start_time": "2023-02-03T15:55:37.726Z"
   },
   {
    "duration": 1300,
    "start_time": "2023-02-03T15:55:38.321Z"
   },
   {
    "duration": 200,
    "start_time": "2023-02-03T15:55:39.623Z"
   },
   {
    "duration": 19,
    "start_time": "2023-02-03T15:55:39.825Z"
   },
   {
    "duration": 15,
    "start_time": "2023-02-03T15:55:39.846Z"
   },
   {
    "duration": 11,
    "start_time": "2023-02-03T15:55:39.863Z"
   },
   {
    "duration": 57,
    "start_time": "2023-02-03T15:55:39.876Z"
   },
   {
    "duration": 5,
    "start_time": "2023-02-03T15:55:39.935Z"
   },
   {
    "duration": 7,
    "start_time": "2023-02-03T15:55:39.941Z"
   },
   {
    "duration": 13,
    "start_time": "2023-02-03T15:55:39.949Z"
   },
   {
    "duration": 17,
    "start_time": "2023-02-03T15:55:39.963Z"
   },
   {
    "duration": 3,
    "start_time": "2023-02-03T15:55:39.983Z"
   },
   {
    "duration": 740,
    "start_time": "2023-02-03T15:55:39.988Z"
   },
   {
    "duration": 4,
    "start_time": "2023-02-03T15:55:40.730Z"
   },
   {
    "duration": 13,
    "start_time": "2023-02-03T15:55:40.736Z"
   },
   {
    "duration": 20,
    "start_time": "2023-02-03T15:55:40.751Z"
   },
   {
    "duration": 12,
    "start_time": "2023-02-03T15:55:40.772Z"
   },
   {
    "duration": 342,
    "start_time": "2023-02-03T15:55:40.785Z"
   },
   {
    "duration": 345,
    "start_time": "2023-02-03T15:55:41.128Z"
   },
   {
    "duration": 8,
    "start_time": "2023-02-03T15:55:41.474Z"
   },
   {
    "duration": 8,
    "start_time": "2023-02-03T15:55:41.483Z"
   },
   {
    "duration": 27,
    "start_time": "2023-02-03T15:55:41.492Z"
   },
   {
    "duration": 12,
    "start_time": "2023-02-03T15:55:41.521Z"
   },
   {
    "duration": 5,
    "start_time": "2023-02-03T15:55:41.535Z"
   },
   {
    "duration": 9,
    "start_time": "2023-02-03T15:55:41.542Z"
   },
   {
    "duration": 7,
    "start_time": "2023-02-03T15:55:41.553Z"
   },
   {
    "duration": 97,
    "start_time": "2023-02-03T15:55:41.561Z"
   },
   {
    "duration": 8,
    "start_time": "2023-02-03T15:55:41.660Z"
   },
   {
    "duration": 6,
    "start_time": "2023-02-03T15:55:41.670Z"
   },
   {
    "duration": 6,
    "start_time": "2023-02-03T15:55:41.677Z"
   },
   {
    "duration": 5,
    "start_time": "2023-02-03T15:55:41.684Z"
   },
   {
    "duration": 475061,
    "start_time": "2023-02-03T15:55:41.690Z"
   },
   {
    "duration": 700,
    "start_time": "2023-02-03T16:03:36.753Z"
   },
   {
    "duration": 699,
    "start_time": "2023-02-03T16:03:37.454Z"
   },
   {
    "duration": 14198,
    "start_time": "2023-02-03T16:03:38.155Z"
   },
   {
    "duration": 209,
    "start_time": "2023-02-03T16:03:52.355Z"
   },
   {
    "duration": 713,
    "start_time": "2023-02-03T16:03:52.566Z"
   },
   {
    "duration": 6046,
    "start_time": "2023-02-03T16:03:53.281Z"
   },
   {
    "duration": 4,
    "start_time": "2023-02-03T16:03:59.331Z"
   },
   {
    "duration": 9,
    "start_time": "2023-02-03T16:03:59.337Z"
   },
   {
    "duration": 10,
    "start_time": "2023-02-03T16:03:59.348Z"
   },
   {
    "duration": 7,
    "start_time": "2023-02-03T16:03:59.360Z"
   },
   {
    "duration": 18,
    "start_time": "2023-02-03T16:03:59.368Z"
   },
   {
    "duration": 11,
    "start_time": "2023-02-03T16:03:59.407Z"
   },
   {
    "duration": 26,
    "start_time": "2023-02-03T16:03:59.419Z"
   },
   {
    "duration": 6,
    "start_time": "2023-02-03T16:03:59.446Z"
   },
   {
    "duration": 5,
    "start_time": "2023-02-03T16:03:59.454Z"
   },
   {
    "duration": 5,
    "start_time": "2023-02-03T16:34:09.390Z"
   },
   {
    "duration": 6,
    "start_time": "2023-02-03T16:40:01.409Z"
   },
   {
    "duration": 4,
    "start_time": "2023-02-03T16:40:08.582Z"
   },
   {
    "duration": 9,
    "start_time": "2023-02-03T16:41:27.078Z"
   },
   {
    "duration": 2501,
    "start_time": "2023-02-07T19:25:59.092Z"
   },
   {
    "duration": 620,
    "start_time": "2023-02-07T19:26:01.596Z"
   },
   {
    "duration": 1351,
    "start_time": "2023-02-07T19:26:02.218Z"
   },
   {
    "duration": 190,
    "start_time": "2023-02-07T19:26:03.572Z"
   },
   {
    "duration": 21,
    "start_time": "2023-02-07T19:26:03.764Z"
   },
   {
    "duration": 17,
    "start_time": "2023-02-07T19:26:03.787Z"
   },
   {
    "duration": 15,
    "start_time": "2023-02-07T19:26:03.806Z"
   },
   {
    "duration": 11,
    "start_time": "2023-02-07T19:26:03.823Z"
   },
   {
    "duration": 83,
    "start_time": "2023-02-07T19:26:03.835Z"
   },
   {
    "duration": 4,
    "start_time": "2023-02-07T19:26:03.920Z"
   },
   {
    "duration": 7,
    "start_time": "2023-02-07T19:26:03.926Z"
   },
   {
    "duration": 10,
    "start_time": "2023-02-07T19:26:03.935Z"
   },
   {
    "duration": 8,
    "start_time": "2023-02-07T19:26:03.946Z"
   },
   {
    "duration": 30,
    "start_time": "2023-02-07T19:26:03.955Z"
   },
   {
    "duration": 918,
    "start_time": "2023-02-07T19:26:04.356Z"
   },
   {
    "duration": 840,
    "start_time": "2023-02-07T19:26:05.276Z"
   },
   {
    "duration": 1011,
    "start_time": "2023-02-07T19:26:06.118Z"
   },
   {
    "duration": 1411,
    "start_time": "2023-02-07T19:26:07.131Z"
   },
   {
    "duration": 196,
    "start_time": "2023-02-07T19:26:08.544Z"
   },
   {
    "duration": 199,
    "start_time": "2023-02-07T19:26:08.742Z"
   },
   {
    "duration": 199,
    "start_time": "2023-02-07T19:26:08.944Z"
   },
   {
    "duration": 13,
    "start_time": "2023-02-07T19:26:12.349Z"
   },
   {
    "duration": 11,
    "start_time": "2023-02-07T19:26:13.275Z"
   },
   {
    "duration": 12,
    "start_time": "2023-02-07T19:26:16.330Z"
   },
   {
    "duration": 8,
    "start_time": "2023-02-07T19:26:17.941Z"
   },
   {
    "duration": 11,
    "start_time": "2023-02-07T19:26:18.148Z"
   },
   {
    "duration": 7,
    "start_time": "2023-02-07T19:26:43.636Z"
   },
   {
    "duration": 8,
    "start_time": "2023-02-07T19:28:20.159Z"
   },
   {
    "duration": 8,
    "start_time": "2023-02-07T19:28:24.152Z"
   },
   {
    "duration": 10,
    "start_time": "2023-02-07T19:32:13.857Z"
   },
   {
    "duration": 14,
    "start_time": "2023-02-07T19:37:59.633Z"
   },
   {
    "duration": 31,
    "start_time": "2023-02-07T19:38:03.578Z"
   },
   {
    "duration": 9,
    "start_time": "2023-02-07T19:38:42.292Z"
   },
   {
    "duration": 27,
    "start_time": "2023-02-07T19:39:28.270Z"
   },
   {
    "duration": 9,
    "start_time": "2023-02-07T19:39:38.059Z"
   },
   {
    "duration": 141,
    "start_time": "2023-02-07T20:02:12.505Z"
   },
   {
    "duration": 64,
    "start_time": "2023-02-07T20:02:45.547Z"
   },
   {
    "duration": 103,
    "start_time": "2023-02-07T20:03:07.464Z"
   },
   {
    "duration": 69,
    "start_time": "2023-02-07T20:03:16.805Z"
   },
   {
    "duration": 13,
    "start_time": "2023-02-07T20:03:52.102Z"
   },
   {
    "duration": 73,
    "start_time": "2023-02-07T20:03:58.075Z"
   },
   {
    "duration": 1620,
    "start_time": "2023-02-07T20:21:41.918Z"
   },
   {
    "duration": 414,
    "start_time": "2023-02-07T20:21:43.541Z"
   },
   {
    "duration": 313,
    "start_time": "2023-02-07T20:21:43.957Z"
   },
   {
    "duration": 125,
    "start_time": "2023-02-07T20:21:44.272Z"
   },
   {
    "duration": 19,
    "start_time": "2023-02-07T20:21:44.398Z"
   },
   {
    "duration": 17,
    "start_time": "2023-02-07T20:21:44.418Z"
   },
   {
    "duration": 13,
    "start_time": "2023-02-07T20:21:44.436Z"
   },
   {
    "duration": 34,
    "start_time": "2023-02-07T20:21:44.451Z"
   },
   {
    "duration": 53,
    "start_time": "2023-02-07T20:21:44.971Z"
   },
   {
    "duration": 4,
    "start_time": "2023-02-07T20:21:45.109Z"
   },
   {
    "duration": 3,
    "start_time": "2023-02-07T20:21:45.615Z"
   },
   {
    "duration": 6,
    "start_time": "2023-02-07T20:21:45.783Z"
   },
   {
    "duration": 5,
    "start_time": "2023-02-07T20:21:45.978Z"
   },
   {
    "duration": 13,
    "start_time": "2023-02-07T20:21:46.109Z"
   },
   {
    "duration": 886,
    "start_time": "2023-02-07T20:21:46.933Z"
   },
   {
    "duration": 816,
    "start_time": "2023-02-07T20:21:47.822Z"
   },
   {
    "duration": 995,
    "start_time": "2023-02-07T20:21:48.640Z"
   },
   {
    "duration": 1394,
    "start_time": "2023-02-07T20:21:49.638Z"
   },
   {
    "duration": 190,
    "start_time": "2023-02-07T20:21:51.034Z"
   },
   {
    "duration": 194,
    "start_time": "2023-02-07T20:21:51.226Z"
   },
   {
    "duration": 197,
    "start_time": "2023-02-07T20:21:51.422Z"
   },
   {
    "duration": 13,
    "start_time": "2023-02-07T20:21:51.883Z"
   },
   {
    "duration": 9,
    "start_time": "2023-02-07T20:21:52.234Z"
   },
   {
    "duration": 13,
    "start_time": "2023-02-07T20:21:52.420Z"
   },
   {
    "duration": 9,
    "start_time": "2023-02-07T20:21:52.966Z"
   },
   {
    "duration": 11,
    "start_time": "2023-02-07T20:21:53.143Z"
   },
   {
    "duration": 8,
    "start_time": "2023-02-07T20:21:53.475Z"
   },
   {
    "duration": 76,
    "start_time": "2023-02-07T20:21:53.976Z"
   },
   {
    "duration": 92,
    "start_time": "2023-02-07T20:21:54.169Z"
   },
   {
    "duration": 298,
    "start_time": "2023-02-07T20:21:55.565Z"
   },
   {
    "duration": 10,
    "start_time": "2023-02-07T20:21:57.579Z"
   },
   {
    "duration": 113,
    "start_time": "2023-02-07T20:22:01.568Z"
   },
   {
    "duration": 279,
    "start_time": "2023-02-07T20:22:06.430Z"
   },
   {
    "duration": 110,
    "start_time": "2023-02-07T20:22:06.985Z"
   },
   {
    "duration": 6,
    "start_time": "2023-02-07T20:22:08.932Z"
   },
   {
    "duration": 3,
    "start_time": "2023-02-07T20:22:12.062Z"
   },
   {
    "duration": 3,
    "start_time": "2023-02-07T20:22:15.629Z"
   },
   {
    "duration": 44,
    "start_time": "2023-02-07T20:22:34.105Z"
   },
   {
    "duration": 23,
    "start_time": "2023-02-07T20:22:35.970Z"
   },
   {
    "duration": 11,
    "start_time": "2023-02-07T20:22:36.225Z"
   },
   {
    "duration": 5,
    "start_time": "2023-02-07T20:22:42.103Z"
   },
   {
    "duration": 32,
    "start_time": "2023-02-07T20:22:43.591Z"
   },
   {
    "duration": 5,
    "start_time": "2023-02-07T20:22:55.268Z"
   },
   {
    "duration": 6,
    "start_time": "2023-02-07T20:23:29.607Z"
   }
  ],
  "kernelspec": {
   "display_name": "Python 3 (ipykernel)",
   "language": "python",
   "name": "python3"
  },
  "language_info": {
   "codemirror_mode": {
    "name": "ipython",
    "version": 3
   },
   "file_extension": ".py",
   "mimetype": "text/x-python",
   "name": "python",
   "nbconvert_exporter": "python",
   "pygments_lexer": "ipython3",
   "version": "3.9.13"
  },
  "toc": {
   "base_numbering": 1,
   "nav_menu": {},
   "number_sections": true,
   "sideBar": true,
   "skip_h1_title": true,
   "title_cell": "Table of Contents",
   "title_sidebar": "Contents",
   "toc_cell": false,
   "toc_position": {},
   "toc_section_display": true,
   "toc_window_display": false
  }
 },
 "nbformat": 4,
 "nbformat_minor": 5
}
