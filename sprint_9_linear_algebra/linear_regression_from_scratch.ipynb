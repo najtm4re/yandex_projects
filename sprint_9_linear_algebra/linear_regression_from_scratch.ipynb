{
 "cells": [
  {
   "attachments": {},
   "cell_type": "markdown",
   "id": "98777865-fca1-4ac1-84ae-44ecade30f87",
   "metadata": {},
   "source": [
    "# Защита персональных данных клиентов\n",
    "\n",
    "**Описание исследования**  \n",
    "\n",
    "Необходимо защитить данные клиентов страховой компании «Хоть потоп»: разработайте такой метод преобразования данных, чтобы по ним было сложно восстановить персональную информацию. Требуется обоснование корректности метода и его работы.\n",
    "В результате преобразования данных качество моделей машинного обучения не должно ухудшаться. Подбирать наилучшую модель не требуется.\n",
    "\n",
    "**Цель исследования**\n",
    "- Создать метод преобразования данных, который сделает их интерпретацию невозможной, но не ухудшит результаты модели машинного обучения.\n",
    "\n",
    "**Ход исследования**\n",
    "- Обзор жанных\n",
    "- Решение задачи об умножении матрицы признаков на обратимую матрицу\n",
    "- Алгоритм преобразования данных\n",
    "- Применение алгоритма преобразования\n",
    "- Общий вывод"
   ]
  },
  {
   "attachments": {},
   "cell_type": "markdown",
   "id": "7d17d1ce-db3c-4737-b472-01412410db95",
   "metadata": {},
   "source": [
    "## Импорт библиотек и загрузка данных"
   ]
  },
  {
   "cell_type": "code",
   "execution_count": 1,
   "id": "626b27ba-485d-49b4-b6f9-3c64016cf77e",
   "metadata": {},
   "outputs": [],
   "source": [
    "import pandas as pd\n",
    "import numpy as np\n",
    "import matplotlib.pyplot as plt\n",
    "\n",
    "from sklearn.linear_model import LinearRegression\n",
    "\n",
    "from sklearn.model_selection import train_test_split\n",
    "from sklearn.metrics import r2_score"
   ]
  },
  {
   "cell_type": "code",
   "execution_count": 2,
   "id": "ba4b50ba-493b-44a6-b78b-2ea55f9289db",
   "metadata": {},
   "outputs": [],
   "source": [
    "try:\n",
    "    df = pd.read_csv(\n",
    "        r\"C:\\workspace\\yandex_cources\\full_history\\sprint_9_linear_algebra\\data\\insurance.csv\"\n",
    "    )\n",
    "except:\n",
    "    df = pd.read_csv(r\"/datasets/insurance.csv\")"
   ]
  },
  {
   "attachments": {},
   "cell_type": "markdown",
   "id": "fd987f85-d25b-4c54-9a75-1f0e345dd9d3",
   "metadata": {},
   "source": [
    "## Обзор данных"
   ]
  },
  {
   "cell_type": "code",
   "execution_count": 3,
   "id": "8baf1ce2-aa68-4852-8137-5069ab0cec75",
   "metadata": {},
   "outputs": [
    {
     "name": "stdout",
     "output_type": "stream",
     "text": [
      "<class 'pandas.core.frame.DataFrame'>\n",
      "RangeIndex: 5000 entries, 0 to 4999\n",
      "Data columns (total 5 columns):\n",
      " #   Column             Non-Null Count  Dtype  \n",
      "---  ------             --------------  -----  \n",
      " 0   Пол                5000 non-null   int64  \n",
      " 1   Возраст            5000 non-null   float64\n",
      " 2   Зарплата           5000 non-null   float64\n",
      " 3   Члены семьи        5000 non-null   int64  \n",
      " 4   Страховые выплаты  5000 non-null   int64  \n",
      "dtypes: float64(2), int64(3)\n",
      "memory usage: 195.4 KB\n"
     ]
    }
   ],
   "source": [
    "df.info()"
   ]
  },
  {
   "attachments": {},
   "cell_type": "markdown",
   "id": "e3424494-a22b-481f-96de-b4f7e421cda5",
   "metadata": {},
   "source": [
    "Названия столбцов записаны на русском и без змеиного регистра. Исправим это: "
   ]
  },
  {
   "cell_type": "code",
   "execution_count": 4,
   "id": "7c7866f6-19c1-4ae7-b027-20a7d1d2a702",
   "metadata": {},
   "outputs": [],
   "source": [
    "df.columns = [\"gender\", \"age\", \"salary\", \"family_members\", \"insurance_payments\"]"
   ]
  },
  {
   "attachments": {},
   "cell_type": "markdown",
   "id": "00de2f44-5921-4400-91c6-ef3bc3437efd",
   "metadata": {},
   "source": [
    "Также по какой-то причине тип данных в колонке возраста имеет тип float. Посмотрим, какие уникальные значения там присутствуют (вдруг есть человек 25.5 лет?). "
   ]
  },
  {
   "cell_type": "code",
   "execution_count": 5,
   "id": "ec13883f-ad6a-4805-99a2-2f209c72eb99",
   "metadata": {},
   "outputs": [
    {
     "data": {
      "text/plain": [
       "array([18., 19., 20., 21., 22., 23., 24., 25., 26., 27., 28., 29., 30.,\n",
       "       31., 32., 33., 34., 35., 36., 37., 38., 39., 40., 41., 42., 43.,\n",
       "       44., 45., 46., 47., 48., 49., 50., 51., 52., 53., 54., 55., 56.,\n",
       "       57., 58., 59., 60., 61., 62., 65.])"
      ]
     },
     "execution_count": 5,
     "metadata": {},
     "output_type": "execute_result"
    }
   ],
   "source": [
    "df.age.sort_values().unique()"
   ]
  },
  {
   "attachments": {},
   "cell_type": "markdown",
   "id": "d912e2db-817a-40f7-9d65-df86165755e2",
   "metadata": {},
   "source": [
    "Похоже что достаточно поменять тип данных. "
   ]
  },
  {
   "cell_type": "code",
   "execution_count": 6,
   "id": "63be76ed-1c86-41b1-9a9f-7f77d4173b02",
   "metadata": {},
   "outputs": [],
   "source": [
    "df.age = df.age.astype(int)"
   ]
  },
  {
   "cell_type": "code",
   "execution_count": 7,
   "id": "8ad4d8ee-49fc-4bc1-b39a-76770aa30315",
   "metadata": {},
   "outputs": [
    {
     "data": {
      "text/html": [
       "<div>\n",
       "<style scoped>\n",
       "    .dataframe tbody tr th:only-of-type {\n",
       "        vertical-align: middle;\n",
       "    }\n",
       "\n",
       "    .dataframe tbody tr th {\n",
       "        vertical-align: top;\n",
       "    }\n",
       "\n",
       "    .dataframe thead th {\n",
       "        text-align: right;\n",
       "    }\n",
       "</style>\n",
       "<table border=\"1\" class=\"dataframe\">\n",
       "  <thead>\n",
       "    <tr style=\"text-align: right;\">\n",
       "      <th></th>\n",
       "      <th>gender</th>\n",
       "      <th>age</th>\n",
       "      <th>salary</th>\n",
       "      <th>family_members</th>\n",
       "      <th>insurance_payments</th>\n",
       "    </tr>\n",
       "  </thead>\n",
       "  <tbody>\n",
       "    <tr>\n",
       "      <th>count</th>\n",
       "      <td>5000.000000</td>\n",
       "      <td>5000.000000</td>\n",
       "      <td>5000.000000</td>\n",
       "      <td>5000.000000</td>\n",
       "      <td>5000.000000</td>\n",
       "    </tr>\n",
       "    <tr>\n",
       "      <th>mean</th>\n",
       "      <td>0.499000</td>\n",
       "      <td>30.952800</td>\n",
       "      <td>39916.360000</td>\n",
       "      <td>1.194200</td>\n",
       "      <td>0.148000</td>\n",
       "    </tr>\n",
       "    <tr>\n",
       "      <th>std</th>\n",
       "      <td>0.500049</td>\n",
       "      <td>8.440807</td>\n",
       "      <td>9900.083569</td>\n",
       "      <td>1.091387</td>\n",
       "      <td>0.463183</td>\n",
       "    </tr>\n",
       "    <tr>\n",
       "      <th>min</th>\n",
       "      <td>0.000000</td>\n",
       "      <td>18.000000</td>\n",
       "      <td>5300.000000</td>\n",
       "      <td>0.000000</td>\n",
       "      <td>0.000000</td>\n",
       "    </tr>\n",
       "    <tr>\n",
       "      <th>25%</th>\n",
       "      <td>0.000000</td>\n",
       "      <td>24.000000</td>\n",
       "      <td>33300.000000</td>\n",
       "      <td>0.000000</td>\n",
       "      <td>0.000000</td>\n",
       "    </tr>\n",
       "    <tr>\n",
       "      <th>50%</th>\n",
       "      <td>0.000000</td>\n",
       "      <td>30.000000</td>\n",
       "      <td>40200.000000</td>\n",
       "      <td>1.000000</td>\n",
       "      <td>0.000000</td>\n",
       "    </tr>\n",
       "    <tr>\n",
       "      <th>75%</th>\n",
       "      <td>1.000000</td>\n",
       "      <td>37.000000</td>\n",
       "      <td>46600.000000</td>\n",
       "      <td>2.000000</td>\n",
       "      <td>0.000000</td>\n",
       "    </tr>\n",
       "    <tr>\n",
       "      <th>max</th>\n",
       "      <td>1.000000</td>\n",
       "      <td>65.000000</td>\n",
       "      <td>79000.000000</td>\n",
       "      <td>6.000000</td>\n",
       "      <td>5.000000</td>\n",
       "    </tr>\n",
       "  </tbody>\n",
       "</table>\n",
       "</div>"
      ],
      "text/plain": [
       "            gender          age        salary  family_members   \n",
       "count  5000.000000  5000.000000   5000.000000     5000.000000  \\\n",
       "mean      0.499000    30.952800  39916.360000        1.194200   \n",
       "std       0.500049     8.440807   9900.083569        1.091387   \n",
       "min       0.000000    18.000000   5300.000000        0.000000   \n",
       "25%       0.000000    24.000000  33300.000000        0.000000   \n",
       "50%       0.000000    30.000000  40200.000000        1.000000   \n",
       "75%       1.000000    37.000000  46600.000000        2.000000   \n",
       "max       1.000000    65.000000  79000.000000        6.000000   \n",
       "\n",
       "       insurance_payments  \n",
       "count         5000.000000  \n",
       "mean             0.148000  \n",
       "std              0.463183  \n",
       "min              0.000000  \n",
       "25%              0.000000  \n",
       "50%              0.000000  \n",
       "75%              0.000000  \n",
       "max              5.000000  "
      ]
     },
     "execution_count": 7,
     "metadata": {},
     "output_type": "execute_result"
    }
   ],
   "source": [
    "df.describe()"
   ]
  },
  {
   "cell_type": "code",
   "execution_count": 8,
   "id": "c6650d8d-fc49-42aa-9306-ff9b3b94c097",
   "metadata": {},
   "outputs": [
    {
     "data": {
      "text/plain": [
       "array([[<Axes: title={'center': 'gender'}>,\n",
       "        <Axes: title={'center': 'age'}>],\n",
       "       [<Axes: title={'center': 'salary'}>,\n",
       "        <Axes: title={'center': 'family_members'}>],\n",
       "       [<Axes: title={'center': 'insurance_payments'}>, <Axes: >]],\n",
       "      dtype=object)"
      ]
     },
     "execution_count": 8,
     "metadata": {},
     "output_type": "execute_result"
    },
    {
     "data": {
      "image/png": "[encoded data removed]",
      "text/plain": [
       "<Figure size 1000x700 with 6 Axes>"
      ]
     },
     "metadata": {},
     "output_type": "display_data"
    }
   ],
   "source": [
    "df.hist(bins=47, figsize=(10, 7), edgecolor=\"black\", color=\"lightgrey\", grid=False)"
   ]
  },
  {
   "cell_type": "code",
   "execution_count": 9,
   "id": "01326acb-e3d3-4417-aa64-8f9ef430ffee",
   "metadata": {},
   "outputs": [],
   "source": [
    "corrs = (\n",
    "    df.corr()\n",
    "    .where(np.triu(np.ones(df.corr().shape), 1).astype(bool))\n",
    "    .stack()\n",
    "    .reset_index()\n",
    "    .sort_values(by=0, ascending=False)\n",
    ")\n",
    "corrs.columns = [\"Clmn_1\", \"Clmn_2\", \"Value\"]"
   ]
  },
  {
   "cell_type": "code",
   "execution_count": 10,
   "id": "21e4235d-82c0-4c8d-a4f9-47d580dd2b2e",
   "metadata": {},
   "outputs": [
    {
     "data": {
      "text/html": [
       "<div>\n",
       "<style scoped>\n",
       "    .dataframe tbody tr th:only-of-type {\n",
       "        vertical-align: middle;\n",
       "    }\n",
       "\n",
       "    .dataframe tbody tr th {\n",
       "        vertical-align: top;\n",
       "    }\n",
       "\n",
       "    .dataframe thead th {\n",
       "        text-align: right;\n",
       "    }\n",
       "</style>\n",
       "<table border=\"1\" class=\"dataframe\">\n",
       "  <thead>\n",
       "    <tr style=\"text-align: right;\">\n",
       "      <th></th>\n",
       "      <th>Clmn_1</th>\n",
       "      <th>Clmn_2</th>\n",
       "      <th>Value</th>\n",
       "    </tr>\n",
       "  </thead>\n",
       "  <tbody>\n",
       "    <tr>\n",
       "      <th>6</th>\n",
       "      <td>age</td>\n",
       "      <td>insurance_payments</td>\n",
       "      <td>0.651030</td>\n",
       "    </tr>\n",
       "    <tr>\n",
       "      <th>1</th>\n",
       "      <td>gender</td>\n",
       "      <td>salary</td>\n",
       "      <td>0.014910</td>\n",
       "    </tr>\n",
       "    <tr>\n",
       "      <th>3</th>\n",
       "      <td>gender</td>\n",
       "      <td>insurance_payments</td>\n",
       "      <td>0.010140</td>\n",
       "    </tr>\n",
       "    <tr>\n",
       "      <th>0</th>\n",
       "      <td>gender</td>\n",
       "      <td>age</td>\n",
       "      <td>0.002074</td>\n",
       "    </tr>\n",
       "    <tr>\n",
       "      <th>5</th>\n",
       "      <td>age</td>\n",
       "      <td>family_members</td>\n",
       "      <td>-0.006692</td>\n",
       "    </tr>\n",
       "    <tr>\n",
       "      <th>2</th>\n",
       "      <td>gender</td>\n",
       "      <td>family_members</td>\n",
       "      <td>-0.008991</td>\n",
       "    </tr>\n",
       "    <tr>\n",
       "      <th>8</th>\n",
       "      <td>salary</td>\n",
       "      <td>insurance_payments</td>\n",
       "      <td>-0.014963</td>\n",
       "    </tr>\n",
       "    <tr>\n",
       "      <th>4</th>\n",
       "      <td>age</td>\n",
       "      <td>salary</td>\n",
       "      <td>-0.019093</td>\n",
       "    </tr>\n",
       "    <tr>\n",
       "      <th>7</th>\n",
       "      <td>salary</td>\n",
       "      <td>family_members</td>\n",
       "      <td>-0.030296</td>\n",
       "    </tr>\n",
       "    <tr>\n",
       "      <th>9</th>\n",
       "      <td>family_members</td>\n",
       "      <td>insurance_payments</td>\n",
       "      <td>-0.036290</td>\n",
       "    </tr>\n",
       "  </tbody>\n",
       "</table>\n",
       "</div>"
      ],
      "text/plain": [
       "           Clmn_1              Clmn_2     Value\n",
       "6             age  insurance_payments  0.651030\n",
       "1          gender              salary  0.014910\n",
       "3          gender  insurance_payments  0.010140\n",
       "0          gender                 age  0.002074\n",
       "5             age      family_members -0.006692\n",
       "2          gender      family_members -0.008991\n",
       "8          salary  insurance_payments -0.014963\n",
       "4             age              salary -0.019093\n",
       "7          salary      family_members -0.030296\n",
       "9  family_members  insurance_payments -0.036290"
      ]
     },
     "execution_count": 10,
     "metadata": {},
     "output_type": "execute_result"
    }
   ],
   "source": [
    "corrs"
   ]
  },
  {
   "attachments": {},
   "cell_type": "markdown",
   "id": "e1ce11d3-b97d-4da9-a1b1-8d12ad46acd2",
   "metadata": {},
   "source": [
    "Возраст и число страховых выплат имеют среднюю корреляцию. Между другими колонками корреляция не замечена. "
   ]
  },
  {
   "attachments": {},
   "cell_type": "markdown",
   "id": "7456694b-5fcf-4d05-94f4-cd3cdfc1b45e",
   "metadata": {},
   "source": [
    "Проверим датафрейм на явные дубликаты"
   ]
  },
  {
   "cell_type": "code",
   "execution_count": 11,
   "id": "abc3e692-afde-4bb3-8378-afcf7ee06f08",
   "metadata": {},
   "outputs": [
    {
     "data": {
      "text/plain": [
       "153"
      ]
     },
     "execution_count": 11,
     "metadata": {},
     "output_type": "execute_result"
    }
   ],
   "source": [
    "df.duplicated().sum()"
   ]
  },
  {
   "cell_type": "code",
   "execution_count": 12,
   "id": "c1cbd6f2-4c74-4583-8f3b-e4e85a1b35f1",
   "metadata": {},
   "outputs": [],
   "source": [
    "df = df.drop_duplicates()"
   ]
  },
  {
   "attachments": {},
   "cell_type": "markdown",
   "id": "e3d013d7-e2c6-459c-9abc-774616363e90",
   "metadata": {},
   "source": [
    "**Вывод:** датасет содержит 5 колонок: 4 категориальные и 1 количественную.   \n",
    "В ходе обзора данных была выполнена легкая предобработка: изменены названия колонок, изменен тип данных колонки `age`, удалены дубликаты. Дальнейшая предобработка не требуется, поскольку в датасете отсутствуют пропуски и достижение лучших результатов обучения целью данного исследования не является."
   ]
  },
  {
   "attachments": {},
   "cell_type": "markdown",
   "id": "dc84933f-5843-45e3-869a-4906efb1d605",
   "metadata": {
    "tags": []
   },
   "source": [
    "## Задача об умножении матрицы признаков на обратимую матрицу"
   ]
  },
  {
   "attachments": {},
   "cell_type": "markdown",
   "id": "e1afc5e2-1051-48b0-99ad-3057fc7d775d",
   "metadata": {},
   "source": [
    "**Условие задачи:** Признаки умножают на обратимую матрицу. Изменится ли качество линейной регрессии? (Её можно обучить заново.)\n",
    "\n",
    "  a) Изменится. Приведите примеры матриц.  \n",
    "  b) Не изменится. Укажите, как связаны параметры линейной регрессии в исходной задаче и в преобразованной."
   ]
  },
  {
   "attachments": {},
   "cell_type": "markdown",
   "id": "90c00272-9527-499a-9cfe-c847bc9701ec",
   "metadata": {},
   "source": [
    "**Ответ:** b) Не изменится  \n",
    "\n",
    "**Доказательство:**"
   ]
  },
  {
   "attachments": {},
   "cell_type": "markdown",
   "id": "4b082691-f6bf-43fc-ab1e-b12b6b474ce9",
   "metadata": {},
   "source": [
    "Задача обучения линейной регресси выглядит так:  \n",
    "$a = X\\omega + \\omega_{0}$.   \n",
    "Формула для нахождения $\\omega$:   \n",
    "$\\omega = (X^TX)^{-1}X^Ty$"
   ]
  },
  {
   "attachments": {},
   "cell_type": "markdown",
   "id": "489b1c70-69be-4bd0-b237-92b0834b71dd",
   "metadata": {},
   "source": [
    "Пусть матрица признаков $X$ умножается на обратимую матрицу-ключ $K$. Преобразованную матрицу признаков обозначим как $R = XK$. Запишем задачу обучения линейной регрессии для преобразованной матрицы признаков, отбросив $\\omega_{0}$.\n",
    "\n",
    "$a = R\\omega$. \n",
    "\n",
    "$\\omega$ определяется как:\n",
    "\n",
    "$\\omega = (R^TR)^{-1}R^Ty$  \n",
    "\n",
    "Чтобы доказать, что в результате преобразований $X → R$ получаемый вектор ответов $a$ не изменится, воспользуемся двумя свойствами:\n",
    "\n",
    "$(AB)^T = B^TA^T$  \n",
    "$(AB)^{-1} = B^{-1}A^{-1}$  \n",
    "\n",
    "Тогда:\n",
    "\n",
    "$a = R(R^TR)^{-1}R^Ty = $  \n",
    "\n",
    "$= (XK)((XK)^T(XK))^{-1}(XK)^Ty =$  \n",
    "\n",
    "$= (XK)(K^T(X^TX)K)^{-1}(K^TX^T)y =$\n",
    "\n",
    "$→$**[$ (ABC)^{-1} = C^{-1}B^{-1}A^{-1} $]**$→$\n",
    "\n",
    "$= X(KK^{-1})(X^TX)^{-1}(K^{T^{-1}}K^T)X^Ty =$  \n",
    "\n",
    "$→$ **[ $ (KK^{-1}) = E; (K^{T^{-1}}K^T) = E $  ]** $→$\n",
    "\n",
    "$= XE(X^TX)^{-1}EX^Ty =$\n",
    "\n",
    "$= X(X^TX)^{-1}X^Ty$  \n"
   ]
  },
  {
   "attachments": {},
   "cell_type": "markdown",
   "id": "d7b33df8-d7d2-4d0b-b540-901a6014601d",
   "metadata": {},
   "source": [
    "## Алгоритм преобразования данных "
   ]
  },
  {
   "attachments": {},
   "cell_type": "markdown",
   "id": "edb53567-5d6d-4937-93a7-183fec819520",
   "metadata": {},
   "source": [
    "Чтобы скрыть смысл признаков рассматриваемого датафрейма можно произвести матричное преобразование. Для этого будем использоваить матрицу-ключ, которая преобразует имеющиеся данные и превратит их в набор псевдо-случайных чисел.\n",
    "\n",
    "Матрица преобразования должна быть обратима и иметь размер ($n$, $n$), где $n$ - число колонок в матрице признаков. "
   ]
  },
  {
   "cell_type": "code",
   "execution_count": 13,
   "id": "c88963a8-5563-4f27-9024-e39549d762eb",
   "metadata": {},
   "outputs": [],
   "source": [
    "n = df.drop(columns=\"insurance_payments\").shape[1]"
   ]
  },
  {
   "cell_type": "code",
   "execution_count": 14,
   "id": "d5ba4425-05ed-4106-ae77-1dc21ce8b5c1",
   "metadata": {},
   "outputs": [],
   "source": [
    "key = np.random.RandomState(42).random((n, n))"
   ]
  },
  {
   "cell_type": "code",
   "execution_count": 15,
   "id": "2e10aae4-72c3-44f9-91e9-be40b0f77b90",
   "metadata": {},
   "outputs": [
    {
     "data": {
      "text/plain": [
       "array([[0.37454012, 0.95071431, 0.73199394, 0.59865848],\n",
       "       [0.15601864, 0.15599452, 0.05808361, 0.86617615],\n",
       "       [0.60111501, 0.70807258, 0.02058449, 0.96990985],\n",
       "       [0.83244264, 0.21233911, 0.18182497, 0.18340451]])"
      ]
     },
     "execution_count": 15,
     "metadata": {},
     "output_type": "execute_result"
    }
   ],
   "source": [
    "key"
   ]
  },
  {
   "attachments": {},
   "cell_type": "markdown",
   "id": "b8829e87-7c9a-414d-a23f-6faeb67f554b",
   "metadata": {},
   "source": [
    "Проверка обратимости"
   ]
  },
  {
   "cell_type": "code",
   "execution_count": 16,
   "id": "e55cddef-9543-4cb3-822e-4d5da97b61fb",
   "metadata": {},
   "outputs": [
    {
     "data": {
      "text/plain": [
       "array([[-0.32076901, -0.12766508,  0.06141427,  1.32518674],\n",
       "       [ 0.35151041, -1.88500014,  1.65560045, -1.0003883 ],\n",
       "       [ 1.14080312,  1.3467702 , -2.0407373 ,  0.70794071],\n",
       "       [-0.08202687,  1.42666425, -0.17238177, -0.10600441]])"
      ]
     },
     "execution_count": 16,
     "metadata": {},
     "output_type": "execute_result"
    }
   ],
   "source": [
    "np.linalg.inv(key)"
   ]
  },
  {
   "cell_type": "code",
   "execution_count": 17,
   "id": "56254ad0-1cf0-4b0c-be5b-a8f413bc91f8",
   "metadata": {},
   "outputs": [
    {
     "data": {
      "text/html": [
       "<div>\n",
       "<style scoped>\n",
       "    .dataframe tbody tr th:only-of-type {\n",
       "        vertical-align: middle;\n",
       "    }\n",
       "\n",
       "    .dataframe tbody tr th {\n",
       "        vertical-align: top;\n",
       "    }\n",
       "\n",
       "    .dataframe thead th {\n",
       "        text-align: right;\n",
       "    }\n",
       "</style>\n",
       "<table border=\"1\" class=\"dataframe\">\n",
       "  <thead>\n",
       "    <tr style=\"text-align: right;\">\n",
       "      <th></th>\n",
       "      <th>gender</th>\n",
       "      <th>age</th>\n",
       "      <th>salary</th>\n",
       "      <th>family_members</th>\n",
       "    </tr>\n",
       "  </thead>\n",
       "  <tbody>\n",
       "    <tr>\n",
       "      <th>0</th>\n",
       "      <td>1</td>\n",
       "      <td>41</td>\n",
       "      <td>49600.0</td>\n",
       "      <td>1</td>\n",
       "    </tr>\n",
       "    <tr>\n",
       "      <th>1</th>\n",
       "      <td>0</td>\n",
       "      <td>46</td>\n",
       "      <td>38000.0</td>\n",
       "      <td>1</td>\n",
       "    </tr>\n",
       "    <tr>\n",
       "      <th>2</th>\n",
       "      <td>0</td>\n",
       "      <td>29</td>\n",
       "      <td>21000.0</td>\n",
       "      <td>0</td>\n",
       "    </tr>\n",
       "    <tr>\n",
       "      <th>3</th>\n",
       "      <td>0</td>\n",
       "      <td>21</td>\n",
       "      <td>41700.0</td>\n",
       "      <td>2</td>\n",
       "    </tr>\n",
       "    <tr>\n",
       "      <th>4</th>\n",
       "      <td>1</td>\n",
       "      <td>28</td>\n",
       "      <td>26100.0</td>\n",
       "      <td>0</td>\n",
       "    </tr>\n",
       "  </tbody>\n",
       "</table>\n",
       "</div>"
      ],
      "text/plain": [
       "   gender  age   salary  family_members\n",
       "0       1   41  49600.0               1\n",
       "1       0   46  38000.0               1\n",
       "2       0   29  21000.0               0\n",
       "3       0   21  41700.0               2\n",
       "4       1   28  26100.0               0"
      ]
     },
     "execution_count": 17,
     "metadata": {},
     "output_type": "execute_result"
    }
   ],
   "source": [
    "features = df.drop(columns=\"insurance_payments\")\n",
    "features.head()"
   ]
  },
  {
   "attachments": {},
   "cell_type": "markdown",
   "id": "453167b9-e684-47b1-a780-db73718b8b56",
   "metadata": {},
   "source": [
    "Когда у нас есть ключ, можно преобразовать данные: "
   ]
  },
  {
   "cell_type": "code",
   "execution_count": 18,
   "id": "4e3d92c4-9a01-4089-9175-32999926f262",
   "metadata": {},
   "outputs": [
    {
     "data": {
      "text/html": [
       "<div>\n",
       "<style scoped>\n",
       "    .dataframe tbody tr th:only-of-type {\n",
       "        vertical-align: middle;\n",
       "    }\n",
       "\n",
       "    .dataframe tbody tr th {\n",
       "        vertical-align: top;\n",
       "    }\n",
       "\n",
       "    .dataframe thead th {\n",
       "        text-align: right;\n",
       "    }\n",
       "</style>\n",
       "<table border=\"1\" class=\"dataframe\">\n",
       "  <thead>\n",
       "    <tr style=\"text-align: right;\">\n",
       "      <th></th>\n",
       "      <th>0</th>\n",
       "      <th>1</th>\n",
       "      <th>2</th>\n",
       "      <th>3</th>\n",
       "    </tr>\n",
       "  </thead>\n",
       "  <tbody>\n",
       "    <tr>\n",
       "      <th>0</th>\n",
       "      <td>29822.908329</td>\n",
       "      <td>35127.958687</td>\n",
       "      <td>1024.286164</td>\n",
       "      <td>48143.823952</td>\n",
       "    </tr>\n",
       "    <tr>\n",
       "      <th>1</th>\n",
       "      <td>22850.379746</td>\n",
       "      <td>26914.146043</td>\n",
       "      <td>785.064454</td>\n",
       "      <td>36896.601889</td>\n",
       "    </tr>\n",
       "    <tr>\n",
       "      <th>2</th>\n",
       "      <td>12627.939787</td>\n",
       "      <td>14874.047975</td>\n",
       "      <td>433.958805</td>\n",
       "      <td>20393.226004</td>\n",
       "    </tr>\n",
       "    <tr>\n",
       "      <th>3</th>\n",
       "      <td>25071.437266</td>\n",
       "      <td>29530.327057</td>\n",
       "      <td>859.956818</td>\n",
       "      <td>40463.797343</td>\n",
       "    </tr>\n",
       "    <tr>\n",
       "      <th>4</th>\n",
       "      <td>15693.844869</td>\n",
       "      <td>18486.012841</td>\n",
       "      <td>539.613636</td>\n",
       "      <td>25339.498732</td>\n",
       "    </tr>\n",
       "  </tbody>\n",
       "</table>\n",
       "</div>"
      ],
      "text/plain": [
       "              0             1            2             3\n",
       "0  29822.908329  35127.958687  1024.286164  48143.823952\n",
       "1  22850.379746  26914.146043   785.064454  36896.601889\n",
       "2  12627.939787  14874.047975   433.958805  20393.226004\n",
       "3  25071.437266  29530.327057   859.956818  40463.797343\n",
       "4  15693.844869  18486.012841   539.613636  25339.498732"
      ]
     },
     "execution_count": 18,
     "metadata": {},
     "output_type": "execute_result"
    }
   ],
   "source": [
    "features_transformed = pd.DataFrame(features.values @ key, index=features.index)\n",
    "features_transformed.head()"
   ]
  },
  {
   "attachments": {},
   "cell_type": "markdown",
   "id": "cacb0086-0b10-47f3-adb0-dddd713894f9",
   "metadata": {},
   "source": [
    "Преобразованная матрица содержит в себе набор псевдо-случайных чисел, которые довольно затруднительно воспринимать как информацию о клиентах и каким-либо образом интерпретировать.\n",
    "\n",
    "Чтобы получить исходную информацию обратно достаточно домножить преобразованную матрицу на обратную матрицу ключа:"
   ]
  },
  {
   "cell_type": "code",
   "execution_count": 19,
   "id": "c2262fd9-d0b7-4f79-999a-b03c6d784066",
   "metadata": {},
   "outputs": [
    {
     "data": {
      "text/html": [
       "<div>\n",
       "<style scoped>\n",
       "    .dataframe tbody tr th:only-of-type {\n",
       "        vertical-align: middle;\n",
       "    }\n",
       "\n",
       "    .dataframe tbody tr th {\n",
       "        vertical-align: top;\n",
       "    }\n",
       "\n",
       "    .dataframe thead th {\n",
       "        text-align: right;\n",
       "    }\n",
       "</style>\n",
       "<table border=\"1\" class=\"dataframe\">\n",
       "  <thead>\n",
       "    <tr style=\"text-align: right;\">\n",
       "      <th></th>\n",
       "      <th>gender</th>\n",
       "      <th>age</th>\n",
       "      <th>salary</th>\n",
       "      <th>family_members</th>\n",
       "    </tr>\n",
       "  </thead>\n",
       "  <tbody>\n",
       "    <tr>\n",
       "      <th>0</th>\n",
       "      <td>1</td>\n",
       "      <td>41</td>\n",
       "      <td>49600.0</td>\n",
       "      <td>1</td>\n",
       "    </tr>\n",
       "    <tr>\n",
       "      <th>1</th>\n",
       "      <td>0</td>\n",
       "      <td>46</td>\n",
       "      <td>38000.0</td>\n",
       "      <td>1</td>\n",
       "    </tr>\n",
       "    <tr>\n",
       "      <th>2</th>\n",
       "      <td>0</td>\n",
       "      <td>29</td>\n",
       "      <td>21000.0</td>\n",
       "      <td>0</td>\n",
       "    </tr>\n",
       "    <tr>\n",
       "      <th>3</th>\n",
       "      <td>0</td>\n",
       "      <td>21</td>\n",
       "      <td>41700.0</td>\n",
       "      <td>2</td>\n",
       "    </tr>\n",
       "    <tr>\n",
       "      <th>4</th>\n",
       "      <td>1</td>\n",
       "      <td>28</td>\n",
       "      <td>26100.0</td>\n",
       "      <td>0</td>\n",
       "    </tr>\n",
       "  </tbody>\n",
       "</table>\n",
       "</div>"
      ],
      "text/plain": [
       "   gender  age   salary  family_members\n",
       "0       1   41  49600.0               1\n",
       "1       0   46  38000.0               1\n",
       "2       0   29  21000.0               0\n",
       "3       0   21  41700.0               2\n",
       "4       1   28  26100.0               0"
      ]
     },
     "execution_count": 19,
     "metadata": {},
     "output_type": "execute_result"
    }
   ],
   "source": [
    "features_rebuild = pd.DataFrame(\n",
    "    features_transformed.values @ np.linalg.inv(key),\n",
    "    columns=features.columns,\n",
    "    index=features.index,\n",
    ").round()\n",
    "features_rebuild[[\"gender\", \"age\", \"family_members\"]] = features_rebuild[\n",
    "    [\"gender\", \"age\", \"family_members\"]\n",
    "].astype(int)\n",
    "features_rebuild.head()"
   ]
  },
  {
   "attachments": {},
   "cell_type": "markdown",
   "id": "2b433ea9-fecd-443f-a519-dc6e2c12a18d",
   "metadata": {},
   "source": [
    "Сравним исходные и восстановленные признаки, чтобы убедиться, что все значения остались прежними"
   ]
  },
  {
   "cell_type": "code",
   "execution_count": 20,
   "id": "d576abbf-79e1-46c9-89dc-d16d2d96e691",
   "metadata": {},
   "outputs": [
    {
     "data": {
      "text/plain": [
       "gender            0.000000e+00\n",
       "age               0.000000e+00\n",
       "salary            1.127773e-10\n",
       "family_members    0.000000e+00\n",
       "dtype: float64"
      ]
     },
     "execution_count": 20,
     "metadata": {},
     "output_type": "execute_result"
    }
   ],
   "source": [
    "(features - features_rebuild).sum()"
   ]
  },
  {
   "attachments": {},
   "cell_type": "markdown",
   "id": "98eec32a-bb8b-4a60-af31-8f9816b53d04",
   "metadata": {},
   "source": [
    "Небольшие различия в столбце `salary`  связаны с тем, что тип данных float64 имеет точность лишь 15 знаков после запятой. "
   ]
  },
  {
   "attachments": {},
   "cell_type": "markdown",
   "id": "7a36946d-00fd-45a6-9e41-3c72aad951ab",
   "metadata": {},
   "source": [
    "Качество линейной регрессии от произведенных преобразований не изменится, поскольку, как было доказано в предыдущем пункте, умножение матрицы признаков на обратимую матрицу не влияет на конечные значения предсказаний. "
   ]
  },
  {
   "attachments": {},
   "cell_type": "markdown",
   "id": "e2437ff0-4e4c-40e3-9410-8709c06ee844",
   "metadata": {},
   "source": [
    "## Применение алгоритма преобразования"
   ]
  },
  {
   "attachments": {},
   "cell_type": "markdown",
   "id": "1fdce027-7e8e-47bc-a5aa-42c07f8ede30",
   "metadata": {},
   "source": [
    "Создадим кодировщик-декодировщик для признаков. "
   ]
  },
  {
   "cell_type": "code",
   "execution_count": 21,
   "id": "15a53c7c-0ecf-4124-9a4b-f033ae94a37d",
   "metadata": {},
   "outputs": [],
   "source": [
    "class randomMatrixEncoder:\n",
    "    def encoder(self, features):\n",
    "        global types\n",
    "        types = features.dtypes.to_dict()\n",
    "        n = features.shape[1]\n",
    "        check = False\n",
    "        while check == False:\n",
    "            key = np.random.RandomState(42).random((n, n))\n",
    "            try:\n",
    "                np.linalg.inv(key)\n",
    "                check = True\n",
    "            except:\n",
    "                check = False\n",
    "        features_transformed = features.values @ key\n",
    "        return (\n",
    "            pd.DataFrame(\n",
    "                features_transformed, index=features.index, columns=features.columns\n",
    "            ),\n",
    "            key,\n",
    "        )\n",
    "\n",
    "    def decoder(self, features, key):\n",
    "        features_rebuild = features.values @ np.linalg.inv(key)\n",
    "        return (\n",
    "            pd.DataFrame(\n",
    "                features_rebuild, index=features.index, columns=features.columns\n",
    "            )\n",
    "            .round()\n",
    "            .astype(types)\n",
    "        )"
   ]
  },
  {
   "attachments": {},
   "cell_type": "markdown",
   "id": "9fefa857-8bc2-401e-bf16-0cd5f531b1ab",
   "metadata": {},
   "source": [
    "Выделим признаки и целевые признаки"
   ]
  },
  {
   "cell_type": "code",
   "execution_count": 22,
   "id": "f0d5531a-3087-465e-8ecd-01fd36db011d",
   "metadata": {},
   "outputs": [],
   "source": [
    "X = df.drop(columns=\"insurance_payments\")"
   ]
  },
  {
   "cell_type": "code",
   "execution_count": 23,
   "id": "c9000b09-7f6f-49ab-aa65-a32587aff6ae",
   "metadata": {},
   "outputs": [],
   "source": [
    "y = df.insurance_payments"
   ]
  },
  {
   "attachments": {},
   "cell_type": "markdown",
   "id": "8e92abc6-0da8-4b70-a121-89299c160f5b",
   "metadata": {},
   "source": [
    "Разделим на выборки"
   ]
  },
  {
   "cell_type": "code",
   "execution_count": 24,
   "id": "b54a76f5-3549-4feb-825a-53bb2ebcb618",
   "metadata": {},
   "outputs": [],
   "source": [
    "X_train, X_test, y_train, y_test = train_test_split(\n",
    "    X, y, test_size=0.2, random_state=42\n",
    ")"
   ]
  },
  {
   "attachments": {},
   "cell_type": "markdown",
   "id": "45351109-00fd-4e1a-bc8b-48877d7af5e8",
   "metadata": {},
   "source": [
    "Обучим модель на признаках без преобразования и посмотрим на ее результаты"
   ]
  },
  {
   "cell_type": "code",
   "execution_count": 25,
   "id": "ad1ea664-ea97-4af5-9572-530fdaafaa3c",
   "metadata": {},
   "outputs": [],
   "source": [
    "model = LinearRegression()"
   ]
  },
  {
   "cell_type": "code",
   "execution_count": 26,
   "id": "aaba8074-711d-4034-b2da-bcdea43c2270",
   "metadata": {},
   "outputs": [
    {
     "data": {
      "text/html": [
       "<style>#sk-container-id-1 {color: black;background-color: white;}#sk-container-id-1 pre{padding: 0;}#sk-container-id-1 div.sk-toggleable {background-color: white;}#sk-container-id-1 label.sk-toggleable__label {cursor: pointer;display: block;width: 100%;margin-bottom: 0;padding: 0.3em;box-sizing: border-box;text-align: center;}#sk-container-id-1 label.sk-toggleable__label-arrow:before {content: \"▸\";float: left;margin-right: 0.25em;color: #696969;}#sk-container-id-1 label.sk-toggleable__label-arrow:hover:before {color: black;}#sk-container-id-1 div.sk-estimator:hover label.sk-toggleable__label-arrow:before {color: black;}#sk-container-id-1 div.sk-toggleable__content {max-height: 0;max-width: 0;overflow: hidden;text-align: left;background-color: #f0f8ff;}#sk-container-id-1 div.sk-toggleable__content pre {margin: 0.2em;color: black;border-radius: 0.25em;background-color: #f0f8ff;}#sk-container-id-1 input.sk-toggleable__control:checked~div.sk-toggleable__content {max-height: 200px;max-width: 100%;overflow: auto;}#sk-container-id-1 input.sk-toggleable__control:checked~label.sk-toggleable__label-arrow:before {content: \"▾\";}#sk-container-id-1 div.sk-estimator input.sk-toggleable__control:checked~label.sk-toggleable__label {background-color: #d4ebff;}#sk-container-id-1 div.sk-label input.sk-toggleable__control:checked~label.sk-toggleable__label {background-color: #d4ebff;}#sk-container-id-1 input.sk-hidden--visually {border: 0;clip: rect(1px 1px 1px 1px);clip: rect(1px, 1px, 1px, 1px);height: 1px;margin: -1px;overflow: hidden;padding: 0;position: absolute;width: 1px;}#sk-container-id-1 div.sk-estimator {font-family: monospace;background-color: #f0f8ff;border: 1px dotted black;border-radius: 0.25em;box-sizing: border-box;margin-bottom: 0.5em;}#sk-container-id-1 div.sk-estimator:hover {background-color: #d4ebff;}#sk-container-id-1 div.sk-parallel-item::after {content: \"\";width: 100%;border-bottom: 1px solid gray;flex-grow: 1;}#sk-container-id-1 div.sk-label:hover label.sk-toggleable__label {background-color: #d4ebff;}#sk-container-id-1 div.sk-serial::before {content: \"\";position: absolute;border-left: 1px solid gray;box-sizing: border-box;top: 0;bottom: 0;left: 50%;z-index: 0;}#sk-container-id-1 div.sk-serial {display: flex;flex-direction: column;align-items: center;background-color: white;padding-right: 0.2em;padding-left: 0.2em;position: relative;}#sk-container-id-1 div.sk-item {position: relative;z-index: 1;}#sk-container-id-1 div.sk-parallel {display: flex;align-items: stretch;justify-content: center;background-color: white;position: relative;}#sk-container-id-1 div.sk-item::before, #sk-container-id-1 div.sk-parallel-item::before {content: \"\";position: absolute;border-left: 1px solid gray;box-sizing: border-box;top: 0;bottom: 0;left: 50%;z-index: -1;}#sk-container-id-1 div.sk-parallel-item {display: flex;flex-direction: column;z-index: 1;position: relative;background-color: white;}#sk-container-id-1 div.sk-parallel-item:first-child::after {align-self: flex-end;width: 50%;}#sk-container-id-1 div.sk-parallel-item:last-child::after {align-self: flex-start;width: 50%;}#sk-container-id-1 div.sk-parallel-item:only-child::after {width: 0;}#sk-container-id-1 div.sk-dashed-wrapped {border: 1px dashed gray;margin: 0 0.4em 0.5em 0.4em;box-sizing: border-box;padding-bottom: 0.4em;background-color: white;}#sk-container-id-1 div.sk-label label {font-family: monospace;font-weight: bold;display: inline-block;line-height: 1.2em;}#sk-container-id-1 div.sk-label-container {text-align: center;}#sk-container-id-1 div.sk-container {/* jupyter's `normalize.less` sets `[hidden] { display: none; }` but bootstrap.min.css set `[hidden] { display: none !important; }` so we also need the `!important` here to be able to override the default hidden behavior on the sphinx rendered scikit-learn.org. See: https://github.com/scikit-learn/scikit-learn/issues/21755 */display: inline-block !important;position: relative;}#sk-container-id-1 div.sk-text-repr-fallback {display: none;}</style><div id=\"sk-container-id-1\" class=\"sk-top-container\"><div class=\"sk-text-repr-fallback\"><pre>LinearRegression()</pre><b>In a Jupyter environment, please rerun this cell to show the HTML representation or trust the notebook. <br />On GitHub, the HTML representation is unable to render, please try loading this page with nbviewer.org.</b></div><div class=\"sk-container\" hidden><div class=\"sk-item\"><div class=\"sk-estimator sk-toggleable\"><input class=\"sk-toggleable__control sk-hidden--visually\" id=\"sk-estimator-id-1\" type=\"checkbox\" checked><label for=\"sk-estimator-id-1\" class=\"sk-toggleable__label sk-toggleable__label-arrow\">LinearRegression</label><div class=\"sk-toggleable__content\"><pre>LinearRegression()</pre></div></div></div></div></div>"
      ],
      "text/plain": [
       "LinearRegression()"
      ]
     },
     "execution_count": 26,
     "metadata": {},
     "output_type": "execute_result"
    }
   ],
   "source": [
    "model.fit(X_train, y_train)"
   ]
  },
  {
   "cell_type": "code",
   "execution_count": 27,
   "id": "e4ea4af1-8b22-41de-b10e-4eacfb3cb3da",
   "metadata": {},
   "outputs": [],
   "source": [
    "predictions_pure = model.predict(X_test)"
   ]
  },
  {
   "cell_type": "code",
   "execution_count": 28,
   "id": "d4a838b0-209d-40f0-af6d-362d4503ef47",
   "metadata": {},
   "outputs": [],
   "source": [
    "r2_score_pure = r2_score(y_test, predictions_pure)"
   ]
  },
  {
   "cell_type": "code",
   "execution_count": 29,
   "id": "b00bae23-197d-4c7a-92ec-7f6d00c758dd",
   "metadata": {},
   "outputs": [
    {
     "name": "stdout",
     "output_type": "stream",
     "text": [
      "===============================================================================\n",
      "\n",
      "Метрика R2 до преобразования матрицы признаков = 0.43927\n",
      "\n",
      "===============================================================================\n"
     ]
    }
   ],
   "source": [
    "print(\"=\" * 79)\n",
    "print(f\"\\nМетрика R2 до преобразования матрицы признаков = {r2_score_pure:.5}\\n\")\n",
    "print(\"=\" * 79)"
   ]
  },
  {
   "attachments": {},
   "cell_type": "markdown",
   "id": "741c79e3-d14e-4ded-8371-ccf94511425c",
   "metadata": {},
   "source": [
    "Теперь создадим закодированные признаки"
   ]
  },
  {
   "cell_type": "code",
   "execution_count": 30,
   "id": "9c094d44-f3f3-4484-8334-2c15c992f92b",
   "metadata": {},
   "outputs": [],
   "source": [
    "encoder = randomMatrixEncoder()"
   ]
  },
  {
   "cell_type": "code",
   "execution_count": 31,
   "id": "f645ff4e-6a68-4610-84bd-a1ccf42bbaba",
   "metadata": {},
   "outputs": [],
   "source": [
    "X_encoded, key = encoder.encoder(X)"
   ]
  },
  {
   "cell_type": "code",
   "execution_count": 32,
   "id": "662501a7-38a1-46aa-a0de-4504db3fc387",
   "metadata": {},
   "outputs": [],
   "source": [
    "X_train_encoded, X_test_encoded, y_train, y_test = train_test_split(\n",
    "    X_encoded, y, test_size=0.2, random_state=42\n",
    ")"
   ]
  },
  {
   "attachments": {},
   "cell_type": "markdown",
   "id": "e043ef6b-3cee-49f7-ba68-907b7ad2152d",
   "metadata": {},
   "source": [
    "Сравним, как выглядят тренировочные признаки до и после преобразования"
   ]
  },
  {
   "cell_type": "code",
   "execution_count": 33,
   "id": "33608b2d-8e38-440c-a61d-353c2e67625b",
   "metadata": {},
   "outputs": [
    {
     "data": {
      "text/html": [
       "<div>\n",
       "<style scoped>\n",
       "    .dataframe tbody tr th:only-of-type {\n",
       "        vertical-align: middle;\n",
       "    }\n",
       "\n",
       "    .dataframe tbody tr th {\n",
       "        vertical-align: top;\n",
       "    }\n",
       "\n",
       "    .dataframe thead th {\n",
       "        text-align: right;\n",
       "    }\n",
       "</style>\n",
       "<table border=\"1\" class=\"dataframe\">\n",
       "  <thead>\n",
       "    <tr style=\"text-align: right;\">\n",
       "      <th></th>\n",
       "      <th>gender</th>\n",
       "      <th>age</th>\n",
       "      <th>salary</th>\n",
       "      <th>family_members</th>\n",
       "    </tr>\n",
       "  </thead>\n",
       "  <tbody>\n",
       "    <tr>\n",
       "      <th>433</th>\n",
       "      <td>1</td>\n",
       "      <td>30</td>\n",
       "      <td>45200.0</td>\n",
       "      <td>3</td>\n",
       "    </tr>\n",
       "    <tr>\n",
       "      <th>4206</th>\n",
       "      <td>1</td>\n",
       "      <td>28</td>\n",
       "      <td>45100.0</td>\n",
       "      <td>0</td>\n",
       "    </tr>\n",
       "    <tr>\n",
       "      <th>290</th>\n",
       "      <td>1</td>\n",
       "      <td>22</td>\n",
       "      <td>27900.0</td>\n",
       "      <td>0</td>\n",
       "    </tr>\n",
       "  </tbody>\n",
       "</table>\n",
       "</div>"
      ],
      "text/plain": [
       "      gender  age   salary  family_members\n",
       "433        1   30  45200.0               3\n",
       "4206       1   28  45100.0               0\n",
       "290        1   22  27900.0               0"
      ]
     },
     "execution_count": 33,
     "metadata": {},
     "output_type": "execute_result"
    }
   ],
   "source": [
    "X_train.head(3)"
   ]
  },
  {
   "cell_type": "code",
   "execution_count": 34,
   "id": "eb28d288-4449-43f9-aea4-cc11aa55eebe",
   "metadata": {},
   "outputs": [
    {
     "data": {
      "text/html": [
       "<div>\n",
       "<style scoped>\n",
       "    .dataframe tbody tr th:only-of-type {\n",
       "        vertical-align: middle;\n",
       "    }\n",
       "\n",
       "    .dataframe tbody tr th {\n",
       "        vertical-align: top;\n",
       "    }\n",
       "\n",
       "    .dataframe thead th {\n",
       "        text-align: right;\n",
       "    }\n",
       "</style>\n",
       "<table border=\"1\" class=\"dataframe\">\n",
       "  <thead>\n",
       "    <tr style=\"text-align: right;\">\n",
       "      <th></th>\n",
       "      <th>gender</th>\n",
       "      <th>age</th>\n",
       "      <th>salary</th>\n",
       "      <th>family_members</th>\n",
       "    </tr>\n",
       "  </thead>\n",
       "  <tbody>\n",
       "    <tr>\n",
       "      <th>433</th>\n",
       "      <td>27177.950958</td>\n",
       "      <td>32011.148084</td>\n",
       "      <td>933.439119</td>\n",
       "      <td>43867.059474</td>\n",
       "    </tr>\n",
       "    <tr>\n",
       "      <th>4206</th>\n",
       "      <td>27115.030092</td>\n",
       "      <td>31939.391819</td>\n",
       "      <td>930.719028</td>\n",
       "      <td>43767.785923</td>\n",
       "    </tr>\n",
       "    <tr>\n",
       "      <th>290</th>\n",
       "      <td>16774.915778</td>\n",
       "      <td>19759.607514</td>\n",
       "      <td>576.317224</td>\n",
       "      <td>27080.139409</td>\n",
       "    </tr>\n",
       "  </tbody>\n",
       "</table>\n",
       "</div>"
      ],
      "text/plain": [
       "            gender           age      salary  family_members\n",
       "433   27177.950958  32011.148084  933.439119    43867.059474\n",
       "4206  27115.030092  31939.391819  930.719028    43767.785923\n",
       "290   16774.915778  19759.607514  576.317224    27080.139409"
      ]
     },
     "execution_count": 34,
     "metadata": {},
     "output_type": "execute_result"
    }
   ],
   "source": [
    "X_train_encoded.head(3)"
   ]
  },
  {
   "attachments": {},
   "cell_type": "markdown",
   "id": "8470a3c3-7e31-429c-8362-ed100fcda102",
   "metadata": {},
   "source": [
    "Снова обученим модель и произведем вывод ее результатов"
   ]
  },
  {
   "cell_type": "code",
   "execution_count": 35,
   "id": "1a9f1fb2-dbc4-46a7-9edb-eb22147aa46f",
   "metadata": {},
   "outputs": [],
   "source": [
    "model_encoded = LinearRegression()"
   ]
  },
  {
   "cell_type": "code",
   "execution_count": 36,
   "id": "bd88a023-5f7c-48d5-8626-447a579462aa",
   "metadata": {},
   "outputs": [
    {
     "data": {
      "text/html": [
       "<style>#sk-container-id-2 {color: black;background-color: white;}#sk-container-id-2 pre{padding: 0;}#sk-container-id-2 div.sk-toggleable {background-color: white;}#sk-container-id-2 label.sk-toggleable__label {cursor: pointer;display: block;width: 100%;margin-bottom: 0;padding: 0.3em;box-sizing: border-box;text-align: center;}#sk-container-id-2 label.sk-toggleable__label-arrow:before {content: \"▸\";float: left;margin-right: 0.25em;color: #696969;}#sk-container-id-2 label.sk-toggleable__label-arrow:hover:before {color: black;}#sk-container-id-2 div.sk-estimator:hover label.sk-toggleable__label-arrow:before {color: black;}#sk-container-id-2 div.sk-toggleable__content {max-height: 0;max-width: 0;overflow: hidden;text-align: left;background-color: #f0f8ff;}#sk-container-id-2 div.sk-toggleable__content pre {margin: 0.2em;color: black;border-radius: 0.25em;background-color: #f0f8ff;}#sk-container-id-2 input.sk-toggleable__control:checked~div.sk-toggleable__content {max-height: 200px;max-width: 100%;overflow: auto;}#sk-container-id-2 input.sk-toggleable__control:checked~label.sk-toggleable__label-arrow:before {content: \"▾\";}#sk-container-id-2 div.sk-estimator input.sk-toggleable__control:checked~label.sk-toggleable__label {background-color: #d4ebff;}#sk-container-id-2 div.sk-label input.sk-toggleable__control:checked~label.sk-toggleable__label {background-color: #d4ebff;}#sk-container-id-2 input.sk-hidden--visually {border: 0;clip: rect(1px 1px 1px 1px);clip: rect(1px, 1px, 1px, 1px);height: 1px;margin: -1px;overflow: hidden;padding: 0;position: absolute;width: 1px;}#sk-container-id-2 div.sk-estimator {font-family: monospace;background-color: #f0f8ff;border: 1px dotted black;border-radius: 0.25em;box-sizing: border-box;margin-bottom: 0.5em;}#sk-container-id-2 div.sk-estimator:hover {background-color: #d4ebff;}#sk-container-id-2 div.sk-parallel-item::after {content: \"\";width: 100%;border-bottom: 1px solid gray;flex-grow: 1;}#sk-container-id-2 div.sk-label:hover label.sk-toggleable__label {background-color: #d4ebff;}#sk-container-id-2 div.sk-serial::before {content: \"\";position: absolute;border-left: 1px solid gray;box-sizing: border-box;top: 0;bottom: 0;left: 50%;z-index: 0;}#sk-container-id-2 div.sk-serial {display: flex;flex-direction: column;align-items: center;background-color: white;padding-right: 0.2em;padding-left: 0.2em;position: relative;}#sk-container-id-2 div.sk-item {position: relative;z-index: 1;}#sk-container-id-2 div.sk-parallel {display: flex;align-items: stretch;justify-content: center;background-color: white;position: relative;}#sk-container-id-2 div.sk-item::before, #sk-container-id-2 div.sk-parallel-item::before {content: \"\";position: absolute;border-left: 1px solid gray;box-sizing: border-box;top: 0;bottom: 0;left: 50%;z-index: -1;}#sk-container-id-2 div.sk-parallel-item {display: flex;flex-direction: column;z-index: 1;position: relative;background-color: white;}#sk-container-id-2 div.sk-parallel-item:first-child::after {align-self: flex-end;width: 50%;}#sk-container-id-2 div.sk-parallel-item:last-child::after {align-self: flex-start;width: 50%;}#sk-container-id-2 div.sk-parallel-item:only-child::after {width: 0;}#sk-container-id-2 div.sk-dashed-wrapped {border: 1px dashed gray;margin: 0 0.4em 0.5em 0.4em;box-sizing: border-box;padding-bottom: 0.4em;background-color: white;}#sk-container-id-2 div.sk-label label {font-family: monospace;font-weight: bold;display: inline-block;line-height: 1.2em;}#sk-container-id-2 div.sk-label-container {text-align: center;}#sk-container-id-2 div.sk-container {/* jupyter's `normalize.less` sets `[hidden] { display: none; }` but bootstrap.min.css set `[hidden] { display: none !important; }` so we also need the `!important` here to be able to override the default hidden behavior on the sphinx rendered scikit-learn.org. See: https://github.com/scikit-learn/scikit-learn/issues/21755 */display: inline-block !important;position: relative;}#sk-container-id-2 div.sk-text-repr-fallback {display: none;}</style><div id=\"sk-container-id-2\" class=\"sk-top-container\"><div class=\"sk-text-repr-fallback\"><pre>LinearRegression()</pre><b>In a Jupyter environment, please rerun this cell to show the HTML representation or trust the notebook. <br />On GitHub, the HTML representation is unable to render, please try loading this page with nbviewer.org.</b></div><div class=\"sk-container\" hidden><div class=\"sk-item\"><div class=\"sk-estimator sk-toggleable\"><input class=\"sk-toggleable__control sk-hidden--visually\" id=\"sk-estimator-id-2\" type=\"checkbox\" checked><label for=\"sk-estimator-id-2\" class=\"sk-toggleable__label sk-toggleable__label-arrow\">LinearRegression</label><div class=\"sk-toggleable__content\"><pre>LinearRegression()</pre></div></div></div></div></div>"
      ],
      "text/plain": [
       "LinearRegression()"
      ]
     },
     "execution_count": 36,
     "metadata": {},
     "output_type": "execute_result"
    }
   ],
   "source": [
    "model_encoded.fit(X_train_encoded, y_train)"
   ]
  },
  {
   "cell_type": "code",
   "execution_count": 37,
   "id": "97c9f485-af41-4204-acf2-3540aab2d47f",
   "metadata": {},
   "outputs": [],
   "source": [
    "predictions_encoded = model_encoded.predict(X_test_encoded)"
   ]
  },
  {
   "cell_type": "code",
   "execution_count": 38,
   "id": "badc1356-0b59-456f-b879-24fe7001de53",
   "metadata": {},
   "outputs": [],
   "source": [
    "r2_score_encoded = r2_score(y_test, predictions_encoded)"
   ]
  },
  {
   "cell_type": "code",
   "execution_count": 39,
   "id": "3ce6729c-1493-4905-ad46-18bad600705c",
   "metadata": {},
   "outputs": [
    {
     "name": "stdout",
     "output_type": "stream",
     "text": [
      "===============================================================================\n",
      "\n",
      "Метрика R2 после преобразования матрицы признаков = 0.43927\n",
      "\n",
      "===============================================================================\n"
     ]
    }
   ],
   "source": [
    "print(\"=\" * 79)\n",
    "print(f\"\\nМетрика R2 после преобразования матрицы признаков = {r2_score_encoded:.5}\\n\")\n",
    "print(\"=\" * 79)"
   ]
  },
  {
   "attachments": {},
   "cell_type": "markdown",
   "id": "e9999d23-f62c-4d94-a549-e60ef4b3e8bd",
   "metadata": {},
   "source": [
    "Сравним полученные предсказания при помощи той же метрики R2"
   ]
  },
  {
   "cell_type": "code",
   "execution_count": 40,
   "id": "b083486f-0fba-4df7-85fa-257afcea10b2",
   "metadata": {},
   "outputs": [
    {
     "data": {
      "text/plain": [
       "1.0"
      ]
     },
     "execution_count": 40,
     "metadata": {},
     "output_type": "execute_result"
    }
   ],
   "source": [
    "r2_score(predictions_pure, predictions_encoded)"
   ]
  },
  {
   "attachments": {},
   "cell_type": "markdown",
   "id": "d2354455-c7f1-41e6-bafb-19eca2370409",
   "metadata": {},
   "source": [
    "**Вывод:** Предсказания совпадают"
   ]
  },
  {
   "attachments": {},
   "cell_type": "markdown",
   "id": "6c05f4a7-e5bc-41ef-b061-06fd447cf260",
   "metadata": {},
   "source": [
    "Попробуем декодировать тестовые признаки и сравнить их с нетронутыми"
   ]
  },
  {
   "cell_type": "code",
   "execution_count": 41,
   "id": "36b42846-53ac-47a1-b2e6-324bd326a75d",
   "metadata": {},
   "outputs": [],
   "source": [
    "X_test_decoded = randomMatrixEncoder().decoder(X_test_encoded, key)"
   ]
  },
  {
   "cell_type": "code",
   "execution_count": 42,
   "id": "3bb5ce0b-a3d3-4a50-a2f0-68a32076500b",
   "metadata": {},
   "outputs": [
    {
     "data": {
      "text/html": [
       "<div>\n",
       "<style scoped>\n",
       "    .dataframe tbody tr th:only-of-type {\n",
       "        vertical-align: middle;\n",
       "    }\n",
       "\n",
       "    .dataframe tbody tr th {\n",
       "        vertical-align: top;\n",
       "    }\n",
       "\n",
       "    .dataframe thead th {\n",
       "        text-align: right;\n",
       "    }\n",
       "</style>\n",
       "<table border=\"1\" class=\"dataframe\">\n",
       "  <thead>\n",
       "    <tr style=\"text-align: right;\">\n",
       "      <th></th>\n",
       "      <th>gender</th>\n",
       "      <th>age</th>\n",
       "      <th>salary</th>\n",
       "      <th>family_members</th>\n",
       "    </tr>\n",
       "  </thead>\n",
       "  <tbody>\n",
       "    <tr>\n",
       "      <th>3991</th>\n",
       "      <td>0</td>\n",
       "      <td>19</td>\n",
       "      <td>33800.0</td>\n",
       "      <td>0</td>\n",
       "    </tr>\n",
       "    <tr>\n",
       "      <th>1706</th>\n",
       "      <td>0</td>\n",
       "      <td>29</td>\n",
       "      <td>48100.0</td>\n",
       "      <td>3</td>\n",
       "    </tr>\n",
       "    <tr>\n",
       "      <th>1052</th>\n",
       "      <td>0</td>\n",
       "      <td>29</td>\n",
       "      <td>40100.0</td>\n",
       "      <td>0</td>\n",
       "    </tr>\n",
       "    <tr>\n",
       "      <th>4959</th>\n",
       "      <td>0</td>\n",
       "      <td>43</td>\n",
       "      <td>34500.0</td>\n",
       "      <td>4</td>\n",
       "    </tr>\n",
       "    <tr>\n",
       "      <th>1554</th>\n",
       "      <td>0</td>\n",
       "      <td>31</td>\n",
       "      <td>48800.0</td>\n",
       "      <td>1</td>\n",
       "    </tr>\n",
       "  </tbody>\n",
       "</table>\n",
       "</div>"
      ],
      "text/plain": [
       "      gender  age   salary  family_members\n",
       "3991       0   19  33800.0               0\n",
       "1706       0   29  48100.0               3\n",
       "1052       0   29  40100.0               0\n",
       "4959       0   43  34500.0               4\n",
       "1554       0   31  48800.0               1"
      ]
     },
     "execution_count": 42,
     "metadata": {},
     "output_type": "execute_result"
    }
   ],
   "source": [
    "X_test_decoded.head()"
   ]
  },
  {
   "cell_type": "code",
   "execution_count": 43,
   "id": "f41da8d9-a8ef-418d-b1e4-225f9f9c88c0",
   "metadata": {},
   "outputs": [
    {
     "data": {
      "text/html": [
       "<div>\n",
       "<style scoped>\n",
       "    .dataframe tbody tr th:only-of-type {\n",
       "        vertical-align: middle;\n",
       "    }\n",
       "\n",
       "    .dataframe tbody tr th {\n",
       "        vertical-align: top;\n",
       "    }\n",
       "\n",
       "    .dataframe thead th {\n",
       "        text-align: right;\n",
       "    }\n",
       "</style>\n",
       "<table border=\"1\" class=\"dataframe\">\n",
       "  <thead>\n",
       "    <tr style=\"text-align: right;\">\n",
       "      <th></th>\n",
       "      <th>gender</th>\n",
       "      <th>age</th>\n",
       "      <th>salary</th>\n",
       "      <th>family_members</th>\n",
       "    </tr>\n",
       "  </thead>\n",
       "  <tbody>\n",
       "    <tr>\n",
       "      <th>3991</th>\n",
       "      <td>0</td>\n",
       "      <td>19</td>\n",
       "      <td>33800.0</td>\n",
       "      <td>0</td>\n",
       "    </tr>\n",
       "    <tr>\n",
       "      <th>1706</th>\n",
       "      <td>0</td>\n",
       "      <td>29</td>\n",
       "      <td>48100.0</td>\n",
       "      <td>3</td>\n",
       "    </tr>\n",
       "    <tr>\n",
       "      <th>1052</th>\n",
       "      <td>0</td>\n",
       "      <td>29</td>\n",
       "      <td>40100.0</td>\n",
       "      <td>0</td>\n",
       "    </tr>\n",
       "    <tr>\n",
       "      <th>4959</th>\n",
       "      <td>0</td>\n",
       "      <td>43</td>\n",
       "      <td>34500.0</td>\n",
       "      <td>4</td>\n",
       "    </tr>\n",
       "    <tr>\n",
       "      <th>1554</th>\n",
       "      <td>0</td>\n",
       "      <td>31</td>\n",
       "      <td>48800.0</td>\n",
       "      <td>1</td>\n",
       "    </tr>\n",
       "  </tbody>\n",
       "</table>\n",
       "</div>"
      ],
      "text/plain": [
       "      gender  age   salary  family_members\n",
       "3991       0   19  33800.0               0\n",
       "1706       0   29  48100.0               3\n",
       "1052       0   29  40100.0               0\n",
       "4959       0   43  34500.0               4\n",
       "1554       0   31  48800.0               1"
      ]
     },
     "execution_count": 43,
     "metadata": {},
     "output_type": "execute_result"
    }
   ],
   "source": [
    "X_test.head()"
   ]
  },
  {
   "cell_type": "code",
   "execution_count": 44,
   "id": "8a39be7d-9031-45c1-9df9-566568db7c2c",
   "metadata": {},
   "outputs": [
    {
     "data": {
      "text/plain": [
       "1.0"
      ]
     },
     "execution_count": 44,
     "metadata": {},
     "output_type": "execute_result"
    }
   ],
   "source": [
    "r2_score(X_test_decoded, X_test)"
   ]
  },
  {
   "attachments": {},
   "cell_type": "markdown",
   "id": "7dd41e96-8a12-4a4d-881d-ba33e4334fbd",
   "metadata": {},
   "source": [
    "**Вывод:** Декодировщик работает корректно"
   ]
  },
  {
   "attachments": {},
   "cell_type": "markdown",
   "id": "092c0597-b8f1-48cb-8dc9-b71c644dd1c2",
   "metadata": {},
   "source": [
    "## Общий вывод"
   ]
  },
  {
   "attachments": {},
   "cell_type": "markdown",
   "id": "2af4b457-d217-4569-8ff9-bcc3ab78a329",
   "metadata": {},
   "source": [
    "**В ходе выполнения исследования** была рассмотрена возможность создания алгоритма преобразования данных, скрывающего смысл представленных в датасете величин без ухудшения результатов моделей машинного обучения.  \n",
    "\n",
    "**Выполнены следующие этапы:**\n",
    "- **Обзор данных**  \n",
    "\n",
    "  В ходе обзора данных была также произведеная легкая предобработка данных с целью стандартизации названий колонок, удаления дубликатов и оптимизации типов данных;  \n",
    "  \n",
    "- **Решение задачи об умножении матрицы признаков на обратимую матрицу**  \n",
    "\n",
    "  Было доказано, что умножение матрицы признаков на обратимую матрицу **не влияет** на качество предсказаний модели линейной регрессии;  \n",
    "  \n",
    "  \n",
    "- **Создание алгоритма преобразования**  \n",
    "\n",
    "  Описана методика создания матрицы преобразований, кодирующей признаки таким образом, чтобы их было проблематично интерпретировать;  \n",
    "  \n",
    "- **Применение алгоритма преобразования**   \n",
    "\n",
    "  Был создан класс randomMatrixEncoder, содержащий в себе кодировщик и декодировщик данных. При передаче датафрейма признаков кодировщику, возвращаются закодированный датафрейм и матрица-ключ; декодировщику, в свою очередь, передается закодированный датафрейм и ключ, а возвращается декодированный исходный датафрейм.    \n",
    "  Созданный класс испытан на данных для обучения модели линейной регрессии.   \n",
    "  \n",
    "**Получены следующие результаты:**  \n",
    "\n",
    "Класс **randomMatrixEncoder** успешно применен для преобразования признаков представленного в работе датасета, содержащего данные о клиентах страховой компании «Хоть потоп».   \n",
    "\n",
    "Пример данных после произведенного преобразования: "
   ]
  },
  {
   "cell_type": "code",
   "execution_count": 45,
   "id": "50824bbc-217a-420e-a6a5-43ece6a2daee",
   "metadata": {},
   "outputs": [
    {
     "data": {
      "text/html": [
       "<div>\n",
       "<style scoped>\n",
       "    .dataframe tbody tr th:only-of-type {\n",
       "        vertical-align: middle;\n",
       "    }\n",
       "\n",
       "    .dataframe tbody tr th {\n",
       "        vertical-align: top;\n",
       "    }\n",
       "\n",
       "    .dataframe thead th {\n",
       "        text-align: right;\n",
       "    }\n",
       "</style>\n",
       "<table border=\"1\" class=\"dataframe\">\n",
       "  <thead>\n",
       "    <tr style=\"text-align: right;\">\n",
       "      <th></th>\n",
       "      <th>gender</th>\n",
       "      <th>age</th>\n",
       "      <th>salary</th>\n",
       "      <th>family_members</th>\n",
       "    </tr>\n",
       "  </thead>\n",
       "  <tbody>\n",
       "    <tr>\n",
       "      <th>3996</th>\n",
       "      <td>24714.834897</td>\n",
       "      <td>29110.745727</td>\n",
       "      <td>849.840715</td>\n",
       "      <td>39907.385794</td>\n",
       "    </tr>\n",
       "    <tr>\n",
       "      <th>152</th>\n",
       "      <td>22668.589755</td>\n",
       "      <td>26699.029058</td>\n",
       "      <td>778.091084</td>\n",
       "      <td>36588.672220</td>\n",
       "    </tr>\n",
       "    <tr>\n",
       "      <th>2138</th>\n",
       "      <td>28136.967808</td>\n",
       "      <td>33141.341209</td>\n",
       "      <td>964.879655</td>\n",
       "      <td>45409.471413</td>\n",
       "    </tr>\n",
       "    <tr>\n",
       "      <th>694</th>\n",
       "      <td>16119.306966</td>\n",
       "      <td>18984.484586</td>\n",
       "      <td>555.381428</td>\n",
       "      <td>26031.112308</td>\n",
       "    </tr>\n",
       "    <tr>\n",
       "      <th>4918</th>\n",
       "      <td>28556.145933</td>\n",
       "      <td>33637.206061</td>\n",
       "      <td>979.540978</td>\n",
       "      <td>46086.907807</td>\n",
       "    </tr>\n",
       "    <tr>\n",
       "      <th>3573</th>\n",
       "      <td>21525.804962</td>\n",
       "      <td>25354.841174</td>\n",
       "      <td>739.581223</td>\n",
       "      <td>34749.540055</td>\n",
       "    </tr>\n",
       "    <tr>\n",
       "      <th>1769</th>\n",
       "      <td>26758.626967</td>\n",
       "      <td>31516.333596</td>\n",
       "      <td>919.444133</td>\n",
       "      <td>43191.770687</td>\n",
       "    </tr>\n",
       "    <tr>\n",
       "      <th>4330</th>\n",
       "      <td>34030.079184</td>\n",
       "      <td>40082.636395</td>\n",
       "      <td>1167.420870</td>\n",
       "      <td>54926.714430</td>\n",
       "    </tr>\n",
       "    <tr>\n",
       "      <th>3210</th>\n",
       "      <td>25189.995383</td>\n",
       "      <td>29671.516895</td>\n",
       "      <td>863.710067</td>\n",
       "      <td>40657.412505</td>\n",
       "    </tr>\n",
       "    <tr>\n",
       "      <th>3452</th>\n",
       "      <td>27116.372786</td>\n",
       "      <td>31938.298150</td>\n",
       "      <td>930.242091</td>\n",
       "      <td>43763.406597</td>\n",
       "    </tr>\n",
       "    <tr>\n",
       "      <th>2375</th>\n",
       "      <td>22246.508749</td>\n",
       "      <td>26202.697931</td>\n",
       "      <td>763.325862</td>\n",
       "      <td>35906.953390</td>\n",
       "    </tr>\n",
       "    <tr>\n",
       "      <th>233</th>\n",
       "      <td>13949.821088</td>\n",
       "      <td>16430.616034</td>\n",
       "      <td>478.903765</td>\n",
       "      <td>22519.415498</td>\n",
       "    </tr>\n",
       "    <tr>\n",
       "      <th>3592</th>\n",
       "      <td>16956.238743</td>\n",
       "      <td>19972.397621</td>\n",
       "      <td>582.732481</td>\n",
       "      <td>27372.161945</td>\n",
       "    </tr>\n",
       "    <tr>\n",
       "      <th>2615</th>\n",
       "      <td>25975.668585</td>\n",
       "      <td>30595.570562</td>\n",
       "      <td>892.378724</td>\n",
       "      <td>41931.387246</td>\n",
       "    </tr>\n",
       "    <tr>\n",
       "      <th>2076</th>\n",
       "      <td>30362.237831</td>\n",
       "      <td>35761.734075</td>\n",
       "      <td>1041.340276</td>\n",
       "      <td>49000.053623</td>\n",
       "    </tr>\n",
       "  </tbody>\n",
       "</table>\n",
       "</div>"
      ],
      "text/plain": [
       "            gender           age       salary  family_members\n",
       "3996  24714.834897  29110.745727   849.840715    39907.385794\n",
       "152   22668.589755  26699.029058   778.091084    36588.672220\n",
       "2138  28136.967808  33141.341209   964.879655    45409.471413\n",
       "694   16119.306966  18984.484586   555.381428    26031.112308\n",
       "4918  28556.145933  33637.206061   979.540978    46086.907807\n",
       "3573  21525.804962  25354.841174   739.581223    34749.540055\n",
       "1769  26758.626967  31516.333596   919.444133    43191.770687\n",
       "4330  34030.079184  40082.636395  1167.420870    54926.714430\n",
       "3210  25189.995383  29671.516895   863.710067    40657.412505\n",
       "3452  27116.372786  31938.298150   930.242091    43763.406597\n",
       "2375  22246.508749  26202.697931   763.325862    35906.953390\n",
       "233   13949.821088  16430.616034   478.903765    22519.415498\n",
       "3592  16956.238743  19972.397621   582.732481    27372.161945\n",
       "2615  25975.668585  30595.570562   892.378724    41931.387246\n",
       "2076  30362.237831  35761.734075  1041.340276    49000.053623"
      ]
     },
     "execution_count": 45,
     "metadata": {},
     "output_type": "execute_result"
    }
   ],
   "source": [
    "X_test_encoded.sample(15)"
   ]
  },
  {
   "attachments": {},
   "cell_type": "markdown",
   "id": "0329ece4-96ea-49e2-8033-5f8c940acce0",
   "metadata": {},
   "source": [
    "При обучении модели линейной регрессии на преобразованных данных получены те же результаты, что и на чистых данных: "
   ]
  },
  {
   "cell_type": "code",
   "execution_count": 46,
   "id": "45d26d79-3c08-48a2-988f-ea67495d034b",
   "metadata": {},
   "outputs": [
    {
     "name": "stdout",
     "output_type": "stream",
     "text": [
      "\n",
      "R2 на преобразованных данных = 0.43927, на чистых данных = 0.43927\n",
      "\n"
     ]
    }
   ],
   "source": [
    "print(\n",
    "    f\"\\nR2 на преобразованных данных = {r2_score_encoded:.5}, на чистых данных = {r2_score_pure:.5}\\n\"\n",
    ")"
   ]
  },
  {
   "attachments": {},
   "cell_type": "markdown",
   "id": "89c24d46-581c-446a-8648-7b0a644e6077",
   "metadata": {},
   "source": [
    "Работоспособность декодировщика также проверена - данные после обратных преобразований соответствуют чистым данным."
   ]
  },
  {
   "cell_type": "code",
   "execution_count": null,
   "id": "02a8dc44",
   "metadata": {},
   "outputs": [],
   "source": []
  }
 ],
 "metadata": {
  "ExecuteTimeLog": [
   {
    "duration": 2700,
    "start_time": "2023-02-14T13:37:41.523Z"
   },
   {
    "duration": 176,
    "start_time": "2023-02-14T13:37:44.225Z"
   },
   {
    "duration": 15,
    "start_time": "2023-02-14T13:38:12.783Z"
   },
   {
    "duration": 3,
    "start_time": "2023-02-14T13:38:13.964Z"
   },
   {
    "duration": 7,
    "start_time": "2023-02-14T13:38:15.987Z"
   },
   {
    "duration": 5,
    "start_time": "2023-02-14T13:38:44.006Z"
   },
   {
    "duration": 4,
    "start_time": "2023-02-14T13:39:47.161Z"
   },
   {
    "duration": 29,
    "start_time": "2023-02-14T13:39:47.962Z"
   },
   {
    "duration": 867,
    "start_time": "2023-02-14T13:39:48.676Z"
   },
   {
    "duration": 13,
    "start_time": "2023-02-14T13:39:49.547Z"
   },
   {
    "duration": 8,
    "start_time": "2023-02-14T13:39:49.700Z"
   },
   {
    "duration": 10,
    "start_time": "2023-02-14T13:39:51.522Z"
   },
   {
    "duration": 6,
    "start_time": "2023-02-14T13:39:55.589Z"
   },
   {
    "duration": 5,
    "start_time": "2023-02-14T13:53:01.175Z"
   },
   {
    "duration": 4,
    "start_time": "2023-02-14T13:53:01.703Z"
   },
   {
    "duration": 5,
    "start_time": "2023-02-14T13:53:02.279Z"
   },
   {
    "duration": 13,
    "start_time": "2023-02-14T13:53:05.294Z"
   },
   {
    "duration": 10,
    "start_time": "2023-02-14T13:54:05.607Z"
   },
   {
    "duration": 121,
    "start_time": "2023-02-14T13:54:06.419Z"
   },
   {
    "duration": 14,
    "start_time": "2023-02-14T13:54:07.045Z"
   },
   {
    "duration": 4,
    "start_time": "2023-02-14T13:55:28.712Z"
   },
   {
    "duration": 8,
    "start_time": "2023-02-14T13:55:29.822Z"
   },
   {
    "duration": 3,
    "start_time": "2023-02-14T13:55:30.184Z"
   },
   {
    "duration": 8,
    "start_time": "2023-02-14T13:55:35.755Z"
   },
   {
    "duration": 3,
    "start_time": "2023-02-14T13:55:36.698Z"
   },
   {
    "duration": 7,
    "start_time": "2023-02-14T13:55:36.813Z"
   },
   {
    "duration": 5,
    "start_time": "2023-02-14T13:55:36.977Z"
   },
   {
    "duration": 5,
    "start_time": "2023-02-14T13:55:37.163Z"
   },
   {
    "duration": 6,
    "start_time": "2023-02-14T13:55:37.359Z"
   },
   {
    "duration": 4,
    "start_time": "2023-02-14T13:55:37.806Z"
   },
   {
    "duration": 5,
    "start_time": "2023-02-14T13:55:38.411Z"
   },
   {
    "duration": 6,
    "start_time": "2023-02-14T13:55:38.693Z"
   },
   {
    "duration": 8,
    "start_time": "2023-02-14T13:55:39.012Z"
   },
   {
    "duration": 18,
    "start_time": "2023-02-14T13:55:39.153Z"
   },
   {
    "duration": 4,
    "start_time": "2023-02-14T13:55:39.455Z"
   },
   {
    "duration": 7,
    "start_time": "2023-02-14T13:55:39.609Z"
   },
   {
    "duration": 5,
    "start_time": "2023-02-14T13:55:39.786Z"
   },
   {
    "duration": 7,
    "start_time": "2023-02-14T13:55:39.956Z"
   },
   {
    "duration": 4,
    "start_time": "2023-02-14T13:55:40.108Z"
   },
   {
    "duration": 6,
    "start_time": "2023-02-14T13:55:40.423Z"
   },
   {
    "duration": 10,
    "start_time": "2023-02-14T13:55:40.960Z"
   },
   {
    "duration": 14,
    "start_time": "2023-02-14T13:55:41.151Z"
   },
   {
    "duration": 9,
    "start_time": "2023-02-14T13:55:41.282Z"
   },
   {
    "duration": 10,
    "start_time": "2023-02-14T13:55:41.456Z"
   },
   {
    "duration": 21,
    "start_time": "2023-02-14T13:55:42.545Z"
   },
   {
    "duration": 4,
    "start_time": "2023-02-14T13:55:43.216Z"
   }
  ],
  "kernelspec": {
   "display_name": "Python 3 (ipykernel)",
   "language": "python",
   "name": "python3"
  },
  "language_info": {
   "codemirror_mode": {
    "name": "ipython",
    "version": 3
   },
   "file_extension": ".py",
   "mimetype": "text/x-python",
   "name": "python",
   "nbconvert_exporter": "python",
   "pygments_lexer": "ipython3",
   "version": "3.9.13"
  },
  "toc": {
   "base_numbering": 1,
   "nav_menu": {},
   "number_sections": true,
   "sideBar": true,
   "skip_h1_title": true,
   "title_cell": "Table of Contents",
   "title_sidebar": "Contents",
   "toc_cell": false,
   "toc_position": {},
   "toc_section_display": true,
   "toc_window_display": false
  }
 },
 "nbformat": 4,
 "nbformat_minor": 5
}
