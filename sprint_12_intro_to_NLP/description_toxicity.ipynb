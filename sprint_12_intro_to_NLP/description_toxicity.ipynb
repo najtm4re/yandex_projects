{
 "cells": [
  {
   "attachments": {},
   "cell_type": "markdown",
   "id": "dfd16521-a3ac-461b-9983-b1fc9ff0891f",
   "metadata": {},
   "source": [
    "# Проект для «Викишоп» c BERT"
   ]
  },
  {
   "attachments": {},
   "cell_type": "markdown",
   "id": "39433494-a8e1-4e58-8b9d-ac81c64080e6",
   "metadata": {},
   "source": [
    "**Описание исследования**  \n",
    "\n",
    "Интернет-магазин «Викишоп» запускает новый сервис. Теперь пользователи могут редактировать и дополнять описания товаров, как в вики-сообществах. То есть клиенты предлагают свои правки и комментируют изменения других. Магазину нужен инструмент, который будет искать токсичные комментарии и отправлять их на модерацию.   \n",
    "Необходимо создать модель, классифицирующую комментарии на позитивные и негативные. Для этого предоставлен набор данных с разметкой о токсичности правок. Значение метрики качества F1 должно быть не меньше 0.75. \n",
    "\n",
    "**Цель исследования**\n",
    "- Создать модель оценки токсичности комментариев (да/нет)\n",
    "- Метрика качества F1 должна быть не менее 0.75.\n",
    "\n",
    "**Ход исследования**\n",
    "- Обзор данных\n",
    "- Предобработка данных\n",
    "- Создание выборок\n",
    "- Формирование пайплайнов\n",
    "- Обучение моделей\n",
    "- Проверка скорости предсказания\n",
    "- Проверка на тестовой выборке\n",
    "- Проверка константной моделью\n",
    "- Общий вывод"
   ]
  },
  {
   "attachments": {},
   "cell_type": "markdown",
   "id": "d7552d90-a1b0-4915-8224-45ab01675a73",
   "metadata": {},
   "source": [
    "## Импорт библиотек и загрузка данных"
   ]
  },
  {
   "cell_type": "code",
   "execution_count": 29,
   "id": "6df8bd39-a353-4276-82ee-7de6414c5211",
   "metadata": {},
   "outputs": [
    {
     "name": "stdout",
     "output_type": "stream",
     "text": [
      "Collecting en-core-web-sm==3.5.0\n",
      "  Downloading https://github.com/explosion/spacy-models/releases/download/en_core_web_sm-3.5.0/en_core_web_sm-3.5.0-py3-none-any.whl (12.8 MB)\n",
      "     --------------------------------------- 12.8/12.8 MB 50.4 MB/s eta 0:00:00\n",
      "Requirement already satisfied: spacy<3.6.0,>=3.5.0 in c:\\workspace\\yandex_cources\\full_history\\.venv\\lib\\site-packages (from en-core-web-sm==3.5.0) (3.5.2)\n",
      "Requirement already satisfied: packaging>=20.0 in c:\\workspace\\yandex_cources\\full_history\\.venv\\lib\\site-packages (from spacy<3.6.0,>=3.5.0->en-core-web-sm==3.5.0) (23.1)\n",
      "Requirement already satisfied: murmurhash<1.1.0,>=0.28.0 in c:\\workspace\\yandex_cources\\full_history\\.venv\\lib\\site-packages (from spacy<3.6.0,>=3.5.0->en-core-web-sm==3.5.0) (1.0.9)\n",
      "Requirement already satisfied: cymem<2.1.0,>=2.0.2 in c:\\workspace\\yandex_cources\\full_history\\.venv\\lib\\site-packages (from spacy<3.6.0,>=3.5.0->en-core-web-sm==3.5.0) (2.0.7)\n",
      "Requirement already satisfied: srsly<3.0.0,>=2.4.3 in c:\\workspace\\yandex_cources\\full_history\\.venv\\lib\\site-packages (from spacy<3.6.0,>=3.5.0->en-core-web-sm==3.5.0) (2.4.6)\n",
      "Requirement already satisfied: tqdm<5.0.0,>=4.38.0 in c:\\workspace\\yandex_cources\\full_history\\.venv\\lib\\site-packages (from spacy<3.6.0,>=3.5.0->en-core-web-sm==3.5.0) (4.65.0)\n",
      "Requirement already satisfied: typer<0.8.0,>=0.3.0 in c:\\workspace\\yandex_cources\\full_history\\.venv\\lib\\site-packages (from spacy<3.6.0,>=3.5.0->en-core-web-sm==3.5.0) (0.7.0)\n",
      "Requirement already satisfied: thinc<8.2.0,>=8.1.8 in c:\\workspace\\yandex_cources\\full_history\\.venv\\lib\\site-packages (from spacy<3.6.0,>=3.5.0->en-core-web-sm==3.5.0) (8.1.10)\n",
      "Requirement already satisfied: pathy>=0.10.0 in c:\\workspace\\yandex_cources\\full_history\\.venv\\lib\\site-packages (from spacy<3.6.0,>=3.5.0->en-core-web-sm==3.5.0) (0.10.1)\n",
      "Requirement already satisfied: preshed<3.1.0,>=3.0.2 in c:\\workspace\\yandex_cources\\full_history\\.venv\\lib\\site-packages (from spacy<3.6.0,>=3.5.0->en-core-web-sm==3.5.0) (3.0.8)\n",
      "Requirement already satisfied: wasabi<1.2.0,>=0.9.1 in c:\\workspace\\yandex_cources\\full_history\\.venv\\lib\\site-packages (from spacy<3.6.0,>=3.5.0->en-core-web-sm==3.5.0) (1.1.1)\n",
      "Requirement already satisfied: setuptools in c:\\workspace\\yandex_cources\\full_history\\.venv\\lib\\site-packages (from spacy<3.6.0,>=3.5.0->en-core-web-sm==3.5.0) (67.7.2)\n",
      "Requirement already satisfied: pydantic!=1.8,!=1.8.1,<1.11.0,>=1.7.4 in c:\\workspace\\yandex_cources\\full_history\\.venv\\lib\\site-packages (from spacy<3.6.0,>=3.5.0->en-core-web-sm==3.5.0) (1.10.7)\n",
      "Requirement already satisfied: langcodes<4.0.0,>=3.2.0 in c:\\workspace\\yandex_cources\\full_history\\.venv\\lib\\site-packages (from spacy<3.6.0,>=3.5.0->en-core-web-sm==3.5.0) (3.3.0)\n",
      "Requirement already satisfied: spacy-loggers<2.0.0,>=1.0.0 in c:\\workspace\\yandex_cources\\full_history\\.venv\\lib\\site-packages (from spacy<3.6.0,>=3.5.0->en-core-web-sm==3.5.0) (1.0.4)\n",
      "Requirement already satisfied: jinja2 in c:\\workspace\\yandex_cources\\full_history\\.venv\\lib\\site-packages (from spacy<3.6.0,>=3.5.0->en-core-web-sm==3.5.0) (3.1.2)\n",
      "Requirement already satisfied: spacy-legacy<3.1.0,>=3.0.11 in c:\\workspace\\yandex_cources\\full_history\\.venv\\lib\\site-packages (from spacy<3.6.0,>=3.5.0->en-core-web-sm==3.5.0) (3.0.12)\n",
      "Requirement already satisfied: requests<3.0.0,>=2.13.0 in c:\\workspace\\yandex_cources\\full_history\\.venv\\lib\\site-packages (from spacy<3.6.0,>=3.5.0->en-core-web-sm==3.5.0) (2.30.0)\n",
      "Requirement already satisfied: numpy>=1.15.0 in c:\\workspace\\yandex_cources\\full_history\\.venv\\lib\\site-packages (from spacy<3.6.0,>=3.5.0->en-core-web-sm==3.5.0) (1.24.3)\n",
      "Requirement already satisfied: smart-open<7.0.0,>=5.2.1 in c:\\workspace\\yandex_cources\\full_history\\.venv\\lib\\site-packages (from spacy<3.6.0,>=3.5.0->en-core-web-sm==3.5.0) (6.3.0)\n",
      "Requirement already satisfied: catalogue<2.1.0,>=2.0.6 in c:\\workspace\\yandex_cources\\full_history\\.venv\\lib\\site-packages (from spacy<3.6.0,>=3.5.0->en-core-web-sm==3.5.0) (2.0.8)\n",
      "Requirement already satisfied: typing-extensions>=4.2.0 in c:\\workspace\\yandex_cources\\full_history\\.venv\\lib\\site-packages (from pydantic!=1.8,!=1.8.1,<1.11.0,>=1.7.4->spacy<3.6.0,>=3.5.0->en-core-web-sm==3.5.0) (4.5.0)\n",
      "Requirement already satisfied: urllib3<3,>=1.21.1 in c:\\workspace\\yandex_cources\\full_history\\.venv\\lib\\site-packages (from requests<3.0.0,>=2.13.0->spacy<3.6.0,>=3.5.0->en-core-web-sm==3.5.0) (2.0.2)\n",
      "Requirement already satisfied: charset-normalizer<4,>=2 in c:\\workspace\\yandex_cources\\full_history\\.venv\\lib\\site-packages (from requests<3.0.0,>=2.13.0->spacy<3.6.0,>=3.5.0->en-core-web-sm==3.5.0) (3.1.0)\n",
      "Requirement already satisfied: certifi>=2017.4.17 in c:\\workspace\\yandex_cources\\full_history\\.venv\\lib\\site-packages (from requests<3.0.0,>=2.13.0->spacy<3.6.0,>=3.5.0->en-core-web-sm==3.5.0) (2022.12.7)\n",
      "Requirement already satisfied: idna<4,>=2.5 in c:\\workspace\\yandex_cources\\full_history\\.venv\\lib\\site-packages (from requests<3.0.0,>=2.13.0->spacy<3.6.0,>=3.5.0->en-core-web-sm==3.5.0) (3.4)\n",
      "Requirement already satisfied: blis<0.8.0,>=0.7.8 in c:\\workspace\\yandex_cources\\full_history\\.venv\\lib\\site-packages (from thinc<8.2.0,>=8.1.8->spacy<3.6.0,>=3.5.0->en-core-web-sm==3.5.0) (0.7.9)\n",
      "Requirement already satisfied: confection<1.0.0,>=0.0.1 in c:\\workspace\\yandex_cources\\full_history\\.venv\\lib\\site-packages (from thinc<8.2.0,>=8.1.8->spacy<3.6.0,>=3.5.0->en-core-web-sm==3.5.0) (0.0.4)\n",
      "Requirement already satisfied: colorama in c:\\workspace\\yandex_cources\\full_history\\.venv\\lib\\site-packages (from tqdm<5.0.0,>=4.38.0->spacy<3.6.0,>=3.5.0->en-core-web-sm==3.5.0) (0.4.6)\n",
      "Requirement already satisfied: click<9.0.0,>=7.1.1 in c:\\workspace\\yandex_cources\\full_history\\.venv\\lib\\site-packages (from typer<0.8.0,>=0.3.0->spacy<3.6.0,>=3.5.0->en-core-web-sm==3.5.0) (8.1.3)\n",
      "Requirement already satisfied: MarkupSafe>=2.0 in c:\\workspace\\yandex_cources\\full_history\\.venv\\lib\\site-packages (from jinja2->spacy<3.6.0,>=3.5.0->en-core-web-sm==3.5.0) (2.1.2)\n",
      "\u001b[38;5;2m✔ Download and installation successful\u001b[0m\n",
      "You can now load the package via spacy.load('en_core_web_sm')\n"
     ]
    },
    {
     "name": "stderr",
     "output_type": "stream",
     "text": [
      "\n",
      "[notice] A new release of pip available: 22.2.2 -> 23.1.2\n",
      "[notice] To update, run: python.exe -m pip install --upgrade pip\n"
     ]
    }
   ],
   "source": [
    "!python -m spacy download en_core_web_sm"
   ]
  },
  {
   "cell_type": "code",
   "execution_count": 30,
   "id": "3dd067d5-74ed-448e-90ed-f73f9032c694",
   "metadata": {},
   "outputs": [],
   "source": [
    "import pandas as pd\n",
    "import numpy as np\n",
    "import torch\n",
    "import spacy\n",
    "\n",
    "\n",
    "from tqdm import notebook\n",
    "from tqdm import tqdm\n",
    "\n",
    "\n",
    "from sklearn.linear_model import LogisticRegression\n",
    "from sklearn.dummy import DummyClassifier\n",
    "from sklearn.feature_extraction.text import TfidfVectorizer, CountVectorizer\n",
    "\n",
    "from sklearn.model_selection import train_test_split\n",
    "from sklearn.metrics import f1_score\n",
    "\n",
    "from sklearn.compose import ColumnTransformer\n",
    "from sklearn.pipeline import Pipeline, FeatureUnion\n",
    "from sklearn import set_config\n",
    "\n",
    "set_config(display=\"diagram\")\n",
    "\n",
    "\n",
    "from lightgbm import LGBMClassifier\n",
    "\n",
    "\n",
    "import re\n",
    "\n",
    "\n",
    "import nltk\n",
    "from nltk.corpus import stopwords as nltk_stopwords\n",
    "\n",
    "\n",
    "from transformers import AutoTokenizer, AutoModelForSequenceClassification, AutoConfig"
   ]
  },
  {
   "cell_type": "code",
   "execution_count": 31,
   "id": "326eda85-4b7d-4f3b-9736-cb43727abbd4",
   "metadata": {},
   "outputs": [
    {
     "name": "stderr",
     "output_type": "stream",
     "text": [
      "[nltk_data] Downloading package stopwords to\n",
      "[nltk_data]     C:\\Users\\ivand\\AppData\\Roaming\\nltk_data...\n",
      "[nltk_data]   Package stopwords is already up-to-date!\n"
     ]
    },
    {
     "data": {
      "text/plain": [
       "True"
      ]
     },
     "execution_count": 31,
     "metadata": {},
     "output_type": "execute_result"
    }
   ],
   "source": [
    "nltk.download(\"stopwords\")"
   ]
  },
  {
   "cell_type": "code",
   "execution_count": 32,
   "id": "d906a382-036a-47aa-b9fc-e156e511c913",
   "metadata": {},
   "outputs": [],
   "source": [
    "# активация progress_apply\n",
    "tqdm.pandas()"
   ]
  },
  {
   "cell_type": "code",
   "execution_count": 33,
   "id": "b57abe63-9520-4c8c-989b-8b42e773137c",
   "metadata": {},
   "outputs": [],
   "source": [
    "# RS для применения во всей тетрадке\n",
    "RANDOM_STATE = 42"
   ]
  },
  {
   "cell_type": "code",
   "execution_count": 34,
   "id": "5a69e1c3-5c5f-4448-b0a2-51a0a4327607",
   "metadata": {},
   "outputs": [],
   "source": [
    "bert_tokenizer = AutoTokenizer.from_pretrained(\"s-nlp/roberta_toxicity_classifier\")"
   ]
  },
  {
   "cell_type": "code",
   "execution_count": 35,
   "id": "49994e99-568f-4e75-b335-6352bca8f7d8",
   "metadata": {},
   "outputs": [
    {
     "name": "stderr",
     "output_type": "stream",
     "text": [
      "Some weights of the model checkpoint at s-nlp/roberta_toxicity_classifier were not used when initializing RobertaForSequenceClassification: ['roberta.pooler.dense.weight', 'roberta.pooler.dense.bias']\n",
      "- This IS expected if you are initializing RobertaForSequenceClassification from the checkpoint of a model trained on another task or with another architecture (e.g. initializing a BertForSequenceClassification model from a BertForPreTraining model).\n",
      "- This IS NOT expected if you are initializing RobertaForSequenceClassification from the checkpoint of a model that you expect to be exactly identical (initializing a BertForSequenceClassification model from a BertForSequenceClassification model).\n"
     ]
    }
   ],
   "source": [
    "bert_model = AutoModelForSequenceClassification.from_pretrained(\n",
    "    \"s-nlp/roberta_toxicity_classifier\"\n",
    ")"
   ]
  },
  {
   "cell_type": "code",
   "execution_count": 36,
   "id": "9668a711-abe9-4792-afc9-c19515d92d58",
   "metadata": {},
   "outputs": [],
   "source": [
    "try:\n",
    "    df = pd.read_csv(\n",
    "        r\"C:\\workspace\\yandex_cources\\full_history\\sprint_12_intro_to_NLP\\data\\toxic_comments.csv\"\n",
    "    )\n",
    "except:\n",
    "    df = pd.read_csv(r\"/datasets/toxic_comments.csv\")"
   ]
  },
  {
   "attachments": {},
   "cell_type": "markdown",
   "id": "3baa6279-deea-4cde-b8c8-bc72645d54c8",
   "metadata": {},
   "source": [
    "## Определение функций"
   ]
  },
  {
   "cell_type": "code",
   "execution_count": 37,
   "id": "a8533a35-90d2-49a8-a974-b19390dee5d1",
   "metadata": {},
   "outputs": [],
   "source": [
    "def data_understanding(df):\n",
    "    print(\"\\n\" * 2, \"=\" * 26, \"5 случайных строк датасета\", \"=\" * 27, \"\\n\" * 2)\n",
    "    display(df.sample(5))\n",
    "    print(\"\\n\", \"=\" * 31, \"Размеры датасета\", \"=\" * 32, \"\\n\" * 2)\n",
    "    display(df.shape)\n",
    "    print(\"\\n\" * 2, \"=\" * 29, \"Информация о датасетe\", \"=\" * 29, \"\\n\" * 2)\n",
    "    df.info()\n",
    "    print(\n",
    "        \"\\n\" * 2, \"=\" * 21, \"Информация о количественных признаках\", \"=\" * 21, \"\\n\" * 2\n",
    "    )\n",
    "    display(df.describe())"
   ]
  },
  {
   "cell_type": "code",
   "execution_count": 38,
   "id": "ae234ad6-a325-46f8-a61a-3e67f15c36b1",
   "metadata": {},
   "outputs": [],
   "source": [
    "def toxicity_check(row):\n",
    "    # prepare the input\n",
    "    batch = bert_tokenizer.encode(row, return_tensors=\"pt\")\n",
    "\n",
    "    # inference\n",
    "    out = bert_model(batch)\n",
    "\n",
    "    # converting probabilities\n",
    "    preds = torch.nn.functional.softmax(out.logits, dim=-1).detach().cpu().numpy()[0]\n",
    "\n",
    "    # result\n",
    "    if preds[0] > preds[1]:\n",
    "        return 0\n",
    "    else:\n",
    "        return 1"
   ]
  },
  {
   "cell_type": "code",
   "execution_count": 39,
   "id": "dcf25796-18a5-442e-98d4-c1af629de2c3",
   "metadata": {},
   "outputs": [],
   "source": [
    "def bert(series):\n",
    "    # Заранее создадим словарь для исключений, когда длина токенизированной строки более 512 токенов и BERT не может с ней работать напрямую\n",
    "    exceptions = {}\n",
    "    bert_preds = []\n",
    "    for i, row in notebook.tqdm(enumerate(series)):\n",
    "        try:\n",
    "            bert_preds.append(toxicity_check(row))\n",
    "        except:\n",
    "            # Чтобы BERT все же обработал строку, попавшую в исключения, разобъем ее на части, проверим каждую часть на токсичность и вернем 1, если хотя бы одна из частей окажется токсичной\n",
    "            split_result = []\n",
    "            for j in range(len(row.split()) // 128 + 1):\n",
    "                n = len(row.split()) // (len(row.split()) // 128 + 1)\n",
    "                row_slice = row[j * n : (j + 1) * n]\n",
    "                split_result.append(toxicity_check(row_slice))\n",
    "\n",
    "            # Для удобства сохраним результаты срезов и их общий результат в словарь, где ключом будет номер строки\n",
    "            slices_result = f\"Результаты срезов: {split_result}, финальный ответ: {max(split_result)}\"\n",
    "            exceptions[i] = slices_result\n",
    "\n",
    "            bert_preds.append(max(split_result))\n",
    "\n",
    "    return (bert_preds, exceptions)"
   ]
  },
  {
   "attachments": {},
   "cell_type": "markdown",
   "id": "521bf535-baaf-4778-a1c3-051c3a3ef168",
   "metadata": {},
   "source": [
    "## Обзор данных"
   ]
  },
  {
   "cell_type": "code",
   "execution_count": 40,
   "id": "1fc358ff-e6b5-4d36-836d-560762a77825",
   "metadata": {},
   "outputs": [
    {
     "name": "stdout",
     "output_type": "stream",
     "text": [
      "\n",
      "\n",
      " ========================== 5 случайных строк датасета =========================== \n",
      "\n",
      "\n"
     ]
    },
    {
     "data": {
      "text/html": [
       "<div>\n",
       "<style scoped>\n",
       "    .dataframe tbody tr th:only-of-type {\n",
       "        vertical-align: middle;\n",
       "    }\n",
       "\n",
       "    .dataframe tbody tr th {\n",
       "        vertical-align: top;\n",
       "    }\n",
       "\n",
       "    .dataframe thead th {\n",
       "        text-align: right;\n",
       "    }\n",
       "</style>\n",
       "<table border=\"1\" class=\"dataframe\">\n",
       "  <thead>\n",
       "    <tr style=\"text-align: right;\">\n",
       "      <th></th>\n",
       "      <th>Unnamed: 0</th>\n",
       "      <th>text</th>\n",
       "      <th>toxic</th>\n",
       "    </tr>\n",
       "  </thead>\n",
       "  <tbody>\n",
       "    <tr>\n",
       "      <th>9870</th>\n",
       "      <td>9883</td>\n",
       "      <td>\"\\n\\nDo not assume or imply.\\nIf reliable sour...</td>\n",
       "      <td>0</td>\n",
       "    </tr>\n",
       "    <tr>\n",
       "      <th>115547</th>\n",
       "      <td>115646</td>\n",
       "      <td>\"\\n\\n Info box image - \"\"current composition\"\"...</td>\n",
       "      <td>0</td>\n",
       "    </tr>\n",
       "    <tr>\n",
       "      <th>92210</th>\n",
       "      <td>92301</td>\n",
       "      <td>So by that logic I can never put anything rela...</td>\n",
       "      <td>0</td>\n",
       "    </tr>\n",
       "    <tr>\n",
       "      <th>43126</th>\n",
       "      <td>43176</td>\n",
       "      <td>SNL and Stewart are already mentioned in the S...</td>\n",
       "      <td>0</td>\n",
       "    </tr>\n",
       "    <tr>\n",
       "      <th>77214</th>\n",
       "      <td>77290</td>\n",
       "      <td>Meetup\\nWikipedia:Meetup/Tampa  You're invited!</td>\n",
       "      <td>0</td>\n",
       "    </tr>\n",
       "  </tbody>\n",
       "</table>\n",
       "</div>"
      ],
      "text/plain": [
       "        Unnamed: 0                                               text  toxic\n",
       "9870          9883  \"\\n\\nDo not assume or imply.\\nIf reliable sour...      0\n",
       "115547      115646  \"\\n\\n Info box image - \"\"current composition\"\"...      0\n",
       "92210        92301  So by that logic I can never put anything rela...      0\n",
       "43126        43176  SNL and Stewart are already mentioned in the S...      0\n",
       "77214        77290    Meetup\\nWikipedia:Meetup/Tampa  You're invited!      0"
      ]
     },
     "metadata": {},
     "output_type": "display_data"
    },
    {
     "name": "stdout",
     "output_type": "stream",
     "text": [
      "\n",
      " =============================== Размеры датасета ================================ \n",
      "\n",
      "\n"
     ]
    },
    {
     "data": {
      "text/plain": [
       "(159292, 3)"
      ]
     },
     "metadata": {},
     "output_type": "display_data"
    },
    {
     "name": "stdout",
     "output_type": "stream",
     "text": [
      "\n",
      "\n",
      " ============================= Информация о датасетe ============================= \n",
      "\n",
      "\n",
      "<class 'pandas.core.frame.DataFrame'>\n",
      "RangeIndex: 159292 entries, 0 to 159291\n",
      "Data columns (total 3 columns):\n",
      " #   Column      Non-Null Count   Dtype \n",
      "---  ------      --------------   ----- \n",
      " 0   Unnamed: 0  159292 non-null  int64 \n",
      " 1   text        159292 non-null  object\n",
      " 2   toxic       159292 non-null  int64 \n",
      "dtypes: int64(2), object(1)\n",
      "memory usage: 3.6+ MB\n",
      "\n",
      "\n",
      " ===================== Информация о количественных признаках ===================== \n",
      "\n",
      "\n"
     ]
    },
    {
     "data": {
      "text/html": [
       "<div>\n",
       "<style scoped>\n",
       "    .dataframe tbody tr th:only-of-type {\n",
       "        vertical-align: middle;\n",
       "    }\n",
       "\n",
       "    .dataframe tbody tr th {\n",
       "        vertical-align: top;\n",
       "    }\n",
       "\n",
       "    .dataframe thead th {\n",
       "        text-align: right;\n",
       "    }\n",
       "</style>\n",
       "<table border=\"1\" class=\"dataframe\">\n",
       "  <thead>\n",
       "    <tr style=\"text-align: right;\">\n",
       "      <th></th>\n",
       "      <th>Unnamed: 0</th>\n",
       "      <th>toxic</th>\n",
       "    </tr>\n",
       "  </thead>\n",
       "  <tbody>\n",
       "    <tr>\n",
       "      <th>count</th>\n",
       "      <td>159292.000000</td>\n",
       "      <td>159292.000000</td>\n",
       "    </tr>\n",
       "    <tr>\n",
       "      <th>mean</th>\n",
       "      <td>79725.697242</td>\n",
       "      <td>0.101612</td>\n",
       "    </tr>\n",
       "    <tr>\n",
       "      <th>std</th>\n",
       "      <td>46028.837471</td>\n",
       "      <td>0.302139</td>\n",
       "    </tr>\n",
       "    <tr>\n",
       "      <th>min</th>\n",
       "      <td>0.000000</td>\n",
       "      <td>0.000000</td>\n",
       "    </tr>\n",
       "    <tr>\n",
       "      <th>25%</th>\n",
       "      <td>39872.750000</td>\n",
       "      <td>0.000000</td>\n",
       "    </tr>\n",
       "    <tr>\n",
       "      <th>50%</th>\n",
       "      <td>79721.500000</td>\n",
       "      <td>0.000000</td>\n",
       "    </tr>\n",
       "    <tr>\n",
       "      <th>75%</th>\n",
       "      <td>119573.250000</td>\n",
       "      <td>0.000000</td>\n",
       "    </tr>\n",
       "    <tr>\n",
       "      <th>max</th>\n",
       "      <td>159450.000000</td>\n",
       "      <td>1.000000</td>\n",
       "    </tr>\n",
       "  </tbody>\n",
       "</table>\n",
       "</div>"
      ],
      "text/plain": [
       "          Unnamed: 0          toxic\n",
       "count  159292.000000  159292.000000\n",
       "mean    79725.697242       0.101612\n",
       "std     46028.837471       0.302139\n",
       "min         0.000000       0.000000\n",
       "25%     39872.750000       0.000000\n",
       "50%     79721.500000       0.000000\n",
       "75%    119573.250000       0.000000\n",
       "max    159450.000000       1.000000"
      ]
     },
     "metadata": {},
     "output_type": "display_data"
    }
   ],
   "source": [
    "data_understanding(df)"
   ]
  },
  {
   "attachments": {},
   "cell_type": "markdown",
   "id": "f2170243-0023-4fc2-8aae-9dbb74ff00d8",
   "metadata": {},
   "source": [
    "В датасете осталась колонка старых индексов, которую можно удалить. "
   ]
  },
  {
   "cell_type": "code",
   "execution_count": 41,
   "id": "8764f5cd-4085-4f3c-aff5-7353da56bb23",
   "metadata": {},
   "outputs": [],
   "source": [
    "df = df.drop(columns=\"Unnamed: 0\")"
   ]
  },
  {
   "attachments": {},
   "cell_type": "markdown",
   "id": "e458a14b-fa93-41f2-be8b-20fb4d94305b",
   "metadata": {},
   "source": [
    "## Предобработка данных"
   ]
  },
  {
   "attachments": {},
   "cell_type": "markdown",
   "id": "ea8dfca4-6c84-4094-a384-2d563448f391",
   "metadata": {},
   "source": [
    "Избавимся от мусора в комментариях, оставим только слова."
   ]
  },
  {
   "cell_type": "code",
   "execution_count": 42,
   "id": "e410f8fd-5d13-4e76-beb5-91e4a01525ed",
   "metadata": {},
   "outputs": [],
   "source": [
    "def cleaner(row):\n",
    "    return (\" \".join(re.sub(r\"[^a-zA-Z ]\", \" \", row).split())).lower()"
   ]
  },
  {
   "cell_type": "code",
   "execution_count": 43,
   "id": "4f91c477-a924-4ddb-adfb-87dd9e4537d9",
   "metadata": {},
   "outputs": [
    {
     "name": "stderr",
     "output_type": "stream",
     "text": [
      "100%|██████████| 159292/159292 [00:02<00:00, 58534.78it/s]\n"
     ]
    }
   ],
   "source": [
    "df[\"preproc_text\"] = df.text.progress_apply(lambda x: cleaner(x))"
   ]
  },
  {
   "cell_type": "code",
   "execution_count": 44,
   "id": "f9c34f7c-c3e5-4b5e-b915-ae7171c9965a",
   "metadata": {},
   "outputs": [],
   "source": [
    "nlp = spacy.load(\"en_core_web_sm\")"
   ]
  },
  {
   "cell_type": "code",
   "execution_count": 45,
   "id": "29fef51f-a2d3-4604-920d-00492cfe0ba1",
   "metadata": {},
   "outputs": [],
   "source": [
    "def lemmatizer(series):\n",
    "    lemmatized_text = []\n",
    "    for batch in notebook.tqdm(\n",
    "        nlp.pipe(series, batch_size=32, n_process=3, disable=[\"parser\", \"ner\"])\n",
    "    ):\n",
    "        lemmatized_text.append(\" \".join([tok.lemma_ for tok in batch]))\n",
    "    return pd.DataFrame(lemmatized_text, index=series.index)"
   ]
  },
  {
   "cell_type": "code",
   "execution_count": 46,
   "id": "1800e60f-d7f0-4c99-a680-ba9d3e8398e8",
   "metadata": {},
   "outputs": [
    {
     "data": {
      "application/vnd.jupyter.widget-view+json": {
       "model_id": "3c6fa432ad0e4c4d896ae2bcf0ecf503",
       "version_major": 2,
       "version_minor": 0
      },
      "text/plain": [
       "0it [00:00, ?it/s]"
      ]
     },
     "metadata": {},
     "output_type": "display_data"
    }
   ],
   "source": [
    "df[\"preproc_text\"] = lemmatizer(df.preproc_text)"
   ]
  },
  {
   "attachments": {},
   "cell_type": "markdown",
   "id": "0f67b5a4-8f2e-4904-a52a-e9239ff57dab",
   "metadata": {},
   "source": [
    "## Создание выборок"
   ]
  },
  {
   "cell_type": "code",
   "execution_count": 47,
   "id": "87442141-c20f-4b49-88bd-008cb43d83d1",
   "metadata": {},
   "outputs": [],
   "source": [
    "train, test = train_test_split(df, test_size=0.2, random_state=RANDOM_STATE)"
   ]
  },
  {
   "cell_type": "code",
   "execution_count": 48,
   "id": "1d5c110e-e161-44b2-b7db-6afbb3509829",
   "metadata": {},
   "outputs": [],
   "source": [
    "X_train, X_test = train.preproc_text, test.preproc_text"
   ]
  },
  {
   "cell_type": "code",
   "execution_count": 49,
   "id": "100f1065-7670-4bb4-83eb-1ac6e912b803",
   "metadata": {},
   "outputs": [],
   "source": [
    "y_train, y_test = train.toxic, test.toxic"
   ]
  },
  {
   "attachments": {},
   "cell_type": "markdown",
   "id": "82a66263-d12d-410f-acf0-d183b7ea0d95",
   "metadata": {},
   "source": [
    "## Формирование пайплайнов"
   ]
  },
  {
   "cell_type": "code",
   "execution_count": 50,
   "id": "b0ab8d7f-e967-43d9-8786-e79a64af8d37",
   "metadata": {},
   "outputs": [],
   "source": [
    "stopwords = set(nltk_stopwords.words(\"english\"))"
   ]
  },
  {
   "cell_type": "code",
   "execution_count": 51,
   "id": "27377d1b-51ac-4827-b4c9-4fa251c4f778",
   "metadata": {},
   "outputs": [],
   "source": [
    "lr_pipe = Pipeline(\n",
    "    [\n",
    "        (\n",
    "            \"tfidf_bow\",\n",
    "            FeatureUnion(\n",
    "                [\n",
    "                    (\"tfidf_vec\", TfidfVectorizer(stop_words=list(stopwords))),\n",
    "                    (\"bow\", CountVectorizer(stop_words=list(stopwords))),\n",
    "                ]\n",
    "            ),\n",
    "        ),\n",
    "        (\"lr\", LogisticRegression()),\n",
    "    ]\n",
    ")"
   ]
  },
  {
   "cell_type": "code",
   "execution_count": 52,
   "id": "fbb1c8ac-5fc2-4759-9d4c-7eaebd7a5d65",
   "metadata": {},
   "outputs": [],
   "source": [
    "lgbm_pipe = Pipeline(\n",
    "    [\n",
    "        (\n",
    "            \"tfidf_bow\",\n",
    "            FeatureUnion(\n",
    "                [\n",
    "                    (\"tfidf_vec\", TfidfVectorizer(stop_words=list(stopwords))),\n",
    "                    (\"bow\", CountVectorizer(stop_words=list(stopwords))),\n",
    "                ]\n",
    "            ),\n",
    "        ),\n",
    "        (\"lgbm\", LGBMClassifier()),\n",
    "    ]\n",
    ")"
   ]
  },
  {
   "attachments": {},
   "cell_type": "markdown",
   "id": "e28bd1a1-d91e-4dc0-9ac3-f41cdab80bfc",
   "metadata": {
    "tags": []
   },
   "source": [
    "## Обучение моделей"
   ]
  },
  {
   "attachments": {},
   "cell_type": "markdown",
   "id": "da59788d-1a43-4c10-a11c-3efe901ad3f1",
   "metadata": {},
   "source": [
    "### LogisticRegression"
   ]
  },
  {
   "cell_type": "code",
   "execution_count": 53,
   "id": "f45ca150-80c2-4554-ab57-dfe3bf54fd9a",
   "metadata": {},
   "outputs": [],
   "source": [
    "from sklearn.model_selection import GridSearchCV"
   ]
  },
  {
   "cell_type": "code",
   "execution_count": 54,
   "id": "64e8fe1f-03fe-4978-9f28-1223f1f72c96",
   "metadata": {},
   "outputs": [],
   "source": [
    "lr_params = {\n",
    "    \"lr__C\": [0.25, 0.5, 1, 2, 5],\n",
    "    \"lr__solver\": [\"liblinear\"],\n",
    "    \"lr__max_iter\": [2000],\n",
    "}"
   ]
  },
  {
   "cell_type": "code",
   "execution_count": 55,
   "id": "592c4cac-f498-4123-be91-22e0d2cb60e5",
   "metadata": {},
   "outputs": [],
   "source": [
    "lr_md = GridSearchCV(\n",
    "    lr_pipe,\n",
    "    lr_params,\n",
    "    cv=5,\n",
    "    scoring=\"f1\",\n",
    "    n_jobs=3,\n",
    ")"
   ]
  },
  {
   "cell_type": "code",
   "execution_count": 56,
   "id": "119d4e27-4847-408c-9009-3c455c8a1b85",
   "metadata": {},
   "outputs": [
    {
     "name": "stdout",
     "output_type": "stream",
     "text": [
      "CPU times: total: 4min 9s\n",
      "Wall time: 32min 53s\n"
     ]
    }
   ],
   "source": [
    "%%time\n",
    "\n",
    "lr_md.fit(X_train, y_train);"
   ]
  },
  {
   "cell_type": "code",
   "execution_count": 57,
   "id": "b23b1939-52ec-4ab0-92d0-9552497d8207",
   "metadata": {},
   "outputs": [
    {
     "data": {
      "text/plain": [
       "{'lr__C': 2, 'lr__max_iter': 2000, 'lr__solver': 'liblinear'}"
      ]
     },
     "execution_count": 57,
     "metadata": {},
     "output_type": "execute_result"
    }
   ],
   "source": [
    "lr_md.best_params_"
   ]
  },
  {
   "cell_type": "code",
   "execution_count": 58,
   "id": "adb0a57c-1009-4074-9f8a-15c4c48ff6a5",
   "metadata": {},
   "outputs": [
    {
     "name": "stdout",
     "output_type": "stream",
     "text": [
      "=============================================================================== \n",
      "\n",
      "Logistic Regression\n",
      " \n",
      "F1 Train Score: 0.775\n",
      "\n",
      " ===============================================================================\n"
     ]
    }
   ],
   "source": [
    "print(\n",
    "    \"=\" * 79,\n",
    "    \"\\n\\nLogistic Regression\\n\",\n",
    "    f\"\\nF1 Train Score: {lr_md.best_score_:.3f}\\n\\n\",\n",
    "    \"=\" * 79,\n",
    ")"
   ]
  },
  {
   "attachments": {},
   "cell_type": "markdown",
   "id": "570369a0-4a61-4aa7-90f9-4eba8c7a09ec",
   "metadata": {},
   "source": [
    "### LightGBM Classifier"
   ]
  },
  {
   "cell_type": "code",
   "execution_count": 59,
   "id": "0f37d3d5-9c7e-4801-a78e-645afd5fb1d3",
   "metadata": {},
   "outputs": [],
   "source": [
    "from lightgbm import LGBMClassifier"
   ]
  },
  {
   "cell_type": "code",
   "execution_count": 60,
   "id": "0f978351-d4d7-4565-9918-12b6b8f09a59",
   "metadata": {},
   "outputs": [],
   "source": [
    "lgbm_params = {\n",
    "    \"lgbm__n_estimators\": [450, 600],\n",
    "    \"lgbm__max_depth\": [15, 20, 25],\n",
    "    \"lgbm__class_weight\": [\"balanced\"],\n",
    "}"
   ]
  },
  {
   "cell_type": "code",
   "execution_count": 61,
   "id": "d814c798-a9a7-4637-ac19-71e7f2730f51",
   "metadata": {},
   "outputs": [],
   "source": [
    "lgbm_md = GridSearchCV(\n",
    "    lgbm_pipe,\n",
    "    lgbm_params,\n",
    "    cv=5,\n",
    "    scoring=\"f1\",\n",
    "    n_jobs=3,\n",
    ")"
   ]
  },
  {
   "cell_type": "code",
   "execution_count": 62,
   "id": "f9dbcc3c-ebc8-4f1a-9906-85275bbc83d9",
   "metadata": {},
   "outputs": [
    {
     "name": "stdout",
     "output_type": "stream",
     "text": [
      "CPU times: total: 20min 4s\n",
      "Wall time: 31min 25s\n"
     ]
    }
   ],
   "source": [
    "%%time\n",
    "\n",
    "lgbm_md.fit(X_train, y_train);"
   ]
  },
  {
   "cell_type": "code",
   "execution_count": 63,
   "id": "ba0ecfb7-79f4-4c2b-8688-4e16ff5d9cb1",
   "metadata": {},
   "outputs": [
    {
     "data": {
      "text/plain": [
       "{'lgbm__class_weight': 'balanced',\n",
       " 'lgbm__max_depth': 15,\n",
       " 'lgbm__n_estimators': 600}"
      ]
     },
     "execution_count": 63,
     "metadata": {},
     "output_type": "execute_result"
    }
   ],
   "source": [
    "lgbm_md.best_params_"
   ]
  },
  {
   "cell_type": "code",
   "execution_count": 64,
   "id": "1e0cbfa6-718d-43ad-8eeb-1cd38c43295b",
   "metadata": {},
   "outputs": [
    {
     "name": "stdout",
     "output_type": "stream",
     "text": [
      "=============================================================================== \n",
      "\n",
      "Logistic Regression\n",
      " \n",
      "F1 Train Score: 0.774\n",
      "\n",
      " ===============================================================================\n"
     ]
    }
   ],
   "source": [
    "print(\n",
    "    \"=\" * 79,\n",
    "    \"\\n\\nLogistic Regression\\n\",\n",
    "    f\"\\nF1 Train Score: {lgbm_md.best_score_:.3f}\\n\\n\",\n",
    "    \"=\" * 79,\n",
    ")"
   ]
  },
  {
   "attachments": {},
   "cell_type": "markdown",
   "id": "22b26f44-dc12-497b-bb8e-452e497852ed",
   "metadata": {},
   "source": [
    "### BERT"
   ]
  },
  {
   "cell_type": "code",
   "execution_count": 65,
   "id": "1eee8f98-1b40-41b6-a326-bdd92255f7a4",
   "metadata": {},
   "outputs": [],
   "source": [
    "X_train_cut = X_train.sample(5000, random_state=RANDOM_STATE)"
   ]
  },
  {
   "cell_type": "code",
   "execution_count": 66,
   "id": "fb6ae0ab-7dd5-45a7-80c3-8a74c379a590",
   "metadata": {},
   "outputs": [],
   "source": [
    "y_train_cut = y_train.sample(5000, random_state=RANDOM_STATE)"
   ]
  },
  {
   "cell_type": "code",
   "execution_count": 67,
   "id": "6c92041f-2e65-4aa4-a030-93993f579001",
   "metadata": {},
   "outputs": [
    {
     "data": {
      "application/vnd.jupyter.widget-view+json": {
       "model_id": "4736f3153b1044a684ea6afcdd3aed23",
       "version_major": 2,
       "version_minor": 0
      },
      "text/plain": [
       "0it [00:00, ?it/s]"
      ]
     },
     "metadata": {},
     "output_type": "display_data"
    },
    {
     "name": "stderr",
     "output_type": "stream",
     "text": [
      "Token indices sequence length is longer than the specified maximum sequence length for this model (793 > 512). Running this sequence through the model will result in indexing errors\n"
     ]
    }
   ],
   "source": [
    "bert_preds, exceptions = bert(X_train_cut)"
   ]
  },
  {
   "cell_type": "code",
   "execution_count": 68,
   "id": "1ef93405-48e2-43c0-b153-f8b4a73a7ecb",
   "metadata": {},
   "outputs": [
    {
     "name": "stdout",
     "output_type": "stream",
     "text": [
      "=============================================================================== \n",
      "\n",
      "Модель на BERT\n",
      " \n",
      "F1 Score: 0.841\n",
      "\n",
      " ===============================================================================\n"
     ]
    }
   ],
   "source": [
    "print(\n",
    "    \"=\" * 79,\n",
    "    \"\\n\\nМодель на BERT\\n\",\n",
    "    f\"\\nF1 Score: {f1_score(y_train_cut, bert_preds):.3f}\\n\\n\",\n",
    "    \"=\" * 79,\n",
    ")"
   ]
  },
  {
   "attachments": {},
   "cell_type": "markdown",
   "id": "40df7e28-13a1-4dd7-940c-1482ea601854",
   "metadata": {},
   "source": [
    "Модели c TF-IDF/BOW пайплайном дали приблизительно равные результаты и достигли целевого показателя метрики F1, слегка перешагнув порог. BERT также достигла целевого показателя метрики F1, но при этом значительно превзошла обе TF-IDF/BOW модели. Посмотрим, сколько времени потребуется для выполнения 10 предсказаний каждой модели и выберем по скорости работы. "
   ]
  },
  {
   "attachments": {},
   "cell_type": "markdown",
   "id": "6d6637e3-71ab-4fc1-96b1-d13dd6dedc06",
   "metadata": {},
   "source": [
    "## Проверка скорости предсказания"
   ]
  },
  {
   "cell_type": "code",
   "execution_count": 69,
   "id": "6168fa11-c406-45db-9bf2-fbc347602977",
   "metadata": {},
   "outputs": [],
   "source": [
    "X_speed_test = X_test.sample(10, random_state=RANDOM_STATE)"
   ]
  },
  {
   "cell_type": "code",
   "execution_count": 70,
   "id": "1be74763-65f5-4ce5-9aba-e3ee893a8f0e",
   "metadata": {},
   "outputs": [
    {
     "name": "stdout",
     "output_type": "stream",
     "text": [
      "4.92 ms ± 349 µs per loop (mean ± std. dev. of 7 runs, 100 loops each)\n"
     ]
    }
   ],
   "source": [
    "%%timeit\n",
    "\n",
    "lr_md.predict(X_speed_test)"
   ]
  },
  {
   "cell_type": "code",
   "execution_count": 71,
   "id": "ebfc3ea5-2082-4cdf-a6e7-60dd7a5505be",
   "metadata": {},
   "outputs": [
    {
     "name": "stdout",
     "output_type": "stream",
     "text": [
      "21.9 ms ± 1.54 ms per loop (mean ± std. dev. of 7 runs, 10 loops each)\n"
     ]
    }
   ],
   "source": [
    "%%timeit\n",
    "\n",
    "lgbm_md.predict(X_speed_test)"
   ]
  },
  {
   "cell_type": "code",
   "execution_count": 72,
   "id": "ec453e0b-feda-4d43-bdf8-2bc1c6e13bd5",
   "metadata": {},
   "outputs": [
    {
     "data": {
      "application/vnd.jupyter.widget-view+json": {
       "model_id": "56bbb50174054c9bbec9df8ca39ee12d",
       "version_major": 2,
       "version_minor": 0
      },
      "text/plain": [
       "0it [00:00, ?it/s]"
      ]
     },
     "metadata": {},
     "output_type": "display_data"
    },
    {
     "data": {
      "application/vnd.jupyter.widget-view+json": {
       "model_id": "a7d8987599e7401398a023be4b71ea94",
       "version_major": 2,
       "version_minor": 0
      },
      "text/plain": [
       "0it [00:00, ?it/s]"
      ]
     },
     "metadata": {},
     "output_type": "display_data"
    },
    {
     "data": {
      "application/vnd.jupyter.widget-view+json": {
       "model_id": "e7e94d83fc3a4382b12e0e75cbc376a2",
       "version_major": 2,
       "version_minor": 0
      },
      "text/plain": [
       "0it [00:00, ?it/s]"
      ]
     },
     "metadata": {},
     "output_type": "display_data"
    },
    {
     "data": {
      "application/vnd.jupyter.widget-view+json": {
       "model_id": "36c7620702124aa89ae8dcd78cffb81f",
       "version_major": 2,
       "version_minor": 0
      },
      "text/plain": [
       "0it [00:00, ?it/s]"
      ]
     },
     "metadata": {},
     "output_type": "display_data"
    },
    {
     "data": {
      "application/vnd.jupyter.widget-view+json": {
       "model_id": "fbb110a9403f4f6b8d709899e943e8a2",
       "version_major": 2,
       "version_minor": 0
      },
      "text/plain": [
       "0it [00:00, ?it/s]"
      ]
     },
     "metadata": {},
     "output_type": "display_data"
    },
    {
     "data": {
      "application/vnd.jupyter.widget-view+json": {
       "model_id": "0589208e048d43ef9518dc7b67aea608",
       "version_major": 2,
       "version_minor": 0
      },
      "text/plain": [
       "0it [00:00, ?it/s]"
      ]
     },
     "metadata": {},
     "output_type": "display_data"
    },
    {
     "data": {
      "application/vnd.jupyter.widget-view+json": {
       "model_id": "e48c4c45b2ee43e5ae8ad2493e800cf5",
       "version_major": 2,
       "version_minor": 0
      },
      "text/plain": [
       "0it [00:00, ?it/s]"
      ]
     },
     "metadata": {},
     "output_type": "display_data"
    },
    {
     "data": {
      "application/vnd.jupyter.widget-view+json": {
       "model_id": "298fecd0fa6d4d38b2caec3eea083421",
       "version_major": 2,
       "version_minor": 0
      },
      "text/plain": [
       "0it [00:00, ?it/s]"
      ]
     },
     "metadata": {},
     "output_type": "display_data"
    },
    {
     "name": "stdout",
     "output_type": "stream",
     "text": [
      "1.99 s ± 46.5 ms per loop (mean ± std. dev. of 7 runs, 1 loop each)\n"
     ]
    }
   ],
   "source": [
    "%%timeit\n",
    "\n",
    "speed_preds, speed_excepts = bert(X_speed_test)"
   ]
  },
  {
   "attachments": {},
   "cell_type": "markdown",
   "id": "47291d36-c93d-4ae0-baea-b27609cdb92d",
   "metadata": {},
   "source": [
    "Самой быстрой оказалась модель LogisticRegression."
   ]
  },
  {
   "attachments": {},
   "cell_type": "markdown",
   "id": "5aeae45c-89d7-46a5-a156-3764786fce92",
   "metadata": {},
   "source": [
    "## Проверка на тестовой выборке"
   ]
  },
  {
   "attachments": {},
   "cell_type": "markdown",
   "id": "127645f3-80c5-4011-b553-cc3b2629a4dc",
   "metadata": {},
   "source": [
    "Поскольку все модели достигли целевого показателя F1, можно сделать выбор, исходя из скорости работы. Предположим, что в текущем проекте нам больше важна точность. Тогда лучшей моделью будет выбран BERT."
   ]
  },
  {
   "cell_type": "code",
   "execution_count": 73,
   "id": "cc80a8c1-2c2c-4545-b20e-6900fc440e03",
   "metadata": {},
   "outputs": [
    {
     "data": {
      "application/vnd.jupyter.widget-view+json": {
       "model_id": "9691d954612d41e79b744acc677717c1",
       "version_major": 2,
       "version_minor": 0
      },
      "text/plain": [
       "0it [00:00, ?it/s]"
      ]
     },
     "metadata": {},
     "output_type": "display_data"
    }
   ],
   "source": [
    "test_preds, out = bert(X_test.sample(1000, random_state=RANDOM_STATE))"
   ]
  },
  {
   "cell_type": "code",
   "execution_count": 74,
   "id": "d79ec0c3-da22-4524-9c37-9cb5b83c2a04",
   "metadata": {},
   "outputs": [
    {
     "name": "stdout",
     "output_type": "stream",
     "text": [
      "=============================================================================== \n",
      "\n",
      "Модель BERT на тестовой выборке\n",
      " \n",
      "F1 Score: 0.891\n",
      "\n",
      " ===============================================================================\n"
     ]
    }
   ],
   "source": [
    "print(\n",
    "    \"=\" * 79,\n",
    "    \"\\n\\nМодель BERT на тестовой выборке\\n\",\n",
    "    f\"\\nF1 Score: {f1_score(y_test.sample(1000, random_state=RANDOM_STATE), test_preds):.3f}\\n\\n\",\n",
    "    \"=\" * 79,\n",
    ")"
   ]
  },
  {
   "attachments": {},
   "cell_type": "markdown",
   "id": "c84ca455-58b4-4837-9845-d160d5fa506a",
   "metadata": {},
   "source": [
    "Целевое значение метрики достигнуто. "
   ]
  },
  {
   "attachments": {},
   "cell_type": "markdown",
   "id": "20ac1b95-fd9c-42df-b5fa-402b2de951c0",
   "metadata": {},
   "source": [
    "## Проверка константной моделью"
   ]
  },
  {
   "cell_type": "code",
   "execution_count": 75,
   "id": "dd358939-c25d-4bde-bc08-b7bf0ea62693",
   "metadata": {},
   "outputs": [],
   "source": [
    "dummy_md_0 = DummyClassifier(strategy=\"constant\", constant=0)"
   ]
  },
  {
   "cell_type": "code",
   "execution_count": 76,
   "id": "0a894e6b-f45f-4b8d-a992-0980d3c32880",
   "metadata": {},
   "outputs": [
    {
     "data": {
      "text/html": [
       "<style>#sk-container-id-1 {color: black;background-color: white;}#sk-container-id-1 pre{padding: 0;}#sk-container-id-1 div.sk-toggleable {background-color: white;}#sk-container-id-1 label.sk-toggleable__label {cursor: pointer;display: block;width: 100%;margin-bottom: 0;padding: 0.3em;box-sizing: border-box;text-align: center;}#sk-container-id-1 label.sk-toggleable__label-arrow:before {content: \"▸\";float: left;margin-right: 0.25em;color: #696969;}#sk-container-id-1 label.sk-toggleable__label-arrow:hover:before {color: black;}#sk-container-id-1 div.sk-estimator:hover label.sk-toggleable__label-arrow:before {color: black;}#sk-container-id-1 div.sk-toggleable__content {max-height: 0;max-width: 0;overflow: hidden;text-align: left;background-color: #f0f8ff;}#sk-container-id-1 div.sk-toggleable__content pre {margin: 0.2em;color: black;border-radius: 0.25em;background-color: #f0f8ff;}#sk-container-id-1 input.sk-toggleable__control:checked~div.sk-toggleable__content {max-height: 200px;max-width: 100%;overflow: auto;}#sk-container-id-1 input.sk-toggleable__control:checked~label.sk-toggleable__label-arrow:before {content: \"▾\";}#sk-container-id-1 div.sk-estimator input.sk-toggleable__control:checked~label.sk-toggleable__label {background-color: #d4ebff;}#sk-container-id-1 div.sk-label input.sk-toggleable__control:checked~label.sk-toggleable__label {background-color: #d4ebff;}#sk-container-id-1 input.sk-hidden--visually {border: 0;clip: rect(1px 1px 1px 1px);clip: rect(1px, 1px, 1px, 1px);height: 1px;margin: -1px;overflow: hidden;padding: 0;position: absolute;width: 1px;}#sk-container-id-1 div.sk-estimator {font-family: monospace;background-color: #f0f8ff;border: 1px dotted black;border-radius: 0.25em;box-sizing: border-box;margin-bottom: 0.5em;}#sk-container-id-1 div.sk-estimator:hover {background-color: #d4ebff;}#sk-container-id-1 div.sk-parallel-item::after {content: \"\";width: 100%;border-bottom: 1px solid gray;flex-grow: 1;}#sk-container-id-1 div.sk-label:hover label.sk-toggleable__label {background-color: #d4ebff;}#sk-container-id-1 div.sk-serial::before {content: \"\";position: absolute;border-left: 1px solid gray;box-sizing: border-box;top: 0;bottom: 0;left: 50%;z-index: 0;}#sk-container-id-1 div.sk-serial {display: flex;flex-direction: column;align-items: center;background-color: white;padding-right: 0.2em;padding-left: 0.2em;position: relative;}#sk-container-id-1 div.sk-item {position: relative;z-index: 1;}#sk-container-id-1 div.sk-parallel {display: flex;align-items: stretch;justify-content: center;background-color: white;position: relative;}#sk-container-id-1 div.sk-item::before, #sk-container-id-1 div.sk-parallel-item::before {content: \"\";position: absolute;border-left: 1px solid gray;box-sizing: border-box;top: 0;bottom: 0;left: 50%;z-index: -1;}#sk-container-id-1 div.sk-parallel-item {display: flex;flex-direction: column;z-index: 1;position: relative;background-color: white;}#sk-container-id-1 div.sk-parallel-item:first-child::after {align-self: flex-end;width: 50%;}#sk-container-id-1 div.sk-parallel-item:last-child::after {align-self: flex-start;width: 50%;}#sk-container-id-1 div.sk-parallel-item:only-child::after {width: 0;}#sk-container-id-1 div.sk-dashed-wrapped {border: 1px dashed gray;margin: 0 0.4em 0.5em 0.4em;box-sizing: border-box;padding-bottom: 0.4em;background-color: white;}#sk-container-id-1 div.sk-label label {font-family: monospace;font-weight: bold;display: inline-block;line-height: 1.2em;}#sk-container-id-1 div.sk-label-container {text-align: center;}#sk-container-id-1 div.sk-container {/* jupyter's `normalize.less` sets `[hidden] { display: none; }` but bootstrap.min.css set `[hidden] { display: none !important; }` so we also need the `!important` here to be able to override the default hidden behavior on the sphinx rendered scikit-learn.org. See: https://github.com/scikit-learn/scikit-learn/issues/21755 */display: inline-block !important;position: relative;}#sk-container-id-1 div.sk-text-repr-fallback {display: none;}</style><div id=\"sk-container-id-1\" class=\"sk-top-container\"><div class=\"sk-text-repr-fallback\"><pre>DummyClassifier(constant=0, strategy=&#x27;constant&#x27;)</pre><b>In a Jupyter environment, please rerun this cell to show the HTML representation or trust the notebook. <br />On GitHub, the HTML representation is unable to render, please try loading this page with nbviewer.org.</b></div><div class=\"sk-container\" hidden><div class=\"sk-item\"><div class=\"sk-estimator sk-toggleable\"><input class=\"sk-toggleable__control sk-hidden--visually\" id=\"sk-estimator-id-1\" type=\"checkbox\" checked><label for=\"sk-estimator-id-1\" class=\"sk-toggleable__label sk-toggleable__label-arrow\">DummyClassifier</label><div class=\"sk-toggleable__content\"><pre>DummyClassifier(constant=0, strategy=&#x27;constant&#x27;)</pre></div></div></div></div></div>"
      ],
      "text/plain": [
       "DummyClassifier(constant=0, strategy='constant')"
      ]
     },
     "execution_count": 76,
     "metadata": {},
     "output_type": "execute_result"
    }
   ],
   "source": [
    "dummy_md_0.fit(X_train, y_train)"
   ]
  },
  {
   "cell_type": "code",
   "execution_count": 77,
   "id": "ce7004fc-3d3e-4330-a148-254d9edbf555",
   "metadata": {},
   "outputs": [],
   "source": [
    "dummy_preds_0 = dummy_md_0.predict(X_test)"
   ]
  },
  {
   "cell_type": "code",
   "execution_count": 78,
   "id": "385fcfe1-d949-47fd-8c0b-27e6f94451c8",
   "metadata": {},
   "outputs": [
    {
     "name": "stdout",
     "output_type": "stream",
     "text": [
      "=============================================================================== \n",
      "\n",
      "Dummy-модель (класс 0)\n",
      " \n",
      "F1 Score: 0.000\n",
      "\n",
      " ===============================================================================\n"
     ]
    }
   ],
   "source": [
    "print(\n",
    "    \"=\" * 79,\n",
    "    \"\\n\\nDummy-модель (класс 0)\\n\",\n",
    "    f\"\\nF1 Score: {f1_score(y_test, dummy_preds_0):.3f}\\n\\n\",\n",
    "    \"=\" * 79,\n",
    ")"
   ]
  },
  {
   "cell_type": "code",
   "execution_count": 79,
   "id": "7cdf48d5-cf62-4f9e-8774-d83894a72f9b",
   "metadata": {},
   "outputs": [],
   "source": [
    "dummy_md_1 = DummyClassifier(strategy=\"constant\", constant=1)"
   ]
  },
  {
   "cell_type": "code",
   "execution_count": 80,
   "id": "c99cedec-7463-492a-8e7d-65b2d2433c8e",
   "metadata": {},
   "outputs": [
    {
     "data": {
      "text/html": [
       "<style>#sk-container-id-2 {color: black;background-color: white;}#sk-container-id-2 pre{padding: 0;}#sk-container-id-2 div.sk-toggleable {background-color: white;}#sk-container-id-2 label.sk-toggleable__label {cursor: pointer;display: block;width: 100%;margin-bottom: 0;padding: 0.3em;box-sizing: border-box;text-align: center;}#sk-container-id-2 label.sk-toggleable__label-arrow:before {content: \"▸\";float: left;margin-right: 0.25em;color: #696969;}#sk-container-id-2 label.sk-toggleable__label-arrow:hover:before {color: black;}#sk-container-id-2 div.sk-estimator:hover label.sk-toggleable__label-arrow:before {color: black;}#sk-container-id-2 div.sk-toggleable__content {max-height: 0;max-width: 0;overflow: hidden;text-align: left;background-color: #f0f8ff;}#sk-container-id-2 div.sk-toggleable__content pre {margin: 0.2em;color: black;border-radius: 0.25em;background-color: #f0f8ff;}#sk-container-id-2 input.sk-toggleable__control:checked~div.sk-toggleable__content {max-height: 200px;max-width: 100%;overflow: auto;}#sk-container-id-2 input.sk-toggleable__control:checked~label.sk-toggleable__label-arrow:before {content: \"▾\";}#sk-container-id-2 div.sk-estimator input.sk-toggleable__control:checked~label.sk-toggleable__label {background-color: #d4ebff;}#sk-container-id-2 div.sk-label input.sk-toggleable__control:checked~label.sk-toggleable__label {background-color: #d4ebff;}#sk-container-id-2 input.sk-hidden--visually {border: 0;clip: rect(1px 1px 1px 1px);clip: rect(1px, 1px, 1px, 1px);height: 1px;margin: -1px;overflow: hidden;padding: 0;position: absolute;width: 1px;}#sk-container-id-2 div.sk-estimator {font-family: monospace;background-color: #f0f8ff;border: 1px dotted black;border-radius: 0.25em;box-sizing: border-box;margin-bottom: 0.5em;}#sk-container-id-2 div.sk-estimator:hover {background-color: #d4ebff;}#sk-container-id-2 div.sk-parallel-item::after {content: \"\";width: 100%;border-bottom: 1px solid gray;flex-grow: 1;}#sk-container-id-2 div.sk-label:hover label.sk-toggleable__label {background-color: #d4ebff;}#sk-container-id-2 div.sk-serial::before {content: \"\";position: absolute;border-left: 1px solid gray;box-sizing: border-box;top: 0;bottom: 0;left: 50%;z-index: 0;}#sk-container-id-2 div.sk-serial {display: flex;flex-direction: column;align-items: center;background-color: white;padding-right: 0.2em;padding-left: 0.2em;position: relative;}#sk-container-id-2 div.sk-item {position: relative;z-index: 1;}#sk-container-id-2 div.sk-parallel {display: flex;align-items: stretch;justify-content: center;background-color: white;position: relative;}#sk-container-id-2 div.sk-item::before, #sk-container-id-2 div.sk-parallel-item::before {content: \"\";position: absolute;border-left: 1px solid gray;box-sizing: border-box;top: 0;bottom: 0;left: 50%;z-index: -1;}#sk-container-id-2 div.sk-parallel-item {display: flex;flex-direction: column;z-index: 1;position: relative;background-color: white;}#sk-container-id-2 div.sk-parallel-item:first-child::after {align-self: flex-end;width: 50%;}#sk-container-id-2 div.sk-parallel-item:last-child::after {align-self: flex-start;width: 50%;}#sk-container-id-2 div.sk-parallel-item:only-child::after {width: 0;}#sk-container-id-2 div.sk-dashed-wrapped {border: 1px dashed gray;margin: 0 0.4em 0.5em 0.4em;box-sizing: border-box;padding-bottom: 0.4em;background-color: white;}#sk-container-id-2 div.sk-label label {font-family: monospace;font-weight: bold;display: inline-block;line-height: 1.2em;}#sk-container-id-2 div.sk-label-container {text-align: center;}#sk-container-id-2 div.sk-container {/* jupyter's `normalize.less` sets `[hidden] { display: none; }` but bootstrap.min.css set `[hidden] { display: none !important; }` so we also need the `!important` here to be able to override the default hidden behavior on the sphinx rendered scikit-learn.org. See: https://github.com/scikit-learn/scikit-learn/issues/21755 */display: inline-block !important;position: relative;}#sk-container-id-2 div.sk-text-repr-fallback {display: none;}</style><div id=\"sk-container-id-2\" class=\"sk-top-container\"><div class=\"sk-text-repr-fallback\"><pre>DummyClassifier(constant=1, strategy=&#x27;constant&#x27;)</pre><b>In a Jupyter environment, please rerun this cell to show the HTML representation or trust the notebook. <br />On GitHub, the HTML representation is unable to render, please try loading this page with nbviewer.org.</b></div><div class=\"sk-container\" hidden><div class=\"sk-item\"><div class=\"sk-estimator sk-toggleable\"><input class=\"sk-toggleable__control sk-hidden--visually\" id=\"sk-estimator-id-2\" type=\"checkbox\" checked><label for=\"sk-estimator-id-2\" class=\"sk-toggleable__label sk-toggleable__label-arrow\">DummyClassifier</label><div class=\"sk-toggleable__content\"><pre>DummyClassifier(constant=1, strategy=&#x27;constant&#x27;)</pre></div></div></div></div></div>"
      ],
      "text/plain": [
       "DummyClassifier(constant=1, strategy='constant')"
      ]
     },
     "execution_count": 80,
     "metadata": {},
     "output_type": "execute_result"
    }
   ],
   "source": [
    "dummy_md_1.fit(X_train, y_train)"
   ]
  },
  {
   "cell_type": "code",
   "execution_count": 81,
   "id": "d09044e2-dab2-44c6-8dbd-b53a85ec832d",
   "metadata": {},
   "outputs": [],
   "source": [
    "dummy_preds_1 = dummy_md_1.predict(X_test)"
   ]
  },
  {
   "cell_type": "code",
   "execution_count": 82,
   "id": "ae4dafac-3c76-4413-8b66-ac9f9f23b244",
   "metadata": {},
   "outputs": [
    {
     "name": "stdout",
     "output_type": "stream",
     "text": [
      "=============================================================================== \n",
      "\n",
      "Dummy-модель (класс 1)\n",
      " \n",
      "F1 Score: 0.183\n",
      "\n",
      " ===============================================================================\n"
     ]
    }
   ],
   "source": [
    "print(\n",
    "    \"=\" * 79,\n",
    "    \"\\n\\nDummy-модель (класс 1)\\n\",\n",
    "    f\"\\nF1 Score: {f1_score(y_test, dummy_preds_1):.3f}\\n\\n\",\n",
    "    \"=\" * 79,\n",
    ")"
   ]
  },
  {
   "attachments": {},
   "cell_type": "markdown",
   "id": "1c40d795-3f24-485b-bae0-4632303cb64e",
   "metadata": {},
   "source": [
    "Метрика F1 константной модели значительно ниже выбранной основной модели. "
   ]
  },
  {
   "attachments": {},
   "cell_type": "markdown",
   "id": "5c981805-1f8f-42a5-ad05-f0508635ec49",
   "metadata": {
    "tags": []
   },
   "source": [
    "## Общий вывод"
   ]
  },
  {
   "attachments": {},
   "cell_type": "markdown",
   "id": "bddd08f0-2fe5-400e-b2fc-792425865f7a",
   "metadata": {},
   "source": [
    "**В текущем исследовании** был рассмотрен датасет, содержащий выборку комментариев, для которых необходимо было построеть модель, определяющую их токсичность (да/нет). \n",
    "\n",
    "**Выполнены следующие этапы:**  \n",
    "- **Обзор данных**  \n",
    "    Изучено содержимое датасета, определено, что данные не требуют какой-либо обработки за исключением относящейся непосредственно к работе моделей.\n",
    "    \n",
    "- **Предобработка данных**  \n",
    "    Текст комментариев приведен к нижнему регистру и очищен от любых символов, кроме латиницы, а также лемматизирован. \n",
    "    \n",
    "- **Разбиение на выборки**  \n",
    "    Датасет разделен на тренировочную и тестовую выборки\n",
    "    \n",
    "- **Построение TF-IDF/BOW моделей**   \n",
    "    Созданы пайплайны для трансформации комментариев в наборы признако из TF-IDF матрицы и мешков слов, обучены модели LogisticRegression и LightGBM Classifier. \n",
    "   \n",
    "- **Построение модели на основе BERT**  \n",
    "    Создана функция, использующая предобученную модель BERT, определяющая является ли комментарий токсичным.\n",
    "    \n",
    "- **Проверка на тестовой выборке**  \n",
    "    Лучшая модель, коей является модель, основанная на BERT, проверена на тестовой выборке; целевое значение метрики достигнуто. \n",
    "    \n",
    "- **Проверка константной моделью**  \n",
    "    Константная модель значительно отстает в качестве предсказаний от созданных моделей. "
   ]
  },
  {
   "cell_type": "code",
   "execution_count": null,
   "id": "237edafb-6afb-48bc-806f-d0a7acbc31f7",
   "metadata": {},
   "outputs": [],
   "source": []
  }
 ],
 "metadata": {
  "ExecuteTimeLog": [
   {
    "duration": 137,
    "start_time": "2023-03-09T12:40:48.427Z"
   }
  ],
  "kernelspec": {
   "display_name": "Python 3 (ipykernel)",
   "language": "python",
   "name": "python3"
  },
  "language_info": {
   "codemirror_mode": {
    "name": "ipython",
    "version": 3
   },
   "file_extension": ".py",
   "mimetype": "text/x-python",
   "name": "python",
   "nbconvert_exporter": "python",
   "pygments_lexer": "ipython3",
   "version": "3.9.13"
  },
  "toc": {
   "base_numbering": 1,
   "nav_menu": {},
   "number_sections": true,
   "sideBar": true,
   "skip_h1_title": true,
   "title_cell": "Table of Contents",
   "title_sidebar": "Contents",
   "toc_cell": false,
   "toc_position": {},
   "toc_section_display": true,
   "toc_window_display": false
  }
 },
 "nbformat": 4,
 "nbformat_minor": 5
}
