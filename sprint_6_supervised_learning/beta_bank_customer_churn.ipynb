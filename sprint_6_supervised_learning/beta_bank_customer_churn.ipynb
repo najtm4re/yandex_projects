{
 "cells": [
  {
   "attachments": {},
   "cell_type": "markdown",
   "id": "7504fc57-a265-42c5-85f1-7f00cc34a94f",
   "metadata": {
    "tags": []
   },
   "source": [
    "# Прогноз оттока клиентов\n",
    "\n",
    "**Описание исследования**  \n",
    "\n",
    "Из «Бета-Банка» стали уходить клиенты. Каждый месяц. Немного, но заметно. Банковские маркетологи посчитали: сохранять текущих клиентов дешевле, чем привлекать новых.\n",
    "Нужно спрогнозировать, уйдёт клиент из банка в ближайшее время или нет. Предоставлены исторические данные о поведении клиентов и расторжении договоров с банком. \n",
    "Необходимо построить модель с предельно большим значением F1-меры (минимум 0.59), определить F1-меру на тестовой выборке, параллельно измерять AUC-ROC, сравнивая значение с F1-мерой.\n",
    "\n",
    "**Цель исследования**\n",
    "- Исследовать баланс классов, обучить модели несмотря на существующий дисбаланс\n",
    "- Улучшить качество моделей, учитывая дисбаланс классов, найти лучшую\n",
    "- Провести финальное тестирование\n",
    "\n",
    "**Ход исследования**\n",
    "- Обзор данных\n",
    "- Предобработка данных\n",
    "- Разбиение на тренировочную, валидационную и тестовую выборки\n",
    "- Обучение моделей при различных условиях\n",
    "- Проверка на тестовой выборке\n",
    "- Общий вывод"
   ]
  },
  {
   "attachments": {},
   "cell_type": "markdown",
   "id": "dd1d07df-72fb-4cb9-8c91-ac1978df2c21",
   "metadata": {},
   "source": [
    "## Импорт необходимых библиотек"
   ]
  },
  {
   "cell_type": "code",
   "execution_count": 64,
   "id": "daa53525-9715-42fb-a649-79078d79fe5b",
   "metadata": {},
   "outputs": [],
   "source": [
    "import pandas as pd\n",
    "import numpy as np\n",
    "import matplotlib.pyplot as plt\n",
    "import re\n",
    "\n",
    "\n",
    "from sklearn.tree import DecisionTreeClassifier\n",
    "from sklearn.linear_model import LogisticRegression\n",
    "from sklearn.ensemble import RandomForestClassifier\n",
    "from sklearn.dummy import DummyClassifier\n",
    "\n",
    "\n",
    "from sklearn.utils import shuffle\n",
    "from sklearn.pipeline import Pipeline\n",
    "from sklearn.model_selection import train_test_split, GridSearchCV, RandomizedSearchCV\n",
    "from sklearn.metrics import (\n",
    "    roc_auc_score,\n",
    "    f1_score,\n",
    "    mean_squared_error,\n",
    "    accuracy_score,\n",
    "    confusion_matrix,\n",
    "    precision_score,\n",
    "    recall_score,\n",
    "    precision_recall_curve,\n",
    "    make_scorer,\n",
    ")\n",
    "from scipy.stats import uniform, randint\n",
    "from sklearn.preprocessing import OneHotEncoder, OrdinalEncoder, StandardScaler\n",
    "from sklearn.pipeline import Pipeline\n",
    "from sklearn.compose import make_column_transformer\n",
    "from sklearn.compose import ColumnTransformer\n",
    "from sklearn import set_config\n",
    "\n",
    "set_config(display=\"diagram\")\n",
    "\n",
    "from warnings import simplefilter"
   ]
  },
  {
   "attachments": {},
   "cell_type": "markdown",
   "id": "3216e588-22c0-4506-a405-c095cf5e15b0",
   "metadata": {},
   "source": [
    "## Загрузка данных"
   ]
  },
  {
   "cell_type": "code",
   "execution_count": 65,
   "id": "b9b486ca-5515-4a28-b731-32c7cb93f332",
   "metadata": {},
   "outputs": [],
   "source": [
    "try:\n",
    "    df = pd.read_csv(\n",
    "        r\"C:\\workspace\\yandex_cources\\full_history\\sprint_6_supervised_learning\\data\\Churn.csv\"\n",
    "    )\n",
    "except:\n",
    "    df = pd.read_csv(\"/datasets/Churn.csv\")"
   ]
  },
  {
   "attachments": {},
   "cell_type": "markdown",
   "id": "8c2ca8ab-595a-4ce7-9e9e-c14d52d40cec",
   "metadata": {},
   "source": [
    "## Обзор данных"
   ]
  },
  {
   "cell_type": "code",
   "execution_count": 66,
   "id": "5efca11e-ac82-4ed5-b99f-beac48dc0de2",
   "metadata": {},
   "outputs": [
    {
     "data": {
      "text/html": [
       "<div>\n",
       "<style scoped>\n",
       "    .dataframe tbody tr th:only-of-type {\n",
       "        vertical-align: middle;\n",
       "    }\n",
       "\n",
       "    .dataframe tbody tr th {\n",
       "        vertical-align: top;\n",
       "    }\n",
       "\n",
       "    .dataframe thead th {\n",
       "        text-align: right;\n",
       "    }\n",
       "</style>\n",
       "<table border=\"1\" class=\"dataframe\">\n",
       "  <thead>\n",
       "    <tr style=\"text-align: right;\">\n",
       "      <th></th>\n",
       "      <th>RowNumber</th>\n",
       "      <th>CustomerId</th>\n",
       "      <th>Surname</th>\n",
       "      <th>CreditScore</th>\n",
       "      <th>Geography</th>\n",
       "      <th>Gender</th>\n",
       "      <th>Age</th>\n",
       "      <th>Tenure</th>\n",
       "      <th>Balance</th>\n",
       "      <th>NumOfProducts</th>\n",
       "      <th>HasCrCard</th>\n",
       "      <th>IsActiveMember</th>\n",
       "      <th>EstimatedSalary</th>\n",
       "      <th>Exited</th>\n",
       "    </tr>\n",
       "  </thead>\n",
       "  <tbody>\n",
       "    <tr>\n",
       "      <th>2696</th>\n",
       "      <td>2697</td>\n",
       "      <td>15792176</td>\n",
       "      <td>Henty</td>\n",
       "      <td>698</td>\n",
       "      <td>Spain</td>\n",
       "      <td>Female</td>\n",
       "      <td>40</td>\n",
       "      <td>0.0</td>\n",
       "      <td>92053.44</td>\n",
       "      <td>1</td>\n",
       "      <td>1</td>\n",
       "      <td>1</td>\n",
       "      <td>143681.83</td>\n",
       "      <td>0</td>\n",
       "    </tr>\n",
       "    <tr>\n",
       "      <th>1187</th>\n",
       "      <td>1188</td>\n",
       "      <td>15719302</td>\n",
       "      <td>Brennan</td>\n",
       "      <td>765</td>\n",
       "      <td>France</td>\n",
       "      <td>Female</td>\n",
       "      <td>50</td>\n",
       "      <td>9.0</td>\n",
       "      <td>126547.80</td>\n",
       "      <td>1</td>\n",
       "      <td>1</td>\n",
       "      <td>1</td>\n",
       "      <td>79579.94</td>\n",
       "      <td>1</td>\n",
       "    </tr>\n",
       "    <tr>\n",
       "      <th>5496</th>\n",
       "      <td>5497</td>\n",
       "      <td>15642515</td>\n",
       "      <td>Arcuri</td>\n",
       "      <td>620</td>\n",
       "      <td>France</td>\n",
       "      <td>Female</td>\n",
       "      <td>42</td>\n",
       "      <td>1.0</td>\n",
       "      <td>0.00</td>\n",
       "      <td>2</td>\n",
       "      <td>0</td>\n",
       "      <td>1</td>\n",
       "      <td>65565.92</td>\n",
       "      <td>0</td>\n",
       "    </tr>\n",
       "    <tr>\n",
       "      <th>282</th>\n",
       "      <td>283</td>\n",
       "      <td>15643024</td>\n",
       "      <td>Huang</td>\n",
       "      <td>479</td>\n",
       "      <td>Germany</td>\n",
       "      <td>Male</td>\n",
       "      <td>35</td>\n",
       "      <td>4.0</td>\n",
       "      <td>138718.92</td>\n",
       "      <td>1</td>\n",
       "      <td>1</td>\n",
       "      <td>1</td>\n",
       "      <td>47251.79</td>\n",
       "      <td>1</td>\n",
       "    </tr>\n",
       "    <tr>\n",
       "      <th>3751</th>\n",
       "      <td>3752</td>\n",
       "      <td>15630106</td>\n",
       "      <td>Lo</td>\n",
       "      <td>496</td>\n",
       "      <td>Spain</td>\n",
       "      <td>Male</td>\n",
       "      <td>29</td>\n",
       "      <td>2.0</td>\n",
       "      <td>0.00</td>\n",
       "      <td>2</td>\n",
       "      <td>1</td>\n",
       "      <td>0</td>\n",
       "      <td>55389.59</td>\n",
       "      <td>0</td>\n",
       "    </tr>\n",
       "    <tr>\n",
       "      <th>7753</th>\n",
       "      <td>7754</td>\n",
       "      <td>15777616</td>\n",
       "      <td>Pisani</td>\n",
       "      <td>605</td>\n",
       "      <td>Germany</td>\n",
       "      <td>Male</td>\n",
       "      <td>28</td>\n",
       "      <td>10.0</td>\n",
       "      <td>113690.83</td>\n",
       "      <td>1</td>\n",
       "      <td>1</td>\n",
       "      <td>0</td>\n",
       "      <td>33114.24</td>\n",
       "      <td>0</td>\n",
       "    </tr>\n",
       "    <tr>\n",
       "      <th>7100</th>\n",
       "      <td>7101</td>\n",
       "      <td>15668830</td>\n",
       "      <td>Wan</td>\n",
       "      <td>650</td>\n",
       "      <td>Spain</td>\n",
       "      <td>Male</td>\n",
       "      <td>24</td>\n",
       "      <td>NaN</td>\n",
       "      <td>108881.73</td>\n",
       "      <td>1</td>\n",
       "      <td>1</td>\n",
       "      <td>0</td>\n",
       "      <td>104492.83</td>\n",
       "      <td>0</td>\n",
       "    </tr>\n",
       "    <tr>\n",
       "      <th>536</th>\n",
       "      <td>537</td>\n",
       "      <td>15592846</td>\n",
       "      <td>Fiorentini</td>\n",
       "      <td>639</td>\n",
       "      <td>Germany</td>\n",
       "      <td>Male</td>\n",
       "      <td>35</td>\n",
       "      <td>10.0</td>\n",
       "      <td>128173.90</td>\n",
       "      <td>2</td>\n",
       "      <td>1</td>\n",
       "      <td>0</td>\n",
       "      <td>59093.39</td>\n",
       "      <td>0</td>\n",
       "    </tr>\n",
       "    <tr>\n",
       "      <th>7702</th>\n",
       "      <td>7703</td>\n",
       "      <td>15719931</td>\n",
       "      <td>Johnstone</td>\n",
       "      <td>850</td>\n",
       "      <td>France</td>\n",
       "      <td>Male</td>\n",
       "      <td>31</td>\n",
       "      <td>8.0</td>\n",
       "      <td>0.00</td>\n",
       "      <td>2</td>\n",
       "      <td>1</td>\n",
       "      <td>0</td>\n",
       "      <td>178667.70</td>\n",
       "      <td>0</td>\n",
       "    </tr>\n",
       "    <tr>\n",
       "      <th>2368</th>\n",
       "      <td>2369</td>\n",
       "      <td>15769312</td>\n",
       "      <td>Forbes</td>\n",
       "      <td>557</td>\n",
       "      <td>Spain</td>\n",
       "      <td>Male</td>\n",
       "      <td>48</td>\n",
       "      <td>10.0</td>\n",
       "      <td>0.00</td>\n",
       "      <td>2</td>\n",
       "      <td>1</td>\n",
       "      <td>1</td>\n",
       "      <td>185094.48</td>\n",
       "      <td>0</td>\n",
       "    </tr>\n",
       "  </tbody>\n",
       "</table>\n",
       "</div>"
      ],
      "text/plain": [
       "      RowNumber  CustomerId     Surname  CreditScore Geography  Gender  Age   \n",
       "2696       2697    15792176       Henty          698     Spain  Female   40  \\\n",
       "1187       1188    15719302     Brennan          765    France  Female   50   \n",
       "5496       5497    15642515      Arcuri          620    France  Female   42   \n",
       "282         283    15643024       Huang          479   Germany    Male   35   \n",
       "3751       3752    15630106          Lo          496     Spain    Male   29   \n",
       "7753       7754    15777616      Pisani          605   Germany    Male   28   \n",
       "7100       7101    15668830         Wan          650     Spain    Male   24   \n",
       "536         537    15592846  Fiorentini          639   Germany    Male   35   \n",
       "7702       7703    15719931   Johnstone          850    France    Male   31   \n",
       "2368       2369    15769312      Forbes          557     Spain    Male   48   \n",
       "\n",
       "      Tenure    Balance  NumOfProducts  HasCrCard  IsActiveMember   \n",
       "2696     0.0   92053.44              1          1               1  \\\n",
       "1187     9.0  126547.80              1          1               1   \n",
       "5496     1.0       0.00              2          0               1   \n",
       "282      4.0  138718.92              1          1               1   \n",
       "3751     2.0       0.00              2          1               0   \n",
       "7753    10.0  113690.83              1          1               0   \n",
       "7100     NaN  108881.73              1          1               0   \n",
       "536     10.0  128173.90              2          1               0   \n",
       "7702     8.0       0.00              2          1               0   \n",
       "2368    10.0       0.00              2          1               1   \n",
       "\n",
       "      EstimatedSalary  Exited  \n",
       "2696        143681.83       0  \n",
       "1187         79579.94       1  \n",
       "5496         65565.92       0  \n",
       "282          47251.79       1  \n",
       "3751         55389.59       0  \n",
       "7753         33114.24       0  \n",
       "7100        104492.83       0  \n",
       "536          59093.39       0  \n",
       "7702        178667.70       0  \n",
       "2368        185094.48       0  "
      ]
     },
     "execution_count": 66,
     "metadata": {},
     "output_type": "execute_result"
    }
   ],
   "source": [
    "df.sample(10)"
   ]
  },
  {
   "attachments": {},
   "cell_type": "markdown",
   "id": "ed714c79-b01a-416d-8d73-357a5e289cf0",
   "metadata": {},
   "source": [
    "**Вывод**   \n",
    "\n",
    "Столбцы `row_number`, `customer_id` и `surname` обращают на себя внимание. Так, `customer_id` и `surname` это категориальные параметры, уникальные для каждой из строк, значит, при обучении моделей они не потребуются. `row_number` вовсе повторяет существующие индексы с увеличением номера на 1. Столбцы `geography` и `gender` потребуют кодирования. "
   ]
  },
  {
   "cell_type": "code",
   "execution_count": 67,
   "id": "794fab8b-83d0-4dae-9297-e486a279d767",
   "metadata": {},
   "outputs": [
    {
     "name": "stdout",
     "output_type": "stream",
     "text": [
      "<class 'pandas.core.frame.DataFrame'>\n",
      "RangeIndex: 10000 entries, 0 to 9999\n",
      "Data columns (total 14 columns):\n",
      " #   Column           Non-Null Count  Dtype  \n",
      "---  ------           --------------  -----  \n",
      " 0   RowNumber        10000 non-null  int64  \n",
      " 1   CustomerId       10000 non-null  int64  \n",
      " 2   Surname          10000 non-null  object \n",
      " 3   CreditScore      10000 non-null  int64  \n",
      " 4   Geography        10000 non-null  object \n",
      " 5   Gender           10000 non-null  object \n",
      " 6   Age              10000 non-null  int64  \n",
      " 7   Tenure           9091 non-null   float64\n",
      " 8   Balance          10000 non-null  float64\n",
      " 9   NumOfProducts    10000 non-null  int64  \n",
      " 10  HasCrCard        10000 non-null  int64  \n",
      " 11  IsActiveMember   10000 non-null  int64  \n",
      " 12  EstimatedSalary  10000 non-null  float64\n",
      " 13  Exited           10000 non-null  int64  \n",
      "dtypes: float64(3), int64(8), object(3)\n",
      "memory usage: 1.1+ MB\n"
     ]
    }
   ],
   "source": [
    "df.info()"
   ]
  },
  {
   "attachments": {},
   "cell_type": "markdown",
   "id": "d7e73e18-6f48-4bee-8348-d690bb0c05a4",
   "metadata": {},
   "source": [
    "**Вывод**   \n",
    "\n",
    "В столбце `tenure` около тысячи пропусков, от которых хорошо было бы избавиться. Типы данных соответствуют содержимому столбцов. "
   ]
  },
  {
   "cell_type": "code",
   "execution_count": 68,
   "id": "67696ab9-c6eb-429e-85bd-fc49259bc380",
   "metadata": {},
   "outputs": [
    {
     "data": {
      "text/html": [
       "<div>\n",
       "<style scoped>\n",
       "    .dataframe tbody tr th:only-of-type {\n",
       "        vertical-align: middle;\n",
       "    }\n",
       "\n",
       "    .dataframe tbody tr th {\n",
       "        vertical-align: top;\n",
       "    }\n",
       "\n",
       "    .dataframe thead th {\n",
       "        text-align: right;\n",
       "    }\n",
       "</style>\n",
       "<table border=\"1\" class=\"dataframe\">\n",
       "  <thead>\n",
       "    <tr style=\"text-align: right;\">\n",
       "      <th></th>\n",
       "      <th>RowNumber</th>\n",
       "      <th>CustomerId</th>\n",
       "      <th>CreditScore</th>\n",
       "      <th>Age</th>\n",
       "      <th>Tenure</th>\n",
       "      <th>Balance</th>\n",
       "      <th>NumOfProducts</th>\n",
       "      <th>HasCrCard</th>\n",
       "      <th>IsActiveMember</th>\n",
       "      <th>EstimatedSalary</th>\n",
       "      <th>Exited</th>\n",
       "    </tr>\n",
       "  </thead>\n",
       "  <tbody>\n",
       "    <tr>\n",
       "      <th>count</th>\n",
       "      <td>10000.00000</td>\n",
       "      <td>1.000000e+04</td>\n",
       "      <td>10000.000000</td>\n",
       "      <td>10000.000000</td>\n",
       "      <td>9091.000000</td>\n",
       "      <td>10000.000000</td>\n",
       "      <td>10000.000000</td>\n",
       "      <td>10000.00000</td>\n",
       "      <td>10000.000000</td>\n",
       "      <td>10000.000000</td>\n",
       "      <td>10000.000000</td>\n",
       "    </tr>\n",
       "    <tr>\n",
       "      <th>mean</th>\n",
       "      <td>5000.50000</td>\n",
       "      <td>1.569094e+07</td>\n",
       "      <td>650.528800</td>\n",
       "      <td>38.921800</td>\n",
       "      <td>4.997690</td>\n",
       "      <td>76485.889288</td>\n",
       "      <td>1.530200</td>\n",
       "      <td>0.70550</td>\n",
       "      <td>0.515100</td>\n",
       "      <td>100090.239881</td>\n",
       "      <td>0.203700</td>\n",
       "    </tr>\n",
       "    <tr>\n",
       "      <th>std</th>\n",
       "      <td>2886.89568</td>\n",
       "      <td>7.193619e+04</td>\n",
       "      <td>96.653299</td>\n",
       "      <td>10.487806</td>\n",
       "      <td>2.894723</td>\n",
       "      <td>62397.405202</td>\n",
       "      <td>0.581654</td>\n",
       "      <td>0.45584</td>\n",
       "      <td>0.499797</td>\n",
       "      <td>57510.492818</td>\n",
       "      <td>0.402769</td>\n",
       "    </tr>\n",
       "    <tr>\n",
       "      <th>min</th>\n",
       "      <td>1.00000</td>\n",
       "      <td>1.556570e+07</td>\n",
       "      <td>350.000000</td>\n",
       "      <td>18.000000</td>\n",
       "      <td>0.000000</td>\n",
       "      <td>0.000000</td>\n",
       "      <td>1.000000</td>\n",
       "      <td>0.00000</td>\n",
       "      <td>0.000000</td>\n",
       "      <td>11.580000</td>\n",
       "      <td>0.000000</td>\n",
       "    </tr>\n",
       "    <tr>\n",
       "      <th>25%</th>\n",
       "      <td>2500.75000</td>\n",
       "      <td>1.562853e+07</td>\n",
       "      <td>584.000000</td>\n",
       "      <td>32.000000</td>\n",
       "      <td>2.000000</td>\n",
       "      <td>0.000000</td>\n",
       "      <td>1.000000</td>\n",
       "      <td>0.00000</td>\n",
       "      <td>0.000000</td>\n",
       "      <td>51002.110000</td>\n",
       "      <td>0.000000</td>\n",
       "    </tr>\n",
       "    <tr>\n",
       "      <th>50%</th>\n",
       "      <td>5000.50000</td>\n",
       "      <td>1.569074e+07</td>\n",
       "      <td>652.000000</td>\n",
       "      <td>37.000000</td>\n",
       "      <td>5.000000</td>\n",
       "      <td>97198.540000</td>\n",
       "      <td>1.000000</td>\n",
       "      <td>1.00000</td>\n",
       "      <td>1.000000</td>\n",
       "      <td>100193.915000</td>\n",
       "      <td>0.000000</td>\n",
       "    </tr>\n",
       "    <tr>\n",
       "      <th>75%</th>\n",
       "      <td>7500.25000</td>\n",
       "      <td>1.575323e+07</td>\n",
       "      <td>718.000000</td>\n",
       "      <td>44.000000</td>\n",
       "      <td>7.000000</td>\n",
       "      <td>127644.240000</td>\n",
       "      <td>2.000000</td>\n",
       "      <td>1.00000</td>\n",
       "      <td>1.000000</td>\n",
       "      <td>149388.247500</td>\n",
       "      <td>0.000000</td>\n",
       "    </tr>\n",
       "    <tr>\n",
       "      <th>max</th>\n",
       "      <td>10000.00000</td>\n",
       "      <td>1.581569e+07</td>\n",
       "      <td>850.000000</td>\n",
       "      <td>92.000000</td>\n",
       "      <td>10.000000</td>\n",
       "      <td>250898.090000</td>\n",
       "      <td>4.000000</td>\n",
       "      <td>1.00000</td>\n",
       "      <td>1.000000</td>\n",
       "      <td>199992.480000</td>\n",
       "      <td>1.000000</td>\n",
       "    </tr>\n",
       "  </tbody>\n",
       "</table>\n",
       "</div>"
      ],
      "text/plain": [
       "         RowNumber    CustomerId   CreditScore           Age       Tenure   \n",
       "count  10000.00000  1.000000e+04  10000.000000  10000.000000  9091.000000  \\\n",
       "mean    5000.50000  1.569094e+07    650.528800     38.921800     4.997690   \n",
       "std     2886.89568  7.193619e+04     96.653299     10.487806     2.894723   \n",
       "min        1.00000  1.556570e+07    350.000000     18.000000     0.000000   \n",
       "25%     2500.75000  1.562853e+07    584.000000     32.000000     2.000000   \n",
       "50%     5000.50000  1.569074e+07    652.000000     37.000000     5.000000   \n",
       "75%     7500.25000  1.575323e+07    718.000000     44.000000     7.000000   \n",
       "max    10000.00000  1.581569e+07    850.000000     92.000000    10.000000   \n",
       "\n",
       "             Balance  NumOfProducts    HasCrCard  IsActiveMember   \n",
       "count   10000.000000   10000.000000  10000.00000    10000.000000  \\\n",
       "mean    76485.889288       1.530200      0.70550        0.515100   \n",
       "std     62397.405202       0.581654      0.45584        0.499797   \n",
       "min         0.000000       1.000000      0.00000        0.000000   \n",
       "25%         0.000000       1.000000      0.00000        0.000000   \n",
       "50%     97198.540000       1.000000      1.00000        1.000000   \n",
       "75%    127644.240000       2.000000      1.00000        1.000000   \n",
       "max    250898.090000       4.000000      1.00000        1.000000   \n",
       "\n",
       "       EstimatedSalary        Exited  \n",
       "count     10000.000000  10000.000000  \n",
       "mean     100090.239881      0.203700  \n",
       "std       57510.492818      0.402769  \n",
       "min          11.580000      0.000000  \n",
       "25%       51002.110000      0.000000  \n",
       "50%      100193.915000      0.000000  \n",
       "75%      149388.247500      0.000000  \n",
       "max      199992.480000      1.000000  "
      ]
     },
     "execution_count": 68,
     "metadata": {},
     "output_type": "execute_result"
    }
   ],
   "source": [
    "df.describe()"
   ]
  },
  {
   "attachments": {},
   "cell_type": "markdown",
   "id": "74f301c4-530b-4805-ae95-c2f7d4f6ed34",
   "metadata": {},
   "source": [
    "**Вывод**   \n",
    "\n",
    "Параметры имеют разные порядки, а значит может потребоваться масштабирования. Также вероятно наличие выбросов. К примеру, в столбце `estimated_salary` минимальным значением является 11.58, что не соответствует адекватным значениям зарплаты. "
   ]
  },
  {
   "cell_type": "code",
   "execution_count": 69,
   "id": "84b706ef-c73f-4100-be59-3d50224fd809",
   "metadata": {},
   "outputs": [
    {
     "data": {
      "text/plain": [
       "0"
      ]
     },
     "execution_count": 69,
     "metadata": {},
     "output_type": "execute_result"
    }
   ],
   "source": [
    "df.duplicated().sum()"
   ]
  },
  {
   "cell_type": "code",
   "execution_count": 70,
   "id": "b5a52193-06a7-43ef-abe8-218f0559ecee",
   "metadata": {},
   "outputs": [
    {
     "data": {
      "text/plain": [
       "0"
      ]
     },
     "execution_count": 70,
     "metadata": {},
     "output_type": "execute_result"
    }
   ],
   "source": [
    "df[\"CustomerId\"].duplicated().sum()"
   ]
  },
  {
   "attachments": {},
   "cell_type": "markdown",
   "id": "9744cfd9-1f5d-4761-984b-363b31c02b53",
   "metadata": {},
   "source": [
    "**Вывод**   \n",
    "\n",
    "Явные дубликаты отсутсвуют. Судя по отсуствию повторов в столбце `customer_id`, неявных дубликатов тоже нет. "
   ]
  },
  {
   "cell_type": "code",
   "execution_count": 71,
   "id": "0f013887-62e1-427c-a79a-1e0be10e575a",
   "metadata": {},
   "outputs": [
    {
     "data": {
      "text/html": [
       "<div>\n",
       "<style scoped>\n",
       "    .dataframe tbody tr th:only-of-type {\n",
       "        vertical-align: middle;\n",
       "    }\n",
       "\n",
       "    .dataframe tbody tr th {\n",
       "        vertical-align: top;\n",
       "    }\n",
       "\n",
       "    .dataframe thead th {\n",
       "        text-align: right;\n",
       "    }\n",
       "</style>\n",
       "<table border=\"1\" class=\"dataframe\">\n",
       "  <thead>\n",
       "    <tr style=\"text-align: right;\">\n",
       "      <th></th>\n",
       "      <th>RowNumber</th>\n",
       "      <th>CustomerId</th>\n",
       "      <th>CreditScore</th>\n",
       "      <th>Age</th>\n",
       "      <th>Tenure</th>\n",
       "      <th>Balance</th>\n",
       "      <th>NumOfProducts</th>\n",
       "      <th>HasCrCard</th>\n",
       "      <th>IsActiveMember</th>\n",
       "      <th>EstimatedSalary</th>\n",
       "      <th>Exited</th>\n",
       "    </tr>\n",
       "  </thead>\n",
       "  <tbody>\n",
       "    <tr>\n",
       "      <th>RowNumber</th>\n",
       "      <td>1.000000</td>\n",
       "      <td>0.004202</td>\n",
       "      <td>0.005840</td>\n",
       "      <td>0.000783</td>\n",
       "      <td>-0.007322</td>\n",
       "      <td>-0.009067</td>\n",
       "      <td>0.007246</td>\n",
       "      <td>0.000599</td>\n",
       "      <td>0.012044</td>\n",
       "      <td>-0.005988</td>\n",
       "      <td>-0.016571</td>\n",
       "    </tr>\n",
       "    <tr>\n",
       "      <th>CustomerId</th>\n",
       "      <td>0.004202</td>\n",
       "      <td>1.000000</td>\n",
       "      <td>0.005308</td>\n",
       "      <td>0.009497</td>\n",
       "      <td>-0.021418</td>\n",
       "      <td>-0.012419</td>\n",
       "      <td>0.016972</td>\n",
       "      <td>-0.014025</td>\n",
       "      <td>0.001665</td>\n",
       "      <td>0.015271</td>\n",
       "      <td>-0.006248</td>\n",
       "    </tr>\n",
       "    <tr>\n",
       "      <th>CreditScore</th>\n",
       "      <td>0.005840</td>\n",
       "      <td>0.005308</td>\n",
       "      <td>1.000000</td>\n",
       "      <td>-0.003965</td>\n",
       "      <td>-0.000062</td>\n",
       "      <td>0.006268</td>\n",
       "      <td>0.012238</td>\n",
       "      <td>-0.005458</td>\n",
       "      <td>0.025651</td>\n",
       "      <td>-0.001384</td>\n",
       "      <td>-0.027094</td>\n",
       "    </tr>\n",
       "    <tr>\n",
       "      <th>Age</th>\n",
       "      <td>0.000783</td>\n",
       "      <td>0.009497</td>\n",
       "      <td>-0.003965</td>\n",
       "      <td>1.000000</td>\n",
       "      <td>-0.013134</td>\n",
       "      <td>0.028308</td>\n",
       "      <td>-0.030680</td>\n",
       "      <td>-0.011721</td>\n",
       "      <td>0.085472</td>\n",
       "      <td>-0.007201</td>\n",
       "      <td>0.285323</td>\n",
       "    </tr>\n",
       "    <tr>\n",
       "      <th>Tenure</th>\n",
       "      <td>-0.007322</td>\n",
       "      <td>-0.021418</td>\n",
       "      <td>-0.000062</td>\n",
       "      <td>-0.013134</td>\n",
       "      <td>1.000000</td>\n",
       "      <td>-0.007911</td>\n",
       "      <td>0.011979</td>\n",
       "      <td>0.027232</td>\n",
       "      <td>-0.032178</td>\n",
       "      <td>0.010520</td>\n",
       "      <td>-0.016761</td>\n",
       "    </tr>\n",
       "    <tr>\n",
       "      <th>Balance</th>\n",
       "      <td>-0.009067</td>\n",
       "      <td>-0.012419</td>\n",
       "      <td>0.006268</td>\n",
       "      <td>0.028308</td>\n",
       "      <td>-0.007911</td>\n",
       "      <td>1.000000</td>\n",
       "      <td>-0.304180</td>\n",
       "      <td>-0.014858</td>\n",
       "      <td>-0.010084</td>\n",
       "      <td>0.012797</td>\n",
       "      <td>0.118533</td>\n",
       "    </tr>\n",
       "    <tr>\n",
       "      <th>NumOfProducts</th>\n",
       "      <td>0.007246</td>\n",
       "      <td>0.016972</td>\n",
       "      <td>0.012238</td>\n",
       "      <td>-0.030680</td>\n",
       "      <td>0.011979</td>\n",
       "      <td>-0.304180</td>\n",
       "      <td>1.000000</td>\n",
       "      <td>0.003183</td>\n",
       "      <td>0.009612</td>\n",
       "      <td>0.014204</td>\n",
       "      <td>-0.047820</td>\n",
       "    </tr>\n",
       "    <tr>\n",
       "      <th>HasCrCard</th>\n",
       "      <td>0.000599</td>\n",
       "      <td>-0.014025</td>\n",
       "      <td>-0.005458</td>\n",
       "      <td>-0.011721</td>\n",
       "      <td>0.027232</td>\n",
       "      <td>-0.014858</td>\n",
       "      <td>0.003183</td>\n",
       "      <td>1.000000</td>\n",
       "      <td>-0.011866</td>\n",
       "      <td>-0.009933</td>\n",
       "      <td>-0.007138</td>\n",
       "    </tr>\n",
       "    <tr>\n",
       "      <th>IsActiveMember</th>\n",
       "      <td>0.012044</td>\n",
       "      <td>0.001665</td>\n",
       "      <td>0.025651</td>\n",
       "      <td>0.085472</td>\n",
       "      <td>-0.032178</td>\n",
       "      <td>-0.010084</td>\n",
       "      <td>0.009612</td>\n",
       "      <td>-0.011866</td>\n",
       "      <td>1.000000</td>\n",
       "      <td>-0.011421</td>\n",
       "      <td>-0.156128</td>\n",
       "    </tr>\n",
       "    <tr>\n",
       "      <th>EstimatedSalary</th>\n",
       "      <td>-0.005988</td>\n",
       "      <td>0.015271</td>\n",
       "      <td>-0.001384</td>\n",
       "      <td>-0.007201</td>\n",
       "      <td>0.010520</td>\n",
       "      <td>0.012797</td>\n",
       "      <td>0.014204</td>\n",
       "      <td>-0.009933</td>\n",
       "      <td>-0.011421</td>\n",
       "      <td>1.000000</td>\n",
       "      <td>0.012097</td>\n",
       "    </tr>\n",
       "    <tr>\n",
       "      <th>Exited</th>\n",
       "      <td>-0.016571</td>\n",
       "      <td>-0.006248</td>\n",
       "      <td>-0.027094</td>\n",
       "      <td>0.285323</td>\n",
       "      <td>-0.016761</td>\n",
       "      <td>0.118533</td>\n",
       "      <td>-0.047820</td>\n",
       "      <td>-0.007138</td>\n",
       "      <td>-0.156128</td>\n",
       "      <td>0.012097</td>\n",
       "      <td>1.000000</td>\n",
       "    </tr>\n",
       "  </tbody>\n",
       "</table>\n",
       "</div>"
      ],
      "text/plain": [
       "                 RowNumber  CustomerId  CreditScore       Age    Tenure   \n",
       "RowNumber         1.000000    0.004202     0.005840  0.000783 -0.007322  \\\n",
       "CustomerId        0.004202    1.000000     0.005308  0.009497 -0.021418   \n",
       "CreditScore       0.005840    0.005308     1.000000 -0.003965 -0.000062   \n",
       "Age               0.000783    0.009497    -0.003965  1.000000 -0.013134   \n",
       "Tenure           -0.007322   -0.021418    -0.000062 -0.013134  1.000000   \n",
       "Balance          -0.009067   -0.012419     0.006268  0.028308 -0.007911   \n",
       "NumOfProducts     0.007246    0.016972     0.012238 -0.030680  0.011979   \n",
       "HasCrCard         0.000599   -0.014025    -0.005458 -0.011721  0.027232   \n",
       "IsActiveMember    0.012044    0.001665     0.025651  0.085472 -0.032178   \n",
       "EstimatedSalary  -0.005988    0.015271    -0.001384 -0.007201  0.010520   \n",
       "Exited           -0.016571   -0.006248    -0.027094  0.285323 -0.016761   \n",
       "\n",
       "                  Balance  NumOfProducts  HasCrCard  IsActiveMember   \n",
       "RowNumber       -0.009067       0.007246   0.000599        0.012044  \\\n",
       "CustomerId      -0.012419       0.016972  -0.014025        0.001665   \n",
       "CreditScore      0.006268       0.012238  -0.005458        0.025651   \n",
       "Age              0.028308      -0.030680  -0.011721        0.085472   \n",
       "Tenure          -0.007911       0.011979   0.027232       -0.032178   \n",
       "Balance          1.000000      -0.304180  -0.014858       -0.010084   \n",
       "NumOfProducts   -0.304180       1.000000   0.003183        0.009612   \n",
       "HasCrCard       -0.014858       0.003183   1.000000       -0.011866   \n",
       "IsActiveMember  -0.010084       0.009612  -0.011866        1.000000   \n",
       "EstimatedSalary  0.012797       0.014204  -0.009933       -0.011421   \n",
       "Exited           0.118533      -0.047820  -0.007138       -0.156128   \n",
       "\n",
       "                 EstimatedSalary    Exited  \n",
       "RowNumber              -0.005988 -0.016571  \n",
       "CustomerId              0.015271 -0.006248  \n",
       "CreditScore            -0.001384 -0.027094  \n",
       "Age                    -0.007201  0.285323  \n",
       "Tenure                  0.010520 -0.016761  \n",
       "Balance                 0.012797  0.118533  \n",
       "NumOfProducts           0.014204 -0.047820  \n",
       "HasCrCard              -0.009933 -0.007138  \n",
       "IsActiveMember         -0.011421 -0.156128  \n",
       "EstimatedSalary         1.000000  0.012097  \n",
       "Exited                  0.012097  1.000000  "
      ]
     },
     "execution_count": 71,
     "metadata": {},
     "output_type": "execute_result"
    }
   ],
   "source": [
    "df.corr(numeric_only=True)"
   ]
  },
  {
   "attachments": {},
   "cell_type": "markdown",
   "id": "9ba9bee7-a66d-47f4-9c19-ceb25fd480d3",
   "metadata": {},
   "source": [
    "**Вывод**   \n",
    "\n",
    "Сильная корреляция между параметрами не наблюдается"
   ]
  },
  {
   "cell_type": "code",
   "execution_count": 72,
   "id": "69c8f326-788a-489d-a21c-9f09fbed6f45",
   "metadata": {},
   "outputs": [],
   "source": [
    "num_ft = [\n",
    "    \"CreditScore\",\n",
    "    \"Age\",\n",
    "    \"Tenure\",\n",
    "    \"Balance\",\n",
    "    \"NumOfProducts\",\n",
    "    \"HasCrCard\",\n",
    "    \"IsActiveMember\",\n",
    "    \"EstimatedSalary\",\n",
    "    \"Exited\",\n",
    "]"
   ]
  },
  {
   "cell_type": "code",
   "execution_count": 73,
   "id": "bf7ca4f9-2c6a-4085-ada4-1b896a867c74",
   "metadata": {},
   "outputs": [
    {
     "data": {
      "text/plain": [
       "array([[<Axes: title={'center': 'CreditScore'}>,\n",
       "        <Axes: title={'center': 'Age'}>,\n",
       "        <Axes: title={'center': 'Tenure'}>],\n",
       "       [<Axes: title={'center': 'Balance'}>,\n",
       "        <Axes: title={'center': 'NumOfProducts'}>,\n",
       "        <Axes: title={'center': 'HasCrCard'}>],\n",
       "       [<Axes: title={'center': 'IsActiveMember'}>,\n",
       "        <Axes: title={'center': 'EstimatedSalary'}>,\n",
       "        <Axes: title={'center': 'Exited'}>]], dtype=object)"
      ]
     },
     "execution_count": 73,
     "metadata": {},
     "output_type": "execute_result"
    },
    {
     "data": {
      "image/png": "[encoded data removed]",
      "text/plain": [
       "<Figure size 1100x750 with 9 Axes>"
      ]
     },
     "metadata": {},
     "output_type": "display_data"
    }
   ],
   "source": [
    "df[num_ft].hist(\n",
    "    bins=50, figsize=(11, 7.5), edgecolor=\"black\", color=\"lightgrey\", grid=False\n",
    ")"
   ]
  },
  {
   "attachments": {},
   "cell_type": "markdown",
   "id": "9469fe92-86f8-446a-bd24-e9dea4df3cb5",
   "metadata": {},
   "source": [
    "Итак, нам предстоит решить задачу бинарной классификации - предугадать, какие клиенты в ближайшее время покинут банк (столбец `exited`). Для этого будет производиться обучение моделей на основе следующих данных: \n",
    "- `credit_score` - Кредитный рейтинг\n",
    "- `geography` - Страна проживания\n",
    "- `gender` - Пол\n",
    "- `age` - Возраст\n",
    "- `tenure` - Сколько лет человек является клиентом\n",
    "- `balance` - Баланс на счете\n",
    "- `num_of_products` - Количество используемых продуктов\n",
    "- `has_cr_card` - Наличие кредитки\n",
    "- `is_active_member` - Активность клиента\n",
    "- `estimated_salary` - Предполагаемая зарплата\n",
    "\n",
    "Столбцы `row_number`, `customer_id`, `surname` будут удалены за ненадобностью. Столбец `tenure` требует дополнительной обработки из-за наличия пропусков в данных. \n",
    "\n",
    "Также стоит обратить внимание на дисбаланс между классами, где ушедших клиентов в представленном датасете примерно в 4 раза меньше, чем оставшихся."
   ]
  },
  {
   "attachments": {},
   "cell_type": "markdown",
   "id": "37bc982c-307f-45f3-ac80-82cdf821a76b",
   "metadata": {},
   "source": [
    "## Предобработка данных"
   ]
  },
  {
   "attachments": {},
   "cell_type": "markdown",
   "id": "0d0e117d-b157-411a-b362-0f37777ae128",
   "metadata": {},
   "source": [
    "### Устранение первичных недостатков"
   ]
  },
  {
   "attachments": {},
   "cell_type": "markdown",
   "id": "203b8040-87d3-440b-a9ba-cbc39a9c66c5",
   "metadata": {},
   "source": [
    "В ходе обзора данных были выделены следующие явные недостатки: \n",
    "- Необходимо привести названия столбцов к змеиному регистру\n",
    "- В столбце `tenure` присутствуют пропуски\n",
    "- Столбцы `row_number`, `customer_id`, `surname` должны быть удалены"
   ]
  },
  {
   "attachments": {},
   "cell_type": "markdown",
   "id": "87055ab1-f6a8-4117-a476-7c064caddac6",
   "metadata": {},
   "source": [
    "#### Названия столбцов"
   ]
  },
  {
   "cell_type": "code",
   "execution_count": 74,
   "id": "129adccc-ba41-4759-b86e-c193c2e6af44",
   "metadata": {},
   "outputs": [],
   "source": [
    "for i, column in enumerate(df.columns):\n",
    "    df.rename(\n",
    "        columns={\n",
    "            df.columns[i]: \"_\".join(re.findall(\"[A-Z][^A-Z]*\", df.columns[i])).lower()\n",
    "        },\n",
    "        inplace=True,\n",
    "    )"
   ]
  },
  {
   "cell_type": "code",
   "execution_count": 75,
   "id": "ebd737bb-765a-4c9f-8282-c68f8914f076",
   "metadata": {},
   "outputs": [
    {
     "data": {
      "text/plain": [
       "Index(['row_number', 'customer_id', 'surname', 'credit_score', 'geography',\n",
       "       'gender', 'age', 'tenure', 'balance', 'num_of_products', 'has_cr_card',\n",
       "       'is_active_member', 'estimated_salary', 'exited'],\n",
       "      dtype='object')"
      ]
     },
     "execution_count": 75,
     "metadata": {},
     "output_type": "execute_result"
    }
   ],
   "source": [
    "df.columns"
   ]
  },
  {
   "attachments": {},
   "cell_type": "markdown",
   "id": "a9cfaae7-3d85-42d7-976e-6fe954ff2521",
   "metadata": {},
   "source": [
    "#### Удаление лишних столбцов"
   ]
  },
  {
   "cell_type": "code",
   "execution_count": 76,
   "id": "6d20c8e6-3dd8-40fe-8b67-d88b0b44d815",
   "metadata": {},
   "outputs": [],
   "source": [
    "df = df.drop(columns=[\"row_number\", \"customer_id\", \"surname\"])"
   ]
  },
  {
   "cell_type": "code",
   "execution_count": 77,
   "id": "b05ee6e2-ec6f-4942-ab69-7f35068e229c",
   "metadata": {},
   "outputs": [
    {
     "data": {
      "text/html": [
       "<div>\n",
       "<style scoped>\n",
       "    .dataframe tbody tr th:only-of-type {\n",
       "        vertical-align: middle;\n",
       "    }\n",
       "\n",
       "    .dataframe tbody tr th {\n",
       "        vertical-align: top;\n",
       "    }\n",
       "\n",
       "    .dataframe thead th {\n",
       "        text-align: right;\n",
       "    }\n",
       "</style>\n",
       "<table border=\"1\" class=\"dataframe\">\n",
       "  <thead>\n",
       "    <tr style=\"text-align: right;\">\n",
       "      <th></th>\n",
       "      <th>credit_score</th>\n",
       "      <th>geography</th>\n",
       "      <th>gender</th>\n",
       "      <th>age</th>\n",
       "      <th>tenure</th>\n",
       "      <th>balance</th>\n",
       "      <th>num_of_products</th>\n",
       "      <th>has_cr_card</th>\n",
       "      <th>is_active_member</th>\n",
       "      <th>estimated_salary</th>\n",
       "      <th>exited</th>\n",
       "    </tr>\n",
       "  </thead>\n",
       "  <tbody>\n",
       "    <tr>\n",
       "      <th>3453</th>\n",
       "      <td>619</td>\n",
       "      <td>Germany</td>\n",
       "      <td>Male</td>\n",
       "      <td>40</td>\n",
       "      <td>NaN</td>\n",
       "      <td>103604.31</td>\n",
       "      <td>2</td>\n",
       "      <td>0</td>\n",
       "      <td>0</td>\n",
       "      <td>140947.05</td>\n",
       "      <td>0</td>\n",
       "    </tr>\n",
       "  </tbody>\n",
       "</table>\n",
       "</div>"
      ],
      "text/plain": [
       "      credit_score geography gender  age  tenure    balance  num_of_products   \n",
       "3453           619   Germany   Male   40     NaN  103604.31                2  \\\n",
       "\n",
       "      has_cr_card  is_active_member  estimated_salary  exited  \n",
       "3453            0                 0         140947.05       0  "
      ]
     },
     "execution_count": 77,
     "metadata": {},
     "output_type": "execute_result"
    }
   ],
   "source": [
    "df.sample()"
   ]
  },
  {
   "attachments": {},
   "cell_type": "markdown",
   "id": "01663856-ccd9-4b6e-a0b9-7ac1355e6791",
   "metadata": {},
   "source": [
    "#### Заполнение пропусков"
   ]
  },
  {
   "cell_type": "code",
   "execution_count": 78,
   "id": "79a4a2d1-0715-40d7-8f2c-704d48e0eaae",
   "metadata": {
    "tags": []
   },
   "outputs": [
    {
     "data": {
      "text/plain": [
       "tenure\n",
       "1.0     952\n",
       "2.0     950\n",
       "8.0     933\n",
       "3.0     928\n",
       "5.0     927\n",
       "7.0     925\n",
       "4.0     885\n",
       "9.0     882\n",
       "6.0     881\n",
       "10.0    446\n",
       "0.0     382\n",
       "Name: count, dtype: int64"
      ]
     },
     "execution_count": 78,
     "metadata": {},
     "output_type": "execute_result"
    }
   ],
   "source": [
    "df[\"tenure\"].value_counts()"
   ]
  },
  {
   "attachments": {},
   "cell_type": "markdown",
   "id": "464854cb-6985-4ace-a879-7ad978670d6f",
   "metadata": {},
   "source": [
    "Заполним пропуски в столбце `tenure` медианным значением (то есть 5)"
   ]
  },
  {
   "cell_type": "code",
   "execution_count": 79,
   "id": "0050c4df-2a04-4fc9-b82a-9b54e930f7a5",
   "metadata": {},
   "outputs": [],
   "source": [
    "# Здесь определим random_state, который будет использоваться во всем проекте\n",
    "chosen_rand_st = 1992"
   ]
  },
  {
   "cell_type": "code",
   "execution_count": 80,
   "id": "e13d5b62-c079-4562-9143-3a1bbe4da2d0",
   "metadata": {},
   "outputs": [],
   "source": [
    "# R = np.random.RandomState(chosen_rand_st)\n",
    "# for country in df['geography'].unique():\n",
    "#    random_tenures = pd.Series(\n",
    "#        R.randint(0, 11, len(df[(df['tenure'].isna()) & (df['geography'] == country)])),\n",
    "#        index=df[(df['geography'] == country) & (df['tenure'].isna())].index\n",
    "#    ).astype('float64')\n",
    "#    df.loc[(df['geography'] == country) & (df['tenure'].isna()), 'tenure'] = random_tenures\n",
    "# df['tenure'].isna().sum()"
   ]
  },
  {
   "cell_type": "code",
   "execution_count": 81,
   "id": "8ba1774d-8d53-41b3-a680-3cfc8b318940",
   "metadata": {},
   "outputs": [],
   "source": [
    "df[\"tenure\"].fillna(df[~df[\"tenure\"].isna()][\"tenure\"].median(), inplace=True)"
   ]
  },
  {
   "cell_type": "code",
   "execution_count": 82,
   "id": "d2cdfea1-3a1c-4181-944d-fc277da5975d",
   "metadata": {},
   "outputs": [
    {
     "data": {
      "text/plain": [
       "tenure\n",
       "5.0     1836\n",
       "1.0      952\n",
       "2.0      950\n",
       "8.0      933\n",
       "3.0      928\n",
       "7.0      925\n",
       "4.0      885\n",
       "9.0      882\n",
       "6.0      881\n",
       "10.0     446\n",
       "0.0      382\n",
       "Name: count, dtype: int64"
      ]
     },
     "execution_count": 82,
     "metadata": {},
     "output_type": "execute_result"
    }
   ],
   "source": [
    "df[\"tenure\"].value_counts()"
   ]
  },
  {
   "attachments": {},
   "cell_type": "markdown",
   "id": "311c1f1a-d34f-403b-8288-4d150992a0d7",
   "metadata": {},
   "source": [
    "### Функция для построения боксплотов"
   ]
  },
  {
   "cell_type": "code",
   "execution_count": 83,
   "id": "d332519c-da7c-4136-93d9-c14308086be5",
   "metadata": {},
   "outputs": [],
   "source": [
    "def boxplot_builder(column):\n",
    "    plt.figure(figsize=(7, 3))\n",
    "    plt.boxplot(\n",
    "        x=df[column],\n",
    "        notch=True,\n",
    "        vert=False,\n",
    "        patch_artist=True,\n",
    "    )\n",
    "    plt.title(f\"{column} boxplot\")\n",
    "    Q1 = df[column].quantile(0.25)\n",
    "    Q3 = df[column].quantile(0.75)\n",
    "    IQR = Q3 - Q1\n",
    "    left_border = Q1 - 1.5 * IQR\n",
    "    right_border = Q3 + 1.5 * IQR\n",
    "    print(f\"Нижняя граница равна {left_border}\")\n",
    "    print(f\"Верхняя граница равна {right_border}\")"
   ]
  },
  {
   "attachments": {},
   "cell_type": "markdown",
   "id": "2c45e968-4893-4506-9ade-b904f27557f2",
   "metadata": {},
   "source": [
    "### Обзор данных при помощи боксплотов"
   ]
  },
  {
   "attachments": {},
   "cell_type": "markdown",
   "id": "a54b7ba3-2d62-4c35-b592-85b96089784a",
   "metadata": {},
   "source": [
    "#### credit_score"
   ]
  },
  {
   "cell_type": "code",
   "execution_count": 84,
   "id": "82091068-61ac-4d23-a246-6837db446d91",
   "metadata": {},
   "outputs": [
    {
     "name": "stdout",
     "output_type": "stream",
     "text": [
      "Нижняя граница равна 383.0\n",
      "Верхняя граница равна 919.0\n"
     ]
    },
    {
     "data": {
      "image/png": "[encoded data removed]",
      "text/plain": [
       "<Figure size 700x300 with 1 Axes>"
      ]
     },
     "metadata": {},
     "output_type": "display_data"
    }
   ],
   "source": [
    "boxplot_builder(\"credit_score\")"
   ]
  },
  {
   "attachments": {},
   "cell_type": "markdown",
   "id": "891ed18f-123a-4383-80a4-188588ee111d",
   "metadata": {},
   "source": [
    "Посмотрим что за данные лежат левее нижней границы."
   ]
  },
  {
   "cell_type": "code",
   "execution_count": 85,
   "id": "5f79a4ef-80d6-437f-bad1-57a63ec2963c",
   "metadata": {},
   "outputs": [
    {
     "data": {
      "text/html": [
       "<div>\n",
       "<style scoped>\n",
       "    .dataframe tbody tr th:only-of-type {\n",
       "        vertical-align: middle;\n",
       "    }\n",
       "\n",
       "    .dataframe tbody tr th {\n",
       "        vertical-align: top;\n",
       "    }\n",
       "\n",
       "    .dataframe thead th {\n",
       "        text-align: right;\n",
       "    }\n",
       "</style>\n",
       "<table border=\"1\" class=\"dataframe\">\n",
       "  <thead>\n",
       "    <tr style=\"text-align: right;\">\n",
       "      <th></th>\n",
       "      <th>credit_score</th>\n",
       "      <th>geography</th>\n",
       "      <th>gender</th>\n",
       "      <th>age</th>\n",
       "      <th>tenure</th>\n",
       "      <th>balance</th>\n",
       "      <th>num_of_products</th>\n",
       "      <th>has_cr_card</th>\n",
       "      <th>is_active_member</th>\n",
       "      <th>estimated_salary</th>\n",
       "      <th>exited</th>\n",
       "    </tr>\n",
       "  </thead>\n",
       "  <tbody>\n",
       "    <tr>\n",
       "      <th>7</th>\n",
       "      <td>376</td>\n",
       "      <td>Germany</td>\n",
       "      <td>Female</td>\n",
       "      <td>29</td>\n",
       "      <td>4.0</td>\n",
       "      <td>115046.74</td>\n",
       "      <td>4</td>\n",
       "      <td>1</td>\n",
       "      <td>0</td>\n",
       "      <td>119346.88</td>\n",
       "      <td>1</td>\n",
       "    </tr>\n",
       "    <tr>\n",
       "      <th>942</th>\n",
       "      <td>376</td>\n",
       "      <td>France</td>\n",
       "      <td>Female</td>\n",
       "      <td>46</td>\n",
       "      <td>5.0</td>\n",
       "      <td>0.00</td>\n",
       "      <td>1</td>\n",
       "      <td>1</td>\n",
       "      <td>0</td>\n",
       "      <td>157333.69</td>\n",
       "      <td>1</td>\n",
       "    </tr>\n",
       "    <tr>\n",
       "      <th>1193</th>\n",
       "      <td>363</td>\n",
       "      <td>Spain</td>\n",
       "      <td>Female</td>\n",
       "      <td>28</td>\n",
       "      <td>6.0</td>\n",
       "      <td>146098.43</td>\n",
       "      <td>3</td>\n",
       "      <td>1</td>\n",
       "      <td>0</td>\n",
       "      <td>100615.14</td>\n",
       "      <td>1</td>\n",
       "    </tr>\n",
       "    <tr>\n",
       "      <th>1405</th>\n",
       "      <td>359</td>\n",
       "      <td>France</td>\n",
       "      <td>Female</td>\n",
       "      <td>44</td>\n",
       "      <td>5.0</td>\n",
       "      <td>128747.69</td>\n",
       "      <td>1</td>\n",
       "      <td>1</td>\n",
       "      <td>0</td>\n",
       "      <td>146955.71</td>\n",
       "      <td>1</td>\n",
       "    </tr>\n",
       "    <tr>\n",
       "      <th>1631</th>\n",
       "      <td>350</td>\n",
       "      <td>Spain</td>\n",
       "      <td>Male</td>\n",
       "      <td>54</td>\n",
       "      <td>1.0</td>\n",
       "      <td>152677.48</td>\n",
       "      <td>1</td>\n",
       "      <td>1</td>\n",
       "      <td>1</td>\n",
       "      <td>191973.49</td>\n",
       "      <td>1</td>\n",
       "    </tr>\n",
       "    <tr>\n",
       "      <th>1838</th>\n",
       "      <td>350</td>\n",
       "      <td>Germany</td>\n",
       "      <td>Male</td>\n",
       "      <td>39</td>\n",
       "      <td>0.0</td>\n",
       "      <td>109733.20</td>\n",
       "      <td>2</td>\n",
       "      <td>0</td>\n",
       "      <td>0</td>\n",
       "      <td>123602.11</td>\n",
       "      <td>1</td>\n",
       "    </tr>\n",
       "    <tr>\n",
       "      <th>1962</th>\n",
       "      <td>358</td>\n",
       "      <td>Spain</td>\n",
       "      <td>Female</td>\n",
       "      <td>52</td>\n",
       "      <td>8.0</td>\n",
       "      <td>143542.36</td>\n",
       "      <td>3</td>\n",
       "      <td>1</td>\n",
       "      <td>0</td>\n",
       "      <td>141959.11</td>\n",
       "      <td>1</td>\n",
       "    </tr>\n",
       "    <tr>\n",
       "      <th>2473</th>\n",
       "      <td>351</td>\n",
       "      <td>Germany</td>\n",
       "      <td>Female</td>\n",
       "      <td>57</td>\n",
       "      <td>4.0</td>\n",
       "      <td>163146.46</td>\n",
       "      <td>1</td>\n",
       "      <td>1</td>\n",
       "      <td>0</td>\n",
       "      <td>169621.69</td>\n",
       "      <td>1</td>\n",
       "    </tr>\n",
       "    <tr>\n",
       "      <th>2579</th>\n",
       "      <td>365</td>\n",
       "      <td>Germany</td>\n",
       "      <td>Male</td>\n",
       "      <td>30</td>\n",
       "      <td>0.0</td>\n",
       "      <td>127760.07</td>\n",
       "      <td>1</td>\n",
       "      <td>1</td>\n",
       "      <td>0</td>\n",
       "      <td>81537.85</td>\n",
       "      <td>1</td>\n",
       "    </tr>\n",
       "    <tr>\n",
       "      <th>8154</th>\n",
       "      <td>367</td>\n",
       "      <td>Spain</td>\n",
       "      <td>Male</td>\n",
       "      <td>42</td>\n",
       "      <td>6.0</td>\n",
       "      <td>93608.28</td>\n",
       "      <td>1</td>\n",
       "      <td>1</td>\n",
       "      <td>0</td>\n",
       "      <td>168816.73</td>\n",
       "      <td>1</td>\n",
       "    </tr>\n",
       "    <tr>\n",
       "      <th>8723</th>\n",
       "      <td>350</td>\n",
       "      <td>France</td>\n",
       "      <td>Male</td>\n",
       "      <td>51</td>\n",
       "      <td>10.0</td>\n",
       "      <td>0.00</td>\n",
       "      <td>1</td>\n",
       "      <td>1</td>\n",
       "      <td>1</td>\n",
       "      <td>125823.79</td>\n",
       "      <td>1</td>\n",
       "    </tr>\n",
       "    <tr>\n",
       "      <th>8762</th>\n",
       "      <td>350</td>\n",
       "      <td>France</td>\n",
       "      <td>Female</td>\n",
       "      <td>60</td>\n",
       "      <td>3.0</td>\n",
       "      <td>0.00</td>\n",
       "      <td>1</td>\n",
       "      <td>0</td>\n",
       "      <td>0</td>\n",
       "      <td>113796.15</td>\n",
       "      <td>1</td>\n",
       "    </tr>\n",
       "    <tr>\n",
       "      <th>9210</th>\n",
       "      <td>382</td>\n",
       "      <td>Spain</td>\n",
       "      <td>Male</td>\n",
       "      <td>36</td>\n",
       "      <td>0.0</td>\n",
       "      <td>0.00</td>\n",
       "      <td>1</td>\n",
       "      <td>1</td>\n",
       "      <td>1</td>\n",
       "      <td>179540.73</td>\n",
       "      <td>1</td>\n",
       "    </tr>\n",
       "    <tr>\n",
       "      <th>9356</th>\n",
       "      <td>373</td>\n",
       "      <td>France</td>\n",
       "      <td>Male</td>\n",
       "      <td>42</td>\n",
       "      <td>7.0</td>\n",
       "      <td>0.00</td>\n",
       "      <td>1</td>\n",
       "      <td>1</td>\n",
       "      <td>0</td>\n",
       "      <td>77786.37</td>\n",
       "      <td>1</td>\n",
       "    </tr>\n",
       "    <tr>\n",
       "      <th>9624</th>\n",
       "      <td>350</td>\n",
       "      <td>France</td>\n",
       "      <td>Female</td>\n",
       "      <td>40</td>\n",
       "      <td>0.0</td>\n",
       "      <td>111098.85</td>\n",
       "      <td>1</td>\n",
       "      <td>1</td>\n",
       "      <td>1</td>\n",
       "      <td>172321.21</td>\n",
       "      <td>1</td>\n",
       "    </tr>\n",
       "  </tbody>\n",
       "</table>\n",
       "</div>"
      ],
      "text/plain": [
       "      credit_score geography  gender  age  tenure    balance  num_of_products   \n",
       "7              376   Germany  Female   29     4.0  115046.74                4  \\\n",
       "942            376    France  Female   46     5.0       0.00                1   \n",
       "1193           363     Spain  Female   28     6.0  146098.43                3   \n",
       "1405           359    France  Female   44     5.0  128747.69                1   \n",
       "1631           350     Spain    Male   54     1.0  152677.48                1   \n",
       "1838           350   Germany    Male   39     0.0  109733.20                2   \n",
       "1962           358     Spain  Female   52     8.0  143542.36                3   \n",
       "2473           351   Germany  Female   57     4.0  163146.46                1   \n",
       "2579           365   Germany    Male   30     0.0  127760.07                1   \n",
       "8154           367     Spain    Male   42     6.0   93608.28                1   \n",
       "8723           350    France    Male   51    10.0       0.00                1   \n",
       "8762           350    France  Female   60     3.0       0.00                1   \n",
       "9210           382     Spain    Male   36     0.0       0.00                1   \n",
       "9356           373    France    Male   42     7.0       0.00                1   \n",
       "9624           350    France  Female   40     0.0  111098.85                1   \n",
       "\n",
       "      has_cr_card  is_active_member  estimated_salary  exited  \n",
       "7               1                 0         119346.88       1  \n",
       "942             1                 0         157333.69       1  \n",
       "1193            1                 0         100615.14       1  \n",
       "1405            1                 0         146955.71       1  \n",
       "1631            1                 1         191973.49       1  \n",
       "1838            0                 0         123602.11       1  \n",
       "1962            1                 0         141959.11       1  \n",
       "2473            1                 0         169621.69       1  \n",
       "2579            1                 0          81537.85       1  \n",
       "8154            1                 0         168816.73       1  \n",
       "8723            1                 1         125823.79       1  \n",
       "8762            0                 0         113796.15       1  \n",
       "9210            1                 1         179540.73       1  \n",
       "9356            1                 0          77786.37       1  \n",
       "9624            1                 1         172321.21       1  "
      ]
     },
     "execution_count": 85,
     "metadata": {},
     "output_type": "execute_result"
    }
   ],
   "source": [
    "df[df[\"credit_score\"] < 383]"
   ]
  },
  {
   "attachments": {},
   "cell_type": "markdown",
   "id": "4c13c9a3-2f4b-467b-b067-3743a3eac794",
   "metadata": {},
   "source": [
    "Всего 15 строк, но крайне ценных, посольку в каждой из них клиент ушел их банка. Оставляем. "
   ]
  },
  {
   "attachments": {},
   "cell_type": "markdown",
   "id": "669724d5-e5cc-4f21-b64c-5662ad6399db",
   "metadata": {},
   "source": [
    "#### age"
   ]
  },
  {
   "cell_type": "code",
   "execution_count": 86,
   "id": "6b53e5e1-bf8a-4999-94de-371fd2a385eb",
   "metadata": {},
   "outputs": [
    {
     "name": "stdout",
     "output_type": "stream",
     "text": [
      "Нижняя граница равна 14.0\n",
      "Верхняя граница равна 62.0\n"
     ]
    },
    {
     "data": {
      "image/png": "[encoded data removed]",
      "text/plain": [
       "<Figure size 700x300 with 1 Axes>"
      ]
     },
     "metadata": {},
     "output_type": "display_data"
    }
   ],
   "source": [
    "boxplot_builder(\"age\")"
   ]
  },
  {
   "attachments": {},
   "cell_type": "markdown",
   "id": "77dd91a9-7324-4743-ab6e-a9f8f5d058a8",
   "metadata": {},
   "source": [
    "Присутствуют выбросы. Посмотрим, сколько строк мы потеряем, если отрежем все возрасты старше 62 лет. "
   ]
  },
  {
   "cell_type": "code",
   "execution_count": 87,
   "id": "7278cd00-fbff-4dad-a77c-bb17e9eabff3",
   "metadata": {},
   "outputs": [
    {
     "name": "stdout",
     "output_type": "stream",
     "text": [
      "Percentage = 3.59 %\n"
     ]
    }
   ],
   "source": [
    "df[df[\"age\"] > 62][\"age\"].count()\n",
    "perc = df[df[\"age\"] > 62][\"age\"].count() * 100 / len(df[\"age\"])\n",
    "print(f\"Percentage = {perc:.2f} %\")"
   ]
  },
  {
   "attachments": {},
   "cell_type": "markdown",
   "id": "7da5e4b2-de6f-4e6d-9f51-b6e7c6958b71",
   "metadata": {},
   "source": [
    "3.59 % - не критичная потеря. Уберем из датасета клиентов старше 62 лет."
   ]
  },
  {
   "cell_type": "code",
   "execution_count": 88,
   "id": "8a68759b-b6f2-44e6-be22-8c52383b9cd8",
   "metadata": {},
   "outputs": [
    {
     "data": {
      "text/plain": [
       "9589"
      ]
     },
     "execution_count": 88,
     "metadata": {},
     "output_type": "execute_result"
    }
   ],
   "source": [
    "df = df[df[\"age\"] < 62]\n",
    "len(df)"
   ]
  },
  {
   "attachments": {},
   "cell_type": "markdown",
   "id": "f3703d99-97b5-43b1-8283-9a2144993391",
   "metadata": {},
   "source": [
    "#### balance"
   ]
  },
  {
   "cell_type": "code",
   "execution_count": 89,
   "id": "ab44d0f9-6f06-4728-adc5-81a5ae47943b",
   "metadata": {},
   "outputs": [
    {
     "name": "stdout",
     "output_type": "stream",
     "text": [
      "Нижняя граница равна -191492.535\n",
      "Верхняя граница равна 319154.225\n"
     ]
    },
    {
     "data": {
      "image/png": "[encoded data removed]",
      "text/plain": [
       "<Figure size 700x300 with 1 Axes>"
      ]
     },
     "metadata": {},
     "output_type": "display_data"
    }
   ],
   "source": [
    "boxplot_builder(\"balance\")"
   ]
  },
  {
   "attachments": {},
   "cell_type": "markdown",
   "id": "8a7b9a0d-7c05-432a-8a8b-73c9794b9a8d",
   "metadata": {},
   "source": [
    "Выбросы отсутствуют."
   ]
  },
  {
   "attachments": {},
   "cell_type": "markdown",
   "id": "e3dca1b2-c951-45ba-819f-8522b969c3e1",
   "metadata": {},
   "source": [
    "#### estimated_salary"
   ]
  },
  {
   "cell_type": "code",
   "execution_count": 90,
   "id": "ae4ac45f-b784-477f-b0b2-b13478c01d1f",
   "metadata": {},
   "outputs": [
    {
     "name": "stdout",
     "output_type": "stream",
     "text": [
      "Нижняя граница равна -96122.29499999998\n",
      "Верхняя граница равна 296807.345\n"
     ]
    },
    {
     "data": {
      "image/png": "[encoded data removed]",
      "text/plain": [
       "<Figure size 700x300 with 1 Axes>"
      ]
     },
     "metadata": {},
     "output_type": "display_data"
    }
   ],
   "source": [
    "boxplot_builder(\"estimated_salary\")"
   ]
  },
  {
   "attachments": {},
   "cell_type": "markdown",
   "id": "3d291952-581f-400a-b032-ff58322d4a3f",
   "metadata": {},
   "source": [
    "Выбросы отсутствуют. "
   ]
  },
  {
   "attachments": {},
   "cell_type": "markdown",
   "id": "c23d9c7c-0199-4a54-ac30-912dca78188f",
   "metadata": {},
   "source": [
    "## Разбиение на выборки "
   ]
  },
  {
   "attachments": {},
   "cell_type": "markdown",
   "id": "5c3ce15b-299f-4f64-9e5c-ac079be21dea",
   "metadata": {},
   "source": [
    "Разделим датафреймы на выборки в соотношении 3:1:1."
   ]
  },
  {
   "cell_type": "code",
   "execution_count": 91,
   "id": "957fb2ee-66d3-451a-b2cf-c776517a32e6",
   "metadata": {},
   "outputs": [],
   "source": [
    "X = df.drop(columns=\"exited\")\n",
    "y = df[\"exited\"]"
   ]
  },
  {
   "cell_type": "code",
   "execution_count": 92,
   "id": "90569aa8-6fe0-44d3-b4c3-cf9e4139ba7c",
   "metadata": {},
   "outputs": [
    {
     "name": "stdout",
     "output_type": "stream",
     "text": [
      "(5753, 10) (1918, 10) (1918, 10)\n",
      "(5753,) (1918,) (1918,)\n"
     ]
    }
   ],
   "source": [
    "X_temp, X_test, y_temp, y_test = train_test_split(\n",
    "    X, y, test_size=0.2, random_state=chosen_rand_st, stratify=y\n",
    ")\n",
    "\n",
    "X_train, X_valid, y_train, y_valid = train_test_split(\n",
    "    X_temp, y_temp, test_size=0.25, random_state=chosen_rand_st, stratify=y_temp\n",
    ")\n",
    "\n",
    "print(X_train.shape, X_valid.shape, X_test.shape)\n",
    "print(y_train.shape, y_valid.shape, y_test.shape)"
   ]
  },
  {
   "cell_type": "code",
   "execution_count": 93,
   "id": "e3757029-f40d-4b0a-9f25-7037c3443cae",
   "metadata": {},
   "outputs": [
    {
     "name": "stdout",
     "output_type": "stream",
     "text": [
      "3.938197424892704\n",
      "3.930591259640103\n",
      "3.930591259640103\n"
     ]
    }
   ],
   "source": [
    "# проверка баланса тренировочной выборки\n",
    "zeros = y_train[y_train == 0].count()\n",
    "ones = y_train[y_train == 1].count()\n",
    "print(zeros / ones)\n",
    "\n",
    "# проверка баланса валидационной выборки\n",
    "zeros_val = y_valid[y_valid == 0].count()\n",
    "ones_val = y_valid[y_valid == 1].count()\n",
    "print(zeros_val / ones_val)\n",
    "\n",
    "# проверка баланса тестовой выборки\n",
    "zeros_test = y_test[y_test == 0].count()\n",
    "ones_test = y_test[y_test == 1].count()\n",
    "print(zeros_test / ones_test)"
   ]
  },
  {
   "attachments": {},
   "cell_type": "markdown",
   "id": "1da21027-bda7-4e6c-bda5-66c1839b7ee1",
   "metadata": {},
   "source": [
    "## Пайплайны"
   ]
  },
  {
   "cell_type": "code",
   "execution_count": 94,
   "id": "7b65fd3e-3e14-463d-b7fe-c80917423d55",
   "metadata": {},
   "outputs": [],
   "source": [
    "cat_cols = [\"geography\", \"gender\", \"num_of_products\", \"has_cr_card\", \"is_active_member\"]\n",
    "num_cols = [\"credit_score\", \"age\", \"tenure\", \"balance\", \"estimated_salary\"]"
   ]
  },
  {
   "cell_type": "code",
   "execution_count": 95,
   "id": "572567fd-cd3b-493d-808e-670de482d232",
   "metadata": {},
   "outputs": [],
   "source": [
    "ohe_pipeline = ColumnTransformer([(\"ohe\", OneHotEncoder(), cat_cols)])\n",
    "oe_pipeline = ColumnTransformer([(\"oe\", OrdinalEncoder(), cat_cols)])"
   ]
  },
  {
   "cell_type": "code",
   "execution_count": 96,
   "id": "d25e95bc-45ab-439e-b816-f3ce0549bc5b",
   "metadata": {},
   "outputs": [],
   "source": [
    "# DTC OHE pipe\n",
    "dtc_unscaled_pipeline = Pipeline(\n",
    "    [(\"ohe\", ohe_pipeline), (\"dtc\", DecisionTreeClassifier())]\n",
    ")\n",
    "\n",
    "# RFC OHE pipe\n",
    "rfc_unscaled_pipeline = Pipeline(\n",
    "    [(\"ohe\", ohe_pipeline), (\"rfc\", RandomForestClassifier())]\n",
    ")\n",
    "\n",
    "# LR OHE pipe\n",
    "lr_unscaled_pipeline = Pipeline([(\"ohe\", ohe_pipeline), (\"lr\", LogisticRegression())])\n",
    "\n",
    "ohe_unscaled_pipe_list = [\n",
    "    dtc_unscaled_pipeline,\n",
    "    rfc_unscaled_pipeline,\n",
    "    lr_unscaled_pipeline,\n",
    "]"
   ]
  },
  {
   "cell_type": "code",
   "execution_count": 97,
   "id": "a0bd4856-fd98-4d67-bb3f-3bf27e2bef40",
   "metadata": {},
   "outputs": [],
   "source": [
    "# DTC OE pipe\n",
    "dtc_unscaled_oe_pipeline = Pipeline(\n",
    "    [(\"oe\", oe_pipeline), (\"dtc\", DecisionTreeClassifier())]\n",
    ")\n",
    "\n",
    "# RFC OE pipe\n",
    "rfc_unscaled_oe_pipeline = Pipeline(\n",
    "    [(\"oe\", oe_pipeline), (\"rfc\", RandomForestClassifier())]\n",
    ")\n",
    "\n",
    "# LR OE pipe\n",
    "lr_unscaled_oe_pipeline = Pipeline([(\"oe\", oe_pipeline), (\"lr\", LogisticRegression())])\n",
    "\n",
    "oe_unscaled_pipe_list = [\n",
    "    dtc_unscaled_oe_pipeline,\n",
    "    rfc_unscaled_oe_pipeline,\n",
    "    lr_unscaled_oe_pipeline,\n",
    "]"
   ]
  },
  {
   "cell_type": "code",
   "execution_count": 98,
   "id": "57b6241d-b35f-4735-bb6d-8039f9aa8f1a",
   "metadata": {},
   "outputs": [],
   "source": [
    "unskaled_pipe_list = [ohe_unscaled_pipe_list, oe_unscaled_pipe_list]"
   ]
  },
  {
   "cell_type": "code",
   "execution_count": 99,
   "id": "bda96c88-a7a1-4896-bd15-a8a0c2e335d3",
   "metadata": {},
   "outputs": [],
   "source": [
    "scale_pipeline = Pipeline([(\"std_scaler\", StandardScaler())])\n",
    "\n",
    "ohe_sclaled_pipeline = ColumnTransformer(\n",
    "    [(\"scale\", scale_pipeline, num_cols), (\"ohe\", OneHotEncoder(), cat_cols)]\n",
    ")\n",
    "\n",
    "oe_scaled_pipeline = ColumnTransformer(\n",
    "    [(\"scale\", scale_pipeline, num_cols), (\"oe\", OrdinalEncoder(), cat_cols)]\n",
    ")"
   ]
  },
  {
   "cell_type": "code",
   "execution_count": 100,
   "id": "9836e81e-d986-4e4c-b6c0-f01a4bdf8147",
   "metadata": {},
   "outputs": [],
   "source": [
    "# DTC OHE pipe scaled\n",
    "dtc_pipeline = Pipeline(\n",
    "    [(\"ohe\", ohe_sclaled_pipeline), (\"dtc\", DecisionTreeClassifier())]\n",
    ")\n",
    "\n",
    "# RFC OHE pipe scaled\n",
    "rfc_pipeline = Pipeline(\n",
    "    [(\"ohe\", ohe_sclaled_pipeline), (\"rfc\", RandomForestClassifier())]\n",
    ")\n",
    "\n",
    "# LR OHE pipe scaled\n",
    "lr_pipeline = Pipeline([(\"ohe\", ohe_sclaled_pipeline), (\"lr\", LogisticRegression())])\n",
    "\n",
    "ohe_pipe_list = [dtc_pipeline, rfc_pipeline, lr_pipeline]"
   ]
  },
  {
   "cell_type": "code",
   "execution_count": 101,
   "id": "71b30798-6875-48b7-a996-0be30ce4e025",
   "metadata": {},
   "outputs": [],
   "source": [
    "# DTC OE pipe scaled\n",
    "dtc_oe_pipeline = Pipeline(\n",
    "    [(\"oe\", oe_scaled_pipeline), (\"dtc\", DecisionTreeClassifier())]\n",
    ")\n",
    "\n",
    "# RFC OE pipe scaled\n",
    "rfc_oe_pipeline = Pipeline(\n",
    "    [(\"oe\", oe_scaled_pipeline), (\"rfc\", RandomForestClassifier())]\n",
    ")\n",
    "\n",
    "# LR OE pipe scaled\n",
    "lr_oe_pipeline = Pipeline([(\"oe\", oe_scaled_pipeline), (\"lr\", LogisticRegression())])\n",
    "\n",
    "oe_pipe_list = [dtc_oe_pipeline, rfc_oe_pipeline, lr_oe_pipeline]"
   ]
  },
  {
   "cell_type": "code",
   "execution_count": 102,
   "id": "a2cfc0ba-2fee-4bf7-bb8b-be06ae4ba7dc",
   "metadata": {},
   "outputs": [],
   "source": [
    "pipe_list = [ohe_pipe_list, oe_pipe_list]"
   ]
  },
  {
   "attachments": {},
   "cell_type": "markdown",
   "id": "d8bdcd8b-dd16-4acd-8310-9d376c3ea6a6",
   "metadata": {
    "tags": []
   },
   "source": [
    "## Функция для обучения моделей"
   ]
  },
  {
   "cell_type": "code",
   "execution_count": 103,
   "id": "6b6707b2-3168-46f5-8585-14c88d7990d0",
   "metadata": {},
   "outputs": [],
   "source": [
    "def model_learn(mod, data_list, score_list, name_list=None, encoder_names=None):\n",
    "    model = mod.fit(data_list[0], data_list[1])\n",
    "    predictions = model.predict(data_list[2])\n",
    "    f1 = f1_score(data_list[3], predictions)\n",
    "\n",
    "    probabilities = model.predict_proba(data_list[2])\n",
    "    probabilities_one = probabilities[:, 1]\n",
    "\n",
    "    auc_roc = roc_auc_score(data_list[3], probabilities_one)\n",
    "\n",
    "    accuracy = accuracy_score(data_list[3], predictions)\n",
    "    print(\"-\" * 79)\n",
    "    if name_list is not None:\n",
    "        print(f\"Результат лучшей модели {name_list}:\\n\")\n",
    "        print(\n",
    "            f\"\\nF1 = {f1:.3f} | AUC-ROC = {auc_roc:.3f} | Accuracy = {accuracy:.3f}\\n\"\n",
    "        )\n",
    "    if encoder_names is not None:\n",
    "        print(f\"Encoder: {encoder_names}\\n\")\n",
    "    print(f\"Гипер-параметры: {model.best_params_}\")\n",
    "\n",
    "    score_list.append([f1, auc_roc, accuracy])\n",
    "\n",
    "    print(\"-\" * 79)\n",
    "    print()"
   ]
  },
  {
   "cell_type": "code",
   "execution_count": 104,
   "id": "c87d8e62-3f6d-4b03-8e19-edb3f70a0d69",
   "metadata": {},
   "outputs": [],
   "source": [
    "model_names = [\"DecisionTreeClassifier\", \"RandomForestClassifier\", \"LogisticRegression\"]\n",
    "encoder_names = [\"OHE\", \"OE\"]"
   ]
  },
  {
   "attachments": {},
   "cell_type": "markdown",
   "id": "1f811e5a-4c68-4979-bd27-14a00ae36fdb",
   "metadata": {},
   "source": [
    "## Работа с моделями"
   ]
  },
  {
   "attachments": {},
   "cell_type": "markdown",
   "id": "53e78471-df31-4af4-870a-ae08305e7a0b",
   "metadata": {},
   "source": [
    "В переменную class_weight записывается желаемый тип взвешивания классов: `None`, если вес каждого класса должен быть равен 1, `'balanced'`, если вес каждого класса должен иметь оптимальный вес.  "
   ]
  },
  {
   "cell_type": "code",
   "execution_count": 105,
   "id": "8cb1942d-a706-4f7b-9579-5ea58921d1d0",
   "metadata": {},
   "outputs": [],
   "source": [
    "data_list = [X_train, y_train, X_valid, y_valid]"
   ]
  },
  {
   "attachments": {},
   "cell_type": "markdown",
   "id": "3a7bc7a2-3232-490c-b4b9-58b072659965",
   "metadata": {},
   "source": [
    "### Масштабирование параметров"
   ]
  },
  {
   "cell_type": "code",
   "execution_count": 106,
   "id": "3e85669f-0602-4c47-b64a-278315524522",
   "metadata": {},
   "outputs": [],
   "source": [
    "class_weight = None"
   ]
  },
  {
   "cell_type": "code",
   "execution_count": 107,
   "id": "057287a5-cece-453b-ae0e-8828385684b9",
   "metadata": {},
   "outputs": [],
   "source": [
    "dtc_param_grid = [\n",
    "    {\n",
    "        \"dtc__max_depth\": np.arange(4, 20, 4),\n",
    "        \"dtc__min_samples_split\": np.arange(2, 10, 2),\n",
    "        \"dtc__min_samples_leaf\": np.arange(1, 10, 1),\n",
    "        \"dtc__class_weight\": [class_weight],\n",
    "        \"dtc__max_features\": [1, \"sqrt\", \"log2\", None],\n",
    "        \"dtc__splitter\": [\"best\", \"random\"],\n",
    "        \"dtc__random_state\": [chosen_rand_st],\n",
    "    }\n",
    "]\n",
    "\n",
    "rfc_param_grid = [\n",
    "    {\n",
    "        \"rfc__n_estimators\": np.arange(40, 201, 40),\n",
    "        \"rfc__max_depth\": np.arange(4, 21, 4),\n",
    "        \"rfc__class_weight\": [class_weight],\n",
    "        \"rfc__max_features\": [1, \"sqrt\", \"log2\", None],\n",
    "        \"rfc__random_state\": [chosen_rand_st],\n",
    "    }\n",
    "]\n",
    "\n",
    "lr_param_grid = [\n",
    "    {\n",
    "        \"lr__solver\": [\"liblinear\"],\n",
    "        \"lr__max_iter\": [100, 250, 500, 1000, 2000],\n",
    "        \"lr__tol\": [1e-4, 1e-5, 1e-6, 1e-7, 1e-8],\n",
    "        \"lr__class_weight\": [class_weight],\n",
    "        \"lr__C\": [0.01, 0.1, 1.0, 10, 100],\n",
    "        \"lr__random_state\": [chosen_rand_st],\n",
    "    }\n",
    "]\n",
    "\n",
    "param_grid_list = [dtc_param_grid, rfc_param_grid, lr_param_grid]"
   ]
  },
  {
   "attachments": {},
   "cell_type": "markdown",
   "id": "eb4ab1f1-8b40-4e22-87f8-2b6430d9ea6a",
   "metadata": {},
   "source": [
    "#### Без масштабирования"
   ]
  },
  {
   "cell_type": "code",
   "execution_count": 108,
   "id": "3260bc6b-100a-4525-8ef2-6e6b1e99cd2a",
   "metadata": {},
   "outputs": [
    {
     "name": "stdout",
     "output_type": "stream",
     "text": [
      "Fitting 5 folds for each of 1152 candidates, totalling 5760 fits\n",
      "-------------------------------------------------------------------------------\n",
      "Результат лучшей модели DecisionTreeClassifier:\n",
      "\n",
      "\n",
      "F1 = 0.433 | AUC-ROC = 0.780 | Accuracy = 0.821\n",
      "\n",
      "Encoder: OHE\n",
      "\n",
      "Гипер-параметры: {'dtc__class_weight': None, 'dtc__max_depth': 4, 'dtc__max_features': None, 'dtc__min_samples_leaf': 1, 'dtc__min_samples_split': 2, 'dtc__random_state': 1992, 'dtc__splitter': 'best'}\n",
      "-------------------------------------------------------------------------------\n",
      "\n",
      "Fitting 5 folds for each of 100 candidates, totalling 500 fits\n",
      "-------------------------------------------------------------------------------\n",
      "Результат лучшей модели RandomForestClassifier:\n",
      "\n",
      "\n",
      "F1 = 0.433 | AUC-ROC = 0.777 | Accuracy = 0.821\n",
      "\n",
      "Encoder: OHE\n",
      "\n",
      "Гипер-параметры: {'rfc__class_weight': None, 'rfc__max_depth': 4, 'rfc__max_features': None, 'rfc__n_estimators': 40, 'rfc__random_state': 1992}\n",
      "-------------------------------------------------------------------------------\n",
      "\n",
      "Fitting 5 folds for each of 125 candidates, totalling 625 fits\n",
      "-------------------------------------------------------------------------------\n",
      "Результат лучшей модели LogisticRegression:\n",
      "\n",
      "\n",
      "F1 = 0.371 | AUC-ROC = 0.783 | Accuracy = 0.823\n",
      "\n",
      "Encoder: OHE\n",
      "\n",
      "Гипер-параметры: {'lr__C': 1.0, 'lr__class_weight': None, 'lr__max_iter': 100, 'lr__random_state': 1992, 'lr__solver': 'liblinear', 'lr__tol': 0.0001}\n",
      "-------------------------------------------------------------------------------\n",
      "\n",
      "Fitting 5 folds for each of 1152 candidates, totalling 5760 fits\n",
      "-------------------------------------------------------------------------------\n",
      "Результат лучшей модели DecisionTreeClassifier:\n",
      "\n",
      "\n",
      "F1 = 0.433 | AUC-ROC = 0.781 | Accuracy = 0.821\n",
      "\n",
      "Encoder: OE\n",
      "\n",
      "Гипер-параметры: {'dtc__class_weight': None, 'dtc__max_depth': 8, 'dtc__max_features': 'sqrt', 'dtc__min_samples_leaf': 4, 'dtc__min_samples_split': 2, 'dtc__random_state': 1992, 'dtc__splitter': 'random'}\n",
      "-------------------------------------------------------------------------------\n",
      "\n",
      "Fitting 5 folds for each of 100 candidates, totalling 500 fits\n",
      "-------------------------------------------------------------------------------\n",
      "Результат лучшей модели RandomForestClassifier:\n",
      "\n",
      "\n",
      "F1 = 0.433 | AUC-ROC = 0.780 | Accuracy = 0.821\n",
      "\n",
      "Encoder: OE\n",
      "\n",
      "Гипер-параметры: {'rfc__class_weight': None, 'rfc__max_depth': 8, 'rfc__max_features': 'sqrt', 'rfc__n_estimators': 80, 'rfc__random_state': 1992}\n",
      "-------------------------------------------------------------------------------\n",
      "\n",
      "Fitting 5 folds for each of 125 candidates, totalling 625 fits\n",
      "-------------------------------------------------------------------------------\n",
      "Результат лучшей модели LogisticRegression:\n",
      "\n",
      "\n",
      "F1 = 0.000 | AUC-ROC = 0.617 | Accuracy = 0.797\n",
      "\n",
      "Encoder: OE\n",
      "\n",
      "Гипер-параметры: {'lr__C': 0.01, 'lr__class_weight': None, 'lr__max_iter': 100, 'lr__random_state': 1992, 'lr__solver': 'liblinear', 'lr__tol': 0.0001}\n",
      "-------------------------------------------------------------------------------\n",
      "\n",
      "CPU times: total: 4.72 s\n",
      "Wall time: 3min 49s\n"
     ]
    }
   ],
   "source": [
    "%%time\n",
    "unscaled_score = []\n",
    "for e, pipe in enumerate(unskaled_pipe_list):\n",
    "    for i in range(0, 3):\n",
    "        grid_pipeline = GridSearchCV(\n",
    "            pipe[i], \n",
    "            param_grid_list[i], \n",
    "            cv=5, \n",
    "            scoring='f1', \n",
    "            return_train_score=True,\n",
    "            verbose=1,\n",
    "            n_jobs=4\n",
    "        )\n",
    "        model_learn(\n",
    "            grid_pipeline, data_list, \n",
    "            unscaled_score, model_names[i], encoder_names[e]\n",
    "        )"
   ]
  },
  {
   "attachments": {},
   "cell_type": "markdown",
   "id": "6f74df60-0cde-4a9c-ad33-9defc7590ea8",
   "metadata": {},
   "source": [
    "#### С масштабированием"
   ]
  },
  {
   "cell_type": "code",
   "execution_count": 109,
   "id": "861feba7-a3b9-466d-90c1-8cd89700dcf6",
   "metadata": {},
   "outputs": [
    {
     "name": "stdout",
     "output_type": "stream",
     "text": [
      "Fitting 5 folds for each of 1152 candidates, totalling 5760 fits\n",
      "-------------------------------------------------------------------------------\n",
      "Результат лучшей модели DecisionTreeClassifier:\n",
      "\n",
      "\n",
      "F1 = 0.549 | AUC-ROC = 0.812 | Accuracy = 0.847\n",
      "\n",
      "Encoder: OHE\n",
      "\n",
      "Гипер-параметры: {'dtc__class_weight': None, 'dtc__max_depth': 16, 'dtc__max_features': None, 'dtc__min_samples_leaf': 7, 'dtc__min_samples_split': 2, 'dtc__random_state': 1992, 'dtc__splitter': 'random'}\n",
      "-------------------------------------------------------------------------------\n",
      "\n",
      "Fitting 5 folds for each of 100 candidates, totalling 500 fits\n",
      "-------------------------------------------------------------------------------\n",
      "Результат лучшей модели RandomForestClassifier:\n",
      "\n",
      "\n",
      "F1 = 0.576 | AUC-ROC = 0.851 | Accuracy = 0.857\n",
      "\n",
      "Encoder: OHE\n",
      "\n",
      "Гипер-параметры: {'rfc__class_weight': None, 'rfc__max_depth': 16, 'rfc__max_features': 'sqrt', 'rfc__n_estimators': 40, 'rfc__random_state': 1992}\n",
      "-------------------------------------------------------------------------------\n",
      "\n",
      "Fitting 5 folds for each of 125 candidates, totalling 625 fits\n",
      "-------------------------------------------------------------------------------\n",
      "Результат лучшей модели LogisticRegression:\n",
      "\n",
      "\n",
      "F1 = 0.587 | AUC-ROC = 0.855 | Accuracy = 0.862\n",
      "\n",
      "Encoder: OHE\n",
      "\n",
      "Гипер-параметры: {'lr__C': 10, 'lr__class_weight': None, 'lr__max_iter': 100, 'lr__random_state': 1992, 'lr__solver': 'liblinear', 'lr__tol': 0.0001}\n",
      "-------------------------------------------------------------------------------\n",
      "\n",
      "Fitting 5 folds for each of 1152 candidates, totalling 5760 fits\n",
      "-------------------------------------------------------------------------------\n",
      "Результат лучшей модели DecisionTreeClassifier:\n",
      "\n",
      "\n",
      "F1 = 0.570 | AUC-ROC = 0.792 | Accuracy = 0.853\n",
      "\n",
      "Encoder: OE\n",
      "\n",
      "Гипер-параметры: {'dtc__class_weight': None, 'dtc__max_depth': 12, 'dtc__max_features': None, 'dtc__min_samples_leaf': 6, 'dtc__min_samples_split': 2, 'dtc__random_state': 1992, 'dtc__splitter': 'random'}\n",
      "-------------------------------------------------------------------------------\n",
      "\n",
      "Fitting 5 folds for each of 100 candidates, totalling 500 fits\n",
      "-------------------------------------------------------------------------------\n",
      "Результат лучшей модели RandomForestClassifier:\n",
      "\n",
      "\n",
      "F1 = 0.565 | AUC-ROC = 0.857 | Accuracy = 0.858\n",
      "\n",
      "Encoder: OE\n",
      "\n",
      "Гипер-параметры: {'rfc__class_weight': None, 'rfc__max_depth': 16, 'rfc__max_features': 'sqrt', 'rfc__n_estimators': 80, 'rfc__random_state': 1992}\n",
      "-------------------------------------------------------------------------------\n",
      "\n",
      "Fitting 5 folds for each of 125 candidates, totalling 625 fits\n",
      "-------------------------------------------------------------------------------\n",
      "Результат лучшей модели LogisticRegression:\n",
      "\n",
      "\n",
      "F1 = 0.419 | AUC-ROC = 0.781 | Accuracy = 0.830\n",
      "\n",
      "Encoder: OE\n",
      "\n",
      "Гипер-параметры: {'lr__C': 1.0, 'lr__class_weight': None, 'lr__max_iter': 100, 'lr__random_state': 1992, 'lr__solver': 'liblinear', 'lr__tol': 0.0001}\n",
      "-------------------------------------------------------------------------------\n",
      "\n",
      "CPU times: total: 6.19 s\n",
      "Wall time: 8min 4s\n"
     ]
    }
   ],
   "source": [
    "%%time\n",
    "unweighed_score = []\n",
    "for e, pipe in enumerate(pipe_list):\n",
    "    for i in range(0, 3):\n",
    "        grid_pipeline = GridSearchCV(\n",
    "            pipe[i], \n",
    "            param_grid_list[i], \n",
    "            cv=5, \n",
    "            scoring='f1', \n",
    "            return_train_score=True,\n",
    "            verbose=1,\n",
    "            n_jobs=4\n",
    "        )\n",
    "\n",
    "        model_learn(\n",
    "            grid_pipeline, data_list, \n",
    "            unweighed_score, model_names[i], encoder_names[e]\n",
    "        )"
   ]
  },
  {
   "attachments": {},
   "cell_type": "markdown",
   "id": "bdc3594d-c4bc-4e99-b0ad-705c651bd037",
   "metadata": {},
   "source": [
    "#### Результат масштабирования"
   ]
  },
  {
   "cell_type": "code",
   "execution_count": 110,
   "id": "73258cf1-2474-4675-adef-7b3d5930d06e",
   "metadata": {},
   "outputs": [],
   "source": [
    "unscaled_score_df = pd.DataFrame(\n",
    "    unscaled_score,\n",
    "    columns=[\"f1_unscaled\", \"auc_roc_unscaled\", \"accuracy_unscaled\"],\n",
    "    index=[\"dtc_ohe\", \"rfc_ohe\", \"lr_ohe\", \"dtc_oe\", \"rfc_oe\", \"lr_oe\"],\n",
    ").transpose()\n",
    "unweighed_score_df = pd.DataFrame(\n",
    "    unweighed_score,\n",
    "    columns=[\"f1_unweighed\", \"auc_roc_unweighed\", \"accuracy_unweighed\"],\n",
    "    index=[\"dtc_ohe\", \"rfc_ohe\", \"lr_ohe\", \"dtc_oe\", \"rfc_oe\", \"lr_oe\"],\n",
    ").transpose()\n",
    "\n",
    "total_scaling_score = pd.concat([unscaled_score_df, unweighed_score_df], axis=0)"
   ]
  },
  {
   "cell_type": "code",
   "execution_count": 111,
   "id": "38620b30-086f-433f-ac84-e7c2bce87a03",
   "metadata": {},
   "outputs": [
    {
     "data": {
      "text/html": [
       "<style type=\"text/css\">\n",
       "#T_5a25f_row0_col0, #T_5a25f_row0_col1, #T_5a25f_row0_col2, #T_5a25f_row0_col3, #T_5a25f_row0_col4, #T_5a25f_row0_col5 {\n",
       "  background-color: mistyrose;\n",
       "}\n",
       "#T_5a25f_row1_col0, #T_5a25f_row1_col1, #T_5a25f_row1_col2, #T_5a25f_row1_col3, #T_5a25f_row1_col4, #T_5a25f_row1_col5 {\n",
       "  background-color: lightgreen;\n",
       "}\n",
       "</style>\n",
       "<table id=\"T_5a25f\">\n",
       "  <thead>\n",
       "    <tr>\n",
       "      <th class=\"blank level0\" >&nbsp;</th>\n",
       "      <th id=\"T_5a25f_level0_col0\" class=\"col_heading level0 col0\" >dtc_ohe</th>\n",
       "      <th id=\"T_5a25f_level0_col1\" class=\"col_heading level0 col1\" >rfc_ohe</th>\n",
       "      <th id=\"T_5a25f_level0_col2\" class=\"col_heading level0 col2\" >lr_ohe</th>\n",
       "      <th id=\"T_5a25f_level0_col3\" class=\"col_heading level0 col3\" >dtc_oe</th>\n",
       "      <th id=\"T_5a25f_level0_col4\" class=\"col_heading level0 col4\" >rfc_oe</th>\n",
       "      <th id=\"T_5a25f_level0_col5\" class=\"col_heading level0 col5\" >lr_oe</th>\n",
       "    </tr>\n",
       "  </thead>\n",
       "  <tbody>\n",
       "    <tr>\n",
       "      <th id=\"T_5a25f_level0_row0\" class=\"row_heading level0 row0\" >f1_unscaled</th>\n",
       "      <td id=\"T_5a25f_row0_col0\" class=\"data row0 col0\" >0.433058</td>\n",
       "      <td id=\"T_5a25f_row0_col1\" class=\"data row0 col1\" >0.433058</td>\n",
       "      <td id=\"T_5a25f_row0_col2\" class=\"data row0 col2\" >0.371058</td>\n",
       "      <td id=\"T_5a25f_row0_col3\" class=\"data row0 col3\" >0.433058</td>\n",
       "      <td id=\"T_5a25f_row0_col4\" class=\"data row0 col4\" >0.433058</td>\n",
       "      <td id=\"T_5a25f_row0_col5\" class=\"data row0 col5\" >0.000000</td>\n",
       "    </tr>\n",
       "    <tr>\n",
       "      <th id=\"T_5a25f_level0_row1\" class=\"row_heading level0 row1\" >f1_unweighed</th>\n",
       "      <td id=\"T_5a25f_row1_col0\" class=\"data row1 col0\" >0.549080</td>\n",
       "      <td id=\"T_5a25f_row1_col1\" class=\"data row1 col1\" >0.576271</td>\n",
       "      <td id=\"T_5a25f_row1_col2\" class=\"data row1 col2\" >0.587500</td>\n",
       "      <td id=\"T_5a25f_row1_col3\" class=\"data row1 col3\" >0.569678</td>\n",
       "      <td id=\"T_5a25f_row1_col4\" class=\"data row1 col4\" >0.564593</td>\n",
       "      <td id=\"T_5a25f_row1_col5\" class=\"data row1 col5\" >0.419183</td>\n",
       "    </tr>\n",
       "  </tbody>\n",
       "</table>\n"
      ],
      "text/plain": [
       "<pandas.io.formats.style.Styler at 0x22692a34580>"
      ]
     },
     "execution_count": 111,
     "metadata": {},
     "output_type": "execute_result"
    }
   ],
   "source": [
    "total_scaling_score.loc[[\"f1_unscaled\", \"f1_unweighed\"], :].style.highlight_max(\n",
    "    color=\"lightgreen\", axis=0\n",
    ").highlight_min(color=\"mistyrose\", axis=0)"
   ]
  },
  {
   "cell_type": "code",
   "execution_count": 112,
   "id": "0f774532-f678-4b9e-b008-58f3a921f1cd",
   "metadata": {},
   "outputs": [
    {
     "data": {
      "text/html": [
       "<style type=\"text/css\">\n",
       "#T_54a2c_row0_col0, #T_54a2c_row0_col1, #T_54a2c_row0_col2, #T_54a2c_row0_col3, #T_54a2c_row0_col4, #T_54a2c_row0_col5 {\n",
       "  background-color: mistyrose;\n",
       "}\n",
       "#T_54a2c_row1_col0, #T_54a2c_row1_col1, #T_54a2c_row1_col2, #T_54a2c_row1_col3, #T_54a2c_row1_col4, #T_54a2c_row1_col5 {\n",
       "  background-color: lightgreen;\n",
       "}\n",
       "</style>\n",
       "<table id=\"T_54a2c\">\n",
       "  <thead>\n",
       "    <tr>\n",
       "      <th class=\"blank level0\" >&nbsp;</th>\n",
       "      <th id=\"T_54a2c_level0_col0\" class=\"col_heading level0 col0\" >dtc_ohe</th>\n",
       "      <th id=\"T_54a2c_level0_col1\" class=\"col_heading level0 col1\" >rfc_ohe</th>\n",
       "      <th id=\"T_54a2c_level0_col2\" class=\"col_heading level0 col2\" >lr_ohe</th>\n",
       "      <th id=\"T_54a2c_level0_col3\" class=\"col_heading level0 col3\" >dtc_oe</th>\n",
       "      <th id=\"T_54a2c_level0_col4\" class=\"col_heading level0 col4\" >rfc_oe</th>\n",
       "      <th id=\"T_54a2c_level0_col5\" class=\"col_heading level0 col5\" >lr_oe</th>\n",
       "    </tr>\n",
       "  </thead>\n",
       "  <tbody>\n",
       "    <tr>\n",
       "      <th id=\"T_54a2c_level0_row0\" class=\"row_heading level0 row0\" >auc_roc_unscaled</th>\n",
       "      <td id=\"T_54a2c_row0_col0\" class=\"data row0 col0\" >0.779625</td>\n",
       "      <td id=\"T_54a2c_row0_col1\" class=\"data row0 col1\" >0.777442</td>\n",
       "      <td id=\"T_54a2c_row0_col2\" class=\"data row0 col2\" >0.783167</td>\n",
       "      <td id=\"T_54a2c_row0_col3\" class=\"data row0 col3\" >0.781366</td>\n",
       "      <td id=\"T_54a2c_row0_col4\" class=\"data row0 col4\" >0.780460</td>\n",
       "      <td id=\"T_54a2c_row0_col5\" class=\"data row0 col5\" >0.616716</td>\n",
       "    </tr>\n",
       "    <tr>\n",
       "      <th id=\"T_54a2c_level0_row1\" class=\"row_heading level0 row1\" >auc_roc_unweighed</th>\n",
       "      <td id=\"T_54a2c_row1_col0\" class=\"data row1 col0\" >0.811775</td>\n",
       "      <td id=\"T_54a2c_row1_col1\" class=\"data row1 col1\" >0.850643</td>\n",
       "      <td id=\"T_54a2c_row1_col2\" class=\"data row1 col2\" >0.854889</td>\n",
       "      <td id=\"T_54a2c_row1_col3\" class=\"data row1 col3\" >0.791811</td>\n",
       "      <td id=\"T_54a2c_row1_col4\" class=\"data row1 col4\" >0.856540</td>\n",
       "      <td id=\"T_54a2c_row1_col5\" class=\"data row1 col5\" >0.780889</td>\n",
       "    </tr>\n",
       "  </tbody>\n",
       "</table>\n"
      ],
      "text/plain": [
       "<pandas.io.formats.style.Styler at 0x22692702850>"
      ]
     },
     "execution_count": 112,
     "metadata": {},
     "output_type": "execute_result"
    }
   ],
   "source": [
    "total_scaling_score.loc[\n",
    "    [\"auc_roc_unscaled\", \"auc_roc_unweighed\"], :\n",
    "].style.highlight_max(color=\"lightgreen\", axis=0).highlight_min(\n",
    "    color=\"mistyrose\", axis=0\n",
    ")"
   ]
  },
  {
   "cell_type": "code",
   "execution_count": 113,
   "id": "ccc6c0af-11de-405d-8f32-05c9e85495a2",
   "metadata": {},
   "outputs": [
    {
     "data": {
      "text/html": [
       "<style type=\"text/css\">\n",
       "#T_6cef1_row0_col0, #T_6cef1_row0_col1, #T_6cef1_row0_col2, #T_6cef1_row0_col3, #T_6cef1_row0_col4, #T_6cef1_row0_col5 {\n",
       "  background-color: mistyrose;\n",
       "}\n",
       "#T_6cef1_row1_col0, #T_6cef1_row1_col1, #T_6cef1_row1_col2, #T_6cef1_row1_col3, #T_6cef1_row1_col4, #T_6cef1_row1_col5 {\n",
       "  background-color: lightgreen;\n",
       "}\n",
       "</style>\n",
       "<table id=\"T_6cef1\">\n",
       "  <thead>\n",
       "    <tr>\n",
       "      <th class=\"blank level0\" >&nbsp;</th>\n",
       "      <th id=\"T_6cef1_level0_col0\" class=\"col_heading level0 col0\" >dtc_ohe</th>\n",
       "      <th id=\"T_6cef1_level0_col1\" class=\"col_heading level0 col1\" >rfc_ohe</th>\n",
       "      <th id=\"T_6cef1_level0_col2\" class=\"col_heading level0 col2\" >lr_ohe</th>\n",
       "      <th id=\"T_6cef1_level0_col3\" class=\"col_heading level0 col3\" >dtc_oe</th>\n",
       "      <th id=\"T_6cef1_level0_col4\" class=\"col_heading level0 col4\" >rfc_oe</th>\n",
       "      <th id=\"T_6cef1_level0_col5\" class=\"col_heading level0 col5\" >lr_oe</th>\n",
       "    </tr>\n",
       "  </thead>\n",
       "  <tbody>\n",
       "    <tr>\n",
       "      <th id=\"T_6cef1_level0_row0\" class=\"row_heading level0 row0\" >accuracy_unscaled</th>\n",
       "      <td id=\"T_6cef1_row0_col0\" class=\"data row0 col0\" >0.821168</td>\n",
       "      <td id=\"T_6cef1_row0_col1\" class=\"data row0 col1\" >0.821168</td>\n",
       "      <td id=\"T_6cef1_row0_col2\" class=\"data row0 col2\" >0.823253</td>\n",
       "      <td id=\"T_6cef1_row0_col3\" class=\"data row0 col3\" >0.821168</td>\n",
       "      <td id=\"T_6cef1_row0_col4\" class=\"data row0 col4\" >0.821168</td>\n",
       "      <td id=\"T_6cef1_row0_col5\" class=\"data row0 col5\" >0.797185</td>\n",
       "    </tr>\n",
       "    <tr>\n",
       "      <th id=\"T_6cef1_level0_row1\" class=\"row_heading level0 row1\" >accuracy_unweighed</th>\n",
       "      <td id=\"T_6cef1_row1_col0\" class=\"data row1 col0\" >0.846715</td>\n",
       "      <td id=\"T_6cef1_row1_col1\" class=\"data row1 col1\" >0.856621</td>\n",
       "      <td id=\"T_6cef1_row1_col2\" class=\"data row1 col2\" >0.862357</td>\n",
       "      <td id=\"T_6cef1_row1_col3\" class=\"data row1 col3\" >0.853493</td>\n",
       "      <td id=\"T_6cef1_row1_col4\" class=\"data row1 col4\" >0.857664</td>\n",
       "      <td id=\"T_6cef1_row1_col5\" class=\"data row1 col5\" >0.829510</td>\n",
       "    </tr>\n",
       "  </tbody>\n",
       "</table>\n"
      ],
      "text/plain": [
       "<pandas.io.formats.style.Styler at 0x22692702fd0>"
      ]
     },
     "execution_count": 113,
     "metadata": {},
     "output_type": "execute_result"
    }
   ],
   "source": [
    "total_scaling_score.loc[\n",
    "    [\"accuracy_unscaled\", \"accuracy_unweighed\"], :\n",
    "].style.highlight_max(color=\"lightgreen\", axis=0).highlight_min(\n",
    "    color=\"mistyrose\", axis=0\n",
    ")"
   ]
  },
  {
   "attachments": {},
   "cell_type": "markdown",
   "id": "5d76d5ef-7353-4642-9329-d7054c578471",
   "metadata": {},
   "source": [
    "**Вывод:** масштабирование улучшило результаты во всех случаях"
   ]
  },
  {
   "attachments": {},
   "cell_type": "markdown",
   "id": "5a2f4edd",
   "metadata": {},
   "source": [
    "### Взвешивание классов"
   ]
  },
  {
   "cell_type": "code",
   "execution_count": 114,
   "id": "22f88930-02fc-47fa-8911-8af016051dce",
   "metadata": {},
   "outputs": [],
   "source": [
    "class_weight = \"balanced\""
   ]
  },
  {
   "cell_type": "code",
   "execution_count": 115,
   "id": "2e7598f3-dadc-499e-a7a0-0188573656c1",
   "metadata": {},
   "outputs": [],
   "source": [
    "dtc_param_grid = [\n",
    "    {\n",
    "        \"dtc__max_depth\": np.arange(4, 20, 4),\n",
    "        \"dtc__min_samples_split\": np.arange(2, 10, 2),\n",
    "        \"dtc__min_samples_leaf\": np.arange(1, 10, 1),\n",
    "        \"dtc__class_weight\": [class_weight],\n",
    "        \"dtc__max_features\": [1, \"sqrt\", \"log2\", None],\n",
    "        \"dtc__splitter\": [\"best\", \"random\"],\n",
    "        \"dtc__random_state\": [chosen_rand_st],\n",
    "    }\n",
    "]\n",
    "\n",
    "rfc_param_grid = [\n",
    "    {\n",
    "        \"rfc__n_estimators\": np.arange(40, 201, 40),\n",
    "        \"rfc__max_depth\": np.arange(4, 21, 4),\n",
    "        \"rfc__class_weight\": [class_weight],\n",
    "        \"rfc__max_features\": [1, \"sqrt\", \"log2\", None],\n",
    "        \"rfc__random_state\": [chosen_rand_st],\n",
    "    }\n",
    "]\n",
    "\n",
    "lr_param_grid = [\n",
    "    {\n",
    "        \"lr__solver\": [\"liblinear\"],\n",
    "        \"lr__max_iter\": [100, 250, 500, 1000, 2000],\n",
    "        \"lr__tol\": [1e-4, 1e-5, 1e-6, 1e-7, 1e-8],\n",
    "        \"lr__class_weight\": [class_weight],\n",
    "        \"lr__C\": [0.01, 0.1, 1.0, 10, 100],\n",
    "        \"lr__random_state\": [chosen_rand_st],\n",
    "    }\n",
    "]\n",
    "\n",
    "weighed_grid_list = [dtc_param_grid, rfc_param_grid, lr_param_grid]"
   ]
  },
  {
   "cell_type": "code",
   "execution_count": 116,
   "id": "c5348f34-044c-4860-af34-425b8e798c36",
   "metadata": {},
   "outputs": [
    {
     "name": "stdout",
     "output_type": "stream",
     "text": [
      "Fitting 5 folds for each of 1152 candidates, totalling 5760 fits\n",
      "-------------------------------------------------------------------------------\n",
      "Результат лучшей модели DecisionTreeClassifier:\n",
      "\n",
      "\n",
      "F1 = 0.563 | AUC-ROC = 0.843 | Accuracy = 0.765\n",
      "\n",
      "Encoder: OHE\n",
      "\n",
      "Гипер-параметры: {'dtc__class_weight': 'balanced', 'dtc__max_depth': 8, 'dtc__max_features': None, 'dtc__min_samples_leaf': 6, 'dtc__min_samples_split': 2, 'dtc__random_state': 1992, 'dtc__splitter': 'random'}\n",
      "-------------------------------------------------------------------------------\n",
      "\n",
      "Fitting 5 folds for each of 100 candidates, totalling 500 fits\n",
      "-------------------------------------------------------------------------------\n",
      "Результат лучшей модели RandomForestClassifier:\n",
      "\n",
      "\n",
      "F1 = 0.606 | AUC-ROC = 0.857 | Accuracy = 0.814\n",
      "\n",
      "Encoder: OHE\n",
      "\n",
      "Гипер-параметры: {'rfc__class_weight': 'balanced', 'rfc__max_depth': 8, 'rfc__max_features': 'sqrt', 'rfc__n_estimators': 120, 'rfc__random_state': 1992}\n",
      "-------------------------------------------------------------------------------\n",
      "\n",
      "Fitting 5 folds for each of 125 candidates, totalling 625 fits\n",
      "-------------------------------------------------------------------------------\n",
      "Результат лучшей модели LogisticRegression:\n",
      "\n",
      "\n",
      "F1 = 0.571 | AUC-ROC = 0.854 | Accuracy = 0.770\n",
      "\n",
      "Encoder: OHE\n",
      "\n",
      "Гипер-параметры: {'lr__C': 10, 'lr__class_weight': 'balanced', 'lr__max_iter': 100, 'lr__random_state': 1992, 'lr__solver': 'liblinear', 'lr__tol': 0.0001}\n",
      "-------------------------------------------------------------------------------\n",
      "\n",
      "Fitting 5 folds for each of 1152 candidates, totalling 5760 fits\n",
      "-------------------------------------------------------------------------------\n",
      "Результат лучшей модели DecisionTreeClassifier:\n",
      "\n",
      "\n",
      "F1 = 0.582 | AUC-ROC = 0.825 | Accuracy = 0.808\n",
      "\n",
      "Encoder: OE\n",
      "\n",
      "Гипер-параметры: {'dtc__class_weight': 'balanced', 'dtc__max_depth': 4, 'dtc__max_features': None, 'dtc__min_samples_leaf': 5, 'dtc__min_samples_split': 2, 'dtc__random_state': 1992, 'dtc__splitter': 'random'}\n",
      "-------------------------------------------------------------------------------\n",
      "\n",
      "Fitting 5 folds for each of 100 candidates, totalling 500 fits\n",
      "-------------------------------------------------------------------------------\n",
      "Результат лучшей модели RandomForestClassifier:\n",
      "\n",
      "\n",
      "F1 = 0.601 | AUC-ROC = 0.857 | Accuracy = 0.815\n",
      "\n",
      "Encoder: OE\n",
      "\n",
      "Гипер-параметры: {'rfc__class_weight': 'balanced', 'rfc__max_depth': 8, 'rfc__max_features': 'sqrt', 'rfc__n_estimators': 40, 'rfc__random_state': 1992}\n",
      "-------------------------------------------------------------------------------\n",
      "\n",
      "Fitting 5 folds for each of 125 candidates, totalling 625 fits\n",
      "-------------------------------------------------------------------------------\n",
      "Результат лучшей модели LogisticRegression:\n",
      "\n",
      "\n",
      "F1 = 0.507 | AUC-ROC = 0.783 | Accuracy = 0.723\n",
      "\n",
      "Encoder: OE\n",
      "\n",
      "Гипер-параметры: {'lr__C': 0.01, 'lr__class_weight': 'balanced', 'lr__max_iter': 100, 'lr__random_state': 1992, 'lr__solver': 'liblinear', 'lr__tol': 0.0001}\n",
      "-------------------------------------------------------------------------------\n",
      "\n",
      "CPU times: total: 5.62 s\n",
      "Wall time: 8min 49s\n"
     ]
    }
   ],
   "source": [
    "%%time\n",
    "weighed_score = []\n",
    "for e, pipe in enumerate(pipe_list):\n",
    "    for i in range(0, 3):\n",
    "        grid_pipeline = GridSearchCV(\n",
    "            pipe[i], \n",
    "            weighed_grid_list[i], \n",
    "            cv=5, \n",
    "            scoring='f1', \n",
    "            return_train_score=True,\n",
    "            verbose=1,\n",
    "            n_jobs=4\n",
    "        )\n",
    "\n",
    "        model_learn(\n",
    "            grid_pipeline, data_list, \n",
    "            weighed_score, model_names[i], encoder_names[e]\n",
    "        )"
   ]
  },
  {
   "attachments": {},
   "cell_type": "markdown",
   "id": "c0d04734-c36e-4fc9-94f8-dc4df6cb20b0",
   "metadata": {},
   "source": [
    "#### Результат взвешивания классов"
   ]
  },
  {
   "cell_type": "code",
   "execution_count": 117,
   "id": "2ad460ba-4056-4eff-913d-596e0f54b972",
   "metadata": {},
   "outputs": [],
   "source": [
    "unweighed_score_df = pd.DataFrame(\n",
    "    unweighed_score,\n",
    "    columns=[\"f1_unweighed\", \"auc_roc_unweighed\", \"accuracy_unweighed\"],\n",
    "    index=[\"dtc_ohe\", \"rfc_ohe\", \"lr_ohe\", \"dtc_oe\", \"rfc_oe\", \"lr_oe\"],\n",
    ").transpose()\n",
    "weighed_score_df = pd.DataFrame(\n",
    "    weighed_score,\n",
    "    columns=[\"f1_weighed\", \"auc_roc_weighed\", \"accuracy_weighed\"],\n",
    "    index=[\"dtc_ohe\", \"rfc_ohe\", \"lr_ohe\", \"dtc_oe\", \"rfc_oe\", \"lr_oe\"],\n",
    ").transpose()\n",
    "\n",
    "total_weighing_score = pd.concat([unweighed_score_df, weighed_score_df], axis=0)"
   ]
  },
  {
   "cell_type": "code",
   "execution_count": 118,
   "id": "0e627156-6d8e-458a-8fcb-33e439c366de",
   "metadata": {},
   "outputs": [
    {
     "data": {
      "text/html": [
       "<style type=\"text/css\">\n",
       "#T_4e946_row0_col0, #T_4e946_row0_col1, #T_4e946_row0_col3, #T_4e946_row0_col4, #T_4e946_row0_col5, #T_4e946_row1_col2 {\n",
       "  background-color: mistyrose;\n",
       "}\n",
       "#T_4e946_row0_col2, #T_4e946_row1_col0, #T_4e946_row1_col1, #T_4e946_row1_col3, #T_4e946_row1_col4, #T_4e946_row1_col5 {\n",
       "  background-color: lightgreen;\n",
       "}\n",
       "</style>\n",
       "<table id=\"T_4e946\">\n",
       "  <thead>\n",
       "    <tr>\n",
       "      <th class=\"blank level0\" >&nbsp;</th>\n",
       "      <th id=\"T_4e946_level0_col0\" class=\"col_heading level0 col0\" >dtc_ohe</th>\n",
       "      <th id=\"T_4e946_level0_col1\" class=\"col_heading level0 col1\" >rfc_ohe</th>\n",
       "      <th id=\"T_4e946_level0_col2\" class=\"col_heading level0 col2\" >lr_ohe</th>\n",
       "      <th id=\"T_4e946_level0_col3\" class=\"col_heading level0 col3\" >dtc_oe</th>\n",
       "      <th id=\"T_4e946_level0_col4\" class=\"col_heading level0 col4\" >rfc_oe</th>\n",
       "      <th id=\"T_4e946_level0_col5\" class=\"col_heading level0 col5\" >lr_oe</th>\n",
       "    </tr>\n",
       "  </thead>\n",
       "  <tbody>\n",
       "    <tr>\n",
       "      <th id=\"T_4e946_level0_row0\" class=\"row_heading level0 row0\" >f1_unweighed</th>\n",
       "      <td id=\"T_4e946_row0_col0\" class=\"data row0 col0\" >0.549080</td>\n",
       "      <td id=\"T_4e946_row0_col1\" class=\"data row0 col1\" >0.576271</td>\n",
       "      <td id=\"T_4e946_row0_col2\" class=\"data row0 col2\" >0.587500</td>\n",
       "      <td id=\"T_4e946_row0_col3\" class=\"data row0 col3\" >0.569678</td>\n",
       "      <td id=\"T_4e946_row0_col4\" class=\"data row0 col4\" >0.564593</td>\n",
       "      <td id=\"T_4e946_row0_col5\" class=\"data row0 col5\" >0.419183</td>\n",
       "    </tr>\n",
       "    <tr>\n",
       "      <th id=\"T_4e946_level0_row1\" class=\"row_heading level0 row1\" >f1_weighed</th>\n",
       "      <td id=\"T_4e946_row1_col0\" class=\"data row1 col0\" >0.562561</td>\n",
       "      <td id=\"T_4e946_row1_col1\" class=\"data row1 col1\" >0.605525</td>\n",
       "      <td id=\"T_4e946_row1_col2\" class=\"data row1 col2\" >0.571429</td>\n",
       "      <td id=\"T_4e946_row1_col3\" class=\"data row1 col3\" >0.581818</td>\n",
       "      <td id=\"T_4e946_row1_col4\" class=\"data row1 col4\" >0.600675</td>\n",
       "      <td id=\"T_4e946_row1_col5\" class=\"data row1 col5\" >0.506964</td>\n",
       "    </tr>\n",
       "  </tbody>\n",
       "</table>\n"
      ],
      "text/plain": [
       "<pandas.io.formats.style.Styler at 0x2269361b790>"
      ]
     },
     "execution_count": 118,
     "metadata": {},
     "output_type": "execute_result"
    }
   ],
   "source": [
    "total_weighing_score.loc[[\"f1_unweighed\", \"f1_weighed\"], :].style.highlight_max(\n",
    "    color=\"lightgreen\", axis=0\n",
    ").highlight_min(color=\"mistyrose\", axis=0)"
   ]
  },
  {
   "cell_type": "code",
   "execution_count": 119,
   "id": "9b18a844-fa44-44be-9174-ac4d3ece1389",
   "metadata": {},
   "outputs": [
    {
     "data": {
      "text/html": [
       "<style type=\"text/css\">\n",
       "#T_5f5b1_row0_col0, #T_5f5b1_row0_col1, #T_5f5b1_row0_col3, #T_5f5b1_row0_col4, #T_5f5b1_row0_col5, #T_5f5b1_row1_col2 {\n",
       "  background-color: mistyrose;\n",
       "}\n",
       "#T_5f5b1_row0_col2, #T_5f5b1_row1_col0, #T_5f5b1_row1_col1, #T_5f5b1_row1_col3, #T_5f5b1_row1_col4, #T_5f5b1_row1_col5 {\n",
       "  background-color: lightgreen;\n",
       "}\n",
       "</style>\n",
       "<table id=\"T_5f5b1\">\n",
       "  <thead>\n",
       "    <tr>\n",
       "      <th class=\"blank level0\" >&nbsp;</th>\n",
       "      <th id=\"T_5f5b1_level0_col0\" class=\"col_heading level0 col0\" >dtc_ohe</th>\n",
       "      <th id=\"T_5f5b1_level0_col1\" class=\"col_heading level0 col1\" >rfc_ohe</th>\n",
       "      <th id=\"T_5f5b1_level0_col2\" class=\"col_heading level0 col2\" >lr_ohe</th>\n",
       "      <th id=\"T_5f5b1_level0_col3\" class=\"col_heading level0 col3\" >dtc_oe</th>\n",
       "      <th id=\"T_5f5b1_level0_col4\" class=\"col_heading level0 col4\" >rfc_oe</th>\n",
       "      <th id=\"T_5f5b1_level0_col5\" class=\"col_heading level0 col5\" >lr_oe</th>\n",
       "    </tr>\n",
       "  </thead>\n",
       "  <tbody>\n",
       "    <tr>\n",
       "      <th id=\"T_5f5b1_level0_row0\" class=\"row_heading level0 row0\" >auc_roc_unweighed</th>\n",
       "      <td id=\"T_5f5b1_row0_col0\" class=\"data row0 col0\" >0.811775</td>\n",
       "      <td id=\"T_5f5b1_row0_col1\" class=\"data row0 col1\" >0.850643</td>\n",
       "      <td id=\"T_5f5b1_row0_col2\" class=\"data row0 col2\" >0.854889</td>\n",
       "      <td id=\"T_5f5b1_row0_col3\" class=\"data row0 col3\" >0.791811</td>\n",
       "      <td id=\"T_5f5b1_row0_col4\" class=\"data row0 col4\" >0.856540</td>\n",
       "      <td id=\"T_5f5b1_row0_col5\" class=\"data row0 col5\" >0.780889</td>\n",
       "    </tr>\n",
       "    <tr>\n",
       "      <th id=\"T_5f5b1_level0_row1\" class=\"row_heading level0 row1\" >auc_roc_weighed</th>\n",
       "      <td id=\"T_5f5b1_row1_col0\" class=\"data row1 col0\" >0.842930</td>\n",
       "      <td id=\"T_5f5b1_row1_col1\" class=\"data row1 col1\" >0.857393</td>\n",
       "      <td id=\"T_5f5b1_row1_col2\" class=\"data row1 col2\" >0.854177</td>\n",
       "      <td id=\"T_5f5b1_row1_col3\" class=\"data row1 col3\" >0.825459</td>\n",
       "      <td id=\"T_5f5b1_row1_col4\" class=\"data row1 col4\" >0.856544</td>\n",
       "      <td id=\"T_5f5b1_row1_col5\" class=\"data row1 col5\" >0.782823</td>\n",
       "    </tr>\n",
       "  </tbody>\n",
       "</table>\n"
      ],
      "text/plain": [
       "<pandas.io.formats.style.Styler at 0x226902c0af0>"
      ]
     },
     "execution_count": 119,
     "metadata": {},
     "output_type": "execute_result"
    }
   ],
   "source": [
    "total_weighing_score.loc[\n",
    "    [\"auc_roc_unweighed\", \"auc_roc_weighed\"], :\n",
    "].style.highlight_max(color=\"lightgreen\", axis=0).highlight_min(\n",
    "    color=\"mistyrose\", axis=0\n",
    ")"
   ]
  },
  {
   "cell_type": "code",
   "execution_count": 120,
   "id": "56cc7122-1b21-48e9-9ba3-9e531554652c",
   "metadata": {},
   "outputs": [
    {
     "data": {
      "text/html": [
       "<style type=\"text/css\">\n",
       "#T_33ed2_row0_col0, #T_33ed2_row0_col1, #T_33ed2_row0_col2, #T_33ed2_row0_col3, #T_33ed2_row0_col4, #T_33ed2_row0_col5 {\n",
       "  background-color: lightgreen;\n",
       "}\n",
       "#T_33ed2_row1_col0, #T_33ed2_row1_col1, #T_33ed2_row1_col2, #T_33ed2_row1_col3, #T_33ed2_row1_col4, #T_33ed2_row1_col5 {\n",
       "  background-color: mistyrose;\n",
       "}\n",
       "</style>\n",
       "<table id=\"T_33ed2\">\n",
       "  <thead>\n",
       "    <tr>\n",
       "      <th class=\"blank level0\" >&nbsp;</th>\n",
       "      <th id=\"T_33ed2_level0_col0\" class=\"col_heading level0 col0\" >dtc_ohe</th>\n",
       "      <th id=\"T_33ed2_level0_col1\" class=\"col_heading level0 col1\" >rfc_ohe</th>\n",
       "      <th id=\"T_33ed2_level0_col2\" class=\"col_heading level0 col2\" >lr_ohe</th>\n",
       "      <th id=\"T_33ed2_level0_col3\" class=\"col_heading level0 col3\" >dtc_oe</th>\n",
       "      <th id=\"T_33ed2_level0_col4\" class=\"col_heading level0 col4\" >rfc_oe</th>\n",
       "      <th id=\"T_33ed2_level0_col5\" class=\"col_heading level0 col5\" >lr_oe</th>\n",
       "    </tr>\n",
       "  </thead>\n",
       "  <tbody>\n",
       "    <tr>\n",
       "      <th id=\"T_33ed2_level0_row0\" class=\"row_heading level0 row0\" >accuracy_unweighed</th>\n",
       "      <td id=\"T_33ed2_row0_col0\" class=\"data row0 col0\" >0.846715</td>\n",
       "      <td id=\"T_33ed2_row0_col1\" class=\"data row0 col1\" >0.856621</td>\n",
       "      <td id=\"T_33ed2_row0_col2\" class=\"data row0 col2\" >0.862357</td>\n",
       "      <td id=\"T_33ed2_row0_col3\" class=\"data row0 col3\" >0.853493</td>\n",
       "      <td id=\"T_33ed2_row0_col4\" class=\"data row0 col4\" >0.857664</td>\n",
       "      <td id=\"T_33ed2_row0_col5\" class=\"data row0 col5\" >0.829510</td>\n",
       "    </tr>\n",
       "    <tr>\n",
       "      <th id=\"T_33ed2_level0_row1\" class=\"row_heading level0 row1\" >accuracy_weighed</th>\n",
       "      <td id=\"T_33ed2_row1_col0\" class=\"data row1 col0\" >0.764859</td>\n",
       "      <td id=\"T_33ed2_row1_col1\" class=\"data row1 col1\" >0.813869</td>\n",
       "      <td id=\"T_33ed2_row1_col2\" class=\"data row1 col2\" >0.770073</td>\n",
       "      <td id=\"T_33ed2_row1_col3\" class=\"data row1 col3\" >0.808133</td>\n",
       "      <td id=\"T_33ed2_row1_col4\" class=\"data row1 col4\" >0.814911</td>\n",
       "      <td id=\"T_33ed2_row1_col5\" class=\"data row1 col5\" >0.723149</td>\n",
       "    </tr>\n",
       "  </tbody>\n",
       "</table>\n"
      ],
      "text/plain": [
       "<pandas.io.formats.style.Styler at 0x22692fa4cd0>"
      ]
     },
     "execution_count": 120,
     "metadata": {},
     "output_type": "execute_result"
    }
   ],
   "source": [
    "total_weighing_score.loc[\n",
    "    [\"accuracy_unweighed\", \"accuracy_weighed\"], :\n",
    "].style.highlight_max(color=\"lightgreen\", axis=0).highlight_min(\n",
    "    color=\"mistyrose\", axis=0\n",
    ")"
   ]
  },
  {
   "attachments": {},
   "cell_type": "markdown",
   "id": "89e96b6d-debd-49ec-8b79-bd9b8cf8c666",
   "metadata": {},
   "source": [
    "**Вывод:** взвешивание классов позитивно сказалось на F1-метрике во всех случаях, кроме логистической регрессии при OHE-кодировании. Колебания AUC-ROC незначительны, точность упала на 5-10%. \n",
    "\n",
    "Дальнейшие итерации обучения будем проводить с взвешенными классами."
   ]
  },
  {
   "attachments": {},
   "cell_type": "markdown",
   "id": "24b5de99",
   "metadata": {},
   "source": [
    "### Ап/даунсемплинг "
   ]
  },
  {
   "attachments": {},
   "cell_type": "markdown",
   "id": "5bfe05b0-61fe-447c-aad9-629e663bedaf",
   "metadata": {},
   "source": [
    "#### Апсемплинг тренировочных выборок"
   ]
  },
  {
   "cell_type": "code",
   "execution_count": 121,
   "id": "10296e06-ed10-4f5f-8690-1a3f6f848c2d",
   "metadata": {},
   "outputs": [],
   "source": [
    "def upsample(X, y, repeat):\n",
    "    X_zeros = X[y == 0]\n",
    "    X_ones = X[y == 1]\n",
    "    y_zeros = y[y == 0]\n",
    "    y_ones = y[y == 1]\n",
    "\n",
    "    X_upsampled = pd.concat([X_zeros] + [X_ones] * repeat)\n",
    "    y_upsampled = pd.concat([y_zeros] + [y_ones] * repeat)\n",
    "\n",
    "    X_upsampled, y_upsampled = shuffle(\n",
    "        X_upsampled, y_upsampled, random_state=chosen_rand_st\n",
    "    )\n",
    "\n",
    "    return X_upsampled, y_upsampled"
   ]
  },
  {
   "attachments": {},
   "cell_type": "markdown",
   "id": "152df096-0a4b-48fd-9b72-77d8ddc7fc32",
   "metadata": {},
   "source": [
    "Поскольку в исходном датасете позитивных ответов в примерно 4 раза меньше, чем негативных, число повторов установим равным 4. "
   ]
  },
  {
   "cell_type": "code",
   "execution_count": 122,
   "id": "b302f4d3-79ba-49d1-8f89-3b6ebbbe1039",
   "metadata": {},
   "outputs": [
    {
     "data": {
      "text/plain": [
       "((5753, 10), (5753,), (9248, 10), (9248,))"
      ]
     },
     "execution_count": 122,
     "metadata": {},
     "output_type": "execute_result"
    }
   ],
   "source": [
    "X_train_upsample, y_train_upsample = upsample(X_train, y_train, 4)\n",
    "X_train.shape, y_train.shape, X_train_upsample.shape, y_train_upsample.shape"
   ]
  },
  {
   "cell_type": "code",
   "execution_count": 123,
   "id": "3f3612d6-8aa3-4e60-ad95-e61ce41cc475",
   "metadata": {},
   "outputs": [
    {
     "name": "stdout",
     "output_type": "stream",
     "text": [
      "3.938197424892704 0.984549356223176\n"
     ]
    }
   ],
   "source": [
    "# проверка баланса\n",
    "\n",
    "zeros = y_train[y_train == 0].count()\n",
    "ones = y_train[y_train == 1].count()\n",
    "zeros_upsample = y_train_upsample[y_train_upsample == 0].count()\n",
    "ones_upsample = y_train_upsample[y_train_upsample == 1].count()\n",
    "print(zeros / ones, zeros_upsample / ones_upsample)"
   ]
  },
  {
   "attachments": {},
   "cell_type": "markdown",
   "id": "35e2022d-66e3-42a0-a6f2-dd02f2d528b0",
   "metadata": {},
   "source": [
    "+- сбалансированно"
   ]
  },
  {
   "cell_type": "code",
   "execution_count": 124,
   "id": "7afc7a52-5574-4a1d-9945-8e8bbca44657",
   "metadata": {},
   "outputs": [],
   "source": [
    "data_upsample_list = [X_train_upsample, y_train_upsample, X_valid, y_valid]"
   ]
  },
  {
   "attachments": {},
   "cell_type": "markdown",
   "id": "65e35538-6f96-4967-9698-fc1ef9c7fa8f",
   "metadata": {
    "tags": []
   },
   "source": [
    "#### Обучение на выборках после апсемплинга"
   ]
  },
  {
   "cell_type": "code",
   "execution_count": 125,
   "id": "8430bca4-9a52-41ac-b269-e9e45394f7f1",
   "metadata": {},
   "outputs": [],
   "source": [
    "class_weight = \"balanced\""
   ]
  },
  {
   "cell_type": "code",
   "execution_count": 126,
   "id": "27b7c1c3-53b8-4d58-aca9-00a213f366bb",
   "metadata": {},
   "outputs": [],
   "source": [
    "dtc_param_grid = [\n",
    "    {\n",
    "        \"dtc__max_depth\": np.arange(4, 20, 4),\n",
    "        \"dtc__min_samples_split\": np.arange(2, 10, 2),\n",
    "        \"dtc__min_samples_leaf\": np.arange(1, 10, 1),\n",
    "        \"dtc__class_weight\": [class_weight],\n",
    "        \"dtc__max_features\": [1, \"sqrt\", \"log2\", None],\n",
    "        \"dtc__splitter\": [\"best\", \"random\"],\n",
    "        \"dtc__random_state\": [chosen_rand_st],\n",
    "    }\n",
    "]\n",
    "\n",
    "rfc_param_grid = [\n",
    "    {\n",
    "        \"rfc__n_estimators\": np.arange(40, 201, 40),\n",
    "        \"rfc__max_depth\": np.arange(4, 21, 4),\n",
    "        \"rfc__class_weight\": [class_weight],\n",
    "        \"rfc__max_features\": [1, \"sqrt\", \"log2\", None],\n",
    "        \"rfc__random_state\": [chosen_rand_st],\n",
    "    }\n",
    "]\n",
    "\n",
    "lr_param_grid = [\n",
    "    {\n",
    "        \"lr__solver\": [\"liblinear\"],\n",
    "        \"lr__max_iter\": [100, 250, 500, 1000, 2000],\n",
    "        \"lr__tol\": [1e-4, 1e-5, 1e-6, 1e-7, 1e-8],\n",
    "        \"lr__class_weight\": [class_weight],\n",
    "        \"lr__C\": [0.01, 0.1, 1.0, 10, 100],\n",
    "        \"lr__random_state\": [chosen_rand_st],\n",
    "    }\n",
    "]\n",
    "\n",
    "weighed_grid_list = [dtc_param_grid, rfc_param_grid, lr_param_grid]"
   ]
  },
  {
   "cell_type": "code",
   "execution_count": 127,
   "id": "16411243-01a6-4678-ad93-1f7fa8675905",
   "metadata": {},
   "outputs": [
    {
     "name": "stdout",
     "output_type": "stream",
     "text": [
      "Fitting 5 folds for each of 1152 candidates, totalling 5760 fits\n",
      "-------------------------------------------------------------------------------\n",
      "Результат лучшей модели DecisionTreeClassifier:\n",
      "\n",
      "\n",
      "F1 = 0.482 | AUC-ROC = 0.685 | Accuracy = 0.774\n",
      "\n",
      "Encoder: OHE\n",
      "\n",
      "Гипер-параметры: {'dtc__class_weight': 'balanced', 'dtc__max_depth': 16, 'dtc__max_features': 'sqrt', 'dtc__min_samples_leaf': 1, 'dtc__min_samples_split': 2, 'dtc__random_state': 1992, 'dtc__splitter': 'best'}\n",
      "-------------------------------------------------------------------------------\n",
      "\n",
      "Fitting 5 folds for each of 100 candidates, totalling 500 fits\n",
      "-------------------------------------------------------------------------------\n",
      "Результат лучшей модели RandomForestClassifier:\n",
      "\n",
      "\n",
      "F1 = 0.586 | AUC-ROC = 0.844 | Accuracy = 0.845\n",
      "\n",
      "Encoder: OHE\n",
      "\n",
      "Гипер-параметры: {'rfc__class_weight': 'balanced', 'rfc__max_depth': 20, 'rfc__max_features': 1, 'rfc__n_estimators': 120, 'rfc__random_state': 1992}\n",
      "-------------------------------------------------------------------------------\n",
      "\n",
      "Fitting 5 folds for each of 125 candidates, totalling 625 fits\n",
      "-------------------------------------------------------------------------------\n",
      "Результат лучшей модели LogisticRegression:\n",
      "\n",
      "\n",
      "F1 = 0.571 | AUC-ROC = 0.854 | Accuracy = 0.770\n",
      "\n",
      "Encoder: OHE\n",
      "\n",
      "Гипер-параметры: {'lr__C': 1.0, 'lr__class_weight': 'balanced', 'lr__max_iter': 100, 'lr__random_state': 1992, 'lr__solver': 'liblinear', 'lr__tol': 0.0001}\n",
      "-------------------------------------------------------------------------------\n",
      "\n",
      "Fitting 5 folds for each of 1152 candidates, totalling 5760 fits\n",
      "-------------------------------------------------------------------------------\n",
      "Результат лучшей модели DecisionTreeClassifier:\n",
      "\n",
      "\n",
      "F1 = 0.506 | AUC-ROC = 0.693 | Accuracy = 0.796\n",
      "\n",
      "Encoder: OE\n",
      "\n",
      "Гипер-параметры: {'dtc__class_weight': 'balanced', 'dtc__max_depth': 16, 'dtc__max_features': None, 'dtc__min_samples_leaf': 1, 'dtc__min_samples_split': 2, 'dtc__random_state': 1992, 'dtc__splitter': 'best'}\n",
      "-------------------------------------------------------------------------------\n",
      "\n",
      "Fitting 5 folds for each of 100 candidates, totalling 500 fits\n",
      "-------------------------------------------------------------------------------\n",
      "Результат лучшей модели RandomForestClassifier:\n",
      "\n",
      "\n",
      "F1 = 0.595 | AUC-ROC = 0.846 | Accuracy = 0.851\n",
      "\n",
      "Encoder: OE\n",
      "\n",
      "Гипер-параметры: {'rfc__class_weight': 'balanced', 'rfc__max_depth': 20, 'rfc__max_features': 1, 'rfc__n_estimators': 200, 'rfc__random_state': 1992}\n",
      "-------------------------------------------------------------------------------\n",
      "\n",
      "Fitting 5 folds for each of 125 candidates, totalling 625 fits\n",
      "-------------------------------------------------------------------------------\n",
      "Результат лучшей модели LogisticRegression:\n",
      "\n",
      "\n",
      "F1 = 0.514 | AUC-ROC = 0.783 | Accuracy = 0.727\n",
      "\n",
      "Encoder: OE\n",
      "\n",
      "Гипер-параметры: {'lr__C': 0.01, 'lr__class_weight': 'balanced', 'lr__max_iter': 100, 'lr__random_state': 1992, 'lr__solver': 'liblinear', 'lr__tol': 0.0001}\n",
      "-------------------------------------------------------------------------------\n",
      "\n",
      "CPU times: total: 8.19 s\n",
      "Wall time: 12min 4s\n"
     ]
    }
   ],
   "source": [
    "%%time\n",
    "upsample_score = []\n",
    "for e, pipe in enumerate(pipe_list):\n",
    "    for i in range(0, 3):\n",
    "        grid_pipeline = GridSearchCV(\n",
    "            pipe[i], \n",
    "            weighed_grid_list[i], \n",
    "            cv=5, \n",
    "            scoring='f1', \n",
    "            return_train_score=True,\n",
    "            verbose=1,\n",
    "            n_jobs=4\n",
    "        )\n",
    "\n",
    "        model_learn(\n",
    "            grid_pipeline, data_upsample_list, \n",
    "            upsample_score, model_names[i], encoder_names[e]\n",
    "        )"
   ]
  },
  {
   "attachments": {},
   "cell_type": "markdown",
   "id": "dff635a7-bdb2-417c-b725-9d42632b6d7e",
   "metadata": {},
   "source": [
    "#### Даунсемплинг тренировочных выборок"
   ]
  },
  {
   "cell_type": "code",
   "execution_count": 128,
   "id": "bc523534-ad63-4152-a63d-dc2ec1426bfe",
   "metadata": {},
   "outputs": [],
   "source": [
    "def downsample(X, y, fraction):\n",
    "    X_zeros = X[y == 0]\n",
    "    X_ones = X[y == 1]\n",
    "    y_zeros = y[y == 0]\n",
    "    y_ones = y[y == 1]\n",
    "\n",
    "    X_downsampled = pd.concat(\n",
    "        [X_zeros.sample(frac=fraction, random_state=chosen_rand_st)] + [X_ones]\n",
    "    )\n",
    "    y_downsampled = pd.concat(\n",
    "        [y_zeros.sample(frac=fraction, random_state=chosen_rand_st)] + [y_ones]\n",
    "    )\n",
    "\n",
    "    X_downsampled, y_downsampled = shuffle(\n",
    "        X_downsampled, y_downsampled, random_state=chosen_rand_st\n",
    "    )\n",
    "\n",
    "    return X_downsampled, y_downsampled"
   ]
  },
  {
   "cell_type": "code",
   "execution_count": 129,
   "id": "949eca96-b6ed-42c1-8139-2d43b14e25f3",
   "metadata": {},
   "outputs": [
    {
     "data": {
      "text/plain": [
       "((5753, 10), (5753,), (2312, 10), (2312,))"
      ]
     },
     "execution_count": 129,
     "metadata": {},
     "output_type": "execute_result"
    }
   ],
   "source": [
    "X_train_downsample, y_train_downsample = downsample(X_train, y_train, 0.25)\n",
    "X_train.shape, y_train.shape, X_train_downsample.shape, y_train_downsample.shape"
   ]
  },
  {
   "cell_type": "code",
   "execution_count": 130,
   "id": "0ab6309a-31be-44e4-9d2f-718dab532847",
   "metadata": {},
   "outputs": [
    {
     "name": "stdout",
     "output_type": "stream",
     "text": [
      "3.938197424892704 0.984549356223176\n"
     ]
    }
   ],
   "source": [
    "# проверка баланса\n",
    "\n",
    "zeros = y_train[y_train == 0].count()\n",
    "ones = y_train[y_train == 1].count()\n",
    "zeros_downsample = y_train_downsample[y_train_downsample == 0].count()\n",
    "ones_downsample = y_train_downsample[y_train_downsample == 1].count()\n",
    "print(zeros / ones, zeros_downsample / ones_downsample)"
   ]
  },
  {
   "attachments": {},
   "cell_type": "markdown",
   "id": "882da41b-55b1-475c-8e92-833f66ab5396",
   "metadata": {},
   "source": [
    "+- сбалансированно"
   ]
  },
  {
   "cell_type": "code",
   "execution_count": 131,
   "id": "d5d03651-b806-4b09-b2d4-d753c56d4a6b",
   "metadata": {},
   "outputs": [],
   "source": [
    "data_downsample_list = [X_train_downsample, y_train_downsample, X_valid, y_valid]"
   ]
  },
  {
   "attachments": {},
   "cell_type": "markdown",
   "id": "5109ef3d-76e8-4691-b930-7bf42101a09b",
   "metadata": {},
   "source": [
    "#### Обучение на выборках после даунсемплинга"
   ]
  },
  {
   "cell_type": "code",
   "execution_count": 132,
   "id": "046cea60-e310-439a-a702-7a1a48e7545e",
   "metadata": {},
   "outputs": [
    {
     "name": "stdout",
     "output_type": "stream",
     "text": [
      "Fitting 5 folds for each of 1152 candidates, totalling 5760 fits\n",
      "-------------------------------------------------------------------------------\n",
      "Результат лучшей модели DecisionTreeClassifier:\n",
      "\n",
      "\n",
      "F1 = 0.570 | AUC-ROC = 0.834 | Accuracy = 0.768\n",
      "\n",
      "Encoder: OHE\n",
      "\n",
      "Гипер-параметры: {'dtc__class_weight': 'balanced', 'dtc__max_depth': 4, 'dtc__max_features': None, 'dtc__min_samples_leaf': 8, 'dtc__min_samples_split': 2, 'dtc__random_state': 1992, 'dtc__splitter': 'best'}\n",
      "-------------------------------------------------------------------------------\n",
      "\n",
      "Fitting 5 folds for each of 100 candidates, totalling 500 fits\n",
      "-------------------------------------------------------------------------------\n",
      "Результат лучшей модели RandomForestClassifier:\n",
      "\n",
      "\n",
      "F1 = 0.583 | AUC-ROC = 0.863 | Accuracy = 0.782\n",
      "\n",
      "Encoder: OHE\n",
      "\n",
      "Гипер-параметры: {'rfc__class_weight': 'balanced', 'rfc__max_depth': 8, 'rfc__max_features': 'sqrt', 'rfc__n_estimators': 160, 'rfc__random_state': 1992}\n",
      "-------------------------------------------------------------------------------\n",
      "\n",
      "Fitting 5 folds for each of 125 candidates, totalling 625 fits\n",
      "-------------------------------------------------------------------------------\n",
      "Результат лучшей модели LogisticRegression:\n",
      "\n",
      "\n",
      "F1 = 0.585 | AUC-ROC = 0.855 | Accuracy = 0.778\n",
      "\n",
      "Encoder: OHE\n",
      "\n",
      "Гипер-параметры: {'lr__C': 100, 'lr__class_weight': 'balanced', 'lr__max_iter': 100, 'lr__random_state': 1992, 'lr__solver': 'liblinear', 'lr__tol': 0.0001}\n",
      "-------------------------------------------------------------------------------\n",
      "\n",
      "Fitting 5 folds for each of 1152 candidates, totalling 5760 fits\n",
      "-------------------------------------------------------------------------------\n",
      "Результат лучшей модели DecisionTreeClassifier:\n",
      "\n",
      "\n",
      "F1 = 0.549 | AUC-ROC = 0.827 | Accuracy = 0.770\n",
      "\n",
      "Encoder: OE\n",
      "\n",
      "Гипер-параметры: {'dtc__class_weight': 'balanced', 'dtc__max_depth': 16, 'dtc__max_features': None, 'dtc__min_samples_leaf': 9, 'dtc__min_samples_split': 2, 'dtc__random_state': 1992, 'dtc__splitter': 'random'}\n",
      "-------------------------------------------------------------------------------\n",
      "\n",
      "Fitting 5 folds for each of 100 candidates, totalling 500 fits\n",
      "-------------------------------------------------------------------------------\n",
      "Результат лучшей модели RandomForestClassifier:\n",
      "\n",
      "\n",
      "F1 = 0.575 | AUC-ROC = 0.846 | Accuracy = 0.771\n",
      "\n",
      "Encoder: OE\n",
      "\n",
      "Гипер-параметры: {'rfc__class_weight': 'balanced', 'rfc__max_depth': 12, 'rfc__max_features': 1, 'rfc__n_estimators': 160, 'rfc__random_state': 1992}\n",
      "-------------------------------------------------------------------------------\n",
      "\n",
      "Fitting 5 folds for each of 125 candidates, totalling 625 fits\n",
      "-------------------------------------------------------------------------------\n",
      "Результат лучшей модели LogisticRegression:\n",
      "\n",
      "\n",
      "F1 = 0.513 | AUC-ROC = 0.782 | Accuracy = 0.723\n",
      "\n",
      "Encoder: OE\n",
      "\n",
      "Гипер-параметры: {'lr__C': 10, 'lr__class_weight': 'balanced', 'lr__max_iter': 100, 'lr__random_state': 1992, 'lr__solver': 'liblinear', 'lr__tol': 0.0001}\n",
      "-------------------------------------------------------------------------------\n",
      "\n",
      "CPU times: total: 5.94 s\n",
      "Wall time: 4min 53s\n"
     ]
    }
   ],
   "source": [
    "%%time\n",
    "downsample_score = []\n",
    "for e, pipe in enumerate(pipe_list):\n",
    "    for i in range(0, 3):\n",
    "        grid_pipeline = GridSearchCV(\n",
    "            pipe[i], \n",
    "            weighed_grid_list[i], \n",
    "            cv=5, \n",
    "            scoring='f1', \n",
    "            return_train_score=True,\n",
    "            verbose=1,\n",
    "            n_jobs=4\n",
    "        )\n",
    "\n",
    "        model_learn(\n",
    "            grid_pipeline, data_downsample_list, \n",
    "            downsample_score, model_names[i], encoder_names[e]\n",
    "        )"
   ]
  },
  {
   "attachments": {},
   "cell_type": "markdown",
   "id": "e1d04a28-4567-4798-b32b-4ba089f242ae",
   "metadata": {},
   "source": [
    "#### Результат ап/даунсемплинга"
   ]
  },
  {
   "cell_type": "code",
   "execution_count": 133,
   "id": "76047916-264a-49e0-a65e-c5aa93e18574",
   "metadata": {},
   "outputs": [],
   "source": [
    "upsample_score_df = pd.DataFrame(\n",
    "    upsample_score,\n",
    "    columns=[\"f1_upsample\", \"auc_roc_upsample\", \"accuracy_upsample\"],\n",
    "    index=[\"dtc_ohe\", \"rfc_ohe\", \"lr_ohe\", \"dtc_oe\", \"rfc_oe\", \"lr_oe\"],\n",
    ").transpose()\n",
    "downsmaple_score_df = pd.DataFrame(\n",
    "    downsample_score,\n",
    "    columns=[\"f1_downsmaple\", \"auc_roc_downsmaple\", \"accuracy_downsmaple\"],\n",
    "    index=[\"dtc_ohe\", \"rfc_ohe\", \"lr_ohe\", \"dtc_oe\", \"rfc_oe\", \"lr_oe\"],\n",
    ").transpose()\n",
    "\n",
    "total_sampling_score = pd.concat([upsample_score_df, downsmaple_score_df], axis=0)\n",
    "temp_summary = pd.concat([total_weighing_score, total_sampling_score], axis=0)"
   ]
  },
  {
   "cell_type": "code",
   "execution_count": 137,
   "id": "5b8aaddb-13d9-412b-a32b-8ad1c9106d9d",
   "metadata": {},
   "outputs": [
    {
     "data": {
      "text/html": [
       "<style type=\"text/css\">\n",
       "#T_f4987_row0_col1, #T_f4987_row0_col4, #T_f4987_row0_col5, #T_f4987_row1_col2, #T_f4987_row2_col0, #T_f4987_row2_col2, #T_f4987_row2_col3 {\n",
       "  background-color: mistyrose;\n",
       "}\n",
       "#T_f4987_row0_col2, #T_f4987_row1_col1, #T_f4987_row1_col3, #T_f4987_row1_col4, #T_f4987_row2_col5, #T_f4987_row3_col0 {\n",
       "  background-color: lightgreen;\n",
       "}\n",
       "</style>\n",
       "<table id=\"T_f4987\">\n",
       "  <thead>\n",
       "    <tr>\n",
       "      <th class=\"blank level0\" >&nbsp;</th>\n",
       "      <th id=\"T_f4987_level0_col0\" class=\"col_heading level0 col0\" >dtc_ohe</th>\n",
       "      <th id=\"T_f4987_level0_col1\" class=\"col_heading level0 col1\" >rfc_ohe</th>\n",
       "      <th id=\"T_f4987_level0_col2\" class=\"col_heading level0 col2\" >lr_ohe</th>\n",
       "      <th id=\"T_f4987_level0_col3\" class=\"col_heading level0 col3\" >dtc_oe</th>\n",
       "      <th id=\"T_f4987_level0_col4\" class=\"col_heading level0 col4\" >rfc_oe</th>\n",
       "      <th id=\"T_f4987_level0_col5\" class=\"col_heading level0 col5\" >lr_oe</th>\n",
       "    </tr>\n",
       "  </thead>\n",
       "  <tbody>\n",
       "    <tr>\n",
       "      <th id=\"T_f4987_level0_row0\" class=\"row_heading level0 row0\" >f1_unweighed</th>\n",
       "      <td id=\"T_f4987_row0_col0\" class=\"data row0 col0\" >0.549080</td>\n",
       "      <td id=\"T_f4987_row0_col1\" class=\"data row0 col1\" >0.576271</td>\n",
       "      <td id=\"T_f4987_row0_col2\" class=\"data row0 col2\" >0.587500</td>\n",
       "      <td id=\"T_f4987_row0_col3\" class=\"data row0 col3\" >0.569678</td>\n",
       "      <td id=\"T_f4987_row0_col4\" class=\"data row0 col4\" >0.564593</td>\n",
       "      <td id=\"T_f4987_row0_col5\" class=\"data row0 col5\" >0.419183</td>\n",
       "    </tr>\n",
       "    <tr>\n",
       "      <th id=\"T_f4987_level0_row1\" class=\"row_heading level0 row1\" >f1_weighed</th>\n",
       "      <td id=\"T_f4987_row1_col0\" class=\"data row1 col0\" >0.562561</td>\n",
       "      <td id=\"T_f4987_row1_col1\" class=\"data row1 col1\" >0.605525</td>\n",
       "      <td id=\"T_f4987_row1_col2\" class=\"data row1 col2\" >0.571429</td>\n",
       "      <td id=\"T_f4987_row1_col3\" class=\"data row1 col3\" >0.581818</td>\n",
       "      <td id=\"T_f4987_row1_col4\" class=\"data row1 col4\" >0.600675</td>\n",
       "      <td id=\"T_f4987_row1_col5\" class=\"data row1 col5\" >0.506964</td>\n",
       "    </tr>\n",
       "    <tr>\n",
       "      <th id=\"T_f4987_level0_row2\" class=\"row_heading level0 row2\" >f1_upsample</th>\n",
       "      <td id=\"T_f4987_row2_col0\" class=\"data row2 col0\" >0.482100</td>\n",
       "      <td id=\"T_f4987_row2_col1\" class=\"data row2 col1\" >0.585774</td>\n",
       "      <td id=\"T_f4987_row2_col2\" class=\"data row2 col2\" >0.571429</td>\n",
       "      <td id=\"T_f4987_row2_col3\" class=\"data row2 col3\" >0.505689</td>\n",
       "      <td id=\"T_f4987_row2_col4\" class=\"data row2 col4\" >0.594901</td>\n",
       "      <td id=\"T_f4987_row2_col5\" class=\"data row2 col5\" >0.514392</td>\n",
       "    </tr>\n",
       "    <tr>\n",
       "      <th id=\"T_f4987_level0_row3\" class=\"row_heading level0 row3\" >f1_downsmaple</th>\n",
       "      <td id=\"T_f4987_row3_col0\" class=\"data row3 col0\" >0.570048</td>\n",
       "      <td id=\"T_f4987_row3_col1\" class=\"data row3 col1\" >0.582834</td>\n",
       "      <td id=\"T_f4987_row3_col2\" class=\"data row3 col2\" >0.584555</td>\n",
       "      <td id=\"T_f4987_row3_col3\" class=\"data row3 col3\" >0.548980</td>\n",
       "      <td id=\"T_f4987_row3_col4\" class=\"data row3 col4\" >0.575024</td>\n",
       "      <td id=\"T_f4987_row3_col5\" class=\"data row3 col5\" >0.512821</td>\n",
       "    </tr>\n",
       "  </tbody>\n",
       "</table>\n"
      ],
      "text/plain": [
       "<pandas.io.formats.style.Styler at 0x2269367ce50>"
      ]
     },
     "execution_count": 137,
     "metadata": {},
     "output_type": "execute_result"
    }
   ],
   "source": [
    "temp_summary.loc[\n",
    "    [\"f1_unweighed\", \"f1_weighed\", \"f1_upsample\", \"f1_downsmaple\"], :\n",
    "].style.highlight_max(color=\"lightgreen\", axis=0).highlight_min(\n",
    "    color=\"mistyrose\", axis=0\n",
    ")"
   ]
  },
  {
   "cell_type": "code",
   "execution_count": 138,
   "id": "5b484a41-1a6d-4991-95ed-a4eb99ecbe34",
   "metadata": {},
   "outputs": [
    {
     "data": {
      "text/html": [
       "<style type=\"text/css\">\n",
       "#T_37b8d_row0_col5, #T_37b8d_row1_col2, #T_37b8d_row2_col0, #T_37b8d_row2_col1, #T_37b8d_row2_col3, #T_37b8d_row3_col4 {\n",
       "  background-color: mistyrose;\n",
       "}\n",
       "#T_37b8d_row1_col0, #T_37b8d_row1_col4, #T_37b8d_row2_col5, #T_37b8d_row3_col1, #T_37b8d_row3_col2, #T_37b8d_row3_col3 {\n",
       "  background-color: lightgreen;\n",
       "}\n",
       "</style>\n",
       "<table id=\"T_37b8d\">\n",
       "  <thead>\n",
       "    <tr>\n",
       "      <th class=\"blank level0\" >&nbsp;</th>\n",
       "      <th id=\"T_37b8d_level0_col0\" class=\"col_heading level0 col0\" >dtc_ohe</th>\n",
       "      <th id=\"T_37b8d_level0_col1\" class=\"col_heading level0 col1\" >rfc_ohe</th>\n",
       "      <th id=\"T_37b8d_level0_col2\" class=\"col_heading level0 col2\" >lr_ohe</th>\n",
       "      <th id=\"T_37b8d_level0_col3\" class=\"col_heading level0 col3\" >dtc_oe</th>\n",
       "      <th id=\"T_37b8d_level0_col4\" class=\"col_heading level0 col4\" >rfc_oe</th>\n",
       "      <th id=\"T_37b8d_level0_col5\" class=\"col_heading level0 col5\" >lr_oe</th>\n",
       "    </tr>\n",
       "  </thead>\n",
       "  <tbody>\n",
       "    <tr>\n",
       "      <th id=\"T_37b8d_level0_row0\" class=\"row_heading level0 row0\" >auc_roc_unweighed</th>\n",
       "      <td id=\"T_37b8d_row0_col0\" class=\"data row0 col0\" >0.811775</td>\n",
       "      <td id=\"T_37b8d_row0_col1\" class=\"data row0 col1\" >0.850643</td>\n",
       "      <td id=\"T_37b8d_row0_col2\" class=\"data row0 col2\" >0.854889</td>\n",
       "      <td id=\"T_37b8d_row0_col3\" class=\"data row0 col3\" >0.791811</td>\n",
       "      <td id=\"T_37b8d_row0_col4\" class=\"data row0 col4\" >0.856540</td>\n",
       "      <td id=\"T_37b8d_row0_col5\" class=\"data row0 col5\" >0.780889</td>\n",
       "    </tr>\n",
       "    <tr>\n",
       "      <th id=\"T_37b8d_level0_row1\" class=\"row_heading level0 row1\" >auc_roc_weighed</th>\n",
       "      <td id=\"T_37b8d_row1_col0\" class=\"data row1 col0\" >0.842930</td>\n",
       "      <td id=\"T_37b8d_row1_col1\" class=\"data row1 col1\" >0.857393</td>\n",
       "      <td id=\"T_37b8d_row1_col2\" class=\"data row1 col2\" >0.854177</td>\n",
       "      <td id=\"T_37b8d_row1_col3\" class=\"data row1 col3\" >0.825459</td>\n",
       "      <td id=\"T_37b8d_row1_col4\" class=\"data row1 col4\" >0.856544</td>\n",
       "      <td id=\"T_37b8d_row1_col5\" class=\"data row1 col5\" >0.782823</td>\n",
       "    </tr>\n",
       "    <tr>\n",
       "      <th id=\"T_37b8d_level0_row2\" class=\"row_heading level0 row2\" >auc_roc_upsample</th>\n",
       "      <td id=\"T_37b8d_row2_col0\" class=\"data row2 col0\" >0.684570</td>\n",
       "      <td id=\"T_37b8d_row2_col1\" class=\"data row2 col1\" >0.844186</td>\n",
       "      <td id=\"T_37b8d_row2_col2\" class=\"data row2 col2\" >0.854180</td>\n",
       "      <td id=\"T_37b8d_row2_col3\" class=\"data row2 col3\" >0.692797</td>\n",
       "      <td id=\"T_37b8d_row2_col4\" class=\"data row2 col4\" >0.846252</td>\n",
       "      <td id=\"T_37b8d_row2_col5\" class=\"data row2 col5\" >0.783103</td>\n",
       "    </tr>\n",
       "    <tr>\n",
       "      <th id=\"T_37b8d_level0_row3\" class=\"row_heading level0 row3\" >auc_roc_downsmaple</th>\n",
       "      <td id=\"T_37b8d_row3_col0\" class=\"data row3 col0\" >0.834359</td>\n",
       "      <td id=\"T_37b8d_row3_col1\" class=\"data row3 col1\" >0.863166</td>\n",
       "      <td id=\"T_37b8d_row3_col2\" class=\"data row3 col2\" >0.854923</td>\n",
       "      <td id=\"T_37b8d_row3_col3\" class=\"data row3 col3\" >0.826787</td>\n",
       "      <td id=\"T_37b8d_row3_col4\" class=\"data row3 col4\" >0.845782</td>\n",
       "      <td id=\"T_37b8d_row3_col5\" class=\"data row3 col5\" >0.781562</td>\n",
       "    </tr>\n",
       "  </tbody>\n",
       "</table>\n"
      ],
      "text/plain": [
       "<pandas.io.formats.style.Styler at 0x226929241c0>"
      ]
     },
     "execution_count": 138,
     "metadata": {},
     "output_type": "execute_result"
    }
   ],
   "source": [
    "temp_summary.loc[\n",
    "    [\"auc_roc_unweighed\", \"auc_roc_weighed\", \"auc_roc_upsample\", \"auc_roc_downsmaple\"],\n",
    "    :,\n",
    "].style.highlight_max(color=\"lightgreen\", axis=0).highlight_min(\n",
    "    color=\"mistyrose\", axis=0\n",
    ")"
   ]
  },
  {
   "cell_type": "code",
   "execution_count": 139,
   "id": "3e97d6df-587a-4840-9f6f-d4e5f50ba67c",
   "metadata": {},
   "outputs": [
    {
     "data": {
      "text/html": [
       "<style type=\"text/css\">\n",
       "#T_6aa0e_row0_col0, #T_6aa0e_row0_col1, #T_6aa0e_row0_col2, #T_6aa0e_row0_col3, #T_6aa0e_row0_col4, #T_6aa0e_row0_col5 {\n",
       "  background-color: lightgreen;\n",
       "}\n",
       "#T_6aa0e_row1_col0, #T_6aa0e_row1_col2, #T_6aa0e_row2_col2, #T_6aa0e_row3_col1, #T_6aa0e_row3_col3, #T_6aa0e_row3_col4, #T_6aa0e_row3_col5 {\n",
       "  background-color: mistyrose;\n",
       "}\n",
       "</style>\n",
       "<table id=\"T_6aa0e\">\n",
       "  <thead>\n",
       "    <tr>\n",
       "      <th class=\"blank level0\" >&nbsp;</th>\n",
       "      <th id=\"T_6aa0e_level0_col0\" class=\"col_heading level0 col0\" >dtc_ohe</th>\n",
       "      <th id=\"T_6aa0e_level0_col1\" class=\"col_heading level0 col1\" >rfc_ohe</th>\n",
       "      <th id=\"T_6aa0e_level0_col2\" class=\"col_heading level0 col2\" >lr_ohe</th>\n",
       "      <th id=\"T_6aa0e_level0_col3\" class=\"col_heading level0 col3\" >dtc_oe</th>\n",
       "      <th id=\"T_6aa0e_level0_col4\" class=\"col_heading level0 col4\" >rfc_oe</th>\n",
       "      <th id=\"T_6aa0e_level0_col5\" class=\"col_heading level0 col5\" >lr_oe</th>\n",
       "    </tr>\n",
       "  </thead>\n",
       "  <tbody>\n",
       "    <tr>\n",
       "      <th id=\"T_6aa0e_level0_row0\" class=\"row_heading level0 row0\" >accuracy_unweighed</th>\n",
       "      <td id=\"T_6aa0e_row0_col0\" class=\"data row0 col0\" >0.846715</td>\n",
       "      <td id=\"T_6aa0e_row0_col1\" class=\"data row0 col1\" >0.856621</td>\n",
       "      <td id=\"T_6aa0e_row0_col2\" class=\"data row0 col2\" >0.862357</td>\n",
       "      <td id=\"T_6aa0e_row0_col3\" class=\"data row0 col3\" >0.853493</td>\n",
       "      <td id=\"T_6aa0e_row0_col4\" class=\"data row0 col4\" >0.857664</td>\n",
       "      <td id=\"T_6aa0e_row0_col5\" class=\"data row0 col5\" >0.829510</td>\n",
       "    </tr>\n",
       "    <tr>\n",
       "      <th id=\"T_6aa0e_level0_row1\" class=\"row_heading level0 row1\" >accuracy_weighed</th>\n",
       "      <td id=\"T_6aa0e_row1_col0\" class=\"data row1 col0\" >0.764859</td>\n",
       "      <td id=\"T_6aa0e_row1_col1\" class=\"data row1 col1\" >0.813869</td>\n",
       "      <td id=\"T_6aa0e_row1_col2\" class=\"data row1 col2\" >0.770073</td>\n",
       "      <td id=\"T_6aa0e_row1_col3\" class=\"data row1 col3\" >0.808133</td>\n",
       "      <td id=\"T_6aa0e_row1_col4\" class=\"data row1 col4\" >0.814911</td>\n",
       "      <td id=\"T_6aa0e_row1_col5\" class=\"data row1 col5\" >0.723149</td>\n",
       "    </tr>\n",
       "    <tr>\n",
       "      <th id=\"T_6aa0e_level0_row2\" class=\"row_heading level0 row2\" >accuracy_upsample</th>\n",
       "      <td id=\"T_6aa0e_row2_col0\" class=\"data row2 col0\" >0.773723</td>\n",
       "      <td id=\"T_6aa0e_row2_col1\" class=\"data row2 col1\" >0.845151</td>\n",
       "      <td id=\"T_6aa0e_row2_col2\" class=\"data row2 col2\" >0.770073</td>\n",
       "      <td id=\"T_6aa0e_row2_col3\" class=\"data row2 col3\" >0.796142</td>\n",
       "      <td id=\"T_6aa0e_row2_col4\" class=\"data row2 col4\" >0.850886</td>\n",
       "      <td id=\"T_6aa0e_row2_col5\" class=\"data row2 col5\" >0.727320</td>\n",
       "    </tr>\n",
       "    <tr>\n",
       "      <th id=\"T_6aa0e_level0_row3\" class=\"row_heading level0 row3\" >accuracy_downsmaple</th>\n",
       "      <td id=\"T_6aa0e_row3_col0\" class=\"data row3 col0\" >0.767987</td>\n",
       "      <td id=\"T_6aa0e_row3_col1\" class=\"data row3 col1\" >0.782065</td>\n",
       "      <td id=\"T_6aa0e_row3_col2\" class=\"data row3 col2\" >0.778415</td>\n",
       "      <td id=\"T_6aa0e_row3_col3\" class=\"data row3 col3\" >0.769552</td>\n",
       "      <td id=\"T_6aa0e_row3_col4\" class=\"data row3 col4\" >0.771116</td>\n",
       "      <td id=\"T_6aa0e_row3_col5\" class=\"data row3 col5\" >0.722628</td>\n",
       "    </tr>\n",
       "  </tbody>\n",
       "</table>\n"
      ],
      "text/plain": [
       "<pandas.io.formats.style.Styler at 0x22692924a90>"
      ]
     },
     "execution_count": 139,
     "metadata": {},
     "output_type": "execute_result"
    }
   ],
   "source": [
    "temp_summary.loc[\n",
    "    [\n",
    "        \"accuracy_unweighed\",\n",
    "        \"accuracy_weighed\",\n",
    "        \"accuracy_upsample\",\n",
    "        \"accuracy_downsmaple\",\n",
    "    ],\n",
    "    :,\n",
    "].style.highlight_max(color=\"lightgreen\", axis=0).highlight_min(\n",
    "    color=\"mistyrose\", axis=0\n",
    ")"
   ]
  },
  {
   "attachments": {},
   "cell_type": "markdown",
   "id": "8028bb5f-4fd3-49fb-b150-e00e620cfd4b",
   "metadata": {},
   "source": [
    "**Вывод:** даунсемплинг позволил дереву решений получить лучшую метрику F1 при OHE-кодировании, что является лучшим результатом дерева решений на данный момент. В остальных случаях ап/даунсемплинг не дал явных положительных изменений. "
   ]
  },
  {
   "attachments": {},
   "cell_type": "markdown",
   "id": "eeccacec-bfc3-404b-bf5e-c01503f46084",
   "metadata": {},
   "source": [
    "### Изменение порога классификации"
   ]
  },
  {
   "attachments": {},
   "cell_type": "markdown",
   "id": "19a01020-7cc2-45d2-892b-acc0f4b0ae75",
   "metadata": {},
   "source": [
    "Необходимо посмотреть, какие значения метрики F1 дадут модели при изменении порога классификации на своих самых \"удобных\" выборках. Для этого немного модифицируем функцию model_learn."
   ]
  },
  {
   "cell_type": "code",
   "execution_count": 140,
   "id": "dab0dde3-0c25-472c-b160-de8c5c87425b",
   "metadata": {},
   "outputs": [],
   "source": [
    "def model_thresholding_abuse(\n",
    "    mod, data_list, score_list, name_list=None, encoder_names=None\n",
    "):\n",
    "    model = mod.fit(data_list[0], data_list[1])\n",
    "    predictions = model.predict(data_list[2])\n",
    "\n",
    "    probabilities = model.predict_proba(data_list[2])\n",
    "    probabilities_one = probabilities[:, 1]\n",
    "\n",
    "    auc_roc = roc_auc_score(data_list[3], probabilities_one)\n",
    "\n",
    "    accuracy = accuracy_score(data_list[3], predictions)\n",
    "\n",
    "    best_f1 = 0\n",
    "    best_threshold = 0\n",
    "    for threshold in np.arange(0, 1, 0.01):\n",
    "        predictions = probabilities_one > threshold\n",
    "        f1 = f1_score(data_list[3], predictions)\n",
    "        if f1 > best_f1:\n",
    "            best_f1 = f1\n",
    "            best_threshold = threshold\n",
    "\n",
    "    print(\"-\" * 79)\n",
    "    if name_list is not None:\n",
    "        print(f\"Результат лучшей модели {name_list}:\\n\")\n",
    "        print(\n",
    "            f\"\\nF1 = {best_f1:.3f} | AUC-ROC = {auc_roc:.3f} | Accuracy = {accuracy:.3f}\\n\"\n",
    "        )\n",
    "        print(f\"Значение порога: {best_threshold}\\n\")\n",
    "    if encoder_names is not None:\n",
    "        print(f\"Encoder: {encoder_names}\\n\")\n",
    "    print(f\"Гипер-параметры: {model.best_params_}\")\n",
    "\n",
    "    score_list.append([best_f1, auc_roc, accuracy])\n",
    "\n",
    "    print(\"-\" * 79)\n",
    "    print()"
   ]
  },
  {
   "cell_type": "code",
   "execution_count": 141,
   "id": "cdbe2dc9-3f09-43b2-8f45-d3f821afc403",
   "metadata": {},
   "outputs": [],
   "source": [
    "special_data_list = [data_downsample_list, data_list, data_list]"
   ]
  },
  {
   "cell_type": "code",
   "execution_count": 142,
   "id": "d97f3f4c-364b-4bf3-94e0-996971a9165d",
   "metadata": {},
   "outputs": [
    {
     "name": "stdout",
     "output_type": "stream",
     "text": [
      "Fitting 5 folds for each of 1152 candidates, totalling 5760 fits\n",
      "-------------------------------------------------------------------------------\n",
      "Результат лучшей модели DecisionTreeClassifier:\n",
      "\n",
      "\n",
      "F1 = 0.595 | AUC-ROC = 0.834 | Accuracy = 0.768\n",
      "\n",
      "Значение порога: 0.61\n",
      "\n",
      "Encoder: OHE\n",
      "\n",
      "Гипер-параметры: {'dtc__class_weight': 'balanced', 'dtc__max_depth': 4, 'dtc__max_features': None, 'dtc__min_samples_leaf': 8, 'dtc__min_samples_split': 2, 'dtc__random_state': 1992, 'dtc__splitter': 'best'}\n",
      "-------------------------------------------------------------------------------\n",
      "\n",
      "Fitting 5 folds for each of 100 candidates, totalling 500 fits\n",
      "-------------------------------------------------------------------------------\n",
      "Результат лучшей модели RandomForestClassifier:\n",
      "\n",
      "\n",
      "F1 = 0.622 | AUC-ROC = 0.857 | Accuracy = 0.814\n",
      "\n",
      "Значение порога: 0.53\n",
      "\n",
      "Encoder: OHE\n",
      "\n",
      "Гипер-параметры: {'rfc__class_weight': 'balanced', 'rfc__max_depth': 8, 'rfc__max_features': 'sqrt', 'rfc__n_estimators': 120, 'rfc__random_state': 1992}\n",
      "-------------------------------------------------------------------------------\n",
      "\n",
      "Fitting 5 folds for each of 125 candidates, totalling 625 fits\n",
      "-------------------------------------------------------------------------------\n",
      "Результат лучшей модели LogisticRegression:\n",
      "\n",
      "\n",
      "F1 = 0.625 | AUC-ROC = 0.854 | Accuracy = 0.770\n",
      "\n",
      "Значение порога: 0.68\n",
      "\n",
      "Encoder: OHE\n",
      "\n",
      "Гипер-параметры: {'lr__C': 10, 'lr__class_weight': 'balanced', 'lr__max_iter': 100, 'lr__random_state': 1992, 'lr__solver': 'liblinear', 'lr__tol': 0.0001}\n",
      "-------------------------------------------------------------------------------\n",
      "\n",
      "Fitting 5 folds for each of 1152 candidates, totalling 5760 fits\n",
      "-------------------------------------------------------------------------------\n",
      "Результат лучшей модели DecisionTreeClassifier:\n",
      "\n",
      "\n",
      "F1 = 0.596 | AUC-ROC = 0.827 | Accuracy = 0.770\n",
      "\n",
      "Значение порога: 0.67\n",
      "\n",
      "Encoder: OE\n",
      "\n",
      "Гипер-параметры: {'dtc__class_weight': 'balanced', 'dtc__max_depth': 16, 'dtc__max_features': None, 'dtc__min_samples_leaf': 9, 'dtc__min_samples_split': 2, 'dtc__random_state': 1992, 'dtc__splitter': 'random'}\n",
      "-------------------------------------------------------------------------------\n",
      "\n",
      "Fitting 5 folds for each of 100 candidates, totalling 500 fits\n",
      "-------------------------------------------------------------------------------\n",
      "Результат лучшей модели RandomForestClassifier:\n",
      "\n",
      "\n",
      "F1 = 0.616 | AUC-ROC = 0.857 | Accuracy = 0.815\n",
      "\n",
      "Значение порога: 0.5700000000000001\n",
      "\n",
      "Encoder: OE\n",
      "\n",
      "Гипер-параметры: {'rfc__class_weight': 'balanced', 'rfc__max_depth': 8, 'rfc__max_features': 'sqrt', 'rfc__n_estimators': 40, 'rfc__random_state': 1992}\n",
      "-------------------------------------------------------------------------------\n",
      "\n",
      "Fitting 5 folds for each of 125 candidates, totalling 625 fits\n",
      "-------------------------------------------------------------------------------\n",
      "Результат лучшей модели LogisticRegression:\n",
      "\n",
      "\n",
      "F1 = 0.540 | AUC-ROC = 0.783 | Accuracy = 0.723\n",
      "\n",
      "Значение порога: 0.64\n",
      "\n",
      "Encoder: OE\n",
      "\n",
      "Гипер-параметры: {'lr__C': 0.01, 'lr__class_weight': 'balanced', 'lr__max_iter': 100, 'lr__random_state': 1992, 'lr__solver': 'liblinear', 'lr__tol': 0.0001}\n",
      "-------------------------------------------------------------------------------\n",
      "\n",
      "CPU times: total: 6.8 s\n",
      "Wall time: 8min 6s\n"
     ]
    }
   ],
   "source": [
    "%%time\n",
    "thresholde_score = []\n",
    "for e, pipe in enumerate(pipe_list):\n",
    "    for i in range(0, 3):\n",
    "        grid_pipeline = GridSearchCV(\n",
    "            pipe[i], \n",
    "            weighed_grid_list[i], \n",
    "            cv=5, \n",
    "            scoring='f1', \n",
    "            return_train_score=True,\n",
    "            verbose=1,\n",
    "            n_jobs=4\n",
    "        )\n",
    "\n",
    "        model_thresholding_abuse(\n",
    "            grid_pipeline, special_data_list[i], \n",
    "            thresholde_score, model_names[i], encoder_names[e]\n",
    "        )"
   ]
  },
  {
   "cell_type": "code",
   "execution_count": 143,
   "id": "2251ccab-1053-4440-882a-ac9c8700c900",
   "metadata": {},
   "outputs": [],
   "source": [
    "threshold_score_df = pd.DataFrame(\n",
    "    thresholde_score,\n",
    "    columns=[\"f1_threshold\", \"auc_roc_threshold\", \"accuracy_threshold\"],\n",
    "    index=[\"dtc_ohe\", \"rfc_ohe\", \"lr_ohe\", \"dtc_oe\", \"rfc_oe\", \"lr_oe\"],\n",
    ").transpose()"
   ]
  },
  {
   "cell_type": "code",
   "execution_count": 144,
   "id": "5a3b48d4-27ee-4039-b05d-8d70892c5b54",
   "metadata": {},
   "outputs": [
    {
     "data": {
      "text/html": [
       "<style type=\"text/css\">\n",
       "#T_96888_row0_col2, #T_96888_row1_col1, #T_96888_row2_col4 {\n",
       "  background-color: lightgreen;\n",
       "}\n",
       "#T_96888_row0_col5, #T_96888_row1_col5, #T_96888_row2_col5 {\n",
       "  background-color: mistyrose;\n",
       "}\n",
       "</style>\n",
       "<table id=\"T_96888\">\n",
       "  <thead>\n",
       "    <tr>\n",
       "      <th class=\"blank level0\" >&nbsp;</th>\n",
       "      <th id=\"T_96888_level0_col0\" class=\"col_heading level0 col0\" >dtc_ohe</th>\n",
       "      <th id=\"T_96888_level0_col1\" class=\"col_heading level0 col1\" >rfc_ohe</th>\n",
       "      <th id=\"T_96888_level0_col2\" class=\"col_heading level0 col2\" >lr_ohe</th>\n",
       "      <th id=\"T_96888_level0_col3\" class=\"col_heading level0 col3\" >dtc_oe</th>\n",
       "      <th id=\"T_96888_level0_col4\" class=\"col_heading level0 col4\" >rfc_oe</th>\n",
       "      <th id=\"T_96888_level0_col5\" class=\"col_heading level0 col5\" >lr_oe</th>\n",
       "    </tr>\n",
       "  </thead>\n",
       "  <tbody>\n",
       "    <tr>\n",
       "      <th id=\"T_96888_level0_row0\" class=\"row_heading level0 row0\" >f1_threshold</th>\n",
       "      <td id=\"T_96888_row0_col0\" class=\"data row0 col0\" >0.594595</td>\n",
       "      <td id=\"T_96888_row0_col1\" class=\"data row0 col1\" >0.621908</td>\n",
       "      <td id=\"T_96888_row0_col2\" class=\"data row0 col2\" >0.624837</td>\n",
       "      <td id=\"T_96888_row0_col3\" class=\"data row0 col3\" >0.596010</td>\n",
       "      <td id=\"T_96888_row0_col4\" class=\"data row0 col4\" >0.616188</td>\n",
       "      <td id=\"T_96888_row0_col5\" class=\"data row0 col5\" >0.539894</td>\n",
       "    </tr>\n",
       "    <tr>\n",
       "      <th id=\"T_96888_level0_row1\" class=\"row_heading level0 row1\" >auc_roc_threshold</th>\n",
       "      <td id=\"T_96888_row1_col0\" class=\"data row1 col0\" >0.834359</td>\n",
       "      <td id=\"T_96888_row1_col1\" class=\"data row1 col1\" >0.857393</td>\n",
       "      <td id=\"T_96888_row1_col2\" class=\"data row1 col2\" >0.854177</td>\n",
       "      <td id=\"T_96888_row1_col3\" class=\"data row1 col3\" >0.826787</td>\n",
       "      <td id=\"T_96888_row1_col4\" class=\"data row1 col4\" >0.856544</td>\n",
       "      <td id=\"T_96888_row1_col5\" class=\"data row1 col5\" >0.782823</td>\n",
       "    </tr>\n",
       "    <tr>\n",
       "      <th id=\"T_96888_level0_row2\" class=\"row_heading level0 row2\" >accuracy_threshold</th>\n",
       "      <td id=\"T_96888_row2_col0\" class=\"data row2 col0\" >0.767987</td>\n",
       "      <td id=\"T_96888_row2_col1\" class=\"data row2 col1\" >0.813869</td>\n",
       "      <td id=\"T_96888_row2_col2\" class=\"data row2 col2\" >0.770073</td>\n",
       "      <td id=\"T_96888_row2_col3\" class=\"data row2 col3\" >0.769552</td>\n",
       "      <td id=\"T_96888_row2_col4\" class=\"data row2 col4\" >0.814911</td>\n",
       "      <td id=\"T_96888_row2_col5\" class=\"data row2 col5\" >0.723149</td>\n",
       "    </tr>\n",
       "  </tbody>\n",
       "</table>\n"
      ],
      "text/plain": [
       "<pandas.io.formats.style.Styler at 0x2268dd5dd30>"
      ]
     },
     "execution_count": 144,
     "metadata": {},
     "output_type": "execute_result"
    }
   ],
   "source": [
    "threshold_score_df.style.highlight_max(color=\"lightgreen\", axis=1).highlight_min(\n",
    "    color=\"mistyrose\", axis=1\n",
    ")"
   ]
  },
  {
   "attachments": {},
   "cell_type": "markdown",
   "id": "6f3b76d6-c28e-4db4-b3c0-33b137e57b51",
   "metadata": {},
   "source": [
    "**Вывод:** благодаря изменению порога классификации все модели преодолели уровень метрики F1 = 0.59, за исключением логистической регрессии при OE-кодировании, что нормально, поскольку OE-кодирование мало применимо в случае логистической регрессии. Лучший показатель F1 = 0.64 имеет случайный лес. "
   ]
  },
  {
   "attachments": {},
   "cell_type": "markdown",
   "id": "84f606dc-f3a4-4f22-b848-ea82c2d5eff2",
   "metadata": {},
   "source": [
    "### Финальные тестирование"
   ]
  },
  {
   "attachments": {},
   "cell_type": "markdown",
   "id": "56c0889c-07d1-40d2-9ea7-72335fbf7a7c",
   "metadata": {},
   "source": [
    "Финальное тестирование подразумевает проверку лучшей модели на тестовых выборках. В нашем случае это RandomForestClassifier с OHE-кодировщиком на выборке без ап/даунсемплинга.  \n",
    "Гипер-параметры лучшей модели: `'rfc__class_weight': 'balanced', 'rfc__max_depth': 8, 'rfc__max_features': 'sqrt', 'rfc__n_estimators': 200, 'rfc__random_state': 1992`"
   ]
  },
  {
   "cell_type": "code",
   "execution_count": 145,
   "id": "c02799f7-e9c7-45b0-b142-27da711cb199",
   "metadata": {},
   "outputs": [],
   "source": [
    "data_list_test = [X_train, y_train, X_test, y_test]"
   ]
  },
  {
   "cell_type": "code",
   "execution_count": 146,
   "id": "fc61caef-f57a-4438-86e4-ad7c026eb7a1",
   "metadata": {},
   "outputs": [
    {
     "name": "stdout",
     "output_type": "stream",
     "text": [
      "-------------------------------------------------------------------------------\n",
      "Результат лучшей модели на тестовой выборке:\n",
      "\n",
      "F1 = 0.607 | AUC-ROC = 0.861 | Accuracy = 0.818\n",
      "\n",
      "Encoder: OHE\n",
      "\n",
      "-------------------------------------------------------------------------------\n"
     ]
    }
   ],
   "source": [
    "best_rfc_pipeline = Pipeline(\n",
    "    [\n",
    "        (\"ohe\", ohe_sclaled_pipeline),\n",
    "        (\n",
    "            \"rfc\",\n",
    "            RandomForestClassifier(\n",
    "                class_weight=\"balanced\",\n",
    "                max_depth=8,\n",
    "                max_features=\"sqrt\",\n",
    "                n_estimators=200,\n",
    "                random_state=chosen_rand_st,\n",
    "            ),\n",
    "        ),\n",
    "    ]\n",
    ")\n",
    "model = best_rfc_pipeline.fit(data_list_test[0], data_list_test[1])\n",
    "predictions = model.predict(data_list_test[2])\n",
    "\n",
    "probabilities = model.predict_proba(data_list_test[2])\n",
    "probabilities_one = probabilities[:, 1]\n",
    "\n",
    "auc_roc = roc_auc_score(data_list_test[3], probabilities_one)\n",
    "\n",
    "accuracy = accuracy_score(data_list_test[3], predictions)\n",
    "\n",
    "f1 = f1_score(data_list_test[3], predictions)\n",
    "\n",
    "print(\"-\" * 79)\n",
    "print(f\"Результат лучшей модели на тестовой выборке:\\n\")\n",
    "print(f\"F1 = {f1:.3f} | AUC-ROC = {auc_roc:.3f} | Accuracy = {accuracy:.3f}\\n\")\n",
    "print(f\"Encoder: {encoder_names[0]}\\n\")\n",
    "print(\"-\" * 79)"
   ]
  },
  {
   "attachments": {},
   "cell_type": "markdown",
   "id": "2ce318ba-90a0-4eea-8502-a4a77e95b474",
   "metadata": {},
   "source": [
    "**Вывод:** случайный лес подтвердил показатель F1 > 0.59 на тестовой выборке. "
   ]
  },
  {
   "attachments": {},
   "cell_type": "markdown",
   "id": "a823c191-78fd-4451-94eb-c57e6364dfcb",
   "metadata": {},
   "source": [
    "### Проверка на вменяемость"
   ]
  },
  {
   "attachments": {},
   "cell_type": "markdown",
   "id": "18d074b2-2b5c-4866-8945-78c7abd6aa14",
   "metadata": {},
   "source": [
    "Сравним лучшие модели с dummy-моделью, обученной на соответствующих данных"
   ]
  },
  {
   "cell_type": "code",
   "execution_count": 147,
   "id": "8f49330a-121a-445b-932f-20b7e70d0f81",
   "metadata": {},
   "outputs": [
    {
     "name": "stdout",
     "output_type": "stream",
     "text": [
      "Метрики dummy-модели при OHE-кодировании\n",
      "F1 = 0.000 | Accuracy = 0.797 | AUC-ROC = 0.500\n"
     ]
    }
   ],
   "source": [
    "dummy_pipeline = Pipeline(\n",
    "    [(\"ohe\", ohe_sclaled_pipeline), (\"rfc\", DummyClassifier(strategy=\"most_frequent\"))]\n",
    ")\n",
    "\n",
    "dummy_pipeline.fit(X_train, y_train)\n",
    "dummy_predictions = dummy_pipeline.predict(X_test)\n",
    "\n",
    "f1_dummy = f1_score(y_test, dummy_predictions)\n",
    "accuracy_dummy = dummy_pipeline.score(X_test, y_test)\n",
    "\n",
    "probabilities = dummy_pipeline.predict_proba(X_test)\n",
    "probabilities_one = probabilities[:, 1]\n",
    "auc_roc_dummy = roc_auc_score(y_test, probabilities_one)\n",
    "print(\"Метрики dummy-модели при OHE-кодировании\")\n",
    "print(\n",
    "    f\"F1 = {f1_dummy:.3f} | Accuracy = {accuracy_dummy:.3f} | AUC-ROC = {auc_roc_dummy:.3f}\"\n",
    ")"
   ]
  },
  {
   "attachments": {},
   "cell_type": "markdown",
   "id": "ee477ef8-257b-4766-b234-d272173de9f3",
   "metadata": {},
   "source": [
    "Проверка пройдена (но вот ту я не уверен, должно ли быть F1 = 0)"
   ]
  },
  {
   "attachments": {},
   "cell_type": "markdown",
   "id": "c962699d",
   "metadata": {},
   "source": [
    "### Общие результаты"
   ]
  },
  {
   "attachments": {},
   "cell_type": "markdown",
   "id": "57d2c648-67fd-4fb8-b515-ed290bfa3349",
   "metadata": {},
   "source": [
    "Соберем все результаты в одну таблицу: "
   ]
  },
  {
   "cell_type": "code",
   "execution_count": 148,
   "id": "a54c4c6a-aad8-4bf6-828c-242bd99e7a82",
   "metadata": {},
   "outputs": [],
   "source": [
    "total_sampling_score = pd.concat([upsample_score_df, downsmaple_score_df], axis=0)\n",
    "temp_summary = pd.concat([total_weighing_score, total_sampling_score], axis=0)"
   ]
  },
  {
   "cell_type": "code",
   "execution_count": 149,
   "id": "b42ff59f-7586-4a72-a623-da9914108f21",
   "metadata": {},
   "outputs": [],
   "source": [
    "final_summary = pd.concat([temp_summary, threshold_score_df], axis=0)"
   ]
  },
  {
   "attachments": {},
   "cell_type": "markdown",
   "id": "7da341bc-4ef5-48c1-aa1b-e848edd24c9e",
   "metadata": {},
   "source": [
    "## Заключение"
   ]
  },
  {
   "cell_type": "code",
   "execution_count": 150,
   "id": "0b8fb93a-c061-46e7-870e-ef90cbca769b",
   "metadata": {},
   "outputs": [
    {
     "data": {
      "text/html": [
       "<style type=\"text/css\">\n",
       "#T_5c3ca_row0_col1, #T_5c3ca_row0_col4, #T_5c3ca_row0_col5, #T_5c3ca_row1_col2, #T_5c3ca_row2_col0, #T_5c3ca_row2_col2, #T_5c3ca_row2_col3 {\n",
       "  background-color: mistyrose;\n",
       "}\n",
       "#T_5c3ca_row4_col0, #T_5c3ca_row4_col1, #T_5c3ca_row4_col2, #T_5c3ca_row4_col3, #T_5c3ca_row4_col4, #T_5c3ca_row4_col5 {\n",
       "  background-color: lightgreen;\n",
       "}\n",
       "</style>\n",
       "<table id=\"T_5c3ca\">\n",
       "  <thead>\n",
       "    <tr>\n",
       "      <th class=\"blank level0\" >&nbsp;</th>\n",
       "      <th id=\"T_5c3ca_level0_col0\" class=\"col_heading level0 col0\" >dtc_ohe</th>\n",
       "      <th id=\"T_5c3ca_level0_col1\" class=\"col_heading level0 col1\" >rfc_ohe</th>\n",
       "      <th id=\"T_5c3ca_level0_col2\" class=\"col_heading level0 col2\" >lr_ohe</th>\n",
       "      <th id=\"T_5c3ca_level0_col3\" class=\"col_heading level0 col3\" >dtc_oe</th>\n",
       "      <th id=\"T_5c3ca_level0_col4\" class=\"col_heading level0 col4\" >rfc_oe</th>\n",
       "      <th id=\"T_5c3ca_level0_col5\" class=\"col_heading level0 col5\" >lr_oe</th>\n",
       "    </tr>\n",
       "  </thead>\n",
       "  <tbody>\n",
       "    <tr>\n",
       "      <th id=\"T_5c3ca_level0_row0\" class=\"row_heading level0 row0\" >f1_unweighed</th>\n",
       "      <td id=\"T_5c3ca_row0_col0\" class=\"data row0 col0\" >0.549080</td>\n",
       "      <td id=\"T_5c3ca_row0_col1\" class=\"data row0 col1\" >0.576271</td>\n",
       "      <td id=\"T_5c3ca_row0_col2\" class=\"data row0 col2\" >0.587500</td>\n",
       "      <td id=\"T_5c3ca_row0_col3\" class=\"data row0 col3\" >0.569678</td>\n",
       "      <td id=\"T_5c3ca_row0_col4\" class=\"data row0 col4\" >0.564593</td>\n",
       "      <td id=\"T_5c3ca_row0_col5\" class=\"data row0 col5\" >0.419183</td>\n",
       "    </tr>\n",
       "    <tr>\n",
       "      <th id=\"T_5c3ca_level0_row1\" class=\"row_heading level0 row1\" >f1_weighed</th>\n",
       "      <td id=\"T_5c3ca_row1_col0\" class=\"data row1 col0\" >0.562561</td>\n",
       "      <td id=\"T_5c3ca_row1_col1\" class=\"data row1 col1\" >0.605525</td>\n",
       "      <td id=\"T_5c3ca_row1_col2\" class=\"data row1 col2\" >0.571429</td>\n",
       "      <td id=\"T_5c3ca_row1_col3\" class=\"data row1 col3\" >0.581818</td>\n",
       "      <td id=\"T_5c3ca_row1_col4\" class=\"data row1 col4\" >0.600675</td>\n",
       "      <td id=\"T_5c3ca_row1_col5\" class=\"data row1 col5\" >0.506964</td>\n",
       "    </tr>\n",
       "    <tr>\n",
       "      <th id=\"T_5c3ca_level0_row2\" class=\"row_heading level0 row2\" >f1_upsample</th>\n",
       "      <td id=\"T_5c3ca_row2_col0\" class=\"data row2 col0\" >0.482100</td>\n",
       "      <td id=\"T_5c3ca_row2_col1\" class=\"data row2 col1\" >0.585774</td>\n",
       "      <td id=\"T_5c3ca_row2_col2\" class=\"data row2 col2\" >0.571429</td>\n",
       "      <td id=\"T_5c3ca_row2_col3\" class=\"data row2 col3\" >0.505689</td>\n",
       "      <td id=\"T_5c3ca_row2_col4\" class=\"data row2 col4\" >0.594901</td>\n",
       "      <td id=\"T_5c3ca_row2_col5\" class=\"data row2 col5\" >0.514392</td>\n",
       "    </tr>\n",
       "    <tr>\n",
       "      <th id=\"T_5c3ca_level0_row3\" class=\"row_heading level0 row3\" >f1_downsmaple</th>\n",
       "      <td id=\"T_5c3ca_row3_col0\" class=\"data row3 col0\" >0.570048</td>\n",
       "      <td id=\"T_5c3ca_row3_col1\" class=\"data row3 col1\" >0.582834</td>\n",
       "      <td id=\"T_5c3ca_row3_col2\" class=\"data row3 col2\" >0.584555</td>\n",
       "      <td id=\"T_5c3ca_row3_col3\" class=\"data row3 col3\" >0.548980</td>\n",
       "      <td id=\"T_5c3ca_row3_col4\" class=\"data row3 col4\" >0.575024</td>\n",
       "      <td id=\"T_5c3ca_row3_col5\" class=\"data row3 col5\" >0.512821</td>\n",
       "    </tr>\n",
       "    <tr>\n",
       "      <th id=\"T_5c3ca_level0_row4\" class=\"row_heading level0 row4\" >f1_threshold</th>\n",
       "      <td id=\"T_5c3ca_row4_col0\" class=\"data row4 col0\" >0.594595</td>\n",
       "      <td id=\"T_5c3ca_row4_col1\" class=\"data row4 col1\" >0.621908</td>\n",
       "      <td id=\"T_5c3ca_row4_col2\" class=\"data row4 col2\" >0.624837</td>\n",
       "      <td id=\"T_5c3ca_row4_col3\" class=\"data row4 col3\" >0.596010</td>\n",
       "      <td id=\"T_5c3ca_row4_col4\" class=\"data row4 col4\" >0.616188</td>\n",
       "      <td id=\"T_5c3ca_row4_col5\" class=\"data row4 col5\" >0.539894</td>\n",
       "    </tr>\n",
       "  </tbody>\n",
       "</table>\n"
      ],
      "text/plain": [
       "<pandas.io.formats.style.Styler at 0x22692924130>"
      ]
     },
     "execution_count": 150,
     "metadata": {},
     "output_type": "execute_result"
    }
   ],
   "source": [
    "final_summary.loc[\n",
    "    [\"f1_unweighed\", \"f1_weighed\", \"f1_upsample\", \"f1_downsmaple\", \"f1_threshold\"], :\n",
    "].style.highlight_max(color=\"lightgreen\", axis=0).highlight_min(\n",
    "    color=\"mistyrose\", axis=0\n",
    ")"
   ]
  },
  {
   "cell_type": "code",
   "execution_count": 151,
   "id": "b21477be-f454-4ce2-9761-a22aa7a8cd21",
   "metadata": {},
   "outputs": [
    {
     "data": {
      "text/html": [
       "<style type=\"text/css\">\n",
       "#T_4ebc4_row0_col5, #T_4ebc4_row1_col2, #T_4ebc4_row2_col0, #T_4ebc4_row2_col1, #T_4ebc4_row2_col3, #T_4ebc4_row3_col4, #T_4ebc4_row4_col2 {\n",
       "  background-color: mistyrose;\n",
       "}\n",
       "#T_4ebc4_row1_col0, #T_4ebc4_row1_col4, #T_4ebc4_row2_col5, #T_4ebc4_row3_col1, #T_4ebc4_row3_col2, #T_4ebc4_row3_col3, #T_4ebc4_row4_col3, #T_4ebc4_row4_col4 {\n",
       "  background-color: lightgreen;\n",
       "}\n",
       "</style>\n",
       "<table id=\"T_4ebc4\">\n",
       "  <thead>\n",
       "    <tr>\n",
       "      <th class=\"blank level0\" >&nbsp;</th>\n",
       "      <th id=\"T_4ebc4_level0_col0\" class=\"col_heading level0 col0\" >dtc_ohe</th>\n",
       "      <th id=\"T_4ebc4_level0_col1\" class=\"col_heading level0 col1\" >rfc_ohe</th>\n",
       "      <th id=\"T_4ebc4_level0_col2\" class=\"col_heading level0 col2\" >lr_ohe</th>\n",
       "      <th id=\"T_4ebc4_level0_col3\" class=\"col_heading level0 col3\" >dtc_oe</th>\n",
       "      <th id=\"T_4ebc4_level0_col4\" class=\"col_heading level0 col4\" >rfc_oe</th>\n",
       "      <th id=\"T_4ebc4_level0_col5\" class=\"col_heading level0 col5\" >lr_oe</th>\n",
       "    </tr>\n",
       "  </thead>\n",
       "  <tbody>\n",
       "    <tr>\n",
       "      <th id=\"T_4ebc4_level0_row0\" class=\"row_heading level0 row0\" >auc_roc_unweighed</th>\n",
       "      <td id=\"T_4ebc4_row0_col0\" class=\"data row0 col0\" >0.811775</td>\n",
       "      <td id=\"T_4ebc4_row0_col1\" class=\"data row0 col1\" >0.850643</td>\n",
       "      <td id=\"T_4ebc4_row0_col2\" class=\"data row0 col2\" >0.854889</td>\n",
       "      <td id=\"T_4ebc4_row0_col3\" class=\"data row0 col3\" >0.791811</td>\n",
       "      <td id=\"T_4ebc4_row0_col4\" class=\"data row0 col4\" >0.856540</td>\n",
       "      <td id=\"T_4ebc4_row0_col5\" class=\"data row0 col5\" >0.780889</td>\n",
       "    </tr>\n",
       "    <tr>\n",
       "      <th id=\"T_4ebc4_level0_row1\" class=\"row_heading level0 row1\" >auc_roc_weighed</th>\n",
       "      <td id=\"T_4ebc4_row1_col0\" class=\"data row1 col0\" >0.842930</td>\n",
       "      <td id=\"T_4ebc4_row1_col1\" class=\"data row1 col1\" >0.857393</td>\n",
       "      <td id=\"T_4ebc4_row1_col2\" class=\"data row1 col2\" >0.854177</td>\n",
       "      <td id=\"T_4ebc4_row1_col3\" class=\"data row1 col3\" >0.825459</td>\n",
       "      <td id=\"T_4ebc4_row1_col4\" class=\"data row1 col4\" >0.856544</td>\n",
       "      <td id=\"T_4ebc4_row1_col5\" class=\"data row1 col5\" >0.782823</td>\n",
       "    </tr>\n",
       "    <tr>\n",
       "      <th id=\"T_4ebc4_level0_row2\" class=\"row_heading level0 row2\" >auc_roc_upsample</th>\n",
       "      <td id=\"T_4ebc4_row2_col0\" class=\"data row2 col0\" >0.684570</td>\n",
       "      <td id=\"T_4ebc4_row2_col1\" class=\"data row2 col1\" >0.844186</td>\n",
       "      <td id=\"T_4ebc4_row2_col2\" class=\"data row2 col2\" >0.854180</td>\n",
       "      <td id=\"T_4ebc4_row2_col3\" class=\"data row2 col3\" >0.692797</td>\n",
       "      <td id=\"T_4ebc4_row2_col4\" class=\"data row2 col4\" >0.846252</td>\n",
       "      <td id=\"T_4ebc4_row2_col5\" class=\"data row2 col5\" >0.783103</td>\n",
       "    </tr>\n",
       "    <tr>\n",
       "      <th id=\"T_4ebc4_level0_row3\" class=\"row_heading level0 row3\" >auc_roc_downsmaple</th>\n",
       "      <td id=\"T_4ebc4_row3_col0\" class=\"data row3 col0\" >0.834359</td>\n",
       "      <td id=\"T_4ebc4_row3_col1\" class=\"data row3 col1\" >0.863166</td>\n",
       "      <td id=\"T_4ebc4_row3_col2\" class=\"data row3 col2\" >0.854923</td>\n",
       "      <td id=\"T_4ebc4_row3_col3\" class=\"data row3 col3\" >0.826787</td>\n",
       "      <td id=\"T_4ebc4_row3_col4\" class=\"data row3 col4\" >0.845782</td>\n",
       "      <td id=\"T_4ebc4_row3_col5\" class=\"data row3 col5\" >0.781562</td>\n",
       "    </tr>\n",
       "    <tr>\n",
       "      <th id=\"T_4ebc4_level0_row4\" class=\"row_heading level0 row4\" >auc_roc_threshold</th>\n",
       "      <td id=\"T_4ebc4_row4_col0\" class=\"data row4 col0\" >0.834359</td>\n",
       "      <td id=\"T_4ebc4_row4_col1\" class=\"data row4 col1\" >0.857393</td>\n",
       "      <td id=\"T_4ebc4_row4_col2\" class=\"data row4 col2\" >0.854177</td>\n",
       "      <td id=\"T_4ebc4_row4_col3\" class=\"data row4 col3\" >0.826787</td>\n",
       "      <td id=\"T_4ebc4_row4_col4\" class=\"data row4 col4\" >0.856544</td>\n",
       "      <td id=\"T_4ebc4_row4_col5\" class=\"data row4 col5\" >0.782823</td>\n",
       "    </tr>\n",
       "  </tbody>\n",
       "</table>\n"
      ],
      "text/plain": [
       "<pandas.io.formats.style.Styler at 0x2269375c970>"
      ]
     },
     "execution_count": 151,
     "metadata": {},
     "output_type": "execute_result"
    }
   ],
   "source": [
    "final_summary.loc[\n",
    "    [\n",
    "        \"auc_roc_unweighed\",\n",
    "        \"auc_roc_weighed\",\n",
    "        \"auc_roc_upsample\",\n",
    "        \"auc_roc_downsmaple\",\n",
    "        \"auc_roc_threshold\",\n",
    "    ],\n",
    "    :,\n",
    "].style.highlight_max(color=\"lightgreen\", axis=0).highlight_min(\n",
    "    color=\"mistyrose\", axis=0\n",
    ")"
   ]
  },
  {
   "cell_type": "code",
   "execution_count": 152,
   "id": "af697069-cc63-49a9-8f12-bca258492787",
   "metadata": {},
   "outputs": [
    {
     "data": {
      "text/html": [
       "<style type=\"text/css\">\n",
       "#T_1c88b_row0_col0, #T_1c88b_row0_col1, #T_1c88b_row0_col2, #T_1c88b_row0_col3, #T_1c88b_row0_col4, #T_1c88b_row0_col5 {\n",
       "  background-color: lightgreen;\n",
       "}\n",
       "#T_1c88b_row1_col0, #T_1c88b_row1_col2, #T_1c88b_row2_col2, #T_1c88b_row3_col1, #T_1c88b_row3_col3, #T_1c88b_row3_col4, #T_1c88b_row3_col5, #T_1c88b_row4_col2, #T_1c88b_row4_col3 {\n",
       "  background-color: mistyrose;\n",
       "}\n",
       "</style>\n",
       "<table id=\"T_1c88b\">\n",
       "  <thead>\n",
       "    <tr>\n",
       "      <th class=\"blank level0\" >&nbsp;</th>\n",
       "      <th id=\"T_1c88b_level0_col0\" class=\"col_heading level0 col0\" >dtc_ohe</th>\n",
       "      <th id=\"T_1c88b_level0_col1\" class=\"col_heading level0 col1\" >rfc_ohe</th>\n",
       "      <th id=\"T_1c88b_level0_col2\" class=\"col_heading level0 col2\" >lr_ohe</th>\n",
       "      <th id=\"T_1c88b_level0_col3\" class=\"col_heading level0 col3\" >dtc_oe</th>\n",
       "      <th id=\"T_1c88b_level0_col4\" class=\"col_heading level0 col4\" >rfc_oe</th>\n",
       "      <th id=\"T_1c88b_level0_col5\" class=\"col_heading level0 col5\" >lr_oe</th>\n",
       "    </tr>\n",
       "  </thead>\n",
       "  <tbody>\n",
       "    <tr>\n",
       "      <th id=\"T_1c88b_level0_row0\" class=\"row_heading level0 row0\" >accuracy_unweighed</th>\n",
       "      <td id=\"T_1c88b_row0_col0\" class=\"data row0 col0\" >0.846715</td>\n",
       "      <td id=\"T_1c88b_row0_col1\" class=\"data row0 col1\" >0.856621</td>\n",
       "      <td id=\"T_1c88b_row0_col2\" class=\"data row0 col2\" >0.862357</td>\n",
       "      <td id=\"T_1c88b_row0_col3\" class=\"data row0 col3\" >0.853493</td>\n",
       "      <td id=\"T_1c88b_row0_col4\" class=\"data row0 col4\" >0.857664</td>\n",
       "      <td id=\"T_1c88b_row0_col5\" class=\"data row0 col5\" >0.829510</td>\n",
       "    </tr>\n",
       "    <tr>\n",
       "      <th id=\"T_1c88b_level0_row1\" class=\"row_heading level0 row1\" >accuracy_weighed</th>\n",
       "      <td id=\"T_1c88b_row1_col0\" class=\"data row1 col0\" >0.764859</td>\n",
       "      <td id=\"T_1c88b_row1_col1\" class=\"data row1 col1\" >0.813869</td>\n",
       "      <td id=\"T_1c88b_row1_col2\" class=\"data row1 col2\" >0.770073</td>\n",
       "      <td id=\"T_1c88b_row1_col3\" class=\"data row1 col3\" >0.808133</td>\n",
       "      <td id=\"T_1c88b_row1_col4\" class=\"data row1 col4\" >0.814911</td>\n",
       "      <td id=\"T_1c88b_row1_col5\" class=\"data row1 col5\" >0.723149</td>\n",
       "    </tr>\n",
       "    <tr>\n",
       "      <th id=\"T_1c88b_level0_row2\" class=\"row_heading level0 row2\" >accuracy_upsample</th>\n",
       "      <td id=\"T_1c88b_row2_col0\" class=\"data row2 col0\" >0.773723</td>\n",
       "      <td id=\"T_1c88b_row2_col1\" class=\"data row2 col1\" >0.845151</td>\n",
       "      <td id=\"T_1c88b_row2_col2\" class=\"data row2 col2\" >0.770073</td>\n",
       "      <td id=\"T_1c88b_row2_col3\" class=\"data row2 col3\" >0.796142</td>\n",
       "      <td id=\"T_1c88b_row2_col4\" class=\"data row2 col4\" >0.850886</td>\n",
       "      <td id=\"T_1c88b_row2_col5\" class=\"data row2 col5\" >0.727320</td>\n",
       "    </tr>\n",
       "    <tr>\n",
       "      <th id=\"T_1c88b_level0_row3\" class=\"row_heading level0 row3\" >accuracy_downsmaple</th>\n",
       "      <td id=\"T_1c88b_row3_col0\" class=\"data row3 col0\" >0.767987</td>\n",
       "      <td id=\"T_1c88b_row3_col1\" class=\"data row3 col1\" >0.782065</td>\n",
       "      <td id=\"T_1c88b_row3_col2\" class=\"data row3 col2\" >0.778415</td>\n",
       "      <td id=\"T_1c88b_row3_col3\" class=\"data row3 col3\" >0.769552</td>\n",
       "      <td id=\"T_1c88b_row3_col4\" class=\"data row3 col4\" >0.771116</td>\n",
       "      <td id=\"T_1c88b_row3_col5\" class=\"data row3 col5\" >0.722628</td>\n",
       "    </tr>\n",
       "    <tr>\n",
       "      <th id=\"T_1c88b_level0_row4\" class=\"row_heading level0 row4\" >accuracy_threshold</th>\n",
       "      <td id=\"T_1c88b_row4_col0\" class=\"data row4 col0\" >0.767987</td>\n",
       "      <td id=\"T_1c88b_row4_col1\" class=\"data row4 col1\" >0.813869</td>\n",
       "      <td id=\"T_1c88b_row4_col2\" class=\"data row4 col2\" >0.770073</td>\n",
       "      <td id=\"T_1c88b_row4_col3\" class=\"data row4 col3\" >0.769552</td>\n",
       "      <td id=\"T_1c88b_row4_col4\" class=\"data row4 col4\" >0.814911</td>\n",
       "      <td id=\"T_1c88b_row4_col5\" class=\"data row4 col5\" >0.723149</td>\n",
       "    </tr>\n",
       "  </tbody>\n",
       "</table>\n"
      ],
      "text/plain": [
       "<pandas.io.formats.style.Styler at 0x226928242b0>"
      ]
     },
     "execution_count": 152,
     "metadata": {},
     "output_type": "execute_result"
    }
   ],
   "source": [
    "final_summary.loc[\n",
    "    [\n",
    "        \"accuracy_unweighed\",\n",
    "        \"accuracy_weighed\",\n",
    "        \"accuracy_upsample\",\n",
    "        \"accuracy_downsmaple\",\n",
    "        \"accuracy_threshold\",\n",
    "    ],\n",
    "    :,\n",
    "].style.highlight_max(color=\"lightgreen\", axis=0).highlight_min(\n",
    "    color=\"mistyrose\", axis=0\n",
    ")"
   ]
  },
  {
   "attachments": {},
   "cell_type": "markdown",
   "id": "c321bb6e-4b03-4553-909b-200eef0414bf",
   "metadata": {
    "tags": []
   },
   "source": [
    "В результате оптимизации гипер-параметров и применения различных техник обработки параметров, были определены оптимальные условия для получения наибольшей F1-метрики: \n",
    "- Взвешивание классов позволило улучшить показатели\n",
    "- Ап/даунсемплинг оказался бессмысленен во всех случаях, кроме дерева решений при OHE-кодировании\n",
    "- Изменение порога классификации позволяет получить метрику F1 > 0.59 для всех моделей, кроме логистической регрессии при OE-кодировании"
   ]
  },
  {
   "cell_type": "code",
   "execution_count": null,
   "id": "5e9597d1-e279-41cc-8d8f-59cad464bf70",
   "metadata": {},
   "outputs": [],
   "source": []
  },
  {
   "cell_type": "code",
   "execution_count": null,
   "id": "27e78d15",
   "metadata": {},
   "outputs": [],
   "source": []
  }
 ],
 "metadata": {
  "ExecuteTimeLog": [
   {
    "duration": 52,
    "start_time": "2023-01-23T20:30:49.478Z"
   },
   {
    "duration": 8,
    "start_time": "2023-01-23T20:54:49.525Z"
   },
   {
    "duration": 1456,
    "start_time": "2023-01-23T20:57:36.332Z"
   },
   {
    "duration": 195,
    "start_time": "2023-01-23T20:57:37.790Z"
   },
   {
    "duration": 19,
    "start_time": "2023-01-23T20:57:37.987Z"
   },
   {
    "duration": 12,
    "start_time": "2023-01-23T20:57:38.007Z"
   },
   {
    "duration": 40,
    "start_time": "2023-01-23T20:57:38.021Z"
   },
   {
    "duration": 33,
    "start_time": "2023-01-23T20:57:38.062Z"
   },
   {
    "duration": 4,
    "start_time": "2023-01-23T20:57:38.096Z"
   },
   {
    "duration": 10,
    "start_time": "2023-01-23T20:57:38.102Z"
   },
   {
    "duration": 3,
    "start_time": "2023-01-23T20:57:38.113Z"
   },
   {
    "duration": 1285,
    "start_time": "2023-01-23T20:57:38.117Z"
   },
   {
    "duration": 6,
    "start_time": "2023-01-23T20:57:39.404Z"
   },
   {
    "duration": 6,
    "start_time": "2023-01-23T20:57:39.412Z"
   },
   {
    "duration": 5,
    "start_time": "2023-01-23T20:57:39.419Z"
   },
   {
    "duration": 10,
    "start_time": "2023-01-23T20:57:39.427Z"
   },
   {
    "duration": 5,
    "start_time": "2023-01-23T20:57:39.439Z"
   },
   {
    "duration": 2,
    "start_time": "2023-01-23T20:57:39.445Z"
   },
   {
    "duration": 4,
    "start_time": "2023-01-23T20:57:39.449Z"
   },
   {
    "duration": 38,
    "start_time": "2023-01-23T20:57:39.454Z"
   },
   {
    "duration": 6,
    "start_time": "2023-01-23T20:57:39.493Z"
   },
   {
    "duration": 6,
    "start_time": "2023-01-23T20:57:39.500Z"
   },
   {
    "duration": 99,
    "start_time": "2023-01-23T20:57:39.508Z"
   },
   {
    "duration": 16,
    "start_time": "2023-01-23T20:57:39.609Z"
   },
   {
    "duration": 112,
    "start_time": "2023-01-23T20:57:39.626Z"
   },
   {
    "duration": 7,
    "start_time": "2023-01-23T20:57:39.740Z"
   },
   {
    "duration": 7,
    "start_time": "2023-01-23T20:57:39.749Z"
   },
   {
    "duration": 108,
    "start_time": "2023-01-23T20:57:39.758Z"
   },
   {
    "duration": 111,
    "start_time": "2023-01-23T20:57:39.867Z"
   },
   {
    "duration": 11,
    "start_time": "2023-01-23T20:57:39.980Z"
   },
   {
    "duration": 14,
    "start_time": "2023-01-23T20:57:39.993Z"
   },
   {
    "duration": 8,
    "start_time": "2023-01-23T20:57:40.009Z"
   },
   {
    "duration": 17,
    "start_time": "2023-01-23T20:57:40.018Z"
   },
   {
    "duration": 13,
    "start_time": "2023-01-23T20:57:40.037Z"
   },
   {
    "duration": 11,
    "start_time": "2023-01-23T20:57:40.051Z"
   },
   {
    "duration": 14,
    "start_time": "2023-01-23T20:57:40.064Z"
   },
   {
    "duration": 18,
    "start_time": "2023-01-23T20:57:40.080Z"
   },
   {
    "duration": 17,
    "start_time": "2023-01-23T20:57:40.100Z"
   },
   {
    "duration": 6,
    "start_time": "2023-01-23T20:57:40.118Z"
   },
   {
    "duration": 9,
    "start_time": "2023-01-23T20:57:40.125Z"
   },
   {
    "duration": 6,
    "start_time": "2023-01-23T20:57:40.135Z"
   },
   {
    "duration": 9,
    "start_time": "2023-01-23T20:57:40.142Z"
   },
   {
    "duration": 9,
    "start_time": "2023-01-23T20:57:40.155Z"
   },
   {
    "duration": 8,
    "start_time": "2023-01-23T20:57:40.166Z"
   },
   {
    "duration": 5,
    "start_time": "2023-01-23T20:57:40.175Z"
   },
   {
    "duration": 5,
    "start_time": "2023-01-23T20:57:40.182Z"
   },
   {
    "duration": 1350,
    "start_time": "2023-01-23T20:58:29.053Z"
   },
   {
    "duration": 65,
    "start_time": "2023-01-23T20:58:30.406Z"
   },
   {
    "duration": 18,
    "start_time": "2023-01-23T20:58:30.473Z"
   },
   {
    "duration": 40,
    "start_time": "2023-01-23T20:58:30.493Z"
   },
   {
    "duration": 53,
    "start_time": "2023-01-23T20:58:30.534Z"
   },
   {
    "duration": 12,
    "start_time": "2023-01-23T20:58:30.589Z"
   },
   {
    "duration": 22,
    "start_time": "2023-01-23T20:58:30.603Z"
   },
   {
    "duration": 25,
    "start_time": "2023-01-23T20:58:30.626Z"
   },
   {
    "duration": 13,
    "start_time": "2023-01-23T20:58:30.653Z"
   },
   {
    "duration": 1362,
    "start_time": "2023-01-23T20:58:30.669Z"
   },
   {
    "duration": 60,
    "start_time": "2023-01-23T20:58:32.033Z"
   },
   {
    "duration": 13,
    "start_time": "2023-01-23T20:58:32.094Z"
   },
   {
    "duration": 7,
    "start_time": "2023-01-23T20:58:32.110Z"
   },
   {
    "duration": 29,
    "start_time": "2023-01-23T20:58:32.119Z"
   },
   {
    "duration": 6,
    "start_time": "2023-01-23T20:58:32.193Z"
   },
   {
    "duration": 6,
    "start_time": "2023-01-23T20:58:32.200Z"
   },
   {
    "duration": 7,
    "start_time": "2023-01-23T20:58:32.207Z"
   },
   {
    "duration": 11,
    "start_time": "2023-01-23T20:58:32.216Z"
   },
   {
    "duration": 18,
    "start_time": "2023-01-23T20:58:32.228Z"
   },
   {
    "duration": 45,
    "start_time": "2023-01-23T20:58:32.248Z"
   },
   {
    "duration": 198,
    "start_time": "2023-01-23T20:58:32.296Z"
   },
   {
    "duration": 15,
    "start_time": "2023-01-23T20:58:32.495Z"
   },
   {
    "duration": 201,
    "start_time": "2023-01-23T20:58:32.511Z"
   },
   {
    "duration": 6,
    "start_time": "2023-01-23T20:58:32.713Z"
   },
   {
    "duration": 20,
    "start_time": "2023-01-23T20:58:32.720Z"
   },
   {
    "duration": 144,
    "start_time": "2023-01-23T20:58:32.791Z"
   },
   {
    "duration": 263,
    "start_time": "2023-01-23T20:58:32.937Z"
   },
   {
    "duration": 5,
    "start_time": "2023-01-23T20:58:33.207Z"
   },
   {
    "duration": 87,
    "start_time": "2023-01-23T20:58:33.216Z"
   },
   {
    "duration": 25,
    "start_time": "2023-01-23T20:58:33.306Z"
   },
   {
    "duration": 61,
    "start_time": "2023-01-23T20:58:33.332Z"
   },
   {
    "duration": 11,
    "start_time": "2023-01-23T20:58:33.394Z"
   },
   {
    "duration": 14,
    "start_time": "2023-01-23T20:58:33.406Z"
   },
   {
    "duration": 10,
    "start_time": "2023-01-23T20:58:33.422Z"
   },
   {
    "duration": 11,
    "start_time": "2023-01-23T20:58:33.434Z"
   },
   {
    "duration": 45,
    "start_time": "2023-01-23T20:58:33.447Z"
   },
   {
    "duration": 12,
    "start_time": "2023-01-23T20:58:33.494Z"
   },
   {
    "duration": 18,
    "start_time": "2023-01-23T20:58:33.507Z"
   },
   {
    "duration": 16,
    "start_time": "2023-01-23T20:58:33.526Z"
   },
   {
    "duration": 49,
    "start_time": "2023-01-23T20:58:33.543Z"
   },
   {
    "duration": 15,
    "start_time": "2023-01-23T20:58:33.594Z"
   },
   {
    "duration": 11,
    "start_time": "2023-01-23T20:58:33.611Z"
   },
   {
    "duration": 5,
    "start_time": "2023-01-23T20:58:33.623Z"
   },
   {
    "duration": 7,
    "start_time": "2023-01-23T20:58:33.630Z"
   },
   {
    "duration": 920064,
    "start_time": "2023-01-23T20:58:33.638Z"
   },
   {
    "duration": 1609707,
    "start_time": "2023-01-23T21:13:53.793Z"
   },
   {
    "duration": 9,
    "start_time": "2023-01-23T21:40:43.592Z"
   },
   {
    "duration": 85,
    "start_time": "2023-01-23T21:40:43.692Z"
   },
   {
    "duration": 21,
    "start_time": "2023-01-23T21:40:43.778Z"
   },
   {
    "duration": 27,
    "start_time": "2023-01-23T21:40:43.801Z"
   },
   {
    "duration": 11,
    "start_time": "2023-01-23T21:40:43.830Z"
   },
   {
    "duration": 11,
    "start_time": "2023-01-23T21:40:43.843Z"
   },
   {
    "duration": 1563745,
    "start_time": "2023-01-23T21:40:43.855Z"
   },
   {
    "duration": 96,
    "start_time": "2023-01-23T22:06:47.602Z"
   },
   {
    "duration": 117,
    "start_time": "2023-01-23T22:06:47.701Z"
   },
   {
    "duration": 27,
    "start_time": "2023-01-23T22:06:47.820Z"
   },
   {
    "duration": 24,
    "start_time": "2023-01-23T22:06:47.849Z"
   },
   {
    "duration": 5,
    "start_time": "2023-01-23T22:06:47.874Z"
   },
   {
    "duration": 23,
    "start_time": "2023-01-23T22:06:47.880Z"
   },
   {
    "duration": 6,
    "start_time": "2023-01-23T22:06:47.905Z"
   },
   {
    "duration": 5,
    "start_time": "2023-01-23T22:06:47.912Z"
   },
   {
    "duration": 12,
    "start_time": "2023-01-23T22:06:47.919Z"
   },
   {
    "duration": 6,
    "start_time": "2023-01-23T22:06:47.933Z"
   },
   {
    "duration": 2122256,
    "start_time": "2023-01-23T22:06:47.941Z"
   },
   {
    "duration": 93,
    "start_time": "2023-01-23T22:42:10.199Z"
   },
   {
    "duration": 18,
    "start_time": "2023-01-23T22:42:10.294Z"
   },
   {
    "duration": 6,
    "start_time": "2023-01-23T22:42:10.313Z"
   },
   {
    "duration": 6,
    "start_time": "2023-01-23T22:42:10.321Z"
   },
   {
    "duration": 1003865,
    "start_time": "2023-01-23T22:42:10.328Z"
   },
   {
    "duration": 98,
    "start_time": "2023-01-23T22:58:54.195Z"
   },
   {
    "duration": 6,
    "start_time": "2023-01-23T22:58:54.295Z"
   },
   {
    "duration": 4,
    "start_time": "2023-01-23T22:58:54.303Z"
   },
   {
    "duration": 8,
    "start_time": "2023-01-23T22:58:54.309Z"
   },
   {
    "duration": 27,
    "start_time": "2023-01-23T22:58:54.318Z"
   },
   {
    "duration": 27,
    "start_time": "2023-01-23T22:58:54.346Z"
   },
   {
    "duration": 40,
    "start_time": "2023-01-23T22:58:54.374Z"
   },
   {
    "duration": 6,
    "start_time": "2023-01-23T22:58:54.416Z"
   },
   {
    "duration": 7,
    "start_time": "2023-01-23T22:58:54.423Z"
   },
   {
    "duration": 1403761,
    "start_time": "2023-01-23T22:58:54.431Z"
   },
   {
    "duration": 4,
    "start_time": "2023-01-23T23:22:18.193Z"
   },
   {
    "duration": 42,
    "start_time": "2023-01-23T23:22:18.198Z"
   },
   {
    "duration": 6,
    "start_time": "2023-01-23T23:22:18.244Z"
   },
   {
    "duration": 977,
    "start_time": "2023-01-23T23:22:18.252Z"
   },
   {
    "duration": 36,
    "start_time": "2023-01-23T23:22:19.231Z"
   },
   {
    "duration": 5,
    "start_time": "2023-01-23T23:22:19.268Z"
   },
   {
    "duration": 20,
    "start_time": "2023-01-23T23:22:19.274Z"
   },
   {
    "duration": 26,
    "start_time": "2023-01-23T23:22:19.295Z"
   },
   {
    "duration": 23,
    "start_time": "2023-01-23T23:22:19.322Z"
   },
   {
    "duration": 24,
    "start_time": "2023-01-23T23:22:19.346Z"
   },
   {
    "duration": 47,
    "start_time": "2023-01-23T23:22:19.391Z"
   }
  ],
  "kernelspec": {
   "display_name": "Python 3 (ipykernel)",
   "language": "python",
   "name": "python3"
  },
  "language_info": {
   "codemirror_mode": {
    "name": "ipython",
    "version": 3
   },
   "file_extension": ".py",
   "mimetype": "text/x-python",
   "name": "python",
   "nbconvert_exporter": "python",
   "pygments_lexer": "ipython3",
   "version": "3.9.13"
  },
  "toc": {
   "base_numbering": 1,
   "nav_menu": {},
   "number_sections": true,
   "sideBar": true,
   "skip_h1_title": false,
   "title_cell": "Table of Contents",
   "title_sidebar": "Contents",
   "toc_cell": false,
   "toc_position": {
    "height": "749px",
    "left": "129px",
    "top": "111.125px",
    "width": "384px"
   },
   "toc_section_display": true,
   "toc_window_display": true
  }
 },
 "nbformat": 4,
 "nbformat_minor": 5
}
